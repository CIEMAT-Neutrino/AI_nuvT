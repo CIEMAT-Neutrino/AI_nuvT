{
 "cells": [
  {
   "cell_type": "markdown",
   "metadata": {},
   "source": [
    "**Import libraries**"
   ]
  },
  {
   "cell_type": "code",
   "execution_count": 1,
   "metadata": {},
   "outputs": [],
   "source": [
    "import os\n",
    "os.chdir(\"/exp/sbnd/app/users/svidales/AI_nuvT\")"
   ]
  },
  {
   "cell_type": "code",
   "execution_count": 2,
   "metadata": {},
   "outputs": [
    {
     "name": "stderr",
     "output_type": "stream",
     "text": [
      "2025-05-28 19:50:52.319726: E external/local_xla/xla/stream_executor/cuda/cuda_dnn.cc:10575] Unable to register cuDNN factory: Attempting to register factory for plugin cuDNN when one has already been registered\n",
      "2025-05-28 19:50:52.319835: E external/local_xla/xla/stream_executor/cuda/cuda_fft.cc:479] Unable to register cuFFT factory: Attempting to register factory for plugin cuFFT when one has already been registered\n",
      "2025-05-28 19:50:52.321723: E external/local_xla/xla/stream_executor/cuda/cuda_blas.cc:1442] Unable to register cuBLAS factory: Attempting to register factory for plugin cuBLAS when one has already been registered\n",
      "2025-05-28 19:50:52.327539: I tensorflow/core/platform/cpu_feature_guard.cc:210] This TensorFlow binary is optimized to use available CPU instructions in performance-critical operations.\n",
      "To enable the following instructions: SSE4.1 SSE4.2 AVX AVX2 FMA, in other operations, rebuild TensorFlow with the appropriate compiler flags.\n"
     ]
    }
   ],
   "source": [
    "from imports import *"
   ]
  },
  {
   "cell_type": "markdown",
   "metadata": {},
   "source": [
    "## 1. Preprocessing"
   ]
  },
  {
   "cell_type": "markdown",
   "metadata": {},
   "source": [
    "The data corresponds to a MC simulation of the SBND experiment used in the paper \"Scintillation Light in SBND: Simulation, Reconstruction, and Expected Performance of the Photon Detection System\" in https://arxiv.org/abs/2406.07514. It is a simulation of BNB + Cosmics and their subsequent interaction in SBND, as well as the simulation of the detector's response to the particles resulting from the interaction of the neutrinos."
   ]
  },
  {
   "cell_type": "markdown",
   "metadata": {},
   "source": [
    "### Load variables"
   ]
  },
  {
   "cell_type": "markdown",
   "metadata": {},
   "source": [
    "**archivos en espacio personal - a partir de ahora correrlos en data**"
   ]
  },
  {
   "cell_type": "code",
   "execution_count": 3,
   "metadata": {},
   "outputs": [
    {
     "name": "stdout",
     "output_type": "stream",
     "text": [
      "Keys in optree: ['eventID', 'runID', 'subrunID', 'nuvX', 'nuvY', 'nuvZ', 'nuvT', 'nuvE', 'stepX', 'stepY', 'stepZ', 'stepT', 'dE', 'energydep', 'energydepX', 'energydepY', 'energydepZ', 'E', 'StartPx', 'StartPy', 'StartPz', 'EndPx', 'EndPy', 'EndPz', 'process', 'trackID', 'motherID', 'PDGcode', 'InTimeCosmics', 'InTimeCosmicsTime', 'dEtpc', 'dEpromx', 'dEpromy', 'dEpromz', 'dEspreadx', 'dEspready', 'dEspreadz', 'dElowedges', 'dEmaxedges', 'nopflash', 'flash_id', 'flash_time', 'flash_total_pe', 'flash_pe_v', 'flash_tpc', 'flash_y', 'flash_yerr', 'flash_z', 'flash_zerr', 'flash_x', 'flash_xerr', 'flash_ophit_time', 'flash_ophit_risetime', 'flash_ophit_starttime', 'flash_ophit_amp', 'flash_ophit_area', 'flash_ophit_width', 'flash_ophit_pe', 'flash_ophit_ch']\n"
     ]
    }
   ],
   "source": [
    "file_path = '/exp/sbnd/data/users/svidales/opana_tree_combined_v2304_complete.root'\n",
    "file = uproot.open(file_path)\n",
    "optree = file['opanatree']['OpAnaTree'] # Tree con número de fotoelectrones\n",
    "print(\"Keys in optree:\", optree.keys())"
   ]
  },
  {
   "cell_type": "code",
   "execution_count": 4,
   "metadata": {},
   "outputs": [],
   "source": [
    "# Input variables\n",
    "# f_ophit_PE: number of photoelectrons (PEs) per OpHit\n",
    "# f_ophit_ch: number of channel that collect the OpHit\n",
    "# f_ophit_t: OpHit time\n",
    "\n",
    "# Labels\n",
    "# nuvT: neutrino interaction time\n",
    "# dEprom{x,y,z}: energy barycenter coordinates {x,y,z}\n",
    "\n",
    "# Auxiliary variables\n",
    "# nuvZ: z-coordinate of the neutrino interaction\n",
    "# dEtpc: allows filtering by energy deposited in the TPC\n",
    "\n",
    "# These are awkward arrays (i.e., irregular structures) with a 3-level hierarchy (events -> flashes -> hits)\n",
    "\n",
    "f_ophit_PE, f_ophit_ch, f_ophit_t, nuvT, dEpromx, dEpromy, dEpromz, dEtpc, nuvZ = (\n",
    "    optree[key].array() for key in \n",
    "    ['flash_ophit_pe', 'flash_ophit_ch', 'flash_ophit_time', 'nuvT', 'dEpromx', 'dEpromy', 'dEpromz', 'dEtpc', \"nuvZ\"]\n",
    ")"
   ]
  },
  {
   "cell_type": "code",
   "execution_count": 5,
   "metadata": {},
   "outputs": [
    {
     "name": "stdout",
     "output_type": "stream",
     "text": [
      "243599\n"
     ]
    }
   ],
   "source": [
    "print(len(f_ophit_PE))"
   ]
  },
  {
   "cell_type": "code",
   "execution_count": 27,
   "metadata": {},
   "outputs": [
    {
     "name": "stdout",
     "output_type": "stream",
     "text": [
      "[1.41e+03, 994, 1.55e+03, 456]\n"
     ]
    }
   ],
   "source": [
    "print(nuvT[5])"
   ]
  },
  {
   "cell_type": "code",
   "execution_count": 28,
   "metadata": {},
   "outputs": [
    {
     "name": "stdout",
     "output_type": "stream",
     "text": [
      "[-999, 75.5]\n"
     ]
    }
   ],
   "source": [
    "print(dEpromx[5])"
   ]
  },
  {
   "cell_type": "code",
   "execution_count": 11,
   "metadata": {},
   "outputs": [
    {
     "name": "stdout",
     "output_type": "stream",
     "text": [
      "[8.13, 7.97, 7.9, 8.03, 7.68, 7.58, ..., 0.448, 0.416, 0.416, 0.416, 0.416]\n"
     ]
    }
   ],
   "source": [
    "print(f_ophit_t[0][1])"
   ]
  },
  {
   "cell_type": "code",
   "execution_count": 7,
   "metadata": {},
   "outputs": [
    {
     "name": "stdout",
     "output_type": "stream",
     "text": [
      "{1: 102618, 2: 96137, 3: 35365, 4: 7867}\n"
     ]
    }
   ],
   "source": [
    "from collections import Counter\n",
    "lengths = [len(inner) for inner in nuvT]\n",
    "count = Counter(lengths)\n",
    "\n",
    "# Get counts for 1 through 4\n",
    "result = {i: count.get(i, 0) for i in range(1, 5)}\n",
    "print(result)"
   ]
  },
  {
   "cell_type": "markdown",
   "metadata": {},
   "source": [
    "**Eliminate events with more than one neutrino & events with no flashes**"
   ]
  },
  {
   "cell_type": "code",
   "execution_count": 6,
   "metadata": {},
   "outputs": [],
   "source": [
    "# Filter events where nuvT has exactly one element\n",
    "mask = ak.num(nuvT) == 1  \n",
    "\n",
    "# Apply the mask to all variables\n",
    "f_ophit_PE_1, f_ophit_ch_1, f_ophit_t_1 = f_ophit_PE[mask], f_ophit_ch[mask], f_ophit_t[mask]\n",
    "nuvT_1, dEpromx_1, dEpromy_1, dEpromz_1, dEtpc_1, nuvZ_1 = nuvT[mask], dEpromx[mask], dEpromy[mask], dEpromz[mask], dEtpc[mask], nuvZ[mask]"
   ]
  },
  {
   "cell_type": "code",
   "execution_count": 7,
   "metadata": {},
   "outputs": [
    {
     "name": "stdout",
     "output_type": "stream",
     "text": [
      "102618\n"
     ]
    }
   ],
   "source": [
    "print(len(f_ophit_PE_1))"
   ]
  },
  {
   "cell_type": "code",
   "execution_count": 9,
   "metadata": {},
   "outputs": [],
   "source": [
    "del f_ophit_PE, f_ophit_ch, f_ophit_t, nuvT, dEpromx, dEpromy, dEpromz, dEtpc, nuvZ"
   ]
  },
  {
   "cell_type": "code",
   "execution_count": 10,
   "metadata": {},
   "outputs": [],
   "source": [
    "# Filter events with at least one flash\n",
    "mask = ak.num(f_ophit_PE_1, axis=1) > 0  \n",
    "\n",
    "# Apply the mask to all variables\n",
    "f_ophit_PE_2, f_ophit_ch_2, f_ophit_t_2 = f_ophit_PE_1[mask], f_ophit_ch_1[mask], f_ophit_t_1[mask]\n",
    "nuvT_2, dEpromx_2, dEpromy_2, dEpromz_2, dEtpc_2, nuvZ_2 = nuvT_1[mask], dEpromx_1[mask], dEpromy_1[mask], dEpromz_1[mask], dEtpc_1[mask], nuvZ_1[mask]\n"
   ]
  },
  {
   "cell_type": "code",
   "execution_count": 11,
   "metadata": {},
   "outputs": [
    {
     "name": "stdout",
     "output_type": "stream",
     "text": [
      "101189\n"
     ]
    }
   ],
   "source": [
    "print(len(f_ophit_PE_2))"
   ]
  },
  {
   "cell_type": "code",
   "execution_count": 12,
   "metadata": {},
   "outputs": [],
   "source": [
    "del f_ophit_PE_1, f_ophit_ch_1, f_ophit_t_1, nuvT_1, dEpromx_1, dEpromy_1, dEpromz_1, dEtpc_1, nuvZ_1"
   ]
  },
  {
   "cell_type": "markdown",
   "metadata": {},
   "source": [
    "### Corrección PTM delay"
   ]
  },
  {
   "cell_type": "markdown",
   "metadata": {},
   "source": [
    "**Correction PMT delay 135 ns due to the difference between the photon arrival times (at the photocathode)\n",
    "and the digitised signal (at the anode)**"
   ]
  },
  {
   "cell_type": "markdown",
   "metadata": {},
   "source": [
    "**es posible que luego añada las coordenadas en la siguiente celda y lo guarde**"
   ]
  },
  {
   "cell_type": "code",
   "execution_count": 13,
   "metadata": {},
   "outputs": [
    {
     "name": "stdout",
     "output_type": "stream",
     "text": [
      "{0: 3, 1: 3, 2: 3, 3: 3, 4: 3, 5: 3, 6: 0, 7: 0, 8: 0, 9: 0, 10: 0, 11: 0, 12: 0, 13: 0, 14: 0, 15: 0, 16: 0, 17: 0, 18: 2, 19: 2, 20: 2, 21: 2, 22: 2, 23: 2, 24: 3, 25: 3, 26: 3, 27: 3, 28: 3, 29: 3, 30: 3, 31: 3, 32: 3, 33: 3, 34: 3, 35: 3, 36: 1, 37: 1, 38: 1, 39: 1, 40: 1, 41: 1, 42: 2, 43: 2, 44: 2, 45: 2, 46: 2, 47: 2, 48: 2, 49: 2, 50: 2, 51: 2, 52: 2, 53: 2, 54: 3, 55: 3, 56: 3, 57: 3, 58: 3, 59: 3, 60: 0, 61: 0, 62: 0, 63: 0, 64: 0, 65: 0, 66: 0, 67: 0, 68: 0, 69: 0, 70: 0, 71: 0, 72: 2, 73: 2, 74: 2, 75: 2, 76: 2, 77: 2, 78: 3, 79: 3, 80: 3, 81: 3, 82: 3, 83: 3, 84: 0, 85: 0, 86: 0, 87: 0, 88: 0, 89: 0, 90: 0, 91: 0, 92: 0, 93: 0, 94: 0, 95: 0, 96: 2, 97: 2, 98: 2, 99: 2, 100: 2, 101: 2, 102: 3, 103: 3, 104: 3, 105: 3, 106: 3, 107: 3, 108: 3, 109: 3, 110: 3, 111: 3, 112: 3, 113: 3, 114: 1, 115: 1, 116: 1, 117: 1, 118: 1, 119: 1, 120: 2, 121: 2, 122: 2, 123: 2, 124: 2, 125: 2, 126: 2, 127: 2, 128: 2, 129: 2, 130: 2, 131: 2, 132: 3, 133: 3, 134: 3, 135: 3, 136: 3, 137: 3, 138: 0, 139: 0, 140: 0, 141: 0, 142: 0, 143: 0, 144: 0, 145: 0, 146: 0, 147: 0, 148: 0, 149: 0, 150: 2, 151: 2, 152: 2, 153: 2, 154: 2, 155: 2, 156: 3, 157: 3, 158: 3, 159: 3, 160: 3, 161: 3, 162: 0, 163: 0, 164: 0, 165: 0, 166: 0, 167: 0, 168: 0, 169: 0, 170: 0, 171: 0, 172: 0, 173: 0, 174: 2, 175: 2, 176: 2, 177: 2, 178: 2, 179: 2, 180: 3, 181: 3, 182: 3, 183: 3, 184: 3, 185: 3, 186: 3, 187: 3, 188: 3, 189: 3, 190: 3, 191: 3, 192: 1, 193: 1, 194: 1, 195: 1, 196: 1, 197: 1, 198: 2, 199: 2, 200: 2, 201: 2, 202: 2, 203: 2, 204: 2, 205: 2, 206: 2, 207: 2, 208: 2, 209: 2, 210: 3, 211: 3, 212: 3, 213: 3, 214: 3, 215: 3, 216: 0, 217: 0, 218: 0, 219: 0, 220: 0, 221: 0, 222: 0, 223: 0, 224: 0, 225: 0, 226: 0, 227: 0, 228: 2, 229: 2, 230: 2, 231: 2, 232: 2, 233: 2, 234: 3, 235: 3, 236: 3, 237: 3, 238: 3, 239: 3, 240: 0, 241: 0, 242: 0, 243: 0, 244: 0, 245: 0, 246: 0, 247: 0, 248: 0, 249: 0, 250: 0, 251: 0, 252: 2, 253: 2, 254: 2, 255: 2, 256: 2, 257: 2, 258: 3, 259: 3, 260: 3, 261: 3, 262: 3, 263: 3, 264: 3, 265: 3, 266: 3, 267: 3, 268: 3, 269: 3, 270: 1, 271: 1, 272: 1, 273: 1, 274: 1, 275: 1, 276: 2, 277: 2, 278: 2, 279: 2, 280: 2, 281: 2, 282: 2, 283: 2, 284: 2, 285: 2, 286: 2, 287: 2, 288: 3, 289: 3, 290: 3, 291: 3, 292: 3, 293: 3, 294: 0, 295: 0, 296: 0, 297: 0, 298: 0, 299: 0, 300: 0, 301: 0, 302: 0, 303: 0, 304: 0, 305: 0, 306: 2, 307: 2, 308: 2, 309: 2, 310: 2, 311: 2}\n"
     ]
    }
   ],
   "source": [
    "PDSMap = file['opanatree']['PDSMapTree']\n",
    "ID = PDSMap['OpDetID'].array()\n",
    "Type = PDSMap['OpDetType'].array()\n",
    "channel_dict = {id_val: (int(type_val)) for id_val, type_val in zip(ID[0],Type[0])}\n",
    "print(channel_dict)"
   ]
  },
  {
   "cell_type": "code",
   "execution_count": 14,
   "metadata": {},
   "outputs": [
    {
     "name": "stdout",
     "output_type": "stream",
     "text": [
      "[6, 7, 8, 9, 10, 11, 12, 13, 14, 15, 16, 17, 36, 37, 38, 39, 40, 41, 60, 61, 62, 63, 64, 65, 66, 67, 68, 69, 70, 71, 84, 85, 86, 87, 88, 89, 90, 91, 92, 93, 94, 95, 114, 115, 116, 117, 118, 119, 138, 139, 140, 141, 142, 143, 144, 145, 146, 147, 148, 149, 162, 163, 164, 165, 166, 167, 168, 169, 170, 171, 172, 173, 192, 193, 194, 195, 196, 197, 216, 217, 218, 219, 220, 221, 222, 223, 224, 225, 226, 227, 240, 241, 242, 243, 244, 245, 246, 247, 248, 249, 250, 251, 270, 271, 272, 273, 274, 275, 294, 295, 296, 297, 298, 299, 300, 301, 302, 303, 304, 305]\n"
     ]
    }
   ],
   "source": [
    "# Create the list of channels to correct\n",
    "channels_to_correct = [ch for ch, value in channel_dict.items() if value in {0, 1}]\n",
    "print(channels_to_correct)\n",
    "\n",
    "# Create a mask for the channels to correct\n",
    "mask = ak.Array([\n",
    "    [[ch in channels_to_correct for ch in ophit] for ophit in flash] for flash in f_ophit_ch_2\n",
    "])\n",
    "\n",
    "# Apply the mask to f_ophit_t variable\n",
    "f_ophit_t_adj = ak.where(mask, f_ophit_t_2 - 0.135, f_ophit_t_2)"
   ]
  },
  {
   "cell_type": "code",
   "execution_count": 14,
   "metadata": {},
   "outputs": [],
   "source": [
    "del f_ophit_t_2"
   ]
  },
  {
   "cell_type": "markdown",
   "metadata": {},
   "source": [
    "### Selección de TPC para la variable dEprom{x,y,z} y (Opcional) para los flashes de las variables flash_ophit"
   ]
  },
  {
   "cell_type": "code",
   "execution_count": 15,
   "metadata": {},
   "outputs": [],
   "source": [
    "import awkward as ak\n",
    "import numpy as np\n",
    "\n",
    "# --- 1. Clasificación de canales ---\n",
    "pmt_channels = [ch for ch, val in channel_dict.items() if val in {0, 1}]\n",
    "xas_channels = [ch for ch, val in channel_dict.items() if val in {2, 3}]\n",
    "\n",
    "def split_even_odd(channels):\n",
    "    return set(filter(lambda x: x % 2 == 0, channels)), set(filter(lambda x: x % 2 != 0, channels))\n",
    "\n",
    "pmt_even, pmt_odd = split_even_odd(pmt_channels)\n",
    "xas_even, xas_odd = split_even_odd(xas_channels)\n",
    "\n",
    "def categorize_first_ch(vector):\n",
    "    if isinstance(vector, (list, ak.Array)) and len(vector) > 0:\n",
    "        ch = vector[0]\n",
    "        if ch in pmt_even: return 0\n",
    "        if ch in pmt_odd:  return 1\n",
    "        if ch in xas_even: return 2\n",
    "        if ch in xas_odd:  return 3\n",
    "    return -1  # No clasificado o vacío\n",
    "\n",
    "categorized_flashes = ak.Array([\n",
    "    [categorize_first_ch(flash) for flash in event]\n",
    "    for event in ak.to_list(f_ophit_ch_2)\n",
    "])\n",
    "\n",
    "# --- 2. Sumar los PEs de cada flash ---\n",
    "sum_pe = ak.sum(f_ophit_PE_2, axis=2)  # [evento][flash]\n",
    "\n",
    "# --- 3. Crear máscaras por categoría ---\n",
    "mask_even = (categorized_flashes == 0) | (categorized_flashes == 2)\n",
    "mask_odd  = (categorized_flashes == 1) | (categorized_flashes == 3)\n",
    "\n",
    "# --- 4. Sumar PE por grupo ---\n",
    "sum_even = ak.sum(ak.where(mask_even, sum_pe, 0), axis=1)\n",
    "sum_odd  = ak.sum(ak.where(mask_odd, sum_pe, 0), axis=1)\n",
    "\n",
    "# --- 5. Selección del grupo con mayor PE si hay más de 2 flashes ---\n",
    "n_flashes = ak.num(categorized_flashes)\n",
    "decision = sum_even >= sum_odd \n",
    "\n",
    "# Generar máscara de selección\n",
    "selected_mask = ak.Array([\n",
    "    np.ones(n, dtype=bool) if n <= 2  # Keep all flashes for ≤ 2\n",
    "    else (mask_even[i] if decision[i] else mask_odd[i])\n",
    "    for i, n in enumerate(ak.to_list(n_flashes))\n",
    "])\n",
    "\n",
    "# --- 6. Función para filtrar un array usando la máscara ---\n",
    "def filter_by_mask(array, mask):\n",
    "    return ak.Array([\n",
    "        [item for item, flag in zip(event, event_mask) if flag]\n",
    "        for event, event_mask in zip(ak.to_list(array), ak.to_list(mask))\n",
    "    ])\n",
    "\n",
    "# --- 7. Aplicar máscaras de selección ---\n",
    "f_ophit_t_adj_sel       = filter_by_mask(f_ophit_t_adj, selected_mask)\n",
    "f_ophit_PE_2_sel        = filter_by_mask(f_ophit_PE_2, selected_mask)\n",
    "f_ophit_ch_2_sel        = filter_by_mask(f_ophit_ch_2, selected_mask)\n",
    "categorized_flashes_sel = filter_by_mask(categorized_flashes, selected_mask)\n",
    "\n",
    "# --- 8. Selección TPC ganadora ---\n",
    "selector = ak.Array([[d, not d] for d in decision])\n",
    "\n",
    "def select_tpc_value(array_2d, selector):\n",
    "    return ak.sum(ak.where(selector, array_2d, 0), axis=1)\n",
    "\n",
    "dEpromx_sel = select_tpc_value(dEpromx_2, selector)\n",
    "dEpromy_sel = select_tpc_value(dEpromy_2, selector)\n",
    "dEpromz_sel = select_tpc_value(dEpromz_2, selector)\n",
    "dEtpc_sel   = select_tpc_value(dEtpc_2, selector)"
   ]
  },
  {
   "cell_type": "code",
   "execution_count": 16,
   "metadata": {},
   "outputs": [],
   "source": [
    "del f_ophit_t_adj, f_ophit_PE_2, f_ophit_ch_2, categorized_flashes, dEpromx_2, dEpromy_2, dEpromz_2, dEtpc_2, decision, mask_even, mask_odd, sum_even, sum_odd, n_flashes"
   ]
  },
  {
   "cell_type": "markdown",
   "metadata": {},
   "source": [
    "### Para reconstrucción temporal"
   ]
  },
  {
   "cell_type": "code",
   "execution_count": 16,
   "metadata": {},
   "outputs": [],
   "source": [
    "# Create a boolean mask where dEpromx_f_unique is not -999 & select events with deposition >50 MeV (dEtpc_f > 50)\n",
    "\n",
    "mask = (dEpromx_sel != -999) & (dEpromy_sel != -999) & (dEpromz_sel != -999) & (dEtpc_sel > 50)\n",
    "mask_1d = ak.to_numpy(mask)\n",
    "\n",
    "# Apply the mask to both the image and dEpromx_f_unique to keep only the valid entries\n",
    "\n",
    "nuvT_3 = nuvT_2[mask_1d]\n",
    "f_ophit_PE_3 = f_ophit_PE_2_sel[mask_1d]\n",
    "f_ophit_ch_3 = f_ophit_ch_2_sel[mask_1d]\n",
    "f_ophit_t_3 = f_ophit_t_adj_sel[mask_1d]\n",
    "dEpromx_3 = dEpromx_sel[mask_1d]\n",
    "dEpromy_3 = dEpromy_sel[mask_1d]\n",
    "dEpromz_3 = dEpromz_sel[mask_1d]\n",
    "dEtpc_3 = dEtpc_sel[mask_1d]\n",
    "nuvZ_3 = nuvZ_2[mask_1d]"
   ]
  },
  {
   "cell_type": "markdown",
   "metadata": {},
   "source": [
    "### Para reconstrucción espacial"
   ]
  },
  {
   "cell_type": "code",
   "execution_count": 26,
   "metadata": {},
   "outputs": [],
   "source": [
    "# Create a boolean mask where dEpromx_f_unique is not -999\n",
    "\n",
    "mask = (dEpromx_sel != -999) & (dEpromy_sel != -999) & (dEpromz_sel != -999)\n",
    "mask_1d = ak.to_numpy(mask)\n",
    "\n",
    "# Apply the mask to both the image and dEpromx_f_unique to keep only the valid entries\n",
    "\n",
    "nuvT_3 = nuvT_2[mask_1d]\n",
    "f_ophit_PE_3 = f_ophit_PE_2_sel[mask_1d]\n",
    "f_ophit_ch_3 = f_ophit_ch_2_sel[mask_1d]\n",
    "f_ophit_t_3 = f_ophit_t_adj_sel[mask_1d]\n",
    "dEpromx_3 = dEpromx_sel[mask_1d]\n",
    "dEpromy_3 = dEpromy_sel[mask_1d]\n",
    "dEpromz_3 = dEpromz_sel[mask_1d]\n",
    "dEtpc_3 = dEtpc_sel[mask_1d]\n",
    "nuvZ_3 = nuvZ_2[mask_1d]"
   ]
  },
  {
   "cell_type": "code",
   "execution_count": 19,
   "metadata": {},
   "outputs": [
    {
     "name": "stdout",
     "output_type": "stream",
     "text": [
      "101189\n"
     ]
    }
   ],
   "source": [
    "print(len(nuvT_2))"
   ]
  },
  {
   "cell_type": "code",
   "execution_count": 27,
   "metadata": {},
   "outputs": [
    {
     "name": "stdout",
     "output_type": "stream",
     "text": [
      "100791\n"
     ]
    }
   ],
   "source": [
    "print(len(nuvT_3))"
   ]
  },
  {
   "cell_type": "code",
   "execution_count": 28,
   "metadata": {},
   "outputs": [],
   "source": [
    "del nuvT_2, f_ophit_PE_2_sel, f_ophit_ch_2_sel, f_ophit_t_adj_sel, nuvZ_2"
   ]
  },
  {
   "cell_type": "code",
   "execution_count": null,
   "metadata": {},
   "outputs": [
    {
     "ename": "",
     "evalue": "",
     "output_type": "error",
     "traceback": [
      "\u001b[1;31mEl kernel se bloqueó al ejecutar código en la celda actual o en una celda anterior. \n",
      "\u001b[1;31mRevise el código de las celdas para identificar una posible causa del error. \n",
      "\u001b[1;31mHaga clic <a href='https://aka.ms/vscodeJupyterKernelCrash'>aquí</a> para obtener más información. \n",
      "\u001b[1;31mVea Jupyter <a href='command:jupyter.viewOutput'>log</a> para obtener más detalles."
     ]
    }
   ],
   "source": [
    "# Diccionario con los arrays\n",
    "data = {\n",
    "    \"nuvT\": nuvT_3,\n",
    "    \"f_ophit_PE\": f_ophit_PE_3,\n",
    "    \"f_ophit_ch\": f_ophit_ch_3,\n",
    "    \"f_ophit_t\": f_ophit_t_3,\n",
    "    \"dEpromx\": dEpromx_3,\n",
    "    \"dEpromy\": dEpromy_3,\n",
    "    \"dEpromz\": dEpromz_3,\n",
    "    \"nuvZ\": nuvZ_3,\n",
    "}\n",
    "\n",
    "# Convertir a Arrow Table y guardar como Parquet\n",
    "table = ak.to_arrow_table(data)\n",
    "pq.write_table(table, \"/exp/sbnd/app/users/svidales/AI_nuvT/v1305_tpcselection_preproc_springval_allevents_50energylimit.parquet\")"
   ]
  },
  {
   "cell_type": "code",
   "execution_count": 37,
   "metadata": {},
   "outputs": [
    {
     "name": "stdout",
     "output_type": "stream",
     "text": [
      "75983\n"
     ]
    }
   ],
   "source": [
    "print(len(f_ophit_PE_3))"
   ]
  }
 ],
 "metadata": {
  "kernelspec": {
   "display_name": "Python 3 (ipykernel)",
   "language": "python",
   "name": "python3"
  }
 },
 "nbformat": 4,
 "nbformat_minor": 2
}
