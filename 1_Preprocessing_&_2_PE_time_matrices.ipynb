{
 "cells": [
  {
   "cell_type": "markdown",
   "metadata": {},
   "source": [
    "## Import libraries:"
   ]
  },
  {
   "cell_type": "code",
   "execution_count": 2,
   "metadata": {},
   "outputs": [],
   "source": [
    "from imports import *"
   ]
  },
  {
   "cell_type": "markdown",
   "metadata": {},
   "source": [
    "## 1. Preprocessing"
   ]
  },
  {
   "cell_type": "markdown",
   "metadata": {},
   "source": [
    "The data corresponds to the Monte Carlo simulation of the SBND experiment. It was obtained by simulating the creation of neutrinos in the beam and their subsequent interaction in SBND, as well as the simulation of the detector's response to the particles resulting from the interaction of the neutrinos."
   ]
  },
  {
   "cell_type": "code",
   "execution_count": 3,
   "metadata": {},
   "outputs": [
    {
     "name": "stdout",
     "output_type": "stream",
     "text": [
      "Keys in optree: ['eventID', 'runID', 'subrunID', 'nuvX', 'nuvY', 'nuvZ', 'nuvT', 'nuvE', 'stepX', 'stepY', 'stepZ', 'stepT', 'dE', 'energydep', 'energydepX', 'energydepY', 'energydepZ', 'E', 'StartPx', 'StartPy', 'StartPz', 'EndPx', 'EndPy', 'EndPz', 'process', 'trackID', 'motherID', 'PDGcode', 'InTimeCosmics', 'InTimeCosmicsTime', 'dEtpc', 'dEpromx', 'dEpromy', 'dEpromz', 'dEspreadx', 'dEspready', 'dEspreadz', 'dElowedges', 'dEmaxedges', 'nopflash', 'flash_id', 'flash_time', 'flash_total_pe', 'flash_pe_v', 'flash_tpc', 'flash_y', 'flash_yerr', 'flash_z', 'flash_zerr', 'flash_x', 'flash_xerr', 'flash_ophit_time', 'flash_ophit_risetime', 'flash_ophit_starttime', 'flash_ophit_amp', 'flash_ophit_area', 'flash_ophit_width', 'flash_ophit_pe', 'flash_ophit_ch']\n"
     ]
    }
   ],
   "source": [
    "file_path = '/data/vidales/opana_tree_combined_v2609.root'\n",
    "file = uproot.open(file_path)\n",
    "optree = file['opanatree']['OpAnaTree'] # Tree con número de fotoelectrones\n",
    "print(\"Keys in optree:\", optree.keys())"
   ]
  },
  {
   "cell_type": "code",
   "execution_count": 5,
   "metadata": {},
   "outputs": [
    {
     "data": {
      "text/plain": [
       "'\\n# If you want to upload only a small sample of the data, you can use the following code\\ntotal_entries = optree.num_entries\\n# Ex. Load the first 10% of the entries (you can change the range as needed)\\nentry_start, entry_stop = 0, int(total_entries * 0.1)\\nflash_nuvT_chunk = optree[\\'nuvT\\'].array(entry_start=entry_start, entry_stop=entry_stop)\\n\\n\\n# Check for hit_nuvT all events with one neutrino only\\nall_length_one = all(ak.num(array, axis=0) == 1 for array in hit_nuvT_filtered)\\n\\n# Output the result\\nif all_length_one:\\n    print(\"All arrays have length equal to one.\")\\nelse:\\n    print(\"Not all arrays have length equal to one.\")\\n\\n'"
      ]
     },
     "execution_count": 5,
     "metadata": {},
     "output_type": "execute_result"
    }
   ],
   "source": [
    "# Load variables to be predicted and associated data in a single step\n",
    "hit_nuvT, hit_PE, hit_ch, hit_t, nopflash = (optree[key].array() for key in ['nuvT', 'flash_ophit_pe', 'flash_ophit_ch', 'flash_ophit_time','nopflash'])\n",
    "\n",
    "# Filter out subarrays with more than one neutrino interaction\n",
    "hit_nuvT_filtered, hit_PE_filtered, hit_ch_filtered, hit_t_filtered, nopflash_filtered = zip(*[\n",
    "    (subarray_nuvT, subarray_PE, subarray_ch, subarray_t, subarray_nopflash) \n",
    "    for subarray_nuvT, subarray_PE, subarray_ch, subarray_t, subarray_nopflash in zip(hit_nuvT, hit_PE, hit_ch, hit_t, nopflash)\n",
    "    if len(subarray_nuvT) ==1\n",
    "])\n",
    "\n",
    "\n",
    "\"\"\"\n",
    "# If you want to upload only a small sample of the data, you can use the following code\n",
    "total_entries = optree.num_entries\n",
    "# Ex. Load the first 10% of the entries (you can change the range as needed)\n",
    "entry_start, entry_stop = 0, int(total_entries * 0.1)\n",
    "flash_nuvT_chunk = optree['nuvT'].array(entry_start=entry_start, entry_stop=entry_stop)\n",
    "\n",
    "\n",
    "# Check for hit_nuvT all events with one neutrino only\n",
    "all_length_one = all(ak.num(array, axis=0) == 1 for array in hit_nuvT_filtered)\n",
    "\n",
    "# Output the result\n",
    "if all_length_one:\n",
    "    print(\"All arrays have length equal to one.\")\n",
    "else:\n",
    "    print(\"Not all arrays have length equal to one.\")\n",
    "\n",
    "\"\"\""
   ]
  },
  {
   "cell_type": "code",
   "execution_count": 17,
   "metadata": {},
   "outputs": [],
   "source": [
    "# Convert awkward arrays to Arrow tables\n",
    "ophit_variables = pa.Table.from_pydict({\n",
    "    'hit_nuvT_filtered': ak.to_list(hit_nuvT_filtered),\n",
    "    'hit_PE_filtered': ak.to_list(hit_PE_filtered),\n",
    "    'hit_ch_filtered': ak.to_list(hit_ch_filtered),\n",
    "    'hit_t_filtered': ak.to_list(hit_t_filtered),\n",
    "    'nopflash_filtered': ak.to_list(nopflash_filtered),\n",
    "})\n",
    "\n",
    "# Save to Parquet file\n",
    "pq.write_table(ophit_variables, 'saved_archives/ophit_variables.parquet')\n",
    "\n",
    "# To load some variables from the parquet file, use the following code\n",
    "# table = pq.read_table('filtered_data.parquet')\n",
    "# hit_nuvT_filtered = ak.from_iter(table.column('hit_nuvT_filtered').to_pylist())"
   ]
  },
  {
   "cell_type": "markdown",
   "metadata": {},
   "source": [
    "## 2. PE and time matrix"
   ]
  },
  {
   "cell_type": "code",
   "execution_count": null,
   "metadata": {},
   "outputs": [],
   "source": [
    "pe_matrix, time_matrix = process_photoelectrons(hit_PE_filtered, hit_ch_filtered, hit_t_filtered)\n",
    "\n",
    "# Save the matrices to a CSV file\n",
    "np.savetxt(\"saved_archives/pe_matrix_&_time_matrix/pe_matrix.csv\", pe_matrix, delimiter=\",\")\n",
    "np.savetxt(\"saved_archives/pe_matrix_&_time_matrix/time_matrix.csv\", time_matrix, delimiter=\",\")"
   ]
  }
 ],
 "metadata": {
  "kernelspec": {
   "display_name": "ROOT_TF",
   "language": "python",
   "name": "python3"
  },
  "language_info": {
   "codemirror_mode": {
    "name": "ipython",
    "version": 3
   },
   "file_extension": ".py",
   "mimetype": "text/x-python",
   "name": "python",
   "nbconvert_exporter": "python",
   "pygments_lexer": "ipython3",
   "version": "3.9.10"
  }
 },
 "nbformat": 4,
 "nbformat_minor": 2
}
