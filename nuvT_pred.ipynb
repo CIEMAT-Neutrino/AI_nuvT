{
  "cells": [
    {
      "cell_type": "markdown",
      "metadata": {},
      "source": [
        "# Neutrino interaction time reconstruction (nuvT reco)"
      ]
    },
    {
      "cell_type": "markdown",
      "metadata": {},
      "source": [
        "## Goal:"
      ]
    },
    {
      "cell_type": "markdown",
      "metadata": {},
      "source": [
        "The goal of this project is to develop a neural network that uses the scintillation light produced in SBND, a liquid argon TPC exposed to a neutrino beam at Fermilab. The neural network uses the number of photoelectrons observed in each of the channels in an event as input. The output estimate is the temporal coordinate of the neutrino interaction."
      ]
    },
    {
      "cell_type": "markdown",
      "metadata": {},
      "source": [
        "## Objectives: "
      ]
    },
    {
      "cell_type": "markdown",
      "metadata": {},
      "source": [
        "\n",
        "1- Suppress cosmics. Neutrinos should come in packets (the proton beam from which they are created sends packets of protons) while cosmics (mainly muons) have a random distribution. So if you know how to match the detector light with the trace and the interaction time you can differentiate neutrino events from noise.   \n",
        "2- Search for BSM phenomena. Search between neutrino packets for packet tails that should not appear. Search if they agree with m-LLP (massive long live particles) or HNLs modeling."
      ]
    },
    {
      "cell_type": "markdown",
      "metadata": {},
      "source": [
        "## Implementation:"
      ]
    },
    {
      "cell_type": "markdown",
      "metadata": {},
      "source": [
        "This program implements a CNN composed of convolutional layers (along with MaxPooling) followed by a fully connected network. The input consists of \"images\" with the spatial correlation of the detector map, forming four layers (separating visible and ultraviolet detectors; and both volumes)."
      ]
    },
    {
      "cell_type": "markdown",
      "metadata": {},
      "source": [
        "## Import libraries:"
      ]
    },
    {
      "cell_type": "code",
      "execution_count": 2,
      "metadata": {},
      "outputs": [],
      "source": [
        "import uproot\n",
        "import awkward as ak\n",
        "import json\n",
        "\n",
        "import statistics as st\n",
        "import collections\n",
        "from random import randint\n",
        "#import visualkeras\n",
        "from sklearn.metrics import mean_squared_error\n",
        "\n",
        "#typical libraries\n",
        "import matplotlib.pyplot as plt\n",
        "import pandas as pd\n",
        "import numpy as np\n",
        "import math\n",
        "\n",
        "#tensorflow module\n",
        "import tensorflow as tf\n",
        "from tensorflow.keras import layers # type: ignore\n",
        "from tensorflow.keras.models import Model # type: ignore\n",
        "from tensorflow.keras.callbacks import ModelCheckpoint # type: ignore\n",
        "\n",
        "#import functions.py\n",
        "#from functions import detector_matrix"
      ]
    },
    {
      "cell_type": "markdown",
      "metadata": {
        "id": "1Y5AJAabTY1O"
      },
      "source": [
        "## Root file analysis"
      ]
    },
    {
      "cell_type": "markdown",
      "metadata": {
        "id": "t-wUZRaqKgxI"
      },
      "source": [
        "The data corresponds to the Monte Carlo simulation of the SBND experiment. It was obtained by simulating the creation of neutrinos in the beam and their subsequent interaction in SBND, as well as the simulation of the detector's response to the particles resulting from the interaction of the neutrinos."
      ]
    },
    {
      "cell_type": "code",
      "execution_count": 174,
      "metadata": {
        "colab": {
          "base_uri": "https://localhost:8080/"
        },
        "collapsed": true,
        "id": "OMLZvl3SKgAI",
        "outputId": "18946443-96c1-4f17-948f-5cc3194d96e7"
      },
      "outputs": [
        {
          "name": "stdout",
          "output_type": "stream",
          "text": [
            "Keys in the file: {'opanatree;1': 'TDirectory', 'opanatree/OpAnaTree;1': 'TTree', 'opanatree/PDSMapTree;1': 'TTree', 'MicroBoo znoise;1': 'TH1F', 'MicroBoo unoise;1': 'TH1F', 'MicroBoo vnoise;1': 'TH1F', 'MicroBoo NoiseChan;1': 'TH1F', 'Gaussian znoise;1': 'TH1F', 'Gaussian unoise;1': 'TH1F', 'Gaussian vnoise;1': 'TH1F', 'Gaussian NoiseChan;1': 'TH1F', 'Cohnoise;1': 'TH1F', 'CohNoiseChan;1': 'TH1F'}\n"
          ]
        }
      ],
      "source": [
        "file_path = '/data/vidales/opana_tree_combined_v2108.root'\n",
        "file = uproot.open(file_path)\n",
        "print(\"Keys in the file:\", file.classnames())"
      ]
    },
    {
      "cell_type": "code",
      "execution_count": 175,
      "metadata": {},
      "outputs": [
        {
          "name": "stdout",
          "output_type": "stream",
          "text": [
            "Keys in optree: ['eventID', 'runID', 'subrunID', 'nuvX', 'nuvY', 'nuvZ', 'nuvT', 'nuvE', 'stepX', 'stepY', 'stepZ', 'stepT', 'dE', 'energydep', 'energydepX', 'energydepY', 'energydepZ', 'E', 'StartPx', 'StartPy', 'StartPz', 'EndPx', 'EndPy', 'EndPz', 'process', 'trackID', 'motherID', 'PDGcode', 'InTimeCosmics', 'InTimeCosmicsTime', 'dEtpc', 'dEpromx', 'dEpromy', 'dEpromz', 'dEspreadx', 'dEspready', 'dEspreadz', 'dElowedges', 'dEmaxedges', 'SimPhotonsperOpChVUV', 'SimPhotonsperOpChVIS', 'NPhotons', 'NPhotonsPMTCo', 'NPhotonsPMTUnco', 'NPhotonsPMTCoVUV', 'NPhotonsXARAPUCAVUV', 'NPhotonsXARAPUCAVIS', 'SimPhotonsLiteVUV', 'SimPhotonsLiteVIS', 'nophits', 'ophit_opch', 'ophit_peakT', 'ophit_startT', 'ophit_riseT', 'ophit_width', 'ophit_area', 'ophit_amplitude', 'ophit_pe', 'nopflash', 'flash_id', 'flash_time', 'flash_total_pe', 'flash_pe_v', 'flash_tpc', 'flash_y', 'flash_yerr', 'flash_z', 'flash_zerr', 'flash_x', 'flash_xerr', 'flash_ophit_time', 'flash_ophit_risetime', 'flash_ophit_starttime', 'flash_ophit_amp', 'flash_ophit_area', 'flash_ophit_width', 'flash_ophit_pe', 'flash_ophit_ch']\n"
          ]
        }
      ],
      "source": [
        "optree = file['opanatree']['OpAnaTree'] # Tree con número de fotoelectrones\n",
        "print(\"Keys in optree:\", optree.keys())"
      ]
    },
    {
      "cell_type": "markdown",
      "metadata": {},
      "source": [
        " **Ha tardado 8m 30s aprox. en cargar un archivo entero de opana_tree_combined_v2108.root con aprox. 80GB**"
      ]
    },
    {
      "cell_type": "code",
      "execution_count": 176,
      "metadata": {},
      "outputs": [],
      "source": [
        "# variable to be predicted\n",
        "hit_nuvT = optree['nuvT'].array()\n",
        "# Carga asociada a cada evento, hit, canal y tiempo\n",
        "hit_PE = optree['flash_ophit_pe'].array()\n",
        "# Canal asociado a cada evento, hit, carga recogida y tiempo\n",
        "hit_ch = optree['flash_ophit_ch'].array()\n",
        "# Tiempo asociado a cada evento, hit, canal y carga recogida\n",
        "hit_t = optree['flash_ophit_time'].array()\n",
        "\n",
        "# De momento los shifteo para no tener negativos (debería shiftearse cada subarray por separado?)\n",
        "#hit_t_shifted = hit_t - ak.min(hit_t)\n",
        "\n",
        "# Identify the indices of subarrays with exactly 2 elements\n",
        "indices_to_eliminate = [i for i, subarray in enumerate(hit_nuvT) if len(subarray) == 2]\n",
        "\n",
        "# Eliminate the subarrays with exactly 2 elements\n",
        "hit_nuvT_filtered = [subarray for i, subarray in enumerate(hit_nuvT) if i not in indices_to_eliminate]\n",
        "hit_PE_filtered = [subarray for i, subarray in enumerate(hit_PE) if i not in indices_to_eliminate]\n",
        "hit_ch_filtered = [subarray for i, subarray in enumerate(hit_ch) if i not in indices_to_eliminate]\n",
        "hit_t_filtered = [subarray for i, subarray in enumerate(hit_t) if i not in indices_to_eliminate]"
      ]
    },
    {
      "cell_type": "code",
      "execution_count": null,
      "metadata": {},
      "outputs": [],
      "source": [
        "#ak.to_json(ak.Array(hit_nuvT_filtered), 'hit_nuvT_filtered_optreecombv2108.json')\n",
        "#ak.to_json(ak.Array(hit_PE_filtered), 'hit_PE_filtered_optreecombv2108.json')\n",
        "#ak.to_json(ak.Array(hit_ch_filtered), 'hit_ch_filtered_optreecombv2108.json')\n",
        "#ak.to_json(ak.Array(hit_t_shifted_filtered), 'hit_t_filtered_optreecombv2108.json')"
      ]
    },
    {
      "cell_type": "markdown",
      "metadata": {},
      "source": [
        "## Detector map:"
      ]
    },
    {
      "cell_type": "markdown",
      "metadata": {},
      "source": [
        "The idea is to create a matrix map of the detector. We tried two techniques: 1 - realistic representation 2 - schematic representation"
      ]
    },
    {
      "cell_type": "markdown",
      "metadata": {},
      "source": [
        "### 1 - Realistic representation:"
      ]
    },
    {
      "cell_type": "code",
      "execution_count": 73,
      "metadata": {},
      "outputs": [],
      "source": [
        "\n",
        "def detector_matrix(data_dict, filter_labels, pixel):\n",
        "    \"\"\"\n",
        "    Create a matrix from the data dictionary, filter by labels, and normalize coordinates.\n",
        "\n",
        "    Parameters:\n",
        "    - data_dict: Dictionary containing data with y, z coordinates and labels.\n",
        "    - filter_labels: Set of labels to filter by.\n",
        "    - pixel: Tuple (width, height) used to calculate the size of the matrix.\n",
        "    \n",
        "    Returns:\n",
        "    - Realistic matrix of the detector\n",
        "    \"\"\"\n",
        "    \n",
        "    # Calculate size of the matrix based on pixel dimensions\n",
        "    size = (math.ceil(400 / pixel[0])+1, math.ceil(500 / pixel[1]))\n",
        "\n",
        "    # Extract y and z values and the corresponding indices from the dictionary\n",
        "    y_values = [val[1] for val in data_dict.values()]\n",
        "    z_values = [val[2] for val in data_dict.values()]\n",
        "    labels = [val[3] for val in data_dict.values()]\n",
        "    indices = list(data_dict.keys())\n",
        "\n",
        "    # Normalize and scale the y and z data to fit into the matrix\n",
        "    y_min, y_max, z_min, z_max = -200, 200, 0, 500\n",
        "    y_scaled = [(y - y_min) / (y_max - y_min) * (size[0] - 1) for y in y_values]\n",
        "    z_scaled = [(z - z_min) / (z_max - z_min) * (size[1] - 1) for z in z_values]\n",
        "\n",
        "    # Rounding to the nearest integer for matrix indices\n",
        "    y_indices = [min(max(round(y), 0), size[0] - 1) for y in y_scaled]  # Ensure indices are within bounds\n",
        "    z_indices = [min(max(round(z), 0), size[1] - 1) for z in z_scaled]  # Ensure indices are within bounds\n",
        "\n",
        "    # Create the matrix and initialize it with -2 for unoccupied cells\n",
        "    matrix = np.full(size, -2)\n",
        "\n",
        "    # Populate the matrix with the indices from the dictionary\n",
        "    for idx, (y, z) in enumerate(zip(y_indices, z_indices)):\n",
        "        if labels[idx] in filter_labels:\n",
        "            matrix[y, z] = indices[idx]\n",
        "\n",
        "    return matrix\n",
        "\n",
        "\n",
        "#correccion de aprox. \n",
        "def correccion(matrix):\n",
        "    row_toinsert = np.full((1, matrix.shape[1]), -2)\n",
        "    column_toinsert = np.full((matrix.shape[0]+4, 1), -2)\n",
        "    row_modified_matrix = np.insert(matrix, [12, 24, 32, 42], row_toinsert, axis=0)\n",
        "    total_modified_matrix = np.insert(row_modified_matrix, [17,34,matrix.shape[1]], column_toinsert, axis=1)\n",
        "    return total_modified_matrix"
      ]
    },
    {
      "cell_type": "code",
      "execution_count": 77,
      "metadata": {},
      "outputs": [],
      "source": [
        "PDSMap = file['opanatree']['PDSMapTree']\n",
        "ID = PDSMap['OpDetID'].array()\n",
        "X = PDSMap['OpDetX'].array()\n",
        "Y = PDSMap['OpDetY'].array()\n",
        "Z = PDSMap['OpDetZ'].array()\n",
        "Type = PDSMap['OpDetType'].array()\n",
        "\n",
        "# Make dictionaries with the data\n",
        "data_dict = {id_val: (x_val, y_val, z_val,int(type_val)) for id_val, x_val, y_val, z_val, type_val in zip(ID[0], X[0], Y[0], Z[0],Type[0])}\n",
        "even_data_dict = {id_val: data for id_val, data in data_dict.items() if id_val % 2 == 0}\n",
        "odd_data_dict = {id_val: data for id_val, data in data_dict.items() if id_val % 2 != 0}\n",
        "\n",
        "# Define the pixel size in cm\n",
        "pixel = (7.5,7.5)\n",
        "\n",
        "# Create the detector matrices\n",
        "coated_pmt_map_max = correccion(detector_matrix(even_data_dict,{0}, pixel))\n",
        "uncoated_pmt_map_max = correccion(detector_matrix(even_data_dict,{1}, pixel))\n",
        "xarap_vuv_map_max = correccion(detector_matrix(even_data_dict,{2}, pixel))\n",
        "xarap_vis_map_max = correccion(detector_matrix(even_data_dict,{3}, pixel))\n",
        "vis_map_max=correccion(detector_matrix(even_data_dict,{0,1,3}, pixel))\n",
        "vuv_map_max=correccion(detector_matrix(even_data_dict,{0,2}, pixel))\n",
        "total =correccion(detector_matrix(even_data_dict,{0,1,2,3}, pixel))\n",
        "\n",
        "\n",
        "\n",
        "#plot figure to see distribution accordance to 2d map\n",
        "#plt.figure(figsize=(12, 12))\n",
        "#plt.imshow(total, cmap='viridis', interpolation='none')\n",
        "#np.savetxt('total.csv', total, fmt='%d', delimiter=',')\n",
        "\n",
        "# Save the matrices to a CSV file\n",
        "vis_map_max = np.row_stack((vis_map_max, vis_map_max + 1))\n",
        "np.savetxt('vis_map_max.csv', vis_map_max, fmt='%d', delimiter=',')\n",
        "vuv_map_max = np.row_stack((vuv_map_max, vuv_map_max + 1))\n",
        "np.savetxt('vuv_map_max.csv', vuv_map_max, fmt='%d', delimiter=',')\n"
      ]
    },
    {
      "cell_type": "markdown",
      "metadata": {},
      "source": [
        "### 2 - Schematic representation:"
      ]
    },
    {
      "cell_type": "code",
      "execution_count": 78,
      "metadata": {},
      "outputs": [
        {
          "data": {
            "image/png": "[encoded data removed]",
            "text/plain": [
              "<Figure size 1200x1200 with 1 Axes>"
            ]
          },
          "metadata": {},
          "output_type": "display_data"
        }
      ],
      "source": [
        "coated_pmt_map_min = np.array([[-2, 6, -2, -2, -2, -2, -2, 60, -2, -2, 84, -2, -2, -2, -2, -2, 138, -2, -2, 162, -2, -2, -2, -2, -2, 216, -2, -2, 240, -2, -2, -2, -2, -2, 294, -2], \n",
        "                                   [-2, -2, -2, -2, -2, -2, -2, -2, -2, -2, -2, -2, -2, -2, -2, -2, -2, -2, -2, -2, -2, -2, -2, -2, -2, -2, -2, -2, -2, -2, -2, -2, -2, -2, -2, -2], \n",
        "                                   [-2, 8, -2, -2, -2, -2, -2, 62, -2, -2, 86, -2, -2, -2, -2, -2, 140, -2, -2, 164, -2, -2, -2, -2, -2, 218, -2, -2, 242, -2, -2, -2, -2, -2, 296, -2], \n",
        "                                   [-2, 10, -2, -2, -2, -2, -2, 64, -2, -2, 88, -2, -2, -2, -2, -2, 142, -2, -2, 166, -2, -2, -2, -2, -2, 220, -2, -2, 244, -2, -2, -2, -2, -2, 298, -2], \n",
        "                                   [-2, -2, -2, -2, -2, -2, -2, -2, -2, -2, -2, -2, -2, -2, -2, -2, -2, -2, -2, -2, -2, -2, -2, -2, -2, -2, -2, -2, -2, -2, -2, -2, -2, -2, -2, -2], \n",
        "                                   [-2, 12, -2, -2, -2, -2, -2, 66, -2, -2, 90, -2, -2, -2, -2, -2, 144, -2, -2, 168, -2, -2, -2, -2, -2, 222, -2, -2, 246, -2, -2, -2, -2, -2, 300, -2], \n",
        "                                   [-2, 14, -2, -2, -2, -2, -2, 68, -2, -2, 92, -2, -2, -2, -2, -2, 146, -2, -2, 170, -2, -2, -2, -2, -2, 224, -2, -2, 248, -2, -2, -2, -2, -2, 302, -2], \n",
        "                                   [-2, -2, -2, -2, -2, -2, -2, -2, -2, -2, -2, -2, -2, -2, -2, -2, -2, -2, -2, -2, -2, -2, -2, -2, -2, -2, -2, -2, -2, -2, -2, -2, -2, -2, -2, -2], \n",
        "                                   [-2, 16, -2, -2, -2, -2, -2, 70, -2, -2, 94, -2, -2, -2, -2, -2, 148, -2, -2, 172, -2, -2, -2, -2, -2, 226, -2, -2, 250, -2, -2, -2, -2, -2, 304, -2]])\n",
        "\n",
        "uncoated_pmt_map_min = np.array([[-2, -2, -2, -2, -2, -2, -2, -2, -2, -2, -2, -2, -2, -2, -2, -2, -2, -2, -2, -2, -2, -2, -2, -2, -2, -2, -2, -2, -2, -2, -2, -2, -2, -2, -2, -2], \n",
        "                                     [-2, -2, -2, -2, 36, -2, -2, -2, -2, -2, -2, -2, -2, 114, -2, -2, -2, -2, -2, -2, -2, -2, 192, -2, -2, -2, -2, -2, -2, -2, -2, 270, -2, -2, -2, -2], \n",
        "                                     [-2, -2, -2, -2, -2, -2, -2, -2, -2, -2, -2, -2, -2, -2, -2, -2, -2, -2, -2, -2, -2, -2, -2, -2, -2, -2, -2, -2, -2, -2, -2, -2, -2, -2, -2, -2], \n",
        "                                     [-2, -2, -2, -2, -2, -2, -2, -2, -2, -2, -2, -2, -2, -2, -2, -2, -2, -2, -2, -2, -2, -2, -2, -2, -2, -2, -2, -2, -2, -2, -2, -2, -2, -2, -2, -2], \n",
        "                                     [-2, -2, -2, -2, 38, -2, -2, -2, -2, -2, -2, -2, -2, 116, -2, -2, -2, -2, -2, -2, -2, -2, 194, -2, -2, -2, -2, -2, -2, -2, -2, 272, -2, -2, -2, -2], \n",
        "                                     [-2, -2, -2, -2, -2, -2, -2, -2, -2, -2, -2, -2, -2, -2, -2, -2, -2, -2, -2, -2, -2, -2, -2, -2, -2, -2, -2, -2, -2, -2, -2, -2, -2, -2, -2, -2], \n",
        "                                     [-2, -2, -2, -2, -2, -2, -2, -2, -2, -2, -2, -2, -2, -2, -2, -2, -2, -2, -2, -2, -2, -2, -2, -2, -2, -2, -2, -2, -2, -2, -2, -2, -2, -2, -2, -2], \n",
        "                                     [-2, -2, -2, -2, 40, -2, -2, -2, -2, -2, -2, -2, -2, 118, -2, -2, -2, -2, -2, -2, -2, -2, 196, -2, -2, -2, -2, -2, -2, -2, -2, 274, -2, -2, -2, -2], \n",
        "                                     [-2, -2, -2, -2, -2, -2, -2, -2, -2, -2, -2, -2, -2, -2, -2, -2, -2, -2, -2, -2, -2, -2, -2, -2, -2, -2, -2, -2, -2, -2, -2, -2, -2, -2, -2, -2]])\n",
        "\n",
        "xarap_vuv_map_min = np.array([[-2, -2, -2, -2, -2, 42, -2, -2, -2, -2, -2, -2, -2, -2, 120, -2, -2, -2, -2, -2, -2, -2, -2, 198, -2, -2, -2, -2, -2, -2, -2, -2, 276, -2, -2, -2],\n",
        "                                  [-2, -2, 18, -2, -2, -2, -2, -2, 72, -2, -2, 96, -2, -2, -2, -2, -2, 150, -2, -2, 174, -2, -2, -2, -2, -2, 228, -2, -2, 252, -2, -2, -2, -2, -2, 306], \n",
        "                                  [-2, -2, -2, -2, -2, 44, -2, -2, -2, -2, -2, -2, -2, -2, 122, -2, -2, -2, -2, -2, -2, -2, -2, 200, -2, -2, -2, -2, -2, -2, -2, -2, 278, -2, -2, -2], \n",
        "                                  [-2, -2, -2, -2, -2, 46, -2, -2, -2, -2, -2, -2, -2, -2, 124, -2, -2, -2, -2, -2, -2, -2, -2, 202, -2, -2, -2, -2, -2, -2, -2, -2, 280, -2, -2, -2], \n",
        "                                  [-2, -2, 10, -2, -2, -2, -2, -2, 74, -2, -2, 98, -2, -2, -2, -2, -2, 152, -2, -2, 176, -2, -2, -2, -2, -2, 230, -2, -2, 254, -2, -2, -2, -2, -2, 308], \n",
        "                                  [-2, -2, -2, -2, -2, 48, -2, -2, -2, -2, -2, -2, -2, -2, 126, -2, -2, -2, -2, -2, -2, -2, -2, 204, -2, -2, -2, -2, -2, -2, -2, -2, 282, -2, -2, -2], \n",
        "                                  [-2, -2, -2, -2, -2, 50, -2, -2, -2, -2, -2, -2, -2, -2, 128, -2, -2, -2, -2, -2, -2, -2, -2, 206, -2, -2, -2, -2, -2, -2, -2, -2, 284, -2, -2, -2], \n",
        "                                  [-2, -2, 22, -2, -2, -2, -2, -2, 76, -2, -2, 100, -2, -2, -2, -2, -2, 154, -2, -2, 178, -2, -2, -2, -2, -2, 232, -2, -2, 256, -2, -2, -2, -2, -2, 310], \n",
        "                                  [-2, -2, -2, -2, -2, 52, -2, -2, -2, -2, -2, -2, -2, -2, 130, -2, -2, -2, -2, -2, -2, -2, -2, 208, -2, -2, -2, -2, -2, -2, -2, -2, 286, -2, -2, -2]])\n",
        "\n",
        "xarap_vis_map_min = np.array([[-2, -2, -2, 24, -2, -2, -2, -2, -2, -2, -2, -2, 102, -2, -2, -2, -2, -2, -2, -2, -2, 180, -2, -2, -2, -2, -2, -2, -2, -2, 258, -2, -2, -2, -2, -2], \n",
        "                                  [0, -2, -2, -2, -2, -2, 54, -2, -2, 78, -2, -2, -2, -2, -2, 132, -2, -2, 156, -2, -2, -2, -2, -2, 210, -2, -2, 234, -2, -2, -2, -2, -2, 288, -2, -2], \n",
        "                                  [-2, -2, -2, 26, -2, -2, -2, -2, -2, -2, -2, -2, 104, -2, -2, -2, -2, -2, -2, -2, -2, 182, -2, -2, -2, -2, -2, -2, -2, -2, 260, -2, -2, -2, -2, -2], \n",
        "                                  [-2, -2, -2, 28, -2, -2, -2, -2, -2, -2, -2, -2, 106, -2, -2, -2, -2, -2, -2, -2, -2, 184, -2, -2, -2, -2, -2, -2, -2, -2, 262, -2, -2, -2, -2, -2], \n",
        "                                  [2, -2, -2, -2, -2, -2, 56, -2, -2, 80, -2, -2, -2, -2, -2, 134, -2, -2, 158, -2, -2, -2, -2, -2, 212, -2, -2, 236, -2, -2, -2, -2, -2, 290, -2, -2], \n",
        "                                  [-2, -2, -2, 30, -2, -2, -2, -2, -2, -2, -2, -2, 108, -2, -2, -2, -2, -2, -2, -2, -2, 186, -2, -2, -2, -2, -2, -2, -2, -2, 264, -2, -2, -2, -2, -2], \n",
        "                                  [-2, -2, -2, 32, -2, -2, -2, -2, -2, -2, -2, -2, 110, -2, -2, -2, -2, -2, -2, -2, -2, 188, -2, -2, -2, -2, -2, -2, -2, -2, 266, -2, -2, -2, -2, -2], \n",
        "                                  [4, -2, -2, -2, -2, -2, 58, -2, -2, 82, -2, -2, -2, -2, -2, 136, -2, -2, 160, -2, -2, -2, -2, -2, 214, -2, -2, 238, -2, -2, -2, -2, -2, 292, -2, -2], \n",
        "                                  [-2, -2, -2, 34, -2, -2, -2, -2, -2, -2, -2, -2, 112, -2, -2, -2, -2, -2, -2, -2, -2, 190, -2, -2, -2, -2, -2, -2, -2, -2, 268, -2, -2, -2, -2, -2]])\n",
        "\n",
        "vuv_map_min = np.array([[-2, 6, -2, -2, -2, 42, -2, 60, -2, -2, 84, -2, -2, -2, 120, -2, 138, -2, -2, 162, -2, -2, -2, 198, -2, 216, -2, -2, 240, -2, -2, -2, 276, -2, 294, -2], \n",
        "                        [-2, -2, 18, -2, -2, -2, -2, -2, 72, -2, -2, 96, -2, -2, -2, -2, -2, 150, -2, -2, 174, -2, -2, -2, -2, -2, 228, -2, -2, 252, -2, -2, -2, -2, -2, 306], \n",
        "                        [-2, 8, -2, -2, -2, 44, -2, 62, -2, -2, 86, -2, -2, -2, 122, -2, 140, -2, -2, 164, -2, -2, -2, 200, -2, 218, -2, -2, 242, -2, -2, -2, 278, -2, 296, -2], \n",
        "                        [-2, 10, -2, -2, -2, 46, -2, 64, -2, -2, 88, -2, -2, -2, 124, -2, 142, -2, -2, 166, -2, -2, -2, 202, -2, 220, -2, -2, 244, -2, -2, -2, 280, -2, 298, -2], \n",
        "                        [-2, -2, 10, -2, -2, -2, -2, -2, 74, -2, -2, 98, -2, -2, -2, -2, -2, 152, -2, -2, 176, -2, -2, -2, -2, -2, 230, -2, -2, 254, -2, -2, -2, -2, -2, 308], \n",
        "                        [-2, 12, -2, -2, -2, 48, -2, 66, -2, -2, 90, -2, -2, -2, 126, -2, 144, -2, -2, 168, -2, -2, -2, 204, -2, 222, -2, -2, 246, -2, -2, -2, 282, -2, 300, -2], \n",
        "                        [-2, 14, -2, -2, -2, 50, -2, 68, -2, -2, 92, -2, -2, -2, 128, -2, 146, -2, -2, 170, -2, -2, -2, 206, -2, 224, -2, -2, 248, -2, -2, -2, 284, -2, 302, -2], \n",
        "                        [-2, -2, 22, -2, -2, -2, -2, -2, 76, -2, -2, 100, -2, -2, -2, -2, -2, 154, -2, -2, 178, -2, -2, -2, -2, -2, 232, -2, -2, 256, -2, -2, -2, -2, -2, 310], \n",
        "                        [-2, 16, -2, -2, -2, 52, -2, 70, -2, -2, 94, -2, -2, -2, 130, -2, 148, -2, -2, 172, -2, -2, -2, 208, -2, 226, -2, -2, 250, -2, -2, -2, 286, -2, 304, -2]])\n",
        "\n",
        "vis_map_min =np.array([[-2, 6, -2, 24, -2, -2, -2, 60, -2, -2, 84, -2, 102, -2, -2, -2, 138, -2, -2, 162, -2, 180, -2, -2, -2, 216, -2, -2, 240, -2, 258, -2, -2, -2, 294, -2], \n",
        "                       [0, -2, -2, -2, 36, -2, 54, -2, -2, 78, -2, -2, -2, 114, -2, 132, -2, -2, 156, -2, -2, -2, 192, -2, 210, -2, -2, 234, -2, -2, -2, 270, -2, 288, -2, -2], \n",
        "                       [-2, 8, -2, 26, -2, -2, -2, 62, -2, -2, 86, -2, 104, -2, -2, -2, 140, -2, -2, 164, -2, 182, -2, -2, -2, 218, -2, -2, 242, -2, 260, -2, -2, -2, 296, -2], \n",
        "                       [-2, 10, -2, 28, -2, -2, -2, 64, -2, -2, 88, -2, 106, -2, -2, -2, 142, -2, -2, 166, -2, 184, -2, -2, -2, 220, -2, -2, 244, -2, 262, -2, -2, -2, 298, -2], \n",
        "                       [2, -2, -2, -2, 38, -2, 56, -2, -2, 80, -2, -2, -2, 116, -2, 134, -2, -2, 158, -2, -2, -2, 194, -2, 212, -2, -2, 236, -2, -2, -2, 272, -2, 290, -2, -2], \n",
        "                       [-2, 12, -2, 30, -2, -2, -2, 66, -2, -2, 90, -2, 108, -2, -2, -2, 144, -2, -2, 168, -2, 186, -2, -2, -2, 222, -2, -2, 246, -2, 264, -2, -2, -2, 300, -2], \n",
        "                       [-2, 14, -2, 32, -2, -2, -2, 68, -2, -2, 92, -2, 110, -2, -2, -2, 146, -2, -2, 170, -2, 188, -2, -2, -2, 224, -2, -2, 248, -2, 266, -2, -2, -2, 302, -2], \n",
        "                       [4, -2, -2, -2, 40, -2, 58, -2, -2, 82, -2, -2, -2, 118, -2, 136, -2, -2, 160, -2, -2, -2, 196, -2, 214, -2, -2, 238, -2, -2, -2, 274, -2, 292, -2, -2], \n",
        "                       [-2, 16, -2, 34, -2, -2, -2, 70, -2, -2, 94, -2, 112, -2, -2, -2, 148, -2, -2, 172, -2, 190, -2, -2, -2, 226, -2, -2, 250, -2, 268, -2, -2, -2, 304, -2]])\n",
        "\n",
        "total = coated_pmt_map_min +uncoated_pmt_map_min +xarap_vuv_map_min +xarap_vis_map_min\n",
        "\n",
        "plt.figure(figsize=(12, 12))\n",
        "plt.imshow(total, cmap='viridis', interpolation='none')\n",
        "\n",
        "# Save the matrices to a CSV file\n",
        "vis_map_min = np.row_stack((vis_map_min,vis_map_min+1))\n",
        "np.savetxt('vis_map_min.csv', vis_map_min, fmt='%d', delimiter=',')\n",
        "vuv_map_min = np.row_stack((vuv_map_min,vuv_map_min+1))\n",
        "np.savetxt('vuv_map_min.csv', vuv_map_min, fmt='%d', delimiter=',')\n"
      ]
    },
    {
      "cell_type": "markdown",
      "metadata": {},
      "source": [
        "**Ha tardado 129 m**"
      ]
    },
    {
      "cell_type": "code",
      "execution_count": 9,
      "metadata": {
        "collapsed": true,
        "id": "E62xXjleKtZJ"
      },
      "outputs": [],
      "source": [
        "n_eventos = len(hit_ch)\n",
        "n_canales = 312\n",
        "\n",
        "# Creamos la matriz donde guardar el número de fotoelectrones recogidos en cada canal y por cada evento\n",
        "fotoelectrones = np.zeros((n_eventos,n_canales))\n",
        "tiempos = np.zeros((n_eventos,n_canales))\n",
        "\n",
        "for i in range(n_eventos):\n",
        "  max_carga_indice = np.zeros(n_canales)\n",
        "  for j in range(len(hit_PE[i])):\n",
        "    for k, l, t in zip(hit_PE[i][j], hit_ch[i][j], hit_t[i][j]):\n",
        "      fotoelectrones[i][l] += k\n",
        "      tiempos[i][l] += k*t # Ponderamos usando como pesos las cargas"
      ]
    },
    {
      "cell_type": "markdown",
      "metadata": {},
      "source": [
        "**Ha tardado cinco segundos**"
      ]
    },
    {
      "cell_type": "code",
      "execution_count": 10,
      "metadata": {},
      "outputs": [],
      "source": [
        "# Save the matrices to a CSV file\n",
        "np.savetxt(\"fotoelectrones.csv\", fotoelectrones, delimiter=\",\")\n",
        "np.savetxt(\"tiempos.csv\", tiempos, delimiter=\",\")"
      ]
    },
    {
      "cell_type": "markdown",
      "metadata": {},
      "source": [
        "Una vez que se llegue hasta aquí no hace falta hacer lo de atrás otra vez"
      ]
    },
    {
      "cell_type": "code",
      "execution_count": 25,
      "metadata": {},
      "outputs": [],
      "source": [
        "# Load the matrices from a CSV file\n",
        "fotoelectrones = np.loadtxt(\"fotoelectrones.csv\", delimiter=\",\")\n",
        "tiempos = np.loadtxt(\"tiempos.csv\", delimiter=\",\")\n",
        "n_eventos = int(fotoelectrones.shape[0])\n",
        "n_canales = 312"
      ]
    },
    {
      "cell_type": "markdown",
      "metadata": {},
      "source": [
        "**Ha tardado tres segundos**"
      ]
    },
    {
      "cell_type": "code",
      "execution_count": 26,
      "metadata": {
        "id": "a_N67_vzKwmB"
      },
      "outputs": [],
      "source": [
        "# Se normaliza con la suma total de los pesos, que es la matriz de fotoelectrones\n",
        "for i in range(n_eventos):\n",
        "  for j in range(n_canales):\n",
        "    if fotoelectrones[i][j] != 0:\n",
        "      tiempos[i][j] /= fotoelectrones[i][j]\n",
        "    else:\n",
        "      tiempos[i][j] = 0"
      ]
    },
    {
      "cell_type": "markdown",
      "metadata": {},
      "source": [
        "### hacer mañana como función para poder meter como variable los mapas que eliga"
      ]
    },
    {
      "cell_type": "code",
      "execution_count": 29,
      "metadata": {
        "colab": {
          "base_uri": "https://localhost:8080/"
        },
        "id": "cmM2BF-BK3Rv",
        "outputId": "8b9b94fc-8f2d-4bbd-8d41-0ddfb9bd6bf4"
      },
      "outputs": [
        {
          "ename": "IndexError",
          "evalue": "index 67 is out of bounds for axis 0 with size 67",
          "output_type": "error",
          "traceback": [
            "\u001b[0;31m---------------------------------------------------------------------------\u001b[0m",
            "\u001b[0;31mIndexError\u001b[0m                                Traceback (most recent call last)",
            "Cell \u001b[0;32mIn[29], line 45\u001b[0m\n\u001b[1;32m     42\u001b[0m   \u001b[38;5;28;01mreturn\u001b[39;00m image\n\u001b[1;32m     44\u001b[0m \u001b[38;5;66;03m# Create the images using max and min maps\u001b[39;00m\n\u001b[0;32m---> 45\u001b[0m image_max \u001b[38;5;241m=\u001b[39m \u001b[43mimage_creator\u001b[49m\u001b[43m(\u001b[49m\u001b[43mfotoelectrones\u001b[49m\u001b[43m,\u001b[49m\u001b[43mtiempos\u001b[49m\u001b[43m,\u001b[49m\u001b[43mvis_map_max\u001b[49m\u001b[43m,\u001b[49m\u001b[43mvuv_map_max\u001b[49m\u001b[43m,\u001b[49m\u001b[43mch_y\u001b[49m\u001b[43m,\u001b[49m\u001b[43mch_z\u001b[49m\u001b[43m,\u001b[49m\u001b[43mn_eventos\u001b[49m\u001b[43m)\u001b[49m\n\u001b[1;32m     46\u001b[0m image_min \u001b[38;5;241m=\u001b[39m image_creator(fotoelectrones,tiempos,vis_map_min,vuv_map_min,ch_y,ch_z,n_eventos)\n\u001b[1;32m     48\u001b[0m \u001b[38;5;28mprint\u001b[39m(\u001b[38;5;124m'\u001b[39m\u001b[38;5;124mNumber of events, image height, width, layers:\u001b[39m\u001b[38;5;124m'\u001b[39m, np\u001b[38;5;241m.\u001b[39mshape(image_max))\n",
            "Cell \u001b[0;32mIn[29], line 16\u001b[0m, in \u001b[0;36mimage_creator\u001b[0;34m(fotoelectrones, tiempos, vis_map, vuv_map, ch_y, ch_z, n_eventos)\u001b[0m\n\u001b[1;32m     14\u001b[0m \u001b[38;5;28;01mfor\u001b[39;00m j \u001b[38;5;129;01min\u001b[39;00m \u001b[38;5;28mrange\u001b[39m(ch_z):\n\u001b[1;32m     15\u001b[0m   \u001b[38;5;28;01mfor\u001b[39;00m k \u001b[38;5;129;01min\u001b[39;00m \u001b[38;5;28mrange\u001b[39m(ch_y\u001b[38;5;241m*\u001b[39m\u001b[38;5;241m2\u001b[39m):\n\u001b[0;32m---> 16\u001b[0m     \u001b[38;5;28;01mif\u001b[39;00m \u001b[43mvis_map\u001b[49m\u001b[43m[\u001b[49m\u001b[43mj\u001b[49m\u001b[43m]\u001b[49m\u001b[43m[\u001b[49m\u001b[43mk\u001b[49m\u001b[43m]\u001b[49m \u001b[38;5;241m>\u001b[39m\u001b[38;5;241m=\u001b[39m \u001b[38;5;241m0\u001b[39m:\n\u001b[1;32m     17\u001b[0m       fotoelectrones_vis_map[i][j][k] \u001b[38;5;241m=\u001b[39m fotoelectrones[i][vis_map[j][k]]\n\u001b[1;32m     18\u001b[0m       tiempos_vis_map[i][j][k] \u001b[38;5;241m=\u001b[39m tiempos[i][vis_map[j][k]]\n",
            "\u001b[0;31mIndexError\u001b[0m: index 67 is out of bounds for axis 0 with size 67"
          ]
        }
      ],
      "source": [
        "ch_y = 54 # 54 pixeles en y\n",
        "ch_z = 67\n",
        "\n",
        "\n",
        "def image_creator(fotoelectrones,tiempos,vis_map,vuv_map,ch_y,ch_z,n_eventos):\n",
        "  # Creamos la matriz con distribución espacial\n",
        "  fotoelectrones_vis_map = np.zeros((n_eventos,ch_z,ch_y*2))\n",
        "  fotoelectrones_vuv_map = np.zeros((n_eventos,ch_z,ch_y*2))\n",
        "\n",
        "  tiempos_vis_map = np.zeros((n_eventos,ch_z,ch_y*2))\n",
        "  tiempos_vuv_map = np.zeros((n_eventos,ch_z,ch_y*2))\n",
        "\n",
        "  for i in range(n_eventos):\n",
        "    for j in range(ch_z):\n",
        "      for k in range(ch_y*2):\n",
        "        if vis_map[j][k] >= 0:\n",
        "          fotoelectrones_vis_map[i][j][k] = fotoelectrones[i][vis_map[j][k]]\n",
        "          tiempos_vis_map[i][j][k] = tiempos[i][vis_map[j][k]]\n",
        "        if vuv_map[j][k] >= 0:\n",
        "          fotoelectrones_vuv_map[i][j][k] = fotoelectrones[i][vuv_map[j][k]]\n",
        "          tiempos_vuv_map[i][j][k] = tiempos[i][vuv_map[j][k]]\n",
        "\n",
        "  # Dividimos los sensores de diferente radiación en dos capas distintas y también por volúmenes\n",
        "  fotoelectrones_vis_map = np.hsplit(fotoelectrones_vis_map, 2)/np.max(fotoelectrones)\n",
        "  fotoelectrones_vuv_map = np.hsplit(fotoelectrones_vuv_map, 2)/np.max(fotoelectrones)\n",
        "\n",
        "  tiempos_vis_map = np.hsplit(tiempos_vis_map, 2)/np.max(tiempos)\n",
        "  tiempos_vuv_map = np.hsplit(tiempos_vuv_map, 2)/np.max(tiempos)\n",
        "\n",
        "  image = np.zeros((np.shape(fotoelectrones_vis_map[0])[0],np.shape(fotoelectrones_vis_map[0])[1],np.shape(fotoelectrones_vis_map[0])[2],8))\n",
        "\n",
        "  image[:,:,:,0] = fotoelectrones_vis_map[0]\n",
        "  image[:,:,:,1] = fotoelectrones_vis_map[1]\n",
        "  image[:,:,:,2] = fotoelectrones_vuv_map[0]\n",
        "  image[:,:,:,3] = fotoelectrones_vuv_map[1]\n",
        "\n",
        "  image[:,:,:,4] = tiempos_vis_map[0]\n",
        "  image[:,:,:,5] = tiempos_vis_map[1]\n",
        "  image[:,:,:,6] = tiempos_vuv_map[0]\n",
        "  image[:,:,:,7] = tiempos_vuv_map[1]\n",
        "\n",
        "  return image\n",
        "\n",
        "# Create the images using max and min maps\n",
        "image_max = image_creator(fotoelectrones,tiempos,vis_map_max,vuv_map_max,ch_y,ch_z,n_eventos)\n",
        "image_min = image_creator(fotoelectrones,tiempos,vis_map_min,vuv_map_min,ch_y,ch_z,n_eventos)\n",
        "\n",
        "print('Number of events, image height, width, layers:', np.shape(image_max))\n",
        "print('Number of events, image height, width, layers:', np.shape(image_min))"
      ]
    },
    {
      "cell_type": "markdown",
      "metadata": {
        "id": "Xl6QksnQLMsr"
      },
      "source": [
        "\n",
        "# Visualización de los datos\n",
        "\n"
      ]
    },
    {
      "cell_type": "markdown",
      "metadata": {},
      "source": [
        "¿Porque los tiempos aparecen raros?"
      ]
    },
    {
      "cell_type": "code",
      "execution_count": 25,
      "metadata": {
        "colab": {
          "base_uri": "https://localhost:8080/",
          "height": 90
        },
        "id": "bh44tSMALSw7",
        "outputId": "63fa5162-7383-419f-ec32-0a9c6c4a3305"
      },
      "outputs": [
        {
          "name": "stdout",
          "output_type": "stream",
          "text": [
            "C1: Visible/Volumen -  ||  C2: Visible/Volumen +  ||  C3: Ultravioleta/Volumen -  ||  C4: Ultravioleta/Volumen +  ||\n"
          ]
        },
        {
          "data": {
            "text/plain": [
              "[]"
            ]
          },
          "execution_count": 25,
          "metadata": {},
          "output_type": "execute_result"
        },
        {
          "data": {
            "image/png": "[encoded data removed]",
            "text/plain": [
              "<Figure size 2000x1500 with 68 Axes>"
            ]
          },
          "metadata": {},
          "output_type": "display_data"
        }
      ],
      "source": [
        "event_index = np.array([0,1,2,3,4,5,6,7,8,9,10,11,12,13,14,15,16])\n",
        "\n",
        "print('C1: Visible/Volumen -  ||  C2: Visible/Volumen +  ||  C3: Ultravioleta/Volumen -  ||  C4: Ultravioleta/Volumen +  ||')\n",
        "#T1: Visible/Volumen -  ||  T2: Visible/Volumen +  ||  T3: Ultravioleta/Volumen -  ||  T4: Ultravioleta/Volumen +\n",
        "fig, axs = plt.subplots(17, 4, figpixel=(20, 15))\n",
        "\n",
        "for i in range(17):\n",
        "  for j in range(4):\n",
        "    axs[i,j].imshow(image[event_index[i],:,:,j])\n",
        "\n",
        "plt.setp(axs, xticks=[], yticks=[])"
      ]
    },
    {
      "cell_type": "markdown",
      "metadata": {
        "id": "nS6lIBYBMuaj"
      },
      "source": [
        "\n",
        "\n",
        "# Reconstrucción de las coordenadas de forma individual"
      ]
    },
    {
      "cell_type": "markdown",
      "metadata": {
        "id": "ifOkDi1mM5cw"
      },
      "source": [
        "## Separación de los conjuntos de entrenamiento y prueba"
      ]
    },
    {
      "cell_type": "code",
      "execution_count": 26,
      "metadata": {},
      "outputs": [],
      "source": [
        "hit_nuvT = optree['nuvT'].array()\n",
        "\n",
        "#for i, subarray in enumerate(hit_nuvT):\n",
        "#    print(f\"Subarray {i}:\", subarray)"
      ]
    },
    {
      "cell_type": "markdown",
      "metadata": {
        "id": "JYO4olDPNEww"
      },
      "source": [
        "Verificamos la dimensionalidad"
      ]
    },
    {
      "cell_type": "code",
      "execution_count": 28,
      "metadata": {
        "id": "EtGS3-XnNKBA"
      },
      "outputs": [
        {
          "ename": "ValueError",
          "evalue": "cannot convert to RegularArray because subarray lengths are not regular (in compiled code: https://github.com/scikit-hep/awkward/blob/awkward-cpp-37/awkward-cpp/src/cpu-kernels/awkward_ListOffsetArray_toRegularArray.cpp#L22)",
          "output_type": "error",
          "traceback": [
            "\u001b[0;31m---------------------------------------------------------------------------\u001b[0m",
            "\u001b[0;31mValueError\u001b[0m                                Traceback (most recent call last)",
            "Cell \u001b[0;32mIn[28], line 1\u001b[0m\n\u001b[0;32m----> 1\u001b[0m \u001b[38;5;28;01massert\u001b[39;00m np\u001b[38;5;241m.\u001b[39mshape(image)[\u001b[38;5;241m0\u001b[39m] \u001b[38;5;241m==\u001b[39m \u001b[43mnp\u001b[49m\u001b[38;5;241;43m.\u001b[39;49m\u001b[43mshape\u001b[49m\u001b[43m(\u001b[49m\u001b[43mhit_nuvT\u001b[49m\u001b[43m)\u001b[49m[\u001b[38;5;241m0\u001b[39m]\n",
            "File \u001b[0;32m~/Desktop/trabajo nuvT/nuvT_venv/lib/python3.12/site-packages/awkward/highlevel.py:1527\u001b[0m, in \u001b[0;36mArray.__array_function__\u001b[0;34m(self, func, types, args, kwargs)\u001b[0m\n\u001b[1;32m   1513\u001b[0m \u001b[38;5;28;01mdef\u001b[39;00m \u001b[38;5;21m__array_function__\u001b[39m(\u001b[38;5;28mself\u001b[39m, func, types, args, kwargs):\n\u001b[1;32m   1514\u001b[0m \u001b[38;5;250m    \u001b[39m\u001b[38;5;124;03m\"\"\"\u001b[39;00m\n\u001b[1;32m   1515\u001b[0m \u001b[38;5;124;03m    Intercepts attempts to pass this Array to those NumPy functions other\u001b[39;00m\n\u001b[1;32m   1516\u001b[0m \u001b[38;5;124;03m    than universal functions that have an Awkward equivalent.\u001b[39;00m\n\u001b[0;32m   (...)\u001b[0m\n\u001b[1;32m   1525\u001b[0m \u001b[38;5;124;03m    See also #__array_ufunc__.\u001b[39;00m\n\u001b[1;32m   1526\u001b[0m \u001b[38;5;124;03m    \"\"\"\u001b[39;00m\n\u001b[0;32m-> 1527\u001b[0m     \u001b[38;5;28;01mreturn\u001b[39;00m \u001b[43mak\u001b[49m\u001b[38;5;241;43m.\u001b[39;49m\u001b[43m_connect\u001b[49m\u001b[38;5;241;43m.\u001b[39;49m\u001b[43mnumpy\u001b[49m\u001b[38;5;241;43m.\u001b[39;49m\u001b[43marray_function\u001b[49m\u001b[43m(\u001b[49m\n\u001b[1;32m   1528\u001b[0m \u001b[43m        \u001b[49m\u001b[43mfunc\u001b[49m\u001b[43m,\u001b[49m\u001b[43m \u001b[49m\u001b[43mtypes\u001b[49m\u001b[43m,\u001b[49m\u001b[43m \u001b[49m\u001b[43margs\u001b[49m\u001b[43m,\u001b[49m\u001b[43m \u001b[49m\u001b[43mkwargs\u001b[49m\u001b[43m,\u001b[49m\u001b[43m \u001b[49m\u001b[43mbehavior\u001b[49m\u001b[38;5;241;43m=\u001b[39;49m\u001b[38;5;28;43mself\u001b[39;49m\u001b[38;5;241;43m.\u001b[39;49m\u001b[43m_behavior\u001b[49m\u001b[43m,\u001b[49m\u001b[43m \u001b[49m\u001b[43mattrs\u001b[49m\u001b[38;5;241;43m=\u001b[39;49m\u001b[38;5;28;43mself\u001b[39;49m\u001b[38;5;241;43m.\u001b[39;49m\u001b[43m_attrs\u001b[49m\n\u001b[1;32m   1529\u001b[0m \u001b[43m    \u001b[49m\u001b[43m)\u001b[49m\n",
            "File \u001b[0;32m~/Desktop/trabajo nuvT/nuvT_venv/lib/python3.12/site-packages/awkward/_connect/numpy.py:109\u001b[0m, in \u001b[0;36marray_function\u001b[0;34m(func, types, args, kwargs, behavior, attrs)\u001b[0m\n\u001b[1;32m    106\u001b[0m unique_backends \u001b[38;5;241m=\u001b[39m \u001b[38;5;28mfrozenset\u001b[39m(_find_backends(all_arguments))\n\u001b[1;32m    107\u001b[0m backend \u001b[38;5;241m=\u001b[39m common_backend(unique_backends)\n\u001b[0;32m--> 109\u001b[0m rectilinear_args \u001b[38;5;241m=\u001b[39m \u001b[38;5;28;43mtuple\u001b[39;49m\u001b[43m(\u001b[49m\u001b[43m_to_rectilinear\u001b[49m\u001b[43m(\u001b[49m\u001b[43mx\u001b[49m\u001b[43m,\u001b[49m\u001b[43m \u001b[49m\u001b[43mbackend\u001b[49m\u001b[43m)\u001b[49m\u001b[43m \u001b[49m\u001b[38;5;28;43;01mfor\u001b[39;49;00m\u001b[43m \u001b[49m\u001b[43mx\u001b[49m\u001b[43m \u001b[49m\u001b[38;5;129;43;01min\u001b[39;49;00m\u001b[43m \u001b[49m\u001b[43margs\u001b[49m\u001b[43m)\u001b[49m\n\u001b[1;32m    110\u001b[0m rectilinear_kwargs \u001b[38;5;241m=\u001b[39m {k: _to_rectilinear(v, backend) \u001b[38;5;28;01mfor\u001b[39;00m k, v \u001b[38;5;129;01min\u001b[39;00m kwargs\u001b[38;5;241m.\u001b[39mitems()}\n\u001b[1;32m    111\u001b[0m result \u001b[38;5;241m=\u001b[39m func(\u001b[38;5;241m*\u001b[39mrectilinear_args, \u001b[38;5;241m*\u001b[39m\u001b[38;5;241m*\u001b[39mrectilinear_kwargs)\n",
            "File \u001b[0;32m~/Desktop/trabajo nuvT/nuvT_venv/lib/python3.12/site-packages/awkward/_connect/numpy.py:109\u001b[0m, in \u001b[0;36m<genexpr>\u001b[0;34m(.0)\u001b[0m\n\u001b[1;32m    106\u001b[0m unique_backends \u001b[38;5;241m=\u001b[39m \u001b[38;5;28mfrozenset\u001b[39m(_find_backends(all_arguments))\n\u001b[1;32m    107\u001b[0m backend \u001b[38;5;241m=\u001b[39m common_backend(unique_backends)\n\u001b[0;32m--> 109\u001b[0m rectilinear_args \u001b[38;5;241m=\u001b[39m \u001b[38;5;28mtuple\u001b[39m(\u001b[43m_to_rectilinear\u001b[49m\u001b[43m(\u001b[49m\u001b[43mx\u001b[49m\u001b[43m,\u001b[49m\u001b[43m \u001b[49m\u001b[43mbackend\u001b[49m\u001b[43m)\u001b[49m \u001b[38;5;28;01mfor\u001b[39;00m x \u001b[38;5;129;01min\u001b[39;00m args)\n\u001b[1;32m    110\u001b[0m rectilinear_kwargs \u001b[38;5;241m=\u001b[39m {k: _to_rectilinear(v, backend) \u001b[38;5;28;01mfor\u001b[39;00m k, v \u001b[38;5;129;01min\u001b[39;00m kwargs\u001b[38;5;241m.\u001b[39mitems()}\n\u001b[1;32m    111\u001b[0m result \u001b[38;5;241m=\u001b[39m func(\u001b[38;5;241m*\u001b[39mrectilinear_args, \u001b[38;5;241m*\u001b[39m\u001b[38;5;241m*\u001b[39mrectilinear_kwargs)\n",
            "File \u001b[0;32m~/Desktop/trabajo nuvT/nuvT_venv/lib/python3.12/site-packages/awkward/_connect/numpy.py:78\u001b[0m, in \u001b[0;36m_to_rectilinear\u001b[0;34m(arg, backend)\u001b[0m\n\u001b[1;32m     69\u001b[0m     \u001b[38;5;66;03m# Otherwise, cast to layout and convert\u001b[39;00m\n\u001b[1;32m     70\u001b[0m     \u001b[38;5;28;01melse\u001b[39;00m:\n\u001b[1;32m     71\u001b[0m         layout \u001b[38;5;241m=\u001b[39m ak\u001b[38;5;241m.\u001b[39mto_layout(\n\u001b[1;32m     72\u001b[0m             arg,\n\u001b[1;32m     73\u001b[0m             allow_record\u001b[38;5;241m=\u001b[39m\u001b[38;5;28;01mFalse\u001b[39;00m,\n\u001b[0;32m   (...)\u001b[0m\n\u001b[1;32m     76\u001b[0m             string_policy\u001b[38;5;241m=\u001b[39m\u001b[38;5;124m\"\u001b[39m\u001b[38;5;124merror\u001b[39m\u001b[38;5;124m\"\u001b[39m,\n\u001b[1;32m     77\u001b[0m         )\n\u001b[0;32m---> 78\u001b[0m         \u001b[38;5;28;01mreturn\u001b[39;00m \u001b[43mlayout\u001b[49m\u001b[38;5;241;43m.\u001b[39;49m\u001b[43mto_backend\u001b[49m\u001b[43m(\u001b[49m\u001b[43mbackend\u001b[49m\u001b[43m)\u001b[49m\u001b[38;5;241;43m.\u001b[39;49m\u001b[43mto_backend_array\u001b[49m\u001b[43m(\u001b[49m\u001b[43mallow_missing\u001b[49m\u001b[38;5;241;43m=\u001b[39;49m\u001b[38;5;28;43;01mTrue\u001b[39;49;00m\u001b[43m)\u001b[49m\n\u001b[1;32m     79\u001b[0m \u001b[38;5;28;01melif\u001b[39;00m \u001b[38;5;28misinstance\u001b[39m(arg, \u001b[38;5;28mtuple\u001b[39m):\n\u001b[1;32m     80\u001b[0m     \u001b[38;5;28;01mreturn\u001b[39;00m \u001b[38;5;28mtuple\u001b[39m(_to_rectilinear(x, backend) \u001b[38;5;28;01mfor\u001b[39;00m x \u001b[38;5;129;01min\u001b[39;00m arg)\n",
            "File \u001b[0;32m~/Desktop/trabajo nuvT/nuvT_venv/lib/python3.12/site-packages/awkward/contents/content.py:1020\u001b[0m, in \u001b[0;36mContent.to_backend_array\u001b[0;34m(self, allow_missing, backend)\u001b[0m\n\u001b[1;32m   1018\u001b[0m \u001b[38;5;28;01melse\u001b[39;00m:\n\u001b[1;32m   1019\u001b[0m     backend \u001b[38;5;241m=\u001b[39m regularize_backend(backend)\n\u001b[0;32m-> 1020\u001b[0m \u001b[38;5;28;01mreturn\u001b[39;00m \u001b[38;5;28;43mself\u001b[39;49m\u001b[38;5;241;43m.\u001b[39;49m\u001b[43m_to_backend_array\u001b[49m\u001b[43m(\u001b[49m\u001b[43mallow_missing\u001b[49m\u001b[43m,\u001b[49m\u001b[43m \u001b[49m\u001b[43mbackend\u001b[49m\u001b[43m)\u001b[49m\n",
            "File \u001b[0;32m~/Desktop/trabajo nuvT/nuvT_venv/lib/python3.12/site-packages/awkward/contents/listoffsetarray.py:2072\u001b[0m, in \u001b[0;36mListOffsetArray._to_backend_array\u001b[0;34m(self, allow_missing, backend)\u001b[0m\n\u001b[1;32m   2070\u001b[0m     \u001b[38;5;28;01mreturn\u001b[39;00m buffer\u001b[38;5;241m.\u001b[39mview(np\u001b[38;5;241m.\u001b[39mdtype((\u001b[38;5;124m\"\u001b[39m\u001b[38;5;124mS\u001b[39m\u001b[38;5;124m\"\u001b[39m, max_count)))\n\u001b[1;32m   2071\u001b[0m \u001b[38;5;28;01melse\u001b[39;00m:\n\u001b[0;32m-> 2072\u001b[0m     \u001b[38;5;28;01mreturn\u001b[39;00m \u001b[38;5;28;43mself\u001b[39;49m\u001b[38;5;241;43m.\u001b[39;49m\u001b[43mto_RegularArray\u001b[49m\u001b[43m(\u001b[49m\u001b[43m)\u001b[49m\u001b[38;5;241m.\u001b[39m_to_backend_array(allow_missing, backend)\n",
            "File \u001b[0;32m~/Desktop/trabajo nuvT/nuvT_venv/lib/python3.12/site-packages/awkward/contents/listoffsetarray.py:283\u001b[0m, in \u001b[0;36mListOffsetArray.to_RegularArray\u001b[0;34m(self)\u001b[0m\n\u001b[1;32m    278\u001b[0m _size \u001b[38;5;241m=\u001b[39m Index64\u001b[38;5;241m.\u001b[39mempty(\u001b[38;5;241m1\u001b[39m, \u001b[38;5;28mself\u001b[39m\u001b[38;5;241m.\u001b[39m_backend\u001b[38;5;241m.\u001b[39mindex_nplike)\n\u001b[1;32m    279\u001b[0m \u001b[38;5;28;01massert\u001b[39;00m (\n\u001b[1;32m    280\u001b[0m     _size\u001b[38;5;241m.\u001b[39mnplike \u001b[38;5;129;01mis\u001b[39;00m \u001b[38;5;28mself\u001b[39m\u001b[38;5;241m.\u001b[39m_backend\u001b[38;5;241m.\u001b[39mindex_nplike\n\u001b[1;32m    281\u001b[0m     \u001b[38;5;129;01mand\u001b[39;00m \u001b[38;5;28mself\u001b[39m\u001b[38;5;241m.\u001b[39m_offsets\u001b[38;5;241m.\u001b[39mnplike \u001b[38;5;129;01mis\u001b[39;00m \u001b[38;5;28mself\u001b[39m\u001b[38;5;241m.\u001b[39m_backend\u001b[38;5;241m.\u001b[39mindex_nplike\n\u001b[1;32m    282\u001b[0m )\n\u001b[0;32m--> 283\u001b[0m \u001b[38;5;28;43mself\u001b[39;49m\u001b[38;5;241;43m.\u001b[39;49m\u001b[43m_backend\u001b[49m\u001b[38;5;241;43m.\u001b[39;49m\u001b[43mmaybe_kernel_error\u001b[49m\u001b[43m(\u001b[49m\n\u001b[1;32m    284\u001b[0m \u001b[43m    \u001b[49m\u001b[38;5;28;43mself\u001b[39;49m\u001b[38;5;241;43m.\u001b[39;49m\u001b[43m_backend\u001b[49m\u001b[43m[\u001b[49m\n\u001b[1;32m    285\u001b[0m \u001b[43m        \u001b[49m\u001b[38;5;124;43m\"\u001b[39;49m\u001b[38;5;124;43mawkward_ListOffsetArray_toRegularArray\u001b[39;49m\u001b[38;5;124;43m\"\u001b[39;49m\u001b[43m,\u001b[49m\n\u001b[1;32m    286\u001b[0m \u001b[43m        \u001b[49m\u001b[43m_size\u001b[49m\u001b[38;5;241;43m.\u001b[39;49m\u001b[43mdtype\u001b[49m\u001b[38;5;241;43m.\u001b[39;49m\u001b[43mtype\u001b[49m\u001b[43m,\u001b[49m\n\u001b[1;32m    287\u001b[0m \u001b[43m        \u001b[49m\u001b[38;5;28;43mself\u001b[39;49m\u001b[38;5;241;43m.\u001b[39;49m\u001b[43m_offsets\u001b[49m\u001b[38;5;241;43m.\u001b[39;49m\u001b[43mdtype\u001b[49m\u001b[38;5;241;43m.\u001b[39;49m\u001b[43mtype\u001b[49m\u001b[43m,\u001b[49m\n\u001b[1;32m    288\u001b[0m \u001b[43m    \u001b[49m\u001b[43m]\u001b[49m\u001b[43m(\u001b[49m\n\u001b[1;32m    289\u001b[0m \u001b[43m        \u001b[49m\u001b[43m_size\u001b[49m\u001b[38;5;241;43m.\u001b[39;49m\u001b[43mdata\u001b[49m\u001b[43m,\u001b[49m\n\u001b[1;32m    290\u001b[0m \u001b[43m        \u001b[49m\u001b[38;5;28;43mself\u001b[39;49m\u001b[38;5;241;43m.\u001b[39;49m\u001b[43m_offsets\u001b[49m\u001b[38;5;241;43m.\u001b[39;49m\u001b[43mdata\u001b[49m\u001b[43m,\u001b[49m\n\u001b[1;32m    291\u001b[0m \u001b[43m        \u001b[49m\u001b[38;5;28;43mself\u001b[39;49m\u001b[38;5;241;43m.\u001b[39;49m\u001b[43m_offsets\u001b[49m\u001b[38;5;241;43m.\u001b[39;49m\u001b[43mlength\u001b[49m\u001b[43m,\u001b[49m\n\u001b[1;32m    292\u001b[0m \u001b[43m    \u001b[49m\u001b[43m)\u001b[49m\n\u001b[1;32m    293\u001b[0m \u001b[43m\u001b[49m\u001b[43m)\u001b[49m\n\u001b[1;32m    294\u001b[0m size \u001b[38;5;241m=\u001b[39m \u001b[38;5;28mself\u001b[39m\u001b[38;5;241m.\u001b[39m_backend\u001b[38;5;241m.\u001b[39mindex_nplike\u001b[38;5;241m.\u001b[39mindex_as_shape_item(_size[\u001b[38;5;241m0\u001b[39m])\n\u001b[1;32m    295\u001b[0m length \u001b[38;5;241m=\u001b[39m \u001b[38;5;28mself\u001b[39m\u001b[38;5;241m.\u001b[39m_offsets\u001b[38;5;241m.\u001b[39mlength \u001b[38;5;241m-\u001b[39m \u001b[38;5;241m1\u001b[39m\n",
            "File \u001b[0;32m~/Desktop/trabajo nuvT/nuvT_venv/lib/python3.12/site-packages/awkward/_backends/backend.py:67\u001b[0m, in \u001b[0;36mBackend.maybe_kernel_error\u001b[0;34m(self, error)\u001b[0m\n\u001b[1;32m     65\u001b[0m     \u001b[38;5;28;01mreturn\u001b[39;00m\n\u001b[1;32m     66\u001b[0m \u001b[38;5;28;01melse\u001b[39;00m:\n\u001b[0;32m---> 67\u001b[0m     \u001b[38;5;28;01mraise\u001b[39;00m \u001b[38;5;167;01mValueError\u001b[39;00m(\u001b[38;5;28mself\u001b[39m\u001b[38;5;241m.\u001b[39mformat_kernel_error(error))\n",
            "\u001b[0;31mValueError\u001b[0m: cannot convert to RegularArray because subarray lengths are not regular (in compiled code: https://github.com/scikit-hep/awkward/blob/awkward-cpp-37/awkward-cpp/src/cpu-kernels/awkward_ListOffsetArray_toRegularArray.cpp#L22)"
          ]
        }
      ],
      "source": [
        "assert np.shape(image)[0] == np.shape(hit_nuvT)[0]"
      ]
    },
    {
      "cell_type": "markdown",
      "metadata": {
        "id": "-Z2X1l0JNNHe"
      },
      "source": [
        "Separamos el 60% de los datos para formar el conjunto de prueba"
      ]
    },
    {
      "cell_type": "code",
      "execution_count": null,
      "metadata": {
        "colab": {
          "base_uri": "https://localhost:8080/"
        },
        "id": "Kd70Lr-mNNzs",
        "outputId": "7ae8988d-8849-4e75-8075-cc1c18cc1fa0"
      },
      "outputs": [],
      "source": [
        "test_size = int(np.floor(0.60*np.shape(Hit_nuvT)[0]) )\n",
        "print(test_size)"
      ]
    },
    {
      "cell_type": "code",
      "execution_count": null,
      "metadata": {
        "colab": {
          "base_uri": "https://localhost:8080/"
        },
        "id": "sk2iXG2CNSVl",
        "outputId": "ceddf187-4c32-4bf8-f21d-74847f54d900"
      },
      "outputs": [],
      "source": [
        "train_nuvTxarap, test_nuvTxarap = image[:-test_size], image[-test_size:]\n",
        "\n",
        "train_nuvT, test_nuvT = Hit_nuvT[:-test_size], Hit_nuvT[-test_size:]\n",
        "\n",
        "print(train_nuvTxarap.shape,test_nuvTxarap.shape)\n",
        "print(len(train_nuvT),len(test_nuvT))\n"
      ]
    },
    {
      "cell_type": "code",
      "execution_count": null,
      "metadata": {
        "id": "WT0lWfsFNWSI"
      },
      "outputs": [],
      "source": [
        "input = layers.Input(shape=(train_nuvTxarap.shape[1], train_nuvTxarap.shape[2], train_nuvTxarap.shape[3]))\n",
        "\n",
        "model = layers.BatchNormalization()(input)\n",
        "\n",
        "model = layers.Conv2D(128, (3, 3), padding='same')(model)\n",
        "model = layers.LeakyReLU(alpha=0.1)(model)\n",
        "model = layers.MaxPooling2D((2, 2),padding='same')(model)\n",
        "model = layers.Dropout(0.3)(model)\n",
        "\n",
        "model = layers.Conv2D(256, (3, 3), padding='same')(model)\n",
        "model = layers.LeakyReLU(alpha=0.1)(model)\n",
        "model = layers.MaxPooling2D(pool_size=(2, 2),padding='same')(model)\n",
        "model = layers.Dropout(0.3)(model)\n",
        "\n",
        "model = layers.Conv2D(512, (3, 3), padding='same')(model)\n",
        "model = layers.LeakyReLU(alpha=0.1)(model)\n",
        "model = layers.MaxPooling2D(pool_size=(2, 2),padding='same')(model)\n",
        "model = layers.Dropout(0.4)(model)\n",
        "\n",
        "model = layers.Flatten()(model)\n",
        "\n",
        "model = layers.Dense(2048, activation='relu')(model)\n",
        "model = layers.Dropout(0.2)(model)\n",
        "\n",
        "model = layers.Dense(512, activation='relu')(model)\n",
        "model = layers.Dense(128, activation='relu')(model)\n",
        "\n",
        "output = layers.Dense(1, activation='linear')(model)"
      ]
    },
    {
      "cell_type": "markdown",
      "metadata": {
        "id": "ML8wQB_sNcHd"
      },
      "source": [
        "# Entrenando el modelo en la coordenada t"
      ]
    },
    {
      "cell_type": "markdown",
      "metadata": {
        "id": "PW0Y7Y44NfBl"
      },
      "source": [
        "Se compila el modelo, incluyendo la elección del optimizador y del error que se minimizará durante el entrenamiento."
      ]
    },
    {
      "cell_type": "code",
      "execution_count": null,
      "metadata": {
        "id": "zf_QYBxsNlKK"
      },
      "outputs": [],
      "source": [
        "# Creamos los modelos:\n",
        "model_nuvT = Model(input, output)"
      ]
    },
    {
      "cell_type": "code",
      "execution_count": null,
      "metadata": {
        "colab": {
          "base_uri": "https://localhost:8080/"
        },
        "collapsed": true,
        "id": "OfE9wmgmNnty",
        "outputId": "c374f93a-ef17-4813-d929-2318876e499a"
      },
      "outputs": [],
      "source": [
        "model_nuvT.summary()\n",
        "model_nuvT.compile(loss='mse', optimizer='adam', metrics='mse')"
      ]
    },
    {
      "cell_type": "code",
      "execution_count": null,
      "metadata": {
        "colab": {
          "base_uri": "https://localhost:8080/"
        },
        "collapsed": true,
        "id": "7RqTSCjQNsna",
        "outputId": "69eaeb57-e144-4046-930f-d6fa437d765a"
      },
      "outputs": [],
      "source": [
        "best_weights_file = \"/tmp/weights_nuvT.hdf5\"\n",
        "checkpoint = ModelCheckpoint(best_weights_file, monitor='mse', verbose=0, save_best_only=True, mode='min')\n",
        "\n",
        "# probar a modificar el batch_size (hacerlo más grande)\n",
        "callbacks = [checkpoint]\n",
        "history_t = model_nuvT.fit(train_nuvTxarap, train_nuvT,\n",
        "                        epochs=30, batch_pixel=32, callbacks=callbacks,\n",
        "                        validation_data=(test_nuvTxarap, test_nuvT),\n",
        "                        verbose=2)"
      ]
    },
    {
      "cell_type": "code",
      "execution_count": null,
      "metadata": {
        "colab": {
          "base_uri": "https://localhost:8080/"
        },
        "id": "pUXCdwPUNzpi",
        "outputId": "7d0596d4-d99a-4864-f610-b39b657ef793"
      },
      "outputs": [],
      "source": [
        "best_weights_file = \"/tmp/weights_nuvT.hdf5\"\n",
        "model_nuvT.load_weights(best_weights_file)\n",
        "nuvT_pred = model_nuvT.predict(test_nuvTxarap)"
      ]
    },
    {
      "cell_type": "markdown",
      "metadata": {
        "id": "K2OTDnpfN88F"
      },
      "source": [
        "# Visualización de resultados"
      ]
    },
    {
      "cell_type": "markdown",
      "metadata": {
        "id": "7P0vOulbN_dx"
      },
      "source": [
        "Se calcula el error cuadrático medio del pronóstico."
      ]
    },
    {
      "cell_type": "code",
      "execution_count": null,
      "metadata": {
        "colab": {
          "base_uri": "https://localhost:8080/"
        },
        "id": "s_dr6DJnOBkT",
        "outputId": "ce1bfc87-a07b-4168-d65c-2d18245098e4"
      },
      "outputs": [],
      "source": [
        "testScoreECM_nuvT = mean_squared_error(test_nuvT, nuvT_pred)\n",
        "print('RECM_nuvT: %.4f' % np.sqrt((testScoreECM_nuvT)))"
      ]
    },
    {
      "cell_type": "markdown",
      "metadata": {
        "id": "5AbmgjQuOEVq"
      },
      "source": [
        "En la siguiente gráfica se visualiza la evolución del error para el conjunto de entrenamiento y test en función de las épocas."
      ]
    },
    {
      "cell_type": "code",
      "execution_count": null,
      "metadata": {
        "colab": {
          "base_uri": "https://localhost:8080/",
          "height": 719
        },
        "id": "OBEGJ3roOFAa",
        "outputId": "eaed4436-8a2d-4e48-c296-9f7f9c6957d0"
      },
      "outputs": [],
      "source": [
        "plt.figure(1, figsize=(8,8))\n",
        "plt.plot(history_t.history['mse'])\n",
        "plt.plot(history_t.history['val_mse'])\n",
        "\n",
        "plt.yscale(\"log\")\n",
        "plt.title('Error del Modelo nuvT')\n",
        "plt.ylabel('loss')\n",
        "plt.xlabel('épocas')\n",
        "plt.grid()\n",
        "plt.legend(['train', 'test'], loc='upper center')\n",
        "plt.show()"
      ]
    },
    {
      "cell_type": "markdown",
      "metadata": {
        "id": "ALOhqTZUOcqu"
      },
      "source": [
        "Es importante verificar hasta donde sea posible la distribución de errores. En la siguiente gráfica se muestra el pronóstico contra los datos reales."
      ]
    },
    {
      "cell_type": "code",
      "execution_count": null,
      "metadata": {
        "colab": {
          "base_uri": "https://localhost:8080/",
          "height": 906
        },
        "id": "XRQW3_CfOady",
        "outputId": "42175caf-e8b8-4b91-f13e-a264f2fd49ba"
      },
      "outputs": [],
      "source": [
        "fig, axs = plt.subplots(1,2,figpixel=(16,9))\n",
        "\n",
        "axs[0].scatter(test_nuvT, nuvT_pred, color=\"black\",s=5)\n",
        "axs[0].grid()\n",
        "\n",
        "axs[0].plot([0,1500],[0,1500],color=\"r\")\n",
        "axs[0].title.set_text('nuvT')\n",
        "axs[0].set_xlim([0,1500])\n",
        "axs[0].set_ylim([0,1500])\n",
        "axs[0].set_ylabel('Pronóstico [ns]')\n",
        "axs[0].set_xlabel('Real [ns]')\n",
        "\n",
        "\n",
        "im1 = axs[1].hist2d(test_nuvT, nuvT_pred.flatten(), bins=(100, 300), cmap='viridis',cmax=30)\n",
        "fig.colorbar(im1[3], ax=axs[1])\n",
        "axs[1].grid()\n",
        "\n",
        "axs[1].plot([0,1500],[0,1500],color=\"r\")\n",
        "axs[1].set_xlim([0,1500])\n",
        "axs[1].set_ylim([0,1500])\n",
        "axs[1].set_ylabel('Pronóstico [ns]')\n",
        "axs[1].set_xlabel('Real [ns]')\n",
        "axs[1].set_facecolor('#440154')\n",
        "\n",
        "fig.tight_layout()\n",
        "\n",
        "# plt.savefig('/tmp/CNNx2+4T+N_Recta_I.png', dpi=300)"
      ]
    },
    {
      "cell_type": "markdown",
      "metadata": {
        "id": "KqPtMt1aOuRr"
      },
      "source": [
        "Finalmente se realizan ajustes gaussianos al error entre pronóstico y datos reales para comprobar la calidad de los resultados."
      ]
    },
    {
      "cell_type": "code",
      "execution_count": null,
      "metadata": {
        "colab": {
          "base_uri": "https://localhost:8080/",
          "height": 678
        },
        "id": "o5AxbEK2Outl",
        "outputId": "d608bab8-7b5e-4dda-90f0-5c9ad9b82bdd"
      },
      "outputs": [],
      "source": [
        "# Ajuste gaussiano de las diferencias entre el pronóstico y el valor real\n",
        "\n",
        "from scipy.optimize import curve_fit\n",
        "\n",
        "# Define the Gaussian function\n",
        "def func(x, a, x0, sigma):\n",
        "    return a*np.exp(-(x-x0)**2/(2*sigma**2))\n",
        "\n",
        "# Variables de los histogramas\n",
        "diff_nuvT = nuvT_pred.flatten()-test_nuvT\n",
        "\n",
        "fig, axs = plt.subplots(figsize=(10,6))\n",
        "\n",
        "# Valores de X\n",
        "axs.title.set_text('nuvT')\n",
        "counts_nuvT, bins_nuvT, patches_nuvT = axs.hist(diff_nuvT,120, range=[-400,400], label='Datos')\n",
        "\n",
        "step_nuvT = (bins_nuvT[1]-bins_nuvT[0])/2\n",
        "bin_centers_nuvT = bins_nuvT[:-1]+step_nuvT\n",
        "\n",
        "ini_nuvT = 0\n",
        "fin_nuvT = 119\n",
        "axs.axvline(x = bin_centers_nuvT[ini_nuvT], color = 'k', label='Bordes del ajuste')\n",
        "axs.axvline(x = bin_centers_nuvT[fin_nuvT], color = 'k')\n",
        "\n",
        "popt_nuvT, pcov_nuvT = curve_fit(func, bin_centers_nuvT[ini_nuvT:fin_nuvT+1], counts_nuvT[ini_nuvT:fin_nuvT+1])\n",
        "\n",
        "\n",
        "ym_nuvT = func(np.linspace(bin_centers_nuvT[ini_nuvT], bin_centers_nuvT[fin_nuvT],100), popt_nuvT[0], popt_nuvT[1], popt_nuvT[2])\n",
        "axs.plot(np.linspace(bin_centers_nuvT[ini_nuvT], bin_centers_nuvT[fin_nuvT],100), ym_nuvT, c='r', label='Ajuste')\n",
        "axs.set_xlabel('Bias [ns]')\n",
        "axs.legend(prop = { \"size\": 7 })\n",
        "\n",
        "fig.supylabel('Conteo')\n",
        "fig.tight_layout()\n",
        "\n",
        "# plt.savefig('/tmp/CNNx2+4T+N_Distrib_I.png', dpi=300)\n",
        "\n",
        "print('------------------')\n",
        "print('Media nuvT =',popt_nuvT[1])\n",
        "print('Sigma nuvT =',popt_nuvT[2])\n",
        "print('------------------')\n"
      ]
    },
    {
      "cell_type": "code",
      "execution_count": null,
      "metadata": {
        "colab": {
          "base_uri": "https://localhost:8080/"
        },
        "id": "UDrQSbjuCg7w",
        "outputId": "c7cb838f-6b17-4d07-d600-a9e2ce54bb1c"
      },
      "outputs": [],
      "source": [
        "print('Gauss nuvT')\n",
        "print(np.std(diff_nuvT))\n",
        "print(np.mean(diff_nuvT))"
      ]
    },
    {
      "cell_type": "markdown",
      "metadata": {},
      "source": [
        "# Data exploration"
      ]
    },
    {
      "cell_type": "markdown",
      "metadata": {},
      "source": [
        "### ¿Porque hay canales que parecen que estan vacíos? ¿Porque en hit_t hay ese pico en 0 aprox.? ¿Como hacer el plot para #PE?"
      ]
    },
    {
      "cell_type": "code",
      "execution_count": 211,
      "metadata": {},
      "outputs": [
        {
          "name": "stdout",
          "output_type": "stream",
          "text": [
            "[223  11 295 ... 195 299 218]\n"
          ]
        }
      ],
      "source": [
        "# 3 millones aprox de ophits por evento, 30 millones son como 10 eventos\n",
        "def sample_awkward_arrays_in_chunks(awkward_arrays, sample_size=300000000, chunk_size=10000):\n",
        "    total_size = 0\n",
        "    sampled_data = []\n",
        "\n",
        "    for array in awkward_arrays:\n",
        "        # Process the array in chunks\n",
        "        start = 0\n",
        "        while start < len(array):\n",
        "            end = min(start + chunk_size, len(array))\n",
        "            chunk = array[start:end]\n",
        "            \n",
        "            # Flatten the chunk and convert to NumPy array if necessary\n",
        "            flattened_chunk = ak.flatten(chunk)\n",
        "            numpy_chunk = ak.to_numpy(flattened_chunk)\n",
        "            \n",
        "            # Sample from this chunk\n",
        "            chunk_sample_size = min(sample_size - total_size, len(numpy_chunk))\n",
        "            if chunk_sample_size > 0:\n",
        "                sampled_chunk = np.random.choice(numpy_chunk, size=chunk_sample_size, replace=False)\n",
        "                sampled_data.extend(sampled_chunk)\n",
        "                total_size += chunk_sample_size\n",
        "            \n",
        "            if total_size >= sample_size:\n",
        "                break\n",
        "            \n",
        "            start = end\n",
        "        \n",
        "        if total_size >= sample_size:\n",
        "            break\n",
        "    \n",
        "    return np.array(sampled_data)\n",
        "\n",
        "# Example usage\n",
        "\n",
        "\n",
        "sampled_array = sample_awkward_arrays_in_chunks(hit_ch_filtered, sample_size=100000, chunk_size=10000)\n",
        "print(sampled_array)\n"
      ]
    },
    {
      "cell_type": "code",
      "execution_count": 212,
      "metadata": {},
      "outputs": [
        {
          "data": {
            "text/plain": [
              "(300000000,)"
            ]
          },
          "execution_count": 212,
          "metadata": {},
          "output_type": "execute_result"
        }
      ],
      "source": [
        "sample_awkward_arrays_in_chunks(hit_t_filtered).shape"
      ]
    },
    {
      "cell_type": "code",
      "execution_count": 214,
      "metadata": {},
      "outputs": [
        {
          "data": {
            "image/png": "[encoded data removed]",
            "text/plain": [
              "<Figure size 1000x2500 with 3 Axes>"
            ]
          },
          "metadata": {},
          "output_type": "display_data"
        }
      ],
      "source": [
        "#Plot nuvT accumulative\n",
        "flattened_hit_nuvT_filtered = ak.flatten(ak.Array(hit_nuvT_filtered))\n",
        "flattened_hit_t_filtered = sample_awkward_arrays_in_chunks(hit_t_filtered)\n",
        "flattened_hit_ch_filtered = sample_awkward_arrays_in_chunks(hit_ch_filtered)\n",
        "fig, axs = plt.subplots(3, 1, figsize=(10, 25))\n",
        "\n",
        "axs[0].hist(flattened_hit_nuvT_filtered, bins=1000, edgecolor='black')\n",
        "axs[0].set_xlabel('time [ns]')\n",
        "axs[0].set_ylabel('Frequency')\n",
        "axs[0].set_title('nuvT')\n",
        "\n",
        "axs[1].hist(flattened_hit_t_filtered, bins=1000, edgecolor='black')\n",
        "axs[1].set_xlabel(r'Time [$\\mu$s]')\n",
        "axs[1].set_ylabel('Frequency')\n",
        "axs[1].set_title('ophit_time')\n",
        "\n",
        "axs[2].hist(flattened_hit_ch_filtered, bins=range(0, 312), edgecolor='black')\n",
        "axs[2].set_xlabel('# channel')\n",
        "axs[2].set_ylabel('Frequency')\n",
        "axs[2].set_title('channel dist.')\n",
        "\n",
        "# Set limits for axs[2]\n",
        "axs[2].set_xlim(0, 312)  # Set x-axis limits\n",
        "\n",
        "\n",
        "plt.show()"
      ]
    },
    {
      "cell_type": "markdown",
      "metadata": {},
      "source": [
        "# 2D and 3D detector location map"
      ]
    },
    {
      "cell_type": "markdown",
      "metadata": {},
      "source": [
        "Mapa 2D detectores"
      ]
    },
    {
      "cell_type": "code",
      "execution_count": 30,
      "metadata": {},
      "outputs": [
        {
          "ename": "ModuleNotFoundError",
          "evalue": "No module named 'plotly'",
          "output_type": "error",
          "traceback": [
            "\u001b[0;31m---------------------------------------------------------------------------\u001b[0m",
            "\u001b[0;31mModuleNotFoundError\u001b[0m                       Traceback (most recent call last)",
            "Cell \u001b[0;32mIn[30], line 1\u001b[0m\n\u001b[0;32m----> 1\u001b[0m \u001b[38;5;28;01mimport\u001b[39;00m \u001b[38;5;21;01mplotly\u001b[39;00m\u001b[38;5;21;01m.\u001b[39;00m\u001b[38;5;21;01mgraph_objs\u001b[39;00m \u001b[38;5;28;01mas\u001b[39;00m \u001b[38;5;21;01mgo\u001b[39;00m\n\u001b[1;32m      2\u001b[0m \u001b[38;5;28;01mfrom\u001b[39;00m \u001b[38;5;21;01mplotly\u001b[39;00m\u001b[38;5;21;01m.\u001b[39;00m\u001b[38;5;21;01msubplots\u001b[39;00m \u001b[38;5;28;01mimport\u001b[39;00m make_subplots\n\u001b[1;32m      5\u001b[0m \u001b[38;5;66;03m# Extract coordinates, color values, and IDs for even and odd 2D plots\u001b[39;00m\n",
            "\u001b[0;31mModuleNotFoundError\u001b[0m: No module named 'plotly'"
          ]
        }
      ],
      "source": [
        "import plotly.graph_objs as go\n",
        "from plotly.subplots import make_subplots\n",
        "\n",
        "\n",
        "# Extract coordinates, color values, and IDs for even and odd 2D plots\n",
        "hor_even = [coord[2] for coord in even_data_dict.values()]\n",
        "ver_even = [coord[1] for coord in even_data_dict.values()]\n",
        "color_even = [coord[3] for coord in even_data_dict.values()]\n",
        "ids_even = [key for key in even_data_dict.keys()]\n",
        "\n",
        "hor_odd = [coord[2] for coord in odd_data_dict.values()]\n",
        "ver_odd = [coord[1] for coord in odd_data_dict.values()]\n",
        "color_odd = [coord[3] for coord in odd_data_dict.values()]\n",
        "ids_odd = [key for key in odd_data_dict.keys()]\n",
        "# Define a custom color map with distinct colors\n",
        "distinct_colors = ['rgb(255,0,0)', 'rgb(0,255,0)', 'rgb(0,0,255)', 'rgb(255,0,255)']\n",
        "color_map = {i: distinct_colors[i % len(distinct_colors)] for i in range(len(set(color_even)))}\n",
        "colored_text_odd = [f'<span style=\"color: {color_map.get(col, \"black\")}\">{id_}</span>' for id_, col in zip(ids_odd, color_odd)]\n",
        "colored_text_even = [f'<span style=\"color: {color_map.get(col, \"black\")}\">{id_}</span>' for id_, col in zip(ids_even, color_even)]\n",
        "\n",
        "# Create subplot grid\n",
        "fig = make_subplots(rows=2, cols=1,subplot_titles=('Even IDs', 'Odd IDs'), vertical_spacing=0.15)\n",
        "\n",
        "# Add 2D scatter plot for even IDs\n",
        "fig.add_trace(go.Scatter(\n",
        "    x=hor_even,\n",
        "    y=ver_even,\n",
        "    mode='text',  # Use both markers and text\n",
        "    text=colored_text_even,  # Display colored IDs as text labels\n",
        "    textposition='top center',  # Position text labels\n",
        "    marker=dict(\n",
        "        size=10,  # Marker size\n",
        "        color=color_even,  # Set color based on the fourth dimension\n",
        "        colorscale='Jet',  # Define color scale\n",
        "        colorbar=dict(title='Color Scale')  # Add colorbar to show color scale\n",
        "    ),\n",
        "    hoverinfo='text',  # Show text on hover\n",
        "), row=1, col=1)\n",
        "\n",
        "# Add 2D scatter plot for odd IDs\n",
        "fig.add_trace(go.Scatter(\n",
        "    x=hor_odd,\n",
        "    y=ver_odd,\n",
        "    mode='text',  # Use both markers and text\n",
        "    text=colored_text_odd,  # Display colored IDs as text labels\n",
        "    textposition='top center',  # Position text labels\n",
        "    marker=dict(\n",
        "        size=10,  # Marker size\n",
        "        color=color_odd,  # Set color based on the fourth dimension\n",
        "        colorscale='Jet',  # Define color scale\n",
        "        colorbar=dict(title='Color Scale')  # Add colorbar to show color scale\n",
        "    ),\n",
        "    hoverinfo='text',  # Show text on hover\n",
        "), row=2, col=1)\n",
        "\n",
        "legend_labels = ['0: CoatedPMT (VIS and VUV)', '1: UncoatedPMT (only VIS)', '2: VUV XARAPUCA', '3: VIS XARAPUCA']\n",
        "for i, label in enumerate(legend_labels):\n",
        "    fig.add_trace(go.Scatter(\n",
        "        x=[None],\n",
        "        y=[None],\n",
        "        mode='markers',\n",
        "        marker=dict(\n",
        "            size=10,\n",
        "            color=distinct_colors[i],  # Color for each label\n",
        "            showscale=False\n",
        "        ),\n",
        "        name=label\n",
        "    ))\n",
        "\n",
        "# Update layout\n",
        "fig.update_layout(\n",
        "    title='2D Detector Planes',\n",
        "    width=1200,  # Set figure width\n",
        "    height=800,  # Set figure height\n",
        "    xaxis=dict(\n",
        "        title='Z',\n",
        "    ),\n",
        "    yaxis=dict(\n",
        "        title='Y',\n",
        "    ),\n",
        "    xaxis2=dict(\n",
        "        title='Z',\n",
        "    ),\n",
        "    yaxis2=dict(\n",
        "        title='Y',\n",
        "    ),\n",
        "      margin=dict(l=10, r=10, t=50, b=10),\n",
        "    \n",
        ")\n",
        "\n",
        "# Show the plot\n",
        "fig.show()"
      ]
    },
    {
      "cell_type": "markdown",
      "metadata": {},
      "source": [
        "Mapa 3D detectores"
      ]
    },
    {
      "cell_type": "code",
      "execution_count": null,
      "metadata": {},
      "outputs": [],
      "source": [
        "import plotly.graph_objs as go\n",
        "import plotly.express as px\n",
        "\n",
        "# Your data dictionary\n",
        "data = data_dict\n",
        "\n",
        "# Extract coordinates\n",
        "x = [coord[0] for coord in data.values()]\n",
        "y = [coord[1] for coord in data.values()]\n",
        "z = [coord[2] for coord in data.values()]\n",
        "color = [coord[3] for coord in data.values()]\n",
        "ids = [key for key in data_dict.keys()]\n",
        "# Create a scatter plot\n",
        "fig = go.Figure(data=[go.Scatter3d(\n",
        "    x=x,\n",
        "    y=z,\n",
        "    z=y,\n",
        "    mode='markers',\n",
        "    marker=dict(\n",
        "        size=5,\n",
        "        color=color,  # Set color based on the fourth dimension\n",
        "        #colorscale=color_scale,  # Define color scale\n",
        "        colorbar=dict(title='Color Scale')  # Add colorbar to show color scale\n",
        "    ),\n",
        "    text=ids,  # Display point IDs on hover\n",
        "    #hoverinfo='text'  # Show only the text (IDs) on hover\n",
        ")])\n",
        "\n",
        "# Set labels\n",
        "fig.update_layout(scene=dict(\n",
        "    xaxis_title='X',\n",
        "    yaxis_title='Z',\n",
        "    zaxis_title='Y'\n",
        "))\n",
        "\n",
        "fig.show()\n"
      ]
    },
    {
      "cell_type": "markdown",
      "metadata": {},
      "source": [
        "Array of 400X500 to pixelize detector map"
      ]
    },
    {
      "cell_type": "code",
      "execution_count": null,
      "metadata": {},
      "outputs": [],
      "source": [
        "# Function to create an array from a dictionary with fixed size\n",
        "def create_map_array(data_dict, height, width):\n",
        "    # Initialize the array with zeros\n",
        "    map_array = np.full((height, width), -2, dtype=int)\n",
        "    \n",
        "    # Populate the array based on the data_dict\n",
        "    for id_val, (_, y, z, _) in data_dict.items():\n",
        "        # Apply the y offset to handle negative y coordinates\n",
        "        y_adjusted = y + (height // 2) \n",
        "         # Shift to handle negative values\n",
        "        z = int(z)  # Ensure z is an integer\n",
        "        y_adjusted = int(y_adjusted)  # Ensure y_adjusted is an integer\n",
        "        \n",
        "        # Place the id value into the array at the correct position\n",
        "        map_array[y_adjusted, z] = id_val\n",
        "    \n",
        "    return map_array\n",
        "\n",
        "# Function to filter data_dict based on det_type\n",
        "def filter_data_dict(data_dict, valid_types):\n",
        "    return {id_val: data for id_val, data in data_dict.items() if data[3] in valid_types}\n",
        "\n",
        "# Dimensions of the pixelized box (in cm)\n",
        "fixed_height = 400\n",
        "fixed_width = 500\n",
        "\n",
        "# VIS\n",
        "# Filter data_dict for valid det_types (0, 1, 3)\n",
        "valid_det_types = {0, 1, 3}\n",
        "filtered_even_data_dict_VIS = filter_data_dict(even_data_dict, valid_det_types)\n",
        "even_map_array_VIS = create_map_array(filtered_even_data_dict_VIS, fixed_height, fixed_width)\n",
        "vis_map = np.row_stack((even_map_array_VIS,even_map_array_VIS + 1))\n",
        "\n",
        "# VUV\n",
        "# Filter data_dict for valid det_types (0, 2)\n",
        "valid_det_types = {0, 2}\n",
        "filtered_even_data_dict_VUV = filter_data_dict(even_data_dict, valid_det_types)\n",
        "even_map_array_VUV = create_map_array(even_data_dict, fixed_height, fixed_width)\n",
        "vuv_map = np.row_stack((even_map_array_VUV,even_map_array_VUV + 1))\n",
        "\n",
        "print(vis_map.shape)\n",
        "\n",
        "np.savetxt('vis_map.txt', vis_map, fmt='%d', delimiter=',')\n",
        "np.savetxt('vuv_map.txt', vis_map, fmt='%d', delimiter=',')"
      ]
    }
  ],
  "metadata": {
    "colab": {
      "collapsed_sections": [
        "bW565vHZTGgm",
        "Xl6QksnQLMsr"
      ],
      "provenance": []
    },
    "kernelspec": {
      "display_name": "Anaconda-Python-3.9",
      "language": "python",
      "name": "anaconda-python-3.9"
    },
    "language_info": {
      "codemirror_mode": {
        "name": "ipython",
        "version": 3
      },
      "file_extension": ".py",
      "mimetype": "text/x-python",
      "name": "python",
      "nbconvert_exporter": "python",
      "pygments_lexer": "ipython3",
      "version": "3.9.10"
    }
  },
  "nbformat": 4,
  "nbformat_minor": 0
}
