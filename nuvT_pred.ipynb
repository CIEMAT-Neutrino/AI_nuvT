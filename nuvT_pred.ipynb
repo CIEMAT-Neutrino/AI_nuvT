{
  "cells": [
    {
      "cell_type": "markdown",
      "metadata": {},
      "source": [
        "# nuvT(neutrino interaction time) reconstruction"
      ]
    },
    {
      "cell_type": "markdown",
      "metadata": {},
      "source": [
        "The goal of this project is to develop a neural network that uses the scintillation light produced in SBND, a liquid argon TPC exposed to a neutrino beam at Fermilab. The neural network uses the number of photoelectrons observed in each of the channels in an event as input. The output estimate is the temporal coordinate of the neutrino interaction.\n",
        "\n",
        "This program employs a CNN composed of convolutional layers (along with MaxPooling) followed by a fully connected network. The input consists of \"images\" with the spatial correlation of the detector map, forming four layers (separating visible and ultraviolet detectors; and both volumes)."
      ]
    },
    {
      "cell_type": "code",
      "execution_count": 4,
      "metadata": {},
      "outputs": [],
      "source": [
        "import uproot\n",
        "import awkward as ak\n",
        "import json\n",
        "\n",
        "import statistics as st\n",
        "import collections\n",
        "from random import randint\n",
        "#import visualkeras\n",
        "from sklearn.metrics import mean_squared_error\n",
        "\n",
        "#typical libraries\n",
        "import matplotlib.pyplot as plt\n",
        "import pandas as pd\n",
        "import numpy as np\n",
        "\n",
        "#tensorflow module\n",
        "import tensorflow as tf\n",
        "from tensorflow.keras import layers # type: ignore\n",
        "from tensorflow.keras.models import Model # type: ignore\n",
        "from tensorflow.keras.callbacks import ModelCheckpoint # type: ignore"
      ]
    },
    {
      "cell_type": "markdown",
      "metadata": {},
      "source": [
        "prueba de github"
      ]
    },
    {
      "cell_type": "markdown",
      "metadata": {
        "id": "1Y5AJAabTY1O"
      },
      "source": [
        "## Root file analysis"
      ]
    },
    {
      "cell_type": "markdown",
      "metadata": {
        "id": "t-wUZRaqKgxI"
      },
      "source": [
        "The data corresponds to the Monte Carlo simulation of the SBND experiment. It was obtained by simulating the creation of neutrinos in the beam and their subsequent interaction in SBND, as well as the simulation of the detector's response to the particles resulting from the interaction of the neutrinos."
      ]
    },
    {
      "cell_type": "code",
      "execution_count": 2,
      "metadata": {
        "colab": {
          "base_uri": "https://localhost:8080/"
        },
        "collapsed": true,
        "id": "OMLZvl3SKgAI",
        "outputId": "18946443-96c1-4f17-948f-5cc3194d96e7"
      },
      "outputs": [
        {
          "ename": "FileNotFoundError",
          "evalue": "[Errno 2] No such file or directory: '/home/vidales/AI_nuvT/../prueba_opana_tree.root'",
          "output_type": "error",
          "traceback": [
            "\u001b[0;31m---------------------------------------------------------------------------\u001b[0m",
            "\u001b[0;31mFileNotFoundError\u001b[0m                         Traceback (most recent call last)",
            "Cell \u001b[0;32mIn[2], line 2\u001b[0m\n\u001b[1;32m      1\u001b[0m file_path \u001b[38;5;241m=\u001b[39m \u001b[38;5;124m'\u001b[39m\u001b[38;5;124m../prueba_opana_tree.root\u001b[39m\u001b[38;5;124m'\u001b[39m\n\u001b[0;32m----> 2\u001b[0m file \u001b[38;5;241m=\u001b[39m \u001b[43muproot\u001b[49m\u001b[38;5;241;43m.\u001b[39;49m\u001b[43mopen\u001b[49m\u001b[43m(\u001b[49m\u001b[43mfile_path\u001b[49m\u001b[43m)\u001b[49m\n\u001b[1;32m      3\u001b[0m \u001b[38;5;28mprint\u001b[39m(\u001b[38;5;124m\"\u001b[39m\u001b[38;5;124mKeys in the file:\u001b[39m\u001b[38;5;124m\"\u001b[39m, file\u001b[38;5;241m.\u001b[39mclassnames())\n",
            "File \u001b[0;32m~/.local/lib/python3.9/site-packages/uproot/reading.py:142\u001b[0m, in \u001b[0;36mopen\u001b[0;34m(path, object_cache, array_cache, custom_classes, decompression_executor, interpretation_executor, **options)\u001b[0m\n\u001b[1;32m    133\u001b[0m \u001b[38;5;28;01mif\u001b[39;00m \u001b[38;5;129;01mnot\u001b[39;00m \u001b[38;5;28misinstance\u001b[39m(file_path, \u001b[38;5;28mstr\u001b[39m) \u001b[38;5;129;01mand\u001b[39;00m \u001b[38;5;129;01mnot\u001b[39;00m (\n\u001b[1;32m    134\u001b[0m     \u001b[38;5;28mhasattr\u001b[39m(file_path, \u001b[38;5;124m\"\u001b[39m\u001b[38;5;124mread\u001b[39m\u001b[38;5;124m\"\u001b[39m) \u001b[38;5;129;01mand\u001b[39;00m \u001b[38;5;28mhasattr\u001b[39m(file_path, \u001b[38;5;124m\"\u001b[39m\u001b[38;5;124mseek\u001b[39m\u001b[38;5;124m\"\u001b[39m)\n\u001b[1;32m    135\u001b[0m ):\n\u001b[1;32m    136\u001b[0m     \u001b[38;5;28;01mraise\u001b[39;00m \u001b[38;5;167;01mValueError\u001b[39;00m(\n\u001b[1;32m    137\u001b[0m         \u001b[38;5;124m\"\u001b[39m\u001b[38;5;124m'\u001b[39m\u001b[38;5;124mpath\u001b[39m\u001b[38;5;124m'\u001b[39m\u001b[38;5;124m must be a string, pathlib.Path, an object with \u001b[39m\u001b[38;5;124m'\u001b[39m\u001b[38;5;124mread\u001b[39m\u001b[38;5;124m'\u001b[39m\u001b[38;5;124m and \u001b[39m\u001b[38;5;124m\"\u001b[39m\n\u001b[1;32m    138\u001b[0m         \u001b[38;5;124m\"\u001b[39m\u001b[38;5;124m'\u001b[39m\u001b[38;5;124mseek\u001b[39m\u001b[38;5;124m'\u001b[39m\u001b[38;5;124m methods, or a length-1 dict of \u001b[39m\u001b[38;5;124m{\u001b[39m\u001b[38;5;124mfile_path: object_path}, \u001b[39m\u001b[38;5;124m\"\u001b[39m\n\u001b[1;32m    139\u001b[0m         \u001b[38;5;124mf\u001b[39m\u001b[38;5;124m\"\u001b[39m\u001b[38;5;124mnot \u001b[39m\u001b[38;5;132;01m{\u001b[39;00mpath\u001b[38;5;132;01m!r}\u001b[39;00m\u001b[38;5;124m\"\u001b[39m\n\u001b[1;32m    140\u001b[0m     )\n\u001b[0;32m--> 142\u001b[0m file \u001b[38;5;241m=\u001b[39m \u001b[43mReadOnlyFile\u001b[49m\u001b[43m(\u001b[49m\n\u001b[1;32m    143\u001b[0m \u001b[43m    \u001b[49m\u001b[43mfile_path\u001b[49m\u001b[43m,\u001b[49m\n\u001b[1;32m    144\u001b[0m \u001b[43m    \u001b[49m\u001b[43mobject_cache\u001b[49m\u001b[38;5;241;43m=\u001b[39;49m\u001b[43mobject_cache\u001b[49m\u001b[43m,\u001b[49m\n\u001b[1;32m    145\u001b[0m \u001b[43m    \u001b[49m\u001b[43marray_cache\u001b[49m\u001b[38;5;241;43m=\u001b[39;49m\u001b[43marray_cache\u001b[49m\u001b[43m,\u001b[49m\n\u001b[1;32m    146\u001b[0m \u001b[43m    \u001b[49m\u001b[43mcustom_classes\u001b[49m\u001b[38;5;241;43m=\u001b[39;49m\u001b[43mcustom_classes\u001b[49m\u001b[43m,\u001b[49m\n\u001b[1;32m    147\u001b[0m \u001b[43m    \u001b[49m\u001b[43mdecompression_executor\u001b[49m\u001b[38;5;241;43m=\u001b[39;49m\u001b[43mdecompression_executor\u001b[49m\u001b[43m,\u001b[49m\n\u001b[1;32m    148\u001b[0m \u001b[43m    \u001b[49m\u001b[43minterpretation_executor\u001b[49m\u001b[38;5;241;43m=\u001b[39;49m\u001b[43minterpretation_executor\u001b[49m\u001b[43m,\u001b[49m\n\u001b[1;32m    149\u001b[0m \u001b[43m    \u001b[49m\u001b[38;5;241;43m*\u001b[39;49m\u001b[38;5;241;43m*\u001b[39;49m\u001b[43moptions\u001b[49m\u001b[43m,\u001b[49m\n\u001b[1;32m    150\u001b[0m \u001b[43m\u001b[49m\u001b[43m)\u001b[49m\n\u001b[1;32m    152\u001b[0m \u001b[38;5;28;01mif\u001b[39;00m object_path \u001b[38;5;129;01mis\u001b[39;00m \u001b[38;5;28;01mNone\u001b[39;00m:\n\u001b[1;32m    153\u001b[0m     \u001b[38;5;28;01mreturn\u001b[39;00m file\u001b[38;5;241m.\u001b[39mroot_directory\n",
            "File \u001b[0;32m~/.local/lib/python3.9/site-packages/uproot/reading.py:561\u001b[0m, in \u001b[0;36mReadOnlyFile.__init__\u001b[0;34m(self, file_path, object_cache, array_cache, custom_classes, decompression_executor, interpretation_executor, **options)\u001b[0m\n\u001b[1;32m    556\u001b[0m \u001b[38;5;28mself\u001b[39m\u001b[38;5;241m.\u001b[39mhook_before_create_source()\n\u001b[1;32m    558\u001b[0m source_cls, file_path \u001b[38;5;241m=\u001b[39m uproot\u001b[38;5;241m.\u001b[39m_util\u001b[38;5;241m.\u001b[39mfile_path_to_source_class(\n\u001b[1;32m    559\u001b[0m     file_path, \u001b[38;5;28mself\u001b[39m\u001b[38;5;241m.\u001b[39m_options\n\u001b[1;32m    560\u001b[0m )\n\u001b[0;32m--> 561\u001b[0m \u001b[38;5;28mself\u001b[39m\u001b[38;5;241m.\u001b[39m_source \u001b[38;5;241m=\u001b[39m \u001b[43msource_cls\u001b[49m\u001b[43m(\u001b[49m\u001b[43mfile_path\u001b[49m\u001b[43m,\u001b[49m\u001b[43m \u001b[49m\u001b[38;5;241;43m*\u001b[39;49m\u001b[38;5;241;43m*\u001b[39;49m\u001b[38;5;28;43mself\u001b[39;49m\u001b[38;5;241;43m.\u001b[39;49m\u001b[43m_options\u001b[49m\u001b[43m)\u001b[49m\n\u001b[1;32m    563\u001b[0m \u001b[38;5;28mself\u001b[39m\u001b[38;5;241m.\u001b[39mhook_before_get_chunks()\n\u001b[1;32m    565\u001b[0m \u001b[38;5;28;01mif\u001b[39;00m \u001b[38;5;28mself\u001b[39m\u001b[38;5;241m.\u001b[39m_options[\u001b[38;5;124m\"\u001b[39m\u001b[38;5;124mbegin_chunk_size\u001b[39m\u001b[38;5;124m\"\u001b[39m] \u001b[38;5;241m<\u001b[39m _file_header_fields_big\u001b[38;5;241m.\u001b[39msize:\n",
            "File \u001b[0;32m~/.local/lib/python3.9/site-packages/uproot/source/fsspec.py:55\u001b[0m, in \u001b[0;36mFSSpecSource.__init__\u001b[0;34m(self, file_path, **options)\u001b[0m\n\u001b[1;32m     52\u001b[0m \u001b[38;5;28mself\u001b[39m\u001b[38;5;241m.\u001b[39m_file \u001b[38;5;241m=\u001b[39m \u001b[38;5;28;01mNone\u001b[39;00m\n\u001b[1;32m     53\u001b[0m \u001b[38;5;28mself\u001b[39m\u001b[38;5;241m.\u001b[39m_fh \u001b[38;5;241m=\u001b[39m \u001b[38;5;28;01mNone\u001b[39;00m\n\u001b[0;32m---> 55\u001b[0m \u001b[38;5;28;43mself\u001b[39;49m\u001b[38;5;241;43m.\u001b[39;49m\u001b[43m_open\u001b[49m\u001b[43m(\u001b[49m\u001b[43m)\u001b[49m\n\u001b[1;32m     57\u001b[0m \u001b[38;5;28mself\u001b[39m\u001b[38;5;241m.\u001b[39m\u001b[38;5;21m__enter__\u001b[39m()\n",
            "File \u001b[0;32m~/.local/lib/python3.9/site-packages/uproot/source/fsspec.py:69\u001b[0m, in \u001b[0;36mFSSpecSource._open\u001b[0;34m(self)\u001b[0m\n\u001b[1;32m     67\u001b[0m \u001b[38;5;28;01mdef\u001b[39;00m \u001b[38;5;21m_open\u001b[39m(\u001b[38;5;28mself\u001b[39m):\n\u001b[1;32m     68\u001b[0m     \u001b[38;5;28mself\u001b[39m\u001b[38;5;241m.\u001b[39m_executor \u001b[38;5;241m=\u001b[39m FSSpecLoopExecutor()\n\u001b[0;32m---> 69\u001b[0m     \u001b[38;5;28mself\u001b[39m\u001b[38;5;241m.\u001b[39m_file \u001b[38;5;241m=\u001b[39m \u001b[38;5;28;43mself\u001b[39;49m\u001b[38;5;241;43m.\u001b[39;49m\u001b[43m_fs\u001b[49m\u001b[38;5;241;43m.\u001b[39;49m\u001b[43mopen\u001b[49m\u001b[43m(\u001b[49m\u001b[38;5;28;43mself\u001b[39;49m\u001b[38;5;241;43m.\u001b[39;49m\u001b[43m_file_path\u001b[49m\u001b[43m)\u001b[49m\n",
            "File \u001b[0;32m~/.local/lib/python3.9/site-packages/fsspec/spec.py:1303\u001b[0m, in \u001b[0;36mAbstractFileSystem.open\u001b[0;34m(self, path, mode, block_size, cache_options, compression, **kwargs)\u001b[0m\n\u001b[1;32m   1301\u001b[0m \u001b[38;5;28;01melse\u001b[39;00m:\n\u001b[1;32m   1302\u001b[0m     ac \u001b[38;5;241m=\u001b[39m kwargs\u001b[38;5;241m.\u001b[39mpop(\u001b[38;5;124m\"\u001b[39m\u001b[38;5;124mautocommit\u001b[39m\u001b[38;5;124m\"\u001b[39m, \u001b[38;5;129;01mnot\u001b[39;00m \u001b[38;5;28mself\u001b[39m\u001b[38;5;241m.\u001b[39m_intrans)\n\u001b[0;32m-> 1303\u001b[0m     f \u001b[38;5;241m=\u001b[39m \u001b[38;5;28;43mself\u001b[39;49m\u001b[38;5;241;43m.\u001b[39;49m\u001b[43m_open\u001b[49m\u001b[43m(\u001b[49m\n\u001b[1;32m   1304\u001b[0m \u001b[43m        \u001b[49m\u001b[43mpath\u001b[49m\u001b[43m,\u001b[49m\n\u001b[1;32m   1305\u001b[0m \u001b[43m        \u001b[49m\u001b[43mmode\u001b[49m\u001b[38;5;241;43m=\u001b[39;49m\u001b[43mmode\u001b[49m\u001b[43m,\u001b[49m\n\u001b[1;32m   1306\u001b[0m \u001b[43m        \u001b[49m\u001b[43mblock_size\u001b[49m\u001b[38;5;241;43m=\u001b[39;49m\u001b[43mblock_size\u001b[49m\u001b[43m,\u001b[49m\n\u001b[1;32m   1307\u001b[0m \u001b[43m        \u001b[49m\u001b[43mautocommit\u001b[49m\u001b[38;5;241;43m=\u001b[39;49m\u001b[43mac\u001b[49m\u001b[43m,\u001b[49m\n\u001b[1;32m   1308\u001b[0m \u001b[43m        \u001b[49m\u001b[43mcache_options\u001b[49m\u001b[38;5;241;43m=\u001b[39;49m\u001b[43mcache_options\u001b[49m\u001b[43m,\u001b[49m\n\u001b[1;32m   1309\u001b[0m \u001b[43m        \u001b[49m\u001b[38;5;241;43m*\u001b[39;49m\u001b[38;5;241;43m*\u001b[39;49m\u001b[43mkwargs\u001b[49m\u001b[43m,\u001b[49m\n\u001b[1;32m   1310\u001b[0m \u001b[43m    \u001b[49m\u001b[43m)\u001b[49m\n\u001b[1;32m   1311\u001b[0m     \u001b[38;5;28;01mif\u001b[39;00m compression \u001b[38;5;129;01mis\u001b[39;00m \u001b[38;5;129;01mnot\u001b[39;00m \u001b[38;5;28;01mNone\u001b[39;00m:\n\u001b[1;32m   1312\u001b[0m         \u001b[38;5;28;01mfrom\u001b[39;00m \u001b[38;5;21;01mfsspec\u001b[39;00m\u001b[38;5;21;01m.\u001b[39;00m\u001b[38;5;21;01mcompression\u001b[39;00m \u001b[38;5;28;01mimport\u001b[39;00m compr\n",
            "File \u001b[0;32m~/.local/lib/python3.9/site-packages/fsspec/implementations/local.py:191\u001b[0m, in \u001b[0;36mLocalFileSystem._open\u001b[0;34m(self, path, mode, block_size, **kwargs)\u001b[0m\n\u001b[1;32m    189\u001b[0m \u001b[38;5;28;01mif\u001b[39;00m \u001b[38;5;28mself\u001b[39m\u001b[38;5;241m.\u001b[39mauto_mkdir \u001b[38;5;129;01mand\u001b[39;00m \u001b[38;5;124m\"\u001b[39m\u001b[38;5;124mw\u001b[39m\u001b[38;5;124m\"\u001b[39m \u001b[38;5;129;01min\u001b[39;00m mode:\n\u001b[1;32m    190\u001b[0m     \u001b[38;5;28mself\u001b[39m\u001b[38;5;241m.\u001b[39mmakedirs(\u001b[38;5;28mself\u001b[39m\u001b[38;5;241m.\u001b[39m_parent(path), exist_ok\u001b[38;5;241m=\u001b[39m\u001b[38;5;28;01mTrue\u001b[39;00m)\n\u001b[0;32m--> 191\u001b[0m \u001b[38;5;28;01mreturn\u001b[39;00m \u001b[43mLocalFileOpener\u001b[49m\u001b[43m(\u001b[49m\u001b[43mpath\u001b[49m\u001b[43m,\u001b[49m\u001b[43m \u001b[49m\u001b[43mmode\u001b[49m\u001b[43m,\u001b[49m\u001b[43m \u001b[49m\u001b[43mfs\u001b[49m\u001b[38;5;241;43m=\u001b[39;49m\u001b[38;5;28;43mself\u001b[39;49m\u001b[43m,\u001b[49m\u001b[43m \u001b[49m\u001b[38;5;241;43m*\u001b[39;49m\u001b[38;5;241;43m*\u001b[39;49m\u001b[43mkwargs\u001b[49m\u001b[43m)\u001b[49m\n",
            "File \u001b[0;32m~/.local/lib/python3.9/site-packages/fsspec/implementations/local.py:355\u001b[0m, in \u001b[0;36mLocalFileOpener.__init__\u001b[0;34m(self, path, mode, autocommit, fs, compression, **kwargs)\u001b[0m\n\u001b[1;32m    353\u001b[0m \u001b[38;5;28mself\u001b[39m\u001b[38;5;241m.\u001b[39mcompression \u001b[38;5;241m=\u001b[39m get_compression(path, compression)\n\u001b[1;32m    354\u001b[0m \u001b[38;5;28mself\u001b[39m\u001b[38;5;241m.\u001b[39mblocksize \u001b[38;5;241m=\u001b[39m io\u001b[38;5;241m.\u001b[39mDEFAULT_BUFFER_SIZE\n\u001b[0;32m--> 355\u001b[0m \u001b[38;5;28;43mself\u001b[39;49m\u001b[38;5;241;43m.\u001b[39;49m\u001b[43m_open\u001b[49m\u001b[43m(\u001b[49m\u001b[43m)\u001b[49m\n",
            "File \u001b[0;32m~/.local/lib/python3.9/site-packages/fsspec/implementations/local.py:360\u001b[0m, in \u001b[0;36mLocalFileOpener._open\u001b[0;34m(self)\u001b[0m\n\u001b[1;32m    358\u001b[0m \u001b[38;5;28;01mif\u001b[39;00m \u001b[38;5;28mself\u001b[39m\u001b[38;5;241m.\u001b[39mf \u001b[38;5;129;01mis\u001b[39;00m \u001b[38;5;28;01mNone\u001b[39;00m \u001b[38;5;129;01mor\u001b[39;00m \u001b[38;5;28mself\u001b[39m\u001b[38;5;241m.\u001b[39mf\u001b[38;5;241m.\u001b[39mclosed:\n\u001b[1;32m    359\u001b[0m     \u001b[38;5;28;01mif\u001b[39;00m \u001b[38;5;28mself\u001b[39m\u001b[38;5;241m.\u001b[39mautocommit \u001b[38;5;129;01mor\u001b[39;00m \u001b[38;5;124m\"\u001b[39m\u001b[38;5;124mw\u001b[39m\u001b[38;5;124m\"\u001b[39m \u001b[38;5;129;01mnot\u001b[39;00m \u001b[38;5;129;01min\u001b[39;00m \u001b[38;5;28mself\u001b[39m\u001b[38;5;241m.\u001b[39mmode:\n\u001b[0;32m--> 360\u001b[0m         \u001b[38;5;28mself\u001b[39m\u001b[38;5;241m.\u001b[39mf \u001b[38;5;241m=\u001b[39m \u001b[38;5;28;43mopen\u001b[39;49m\u001b[43m(\u001b[49m\u001b[38;5;28;43mself\u001b[39;49m\u001b[38;5;241;43m.\u001b[39;49m\u001b[43mpath\u001b[49m\u001b[43m,\u001b[49m\u001b[43m \u001b[49m\u001b[43mmode\u001b[49m\u001b[38;5;241;43m=\u001b[39;49m\u001b[38;5;28;43mself\u001b[39;49m\u001b[38;5;241;43m.\u001b[39;49m\u001b[43mmode\u001b[49m\u001b[43m)\u001b[49m\n\u001b[1;32m    361\u001b[0m         \u001b[38;5;28;01mif\u001b[39;00m \u001b[38;5;28mself\u001b[39m\u001b[38;5;241m.\u001b[39mcompression:\n\u001b[1;32m    362\u001b[0m             compress \u001b[38;5;241m=\u001b[39m compr[\u001b[38;5;28mself\u001b[39m\u001b[38;5;241m.\u001b[39mcompression]\n",
            "\u001b[0;31mFileNotFoundError\u001b[0m: [Errno 2] No such file or directory: '/home/vidales/AI_nuvT/../prueba_opana_tree.root'"
          ]
        }
      ],
      "source": [
        "file_path = '../prueba_opana_tree.root'\n",
        "file = uproot.open(file_path)\n",
        "print(\"Keys in the file:\", file.classnames())"
      ]
    },
    {
      "cell_type": "code",
      "execution_count": 4,
      "metadata": {},
      "outputs": [
        {
          "name": "stdout",
          "output_type": "stream",
          "text": [
            "Keys in optree: ['eventID', 'runID', 'subrunID', 'nuvX', 'nuvY', 'nuvZ', 'nuvT', 'nuvE', 'stepX', 'stepY', 'stepZ', 'stepT', 'dE', 'energydep', 'energydepX', 'energydepY', 'energydepZ', 'E', 'StartPx', 'StartPy', 'StartPz', 'EndPx', 'EndPy', 'EndPz', 'process', 'trackID', 'motherID', 'PDGcode', 'InTimeCosmics', 'InTimeCosmicsTime', 'dEtpc', 'dEpromx', 'dEpromy', 'dEpromz', 'dEspreadx', 'dEspready', 'dEspreadz', 'dElowedges', 'dEmaxedges', 'SimPhotonsperOpChVUV', 'SimPhotonsperOpChVIS', 'NPhotons', 'NPhotonsPMTCo', 'NPhotonsPMTUnco', 'NPhotonsPMTCoVUV', 'NPhotonsXARAPUCAVUV', 'NPhotonsXARAPUCAVIS', 'SimPhotonsLiteVUV', 'SimPhotonsLiteVIS', 'nophits', 'ophit_opch', 'ophit_peakT', 'ophit_startT', 'ophit_riseT', 'ophit_width', 'ophit_area', 'ophit_amplitude', 'ophit_pe', 'nopflash', 'flash_id', 'flash_time', 'flash_total_pe', 'flash_pe_v', 'flash_tpc', 'flash_y', 'flash_yerr', 'flash_z', 'flash_zerr', 'flash_x', 'flash_xerr', 'flash_ophit_time', 'flash_ophit_risetime', 'flash_ophit_starttime', 'flash_ophit_amp', 'flash_ophit_area', 'flash_ophit_width', 'flash_ophit_pe', 'flash_ophit_ch']\n"
          ]
        }
      ],
      "source": [
        "optree = file['opanatree']['OpAnaTree'] # Tree con número de fotoelectrones\n",
        "print(\"Keys in optree:\", optree.keys())"
      ]
    },
    {
      "cell_type": "markdown",
      "metadata": {},
      "source": [
        "Con la siguiente celda se pueden explorar las variables de OpAnaTree"
      ]
    },
    {
      "cell_type": "code",
      "execution_count": 5,
      "metadata": {},
      "outputs": [
        {
          "name": "stdout",
          "output_type": "stream",
          "text": [
            "Lengths of individual sub-arrays: 50\n",
            "Lengths of individual sub-arrays: [1, 1, 1, 1, 2, 1, 1, 2, 1, 2, 1, 1, 1, ..., 1, 1, 1, 1, 2, 1, 1, 1, 1, 1, 1, 1]\n"
          ]
        }
      ],
      "source": [
        "var = 'nuvT'\n",
        "optreevar = optree[var].array()\n",
        "\n",
        "print(\"Lengths of individual sub-arrays:\", ak.num(optreevar, axis=0))\n",
        "print(\"Lengths of individual sub-arrays:\", ak.num(optreevar, axis=1))\n",
        "\n",
        "#for i in optreevar:\n",
        "#  print(i)"
      ]
    },
    {
      "cell_type": "code",
      "execution_count": null,
      "metadata": {},
      "outputs": [],
      "source": [
        "\n",
        "plt.figure(figsize=(20,8))\n",
        "for i in range(1, len(optreevar)):\n",
        "    branch_name = f\"{i}\"\n",
        "    data = optreevar[i]\n",
        "    plt.hist(data, bins=50, histtype='step', label=branch_name, alpha=0.7)\n",
        "\n",
        "\n",
        "plt.xlabel(\"nuvT\")\n",
        "plt.ylabel(\"Frequency\")\n",
        "#plt.xlim(0,312)\n",
        "\n",
        "plt.yticks([])\n",
        "plt.title(\"nuvT in 50 events\")\n",
        "plt.show()"
      ]
    },
    {
      "cell_type": "markdown",
      "metadata": {},
      "source": [
        "## Detector map"
      ]
    },
    {
      "cell_type": "markdown",
      "metadata": {},
      "source": [
        "Para el interesado, ver en el final del notebook la sección Adicional donde se puede ver el mapa en 2d y 3d de los detectores. Estas matrices son una parametrización de ese mapa, pueden tener sentido otras también"
      ]
    },
    {
      "cell_type": "code",
      "execution_count": 22,
      "metadata": {},
      "outputs": [],
      "source": [
        "coated_pmt_map = np.array(([-2,6,-2,-2,-2,-2,-2,-2,-2,60,-2,-2,84,-2,-2,-2,-2,-2,-2,-2,138,-2,-2,162,-2,-2,-2,-2,-2,-2,-2,216,-2,-2,240,-2,-2,-2,-2,-2,-2,-2,294,-2],\n",
        "                           [-2,-2,-2,-2,-2,-2,-2,-2,-2,-2,-2,-2,-2,-2,-2,-2,-2,-2,-2,-2,-2,-2,-2,-2,-2,-2,-2,-2,-2,-2,-2,-2,-2,-2,-2,-2,-2,-2,-2,-2,-2,-2,-2,-2],\n",
        "                           [-2,8,-2,-2,-2,-2,-2,-2,-2,62,-2,-2,86,-2,-2,-2,-2,-2,-2,-2,140,-2,-2,164,-2,-2,-2,-2,-2,-2,-2,218,-2,-2,242,-2,-2,-2,-2,-2,-2,-2,296,-2],\n",
        "                           [-2,10,-2,-2,-2,-2,-2,-2,-2,64,-2,-2,88,-2,-2,-2,-2,-2,-2,-2,142,-2,-2,166,-2,-2,-2,-2,-2,-2,-2,220,-2,-2,244,-2,-2,-2,-2,-2,-2,-2,298,-2],\n",
        "                           [-2,-2,-2,-2,-2,-2,-2,-2,-2,-2,-2,-2,-2,-2,-2,-2,-2,-2,-2,-2,-2,-2,-2,-2,-2,-2,-2,-2,-2,-2,-2,-2,-2,-2,-2,-2,-2,-2,-2,-2,-2,-2,-2,-2],\n",
        "                           [-2,12,-2,-2,-2,-2,-2,-2,-2,66,-2,-2,90,-2,-2,-2,-2,-2,-2,-2,144,-2,-2,168,-2,-2,-2,-2,-2,-2,-2,222,-2,-2,246,-2,-2,-2,-2,-2,-2,-2,300,-2],\n",
        "                           [-2,14,-2,-2,-2,-2,-2,-2,-2,68,-2,-2,92,-2,-2,-2,-2,-2,-2,-2,146,-2,-2,170,-2,-2,-2,-2,-2,-2,-2,224,-2,-2,248,-2,-2,-2,-2,-2,-2,-2,302,-2],\n",
        "                           [-2,-2,-2,-2,-2,-2,-2,-2,-2,-2,-2,-2,-2,-2,-2,-2,-2,-2,-2,-2,-2,-2,-2,-2,-2,-2,-2,-2,-2,-2,-2,-2,-2,-2,-2,-2,-2,-2,-2,-2,-2,-2,-2,-2],\n",
        "                           [-2,16,-2,-2,-2,-2,-2,-2,-2,70,-2,-2,94,-2,-2,-2,-2,-2,-2,-2,148,-2,-2,172,-2,-2,-2,-2,-2,-2,-2,226,-2,-2,250,-2,-2,-2,-2,-2,-2,-2,304,-2]))\n",
        "\n",
        "uncoated_pmt_map = np.array(([-2,-2,-2,-2,-2,-2,-2,-2,-2,-2,-2,-2,-2,-2,-2,-2,-2,-2,-2,-2,-2,-2,-2,-2,-2,-2,-2,-2,-2,-2,-2,-2,-2,-2,-2,-2,-2,-2,-2,-2,-2,-2,-2,-2],\n",
        "                           [-2,-2,-2,-2,-2,36,-2,-2,-2,-2,-2,-2,-2,-2,-2,-2,114,-2,-2,-2,-2,-2,-2,-2,-2,-2,-2,192,-2,-2,-2,-2,-2,-2,-2,-2,-2,-2,270,-2,-2,-2,-2,-2],\n",
        "                           [-2,-2,-2,-2,-2,-2,-2,-2,-2,-2,-2,-2,-2,-2,-2,-2,-2,-2,-2,-2,-2,-2,-2,-2,-2,-2,-2,-2,-2,-2,-2,-2,-2,-2,-2,-2,-2,-2,-2,-2,-2,-2,-2,-2],\n",
        "                           [-2,-2,-2,-2,-2,-2,-2,-2,-2,-2,-2,-2,-2,-2,-2,-2,-2,-2,-2,-2,-2,-2,-2,-2,-2,-2,-2,-2,-2,-2,-2,-2,-2,-2,-2,-2,-2,-2,-2,-2,-2,-2,-2,-2],\n",
        "                           [-2,-2,-2,-2,-2,38,-2,-2,-2,-2,-2,-2,-2,-2,-2,-2,116,-2,-2,-2,-2,-2,-2,-2,-2,-2,-2,194,-2,-2,-2,-2,-2,-2,-2,-2,-2,-2,272,-2,-2,-2,-2,-2],\n",
        "                           [-2,-2,-2,-2,-2,-2,-2,-2,-2,-2,-2,-2,-2,-2,-2,-2,-2,-2,-2,-2,-2,-2,-2,-2,-2,-2,-2,-2,-2,-2,-2,-2,-2,-2,-2,-2,-2,-2,-2,-2,-2,-2,-2,-2],\n",
        "                           [-2,-2,-2,-2,-2,-2,-2,-2,-2,-2,-2,-2,-2,-2,-2,-2,-2,-2,-2,-2,-2,-2,-2,-2,-2,-2,-2,-2,-2,-2,-2,-2,-2,-2,-2,-2,-2,-2,-2,-2,-2,-2,-2,-2],\n",
        "                           [-2,-2,-2,-2,-2,40,-2,-2,-2,-2,-2,-2,-2,-2,-2,-2,118,-2,-2,-2,-2,-2,-2,-2,-2,-2,-2,196,-2,-2,-2,-2,-2,-2,-2,-2,-2,-2,274,-2,-2,-2,-2,-2],\n",
        "                           [-2,-2,-2,-2,-2,-2,-2,-2,-2,-2,-2,-2,-2,-2,-2,-2,-2,-2,-2,-2,-2,-2,-2,-2,-2,-2,-2,-2,-2,-2,-2,-2,-2,-2,-2,-2,-2,-2,-2,-2,-2,-2,-2,-2]))\n",
        "\n",
        "xarap_vuv_map = np.array(([-2,-2,-2,-2,-2,-2,42,-2,-2,-2,-2,-2,-2,-2,-2,-2,-2,120,-2,-2,-2,-2,-2,-2,-2,-2,-2,-2,198,-2,-2,-2,-2,-2,-2,-2,-2,-2,-2,276,-2,-2,-2,-2],\n",
        "                           [-2,-2,18,-2,-2,-2,-2,-2,-2,-2,72,-2,-2,96,-2,-2,-2,-2,-2,-2,-2,150,-2,-2,174,-2,-2,-2,-2,-2,-2,-2,228,-2,-2,252,-2,-2,-2,-2,-2,-2,-2,306],\n",
        "                           [-2,-2,-2,-2,-2,-2,44,-2,-2,-2,-2,-2,-2,-2,-2,-2,-2,122,-2,-2,-2,-2,-2,-2,-2,-2,-2,-2,200,-2,-2,-2,-2,-2,-2,-2,-2,-2,-2,278,-2,-2,-2,-2],\n",
        "                           [-2,-2,-2,-2,-2,-2,46,-2,-2,-2,-2,-2,-2,-2,-2,-2,-2,124,-2,-2,-2,-2,-2,-2,-2,-2,-2,-2,202,-2,-2,-2,-2,-2,-2,-2,-2,-2,-2,280,-2,-2,-2,-2],\n",
        "                           [-2,-2,10,-2,-2,-2,-2,-2,-2,-2,74,-2,-2,98,-2,-2,-2,-2,-2,-2,-2,152,-2,-2,176,-2,-2,-2,-2,-2,-2,-2,230,-2,-2,254,-2,-2,-2,-2,-2,-2,-2,308],\n",
        "                           [-2,-2,-2,-2,-2,-2,48,-2,-2,-2,-2,-2,-2,-2,-2,-2,-2,126,-2,-2,-2,-2,-2,-2,-2,-2,-2,-2,204,-2,-2,-2,-2,-2,-2,-2,-2,-2,-2,282,-2,-2,-2,-2],\n",
        "                           [-2,-2,-2,-2,-2,-2,50,-2,-2,-2,-2,-2,-2,-2,-2,-2,-2,128,-2,-2,-2,-2,-2,-2,-2,-2,-2,-2,206,-2,-2,-2,-2,-2,-2,-2,-2,-2,-2,284,-2,-2,-2,-2],\n",
        "                           [-2,-2,22,-2,-2,-2,-2,-2,-2,-2,76,-2,-2,100,-2,-2,-2,-2,-2,-2,-2,154,-2,-2,178,-2,-2,-2,-2,-2,-2,-2,232,-2,-2,256,-2,-2,-2,-2,-2,-2,-2,310],\n",
        "                           [-2,-2,-2,-2,-2,-2,52,-2,-2,-2,-2,-2,-2,-2,-2,-2,-2,130,-2,-2,-2,-2,-2,-2,-2,-2,-2,-2,208,-2,-2,-2,-2,-2,-2,-2,-2,-2,-2,286,-2,-2,-2,-2]))\n",
        "\n",
        "xarap_vis_map = np.array(([-2,-2,-2,-2,24,-2,-2,-2,-2,-2,-2,-2,-2,-2,-2,102,-2,-2,-2,-2,-2,-2,-2,-2,-2,-2,180,-2,-2,-2,-2,-2,-2,-2,-2,-2,-2,258,-2,-2,-2,-2,-2,-2],\n",
        "                           [0,-2,-2,-2,-2,-2,-2,-2,54,-2,-2,78,-2,-2,-2,-2,-2,-2,-2,132,-2,-2,156,-2,-2,-2,-2,-2,-2,-2,210,-2,-2,234,-2,-2,-2,-2,-2,-2,-2,288,-2,-2],\n",
        "                           [-2,-2,-2,-2,26,-2,-2,-2,-2,-2,-2,-2,-2,-2,-2,104,-2,-2,-2,-2,-2,-2,-2,-2,-2,-2,182,-2,-2,-2,-2,-2,-2,-2,-2,-2,-2,260,-2,-2,-2,-2,-2,-2],\n",
        "                           [-2,-2,-2,-2,28,-2,-2,-2,-2,-2,-2,-2,-2,-2,-2,106,-2,-2,-2,-2,-2,-2,-2,-2,-2,-2,184,-2,-2,-2,-2,-2,-2,-2,-2,-2,-2,262,-2,-2,-2,-2,-2,-2],\n",
        "                           [2,-2,-2,-2,-2,-2,-2,-2,56,-2,-2,80,-2,-2,-2,-2,-2,-2,-2,134,-2,-2,158,-2,-2,-2,-2,-2,-2,-2,212,-2,-2,236,-2,-2,-2,-2,-2,-2,-2,290,-2,-2],\n",
        "                           [-2,-2,-2,-2,30,-2,-2,-2,-2,-2,-2,-2,-2,-2,-2,108,-2,-2,-2,-2,-2,-2,-2,-2,-2,-2,186,-2,-2,-2,-2,-2,-2,-2,-2,-2,-2,264,-2,-2,-2,-2,-2,-2],\n",
        "                           [-2,-2,-2,-2,32,-2,-2,-2,-2,-2,-2,-2,-2,-2,-2,110,-2,-2,-2,-2,-2,-2,-2,-2,-2,-2,188,-2,-2,-2,-2,-2,-2,-2,-2,-2,-2,266,-2,-2,-2,-2,-2,-2],\n",
        "                           [4,-2,-2,-2,-2,-2,-2,-2,58,-2,-2,82,-2,-2,-2,-2,-2,-2,-2,136,-2,-2,160,-2,-2,-2,-2,-2,-2,-2,214,-2,-2,238,-2,-2,-2,-2,-2,-2,-2,292,-2,-2],\n",
        "                           [-2,-2,-2,-2,34,-2,-2,-2,-2,-2,-2,-2,-2,-2,-2,112,-2,-2,-2,-2,-2,-2,-2,-2,-2,-2,190,-2,-2,-2,-2,-2,-2,-2,-2,-2,-2,268,-2,-2,-2,-2,-2,-2]))\n",
        "\n",
        "#joining CoatedPMTs and VUV XARAP \n",
        "vuv_map = np.array([[-2,6,-2,-2,-2,-2,42,-2,-2,60,-2,-2,84,-2,-2,-2,-2,120,-2,-2,138,-2,-2,162,-2,-2,-2,-2,198,-2,-2,216,-2,-2,240,-2,-2,-2,-2,276,-2,-2,294,-2],\n",
        "                    [-2,-2,18,-2,-2,-2,-2,-2,-2,-2,72,-2,-2,96,-2,-2,-2,-2,-2,-2,-2,150,-2,-2,174,-2,-2,-2,-2,-2,-2,-2,228,-2,-2,252,-2,-2,-2,-2,-2,-2,-2,306],\n",
        "                    [-2,8,-2,-2,-2,-2,44,-2,-2,62,-2,-2,86,-2,-2,-2,-2,122,-2,-2,140,-2,-2,164,-2,-2,-2,-2,200,-2,-2,218,-2,-2,242,-2,-2,-2,-2,278,-2,-2,296,-2],\n",
        "                    [-2,10,-2,-2,-2,-2,46,-2,-2,64,-2,-2,88,-2,-2,-2,-2,124,-2,-2,142,-2,-2,166,-2,-2,-2,-2,202,-2,-2,220,-2,-2,244,-2,-2,-2,-2,280,-2,-2,298,-2],\n",
        "                    [-2,-2,10,-2,-2,-2,-2,-2,-2,-2,74,-2,-2,98,-2,-2,-2,-2,-2,-2,-2,152,-2,-2,176,-2,-2,-2,-2,-2,-2,-2,230,-2,-2,254,-2,-2,-2,-2,-2,-2,-2,308],\n",
        "                    [-2,12,-2,-2,-2,-2,48,-2,-2,66,-2,-2,90,-2,-2,-2,-2,126,-2,-2,144,-2,-2,168,-2,-2,-2,-2,204,-2,-2,222,-2,-2,246,-2,-2,-2,-2,282,-2,-2,300,-2],\n",
        "                    [-2,14,-2,-2,-2,-2,50,-2,-2,68,-2,-2,92,-2,-2,-2,-2,128,-2,-2,146,-2,-2,170,-2,-2,-2,-2,206,-2,-2,224,-2,-2,248,-2,-2,-2,-2,284,-2,-2,302,-2],\n",
        "                    [-2,-2,22,-2,-2,-2,-2,-2,-2,-2,76,-2,-2,100,-2,-2,-2,-2,-2,-2,-2,154,-2,-2,178,-2,-2,-2,-2,-2,-2,-2,232,-2,-2,256,-2,-2,-2,-2,-2,-2,-2,310],\n",
        "                    [-2,16,-2,-2,-2,-2,52,-2,-2,70,-2,-2,94,-2,-2,-2,-2,130,-2,-2,148,-2,-2,172,-2,-2,-2,-2,208,-2,-2,226,-2,-2,250,-2,-2,-2,-2,286,-2,-2,304,-2]])\n",
        "\n",
        "#joining CoatedPMTs, UncoatedPMTs and VIS XARAP \n",
        "vis_map = np.array([[-2,6,-2,-2,24,-2,-2,-2,-2,60,-2,-2,84,-2,-2,102,-2,-2,-2,-2,138,-2,-2,162,-2,-2,180,-2,-2,-2,-2,216,-2,-2,240,-2,-2,258,-2,-2,-2,-2,294,-2],\n",
        "                    [0,-2,-2,-2,-2,36,-2,-2,54,-2,-2,78,-2,-2,-2,-2,114,-2,-2,132,-2,-2,156,-2,-2,-2,-2,192,-2,-2,210,-2,-2,234,-2,-2,-2,-2,270,-2,-2,288,-2,-2],\n",
        "                    [-2,8,-2,-2,26,-2,-2,-2,-2,62,-2,-2,86,-2,-2,104,-2,-2,-2,-2,140,-2,-2,164,-2,-2,182,-2,-2,-2,-2,218,-2,-2,242,-2,-2,260,-2,-2,-2,-2,296,-2],\n",
        "                    [-2,10,-2,-2,28,-2,-2,-2,-2,64,-2,-2,88,-2,-2,106,-2,-2,-2,-2,142,-2,-2,166,-2,-2,184,-2,-2,-2,-2,220,-2,-2,244,-2,-2,262,-2,-2,-2,-2,298,-2],\n",
        "                    [2,-2,-2,-2,-2,38,-2,-2,56,-2,-2,80,-2,-2,-2,-2,116,-2,-2,134,-2,-2,158,-2,-2,-2,-2,194,-2,-2,212,-2,-2,236,-2,-2,-2,-2,272,-2,-2,290,-2,-2],\n",
        "                    [-2,12,-2,-2,30,-2,-2,-2,-2,66,-2,-2,90,-2,-2,108,-2,-2,-2,-2,144,-2,-2,168,-2,-2,186,-2,-2,-2,-2,222,-2,-2,246,-2,-2,264,-2,-2,-2,-2,300,-2],\n",
        "                    [-2,14,-2,-2,32,-2,-2,-2,-2,68,-2,-2,92,-2,-2,110,-2,-2,-2,-2,146,-2,-2,170,-2,-2,188,-2,-2,-2,-2,224,-2,-2,248,-2,-2,266,-2,-2,-2,-2,302,-2],\n",
        "                    [4,-2,-2,-2,-2,40,-2,-2,58,-2,-2,82,-2,-2,-2,-2,118,-2,-2,136,-2,-2,160,-2,-2,-2,-2,196,-2,-2,214,-2,-2,238,-2,-2,-2,-2,274,-2,-2,292,-2,-2],\n",
        "                    [-2,16,-2,-2,34,-2,-2,-2,-2,70,-2,-2,94,-2,-2,112,-2,-2,-2,-2,148,-2,-2,172,-2,-2,190,-2,-2,-2,-2,226,-2,-2,250,-2,-2,268,-2,-2,-2,-2,304,-2]])\n",
        "\n",
        "#minimum matrix - PDS box 3*9\n",
        "coated_pmt_map_minimum = np.delete(coated_pmt_map, [3,7,14,18,25,29,36,40],  axis=1)\n",
        "uncoated_pmt_map_minimum = np.delete(uncoated_pmt_map, [3,7,14,18,25,29,36,40],  axis=1)\n",
        "xarap_vuv_map_minimum = np.delete(xarap_vuv_map, [3,7,14,18,25,29,36,40],  axis=1)\n",
        "xarap_vis_map_minimum = np.delete(xarap_vis_map, [3,7,14,18,25,29,36,40],  axis=1)\n",
        "vuv_map_min = np.delete(vuv_map, [3,7,14,18,25,29,36,40],  axis=1)\n",
        "vis_map_min = np.delete(vis_map, [3,7,14,18,25,29,36,40],  axis=1)\n",
        "#necesitaremos construir los dos planos con el siguiente código:\n",
        "vis_map_min = np.row_stack((vis_map_min,vis_map_min+1))\n",
        "vuv_map_min = np.row_stack((vuv_map_min,vuv_map_min+1))\n",
        "\n",
        "vis_map=vis_map_min\n",
        "vuv_map=vuv_map_min"
      ]
    },
    {
      "cell_type": "code",
      "execution_count": 14,
      "metadata": {
        "colab": {
          "base_uri": "https://localhost:8080/"
        },
        "id": "bhhvsWZcKl2c",
        "outputId": "db785b79-70cd-4ceb-e2d0-a921ade34f69"
      },
      "outputs": [
        {
          "name": "stdout",
          "output_type": "stream",
          "text": [
            "50 * var * var * float64\n"
          ]
        }
      ],
      "source": [
        "# Carga asociada a cada evento, hit, canal y tiempo\n",
        "hit_PE = optree['flash_ophit_pe'].array()\n",
        "print(hit_PE.type)\n",
        "# Canal asociado a cada evento, hit, carga recogida y tiempo\n",
        "hit_ch = optree['flash_ophit_ch'].array()\n",
        "# Tiempo asociado a cada evento, hit, canal y carga recogida\n",
        "hit_t = optree['flash_ophit_time'].array()"
      ]
    },
    {
      "cell_type": "markdown",
      "metadata": {},
      "source": [
        "*¿Porque negativos?*"
      ]
    },
    {
      "cell_type": "code",
      "execution_count": 16,
      "metadata": {},
      "outputs": [
        {
          "name": "stdout",
          "output_type": "stream",
          "text": [
            "[[-603, -603, -603, -603, -603, -603, ..., -610, -610, -610, -610, -610], ...]\n"
          ]
        }
      ],
      "source": [
        "print(hit_t[4])"
      ]
    },
    {
      "cell_type": "code",
      "execution_count": 19,
      "metadata": {
        "collapsed": true,
        "id": "E62xXjleKtZJ"
      },
      "outputs": [],
      "source": [
        "n_eventos = len(hit_ch)\n",
        "n_canales = 312\n",
        "\n",
        "# Creamos la matriz donde guardar el número de fotoelectrones recogidos en cada canal y por cada evento\n",
        "fotoelectrones = np.zeros((n_eventos,n_canales))\n",
        "tiempos = np.zeros((n_eventos,n_canales))\n",
        "\n",
        "for i in range(n_eventos):\n",
        "  max_carga_indice = np.zeros(n_canales)\n",
        "  for j in range(len(hit_PE[i])):\n",
        "    for k, l, t in zip(hit_PE[i][j], hit_ch[i][j], hit_t[i][j]):\n",
        "      fotoelectrones[i][l] += k\n",
        "      tiempos[i][l] += k*t # Ponderamos usando como pesos las cargas"
      ]
    },
    {
      "cell_type": "code",
      "execution_count": 20,
      "metadata": {
        "id": "a_N67_vzKwmB"
      },
      "outputs": [],
      "source": [
        "# Se normaliza con la suma total de los pesos, que es la matriz de fotoelectrones\n",
        "for i in range(n_eventos):\n",
        "  for j in range(n_canales):\n",
        "    if fotoelectrones[i][j] != 0:\n",
        "      tiempos[i][j] /= fotoelectrones[i][j]\n",
        "    else:\n",
        "      tiempos[i][j] = 0"
      ]
    },
    {
      "cell_type": "code",
      "execution_count": 24,
      "metadata": {
        "colab": {
          "base_uri": "https://localhost:8080/"
        },
        "id": "cmM2BF-BK3Rv",
        "outputId": "8b9b94fc-8f2d-4bbd-8d41-0ddfb9bd6bf4"
      },
      "outputs": [
        {
          "name": "stdout",
          "output_type": "stream",
          "text": [
            "Number of events, image height, width, layers: (50, 9, 36, 8)\n"
          ]
        }
      ],
      "source": [
        "ch_y = 18\n",
        "ch_z = 9\n",
        "\n",
        "# Creamos la matriz con distribución espacial\n",
        "fotoelectrones_vis_map = np.zeros((n_eventos,ch_z*2,ch_y*2))\n",
        "fotoelectrones_vuv_map = np.zeros((n_eventos,ch_z*2,ch_y*2))\n",
        "\n",
        "tiempos_vis_map = np.zeros((n_eventos,ch_z*2,ch_y*2))\n",
        "tiempos_vuv_map = np.zeros((n_eventos,ch_z*2,ch_y*2))\n",
        "\n",
        "for i in range(n_eventos):\n",
        "  for j in range(ch_z*2):\n",
        "    for k in range(ch_y*2):\n",
        "      if vis_map[j][k] >= 0:\n",
        "        fotoelectrones_vis_map[i][j][k] = fotoelectrones[i][vis_map[j][k]]\n",
        "        tiempos_vis_map[i][j][k] = tiempos[i][vis_map[j][k]]\n",
        "      if vuv_map[j][k] >= 0:\n",
        "        fotoelectrones_vuv_map[i][j][k] = fotoelectrones[i][vuv_map[j][k]]\n",
        "        tiempos_vuv_map[i][j][k] = tiempos[i][vuv_map[j][k]]\n",
        "\n",
        "# Dividimos los sensores de diferente radiación en dos capas distintas y también por volúmenes\n",
        "fotoelectrones_vis_map = np.hsplit(fotoelectrones_vis_map, 2)/np.max(fotoelectrones)\n",
        "fotoelectrones_vuv_map = np.hsplit(fotoelectrones_vuv_map, 2)/np.max(fotoelectrones)\n",
        "\n",
        "tiempos_vis_map = np.hsplit(tiempos_vis_map, 2)/np.max(tiempos)\n",
        "tiempos_vuv_map = np.hsplit(tiempos_vuv_map, 2)/np.max(tiempos)\n",
        "\n",
        "image = np.zeros((np.shape(fotoelectrones_vis_map[0])[0],np.shape(fotoelectrones_vis_map[0])[1],np.shape(fotoelectrones_vis_map[0])[2],8))\n",
        "\n",
        "image[:,:,:,0] = fotoelectrones_vis_map[0]\n",
        "image[:,:,:,1] = fotoelectrones_vis_map[1]\n",
        "image[:,:,:,2] = fotoelectrones_vuv_map[0]\n",
        "image[:,:,:,3] = fotoelectrones_vuv_map[1]\n",
        "\n",
        "image[:,:,:,4] = tiempos_vis_map[0]\n",
        "image[:,:,:,5] = tiempos_vis_map[1]\n",
        "image[:,:,:,6] = tiempos_vuv_map[0]\n",
        "image[:,:,:,7] = tiempos_vuv_map[1]\n",
        "\n",
        "\n",
        "print('Number of events, image height, width, layers:', np.shape(image))"
      ]
    },
    {
      "cell_type": "markdown",
      "metadata": {
        "id": "Xl6QksnQLMsr"
      },
      "source": [
        "\n",
        "# Visualización de los datos\n",
        "\n"
      ]
    },
    {
      "cell_type": "markdown",
      "metadata": {},
      "source": [
        "¿Porque los tiempos aparecen raros?"
      ]
    },
    {
      "cell_type": "code",
      "execution_count": 25,
      "metadata": {
        "colab": {
          "base_uri": "https://localhost:8080/",
          "height": 90
        },
        "id": "bh44tSMALSw7",
        "outputId": "63fa5162-7383-419f-ec32-0a9c6c4a3305"
      },
      "outputs": [
        {
          "name": "stdout",
          "output_type": "stream",
          "text": [
            "C1: Visible/Volumen -  ||  C2: Visible/Volumen +  ||  C3: Ultravioleta/Volumen -  ||  C4: Ultravioleta/Volumen +  ||\n"
          ]
        },
        {
          "data": {
            "text/plain": [
              "[]"
            ]
          },
          "execution_count": 25,
          "metadata": {},
          "output_type": "execute_result"
        },
        {
          "data": {
            "image/png": "[encoded data removed]",
            "text/plain": [
              "<Figure size 2000x1500 with 68 Axes>"
            ]
          },
          "metadata": {},
          "output_type": "display_data"
        }
      ],
      "source": [
        "event_index = np.array([0,1,2,3,4,5,6,7,8,9,10,11,12,13,14,15,16])\n",
        "\n",
        "print('C1: Visible/Volumen -  ||  C2: Visible/Volumen +  ||  C3: Ultravioleta/Volumen -  ||  C4: Ultravioleta/Volumen +  ||')\n",
        "#T1: Visible/Volumen -  ||  T2: Visible/Volumen +  ||  T3: Ultravioleta/Volumen -  ||  T4: Ultravioleta/Volumen +\n",
        "fig, axs = plt.subplots(17, 4, figsize=(20, 15))\n",
        "\n",
        "for i in range(17):\n",
        "  for j in range(4):\n",
        "    axs[i,j].imshow(image[event_index[i],:,:,j])\n",
        "\n",
        "plt.setp(axs, xticks=[], yticks=[])"
      ]
    },
    {
      "cell_type": "markdown",
      "metadata": {
        "id": "nS6lIBYBMuaj"
      },
      "source": [
        "\n",
        "\n",
        "# Reconstrucción de las coordenadas de forma individual"
      ]
    },
    {
      "cell_type": "markdown",
      "metadata": {
        "id": "ifOkDi1mM5cw"
      },
      "source": [
        "## Separación de los conjuntos de entrenamiento y prueba"
      ]
    },
    {
      "cell_type": "code",
      "execution_count": 26,
      "metadata": {},
      "outputs": [],
      "source": [
        "hit_nuvT = optree['nuvT'].array()\n",
        "\n",
        "#for i, subarray in enumerate(hit_nuvT):\n",
        "#    print(f\"Subarray {i}:\", subarray)"
      ]
    },
    {
      "cell_type": "markdown",
      "metadata": {
        "id": "JYO4olDPNEww"
      },
      "source": [
        "Verificamos la dimensionalidad"
      ]
    },
    {
      "cell_type": "code",
      "execution_count": 28,
      "metadata": {
        "id": "EtGS3-XnNKBA"
      },
      "outputs": [
        {
          "ename": "ValueError",
          "evalue": "cannot convert to RegularArray because subarray lengths are not regular (in compiled code: https://github.com/scikit-hep/awkward/blob/awkward-cpp-37/awkward-cpp/src/cpu-kernels/awkward_ListOffsetArray_toRegularArray.cpp#L22)",
          "output_type": "error",
          "traceback": [
            "\u001b[0;31m---------------------------------------------------------------------------\u001b[0m",
            "\u001b[0;31mValueError\u001b[0m                                Traceback (most recent call last)",
            "Cell \u001b[0;32mIn[28], line 1\u001b[0m\n\u001b[0;32m----> 1\u001b[0m \u001b[38;5;28;01massert\u001b[39;00m np\u001b[38;5;241m.\u001b[39mshape(image)[\u001b[38;5;241m0\u001b[39m] \u001b[38;5;241m==\u001b[39m \u001b[43mnp\u001b[49m\u001b[38;5;241;43m.\u001b[39;49m\u001b[43mshape\u001b[49m\u001b[43m(\u001b[49m\u001b[43mhit_nuvT\u001b[49m\u001b[43m)\u001b[49m[\u001b[38;5;241m0\u001b[39m]\n",
            "File \u001b[0;32m~/Desktop/trabajo nuvT/nuvT_venv/lib/python3.12/site-packages/awkward/highlevel.py:1527\u001b[0m, in \u001b[0;36mArray.__array_function__\u001b[0;34m(self, func, types, args, kwargs)\u001b[0m\n\u001b[1;32m   1513\u001b[0m \u001b[38;5;28;01mdef\u001b[39;00m \u001b[38;5;21m__array_function__\u001b[39m(\u001b[38;5;28mself\u001b[39m, func, types, args, kwargs):\n\u001b[1;32m   1514\u001b[0m \u001b[38;5;250m    \u001b[39m\u001b[38;5;124;03m\"\"\"\u001b[39;00m\n\u001b[1;32m   1515\u001b[0m \u001b[38;5;124;03m    Intercepts attempts to pass this Array to those NumPy functions other\u001b[39;00m\n\u001b[1;32m   1516\u001b[0m \u001b[38;5;124;03m    than universal functions that have an Awkward equivalent.\u001b[39;00m\n\u001b[0;32m   (...)\u001b[0m\n\u001b[1;32m   1525\u001b[0m \u001b[38;5;124;03m    See also #__array_ufunc__.\u001b[39;00m\n\u001b[1;32m   1526\u001b[0m \u001b[38;5;124;03m    \"\"\"\u001b[39;00m\n\u001b[0;32m-> 1527\u001b[0m     \u001b[38;5;28;01mreturn\u001b[39;00m \u001b[43mak\u001b[49m\u001b[38;5;241;43m.\u001b[39;49m\u001b[43m_connect\u001b[49m\u001b[38;5;241;43m.\u001b[39;49m\u001b[43mnumpy\u001b[49m\u001b[38;5;241;43m.\u001b[39;49m\u001b[43marray_function\u001b[49m\u001b[43m(\u001b[49m\n\u001b[1;32m   1528\u001b[0m \u001b[43m        \u001b[49m\u001b[43mfunc\u001b[49m\u001b[43m,\u001b[49m\u001b[43m \u001b[49m\u001b[43mtypes\u001b[49m\u001b[43m,\u001b[49m\u001b[43m \u001b[49m\u001b[43margs\u001b[49m\u001b[43m,\u001b[49m\u001b[43m \u001b[49m\u001b[43mkwargs\u001b[49m\u001b[43m,\u001b[49m\u001b[43m \u001b[49m\u001b[43mbehavior\u001b[49m\u001b[38;5;241;43m=\u001b[39;49m\u001b[38;5;28;43mself\u001b[39;49m\u001b[38;5;241;43m.\u001b[39;49m\u001b[43m_behavior\u001b[49m\u001b[43m,\u001b[49m\u001b[43m \u001b[49m\u001b[43mattrs\u001b[49m\u001b[38;5;241;43m=\u001b[39;49m\u001b[38;5;28;43mself\u001b[39;49m\u001b[38;5;241;43m.\u001b[39;49m\u001b[43m_attrs\u001b[49m\n\u001b[1;32m   1529\u001b[0m \u001b[43m    \u001b[49m\u001b[43m)\u001b[49m\n",
            "File \u001b[0;32m~/Desktop/trabajo nuvT/nuvT_venv/lib/python3.12/site-packages/awkward/_connect/numpy.py:109\u001b[0m, in \u001b[0;36marray_function\u001b[0;34m(func, types, args, kwargs, behavior, attrs)\u001b[0m\n\u001b[1;32m    106\u001b[0m unique_backends \u001b[38;5;241m=\u001b[39m \u001b[38;5;28mfrozenset\u001b[39m(_find_backends(all_arguments))\n\u001b[1;32m    107\u001b[0m backend \u001b[38;5;241m=\u001b[39m common_backend(unique_backends)\n\u001b[0;32m--> 109\u001b[0m rectilinear_args \u001b[38;5;241m=\u001b[39m \u001b[38;5;28;43mtuple\u001b[39;49m\u001b[43m(\u001b[49m\u001b[43m_to_rectilinear\u001b[49m\u001b[43m(\u001b[49m\u001b[43mx\u001b[49m\u001b[43m,\u001b[49m\u001b[43m \u001b[49m\u001b[43mbackend\u001b[49m\u001b[43m)\u001b[49m\u001b[43m \u001b[49m\u001b[38;5;28;43;01mfor\u001b[39;49;00m\u001b[43m \u001b[49m\u001b[43mx\u001b[49m\u001b[43m \u001b[49m\u001b[38;5;129;43;01min\u001b[39;49;00m\u001b[43m \u001b[49m\u001b[43margs\u001b[49m\u001b[43m)\u001b[49m\n\u001b[1;32m    110\u001b[0m rectilinear_kwargs \u001b[38;5;241m=\u001b[39m {k: _to_rectilinear(v, backend) \u001b[38;5;28;01mfor\u001b[39;00m k, v \u001b[38;5;129;01min\u001b[39;00m kwargs\u001b[38;5;241m.\u001b[39mitems()}\n\u001b[1;32m    111\u001b[0m result \u001b[38;5;241m=\u001b[39m func(\u001b[38;5;241m*\u001b[39mrectilinear_args, \u001b[38;5;241m*\u001b[39m\u001b[38;5;241m*\u001b[39mrectilinear_kwargs)\n",
            "File \u001b[0;32m~/Desktop/trabajo nuvT/nuvT_venv/lib/python3.12/site-packages/awkward/_connect/numpy.py:109\u001b[0m, in \u001b[0;36m<genexpr>\u001b[0;34m(.0)\u001b[0m\n\u001b[1;32m    106\u001b[0m unique_backends \u001b[38;5;241m=\u001b[39m \u001b[38;5;28mfrozenset\u001b[39m(_find_backends(all_arguments))\n\u001b[1;32m    107\u001b[0m backend \u001b[38;5;241m=\u001b[39m common_backend(unique_backends)\n\u001b[0;32m--> 109\u001b[0m rectilinear_args \u001b[38;5;241m=\u001b[39m \u001b[38;5;28mtuple\u001b[39m(\u001b[43m_to_rectilinear\u001b[49m\u001b[43m(\u001b[49m\u001b[43mx\u001b[49m\u001b[43m,\u001b[49m\u001b[43m \u001b[49m\u001b[43mbackend\u001b[49m\u001b[43m)\u001b[49m \u001b[38;5;28;01mfor\u001b[39;00m x \u001b[38;5;129;01min\u001b[39;00m args)\n\u001b[1;32m    110\u001b[0m rectilinear_kwargs \u001b[38;5;241m=\u001b[39m {k: _to_rectilinear(v, backend) \u001b[38;5;28;01mfor\u001b[39;00m k, v \u001b[38;5;129;01min\u001b[39;00m kwargs\u001b[38;5;241m.\u001b[39mitems()}\n\u001b[1;32m    111\u001b[0m result \u001b[38;5;241m=\u001b[39m func(\u001b[38;5;241m*\u001b[39mrectilinear_args, \u001b[38;5;241m*\u001b[39m\u001b[38;5;241m*\u001b[39mrectilinear_kwargs)\n",
            "File \u001b[0;32m~/Desktop/trabajo nuvT/nuvT_venv/lib/python3.12/site-packages/awkward/_connect/numpy.py:78\u001b[0m, in \u001b[0;36m_to_rectilinear\u001b[0;34m(arg, backend)\u001b[0m\n\u001b[1;32m     69\u001b[0m     \u001b[38;5;66;03m# Otherwise, cast to layout and convert\u001b[39;00m\n\u001b[1;32m     70\u001b[0m     \u001b[38;5;28;01melse\u001b[39;00m:\n\u001b[1;32m     71\u001b[0m         layout \u001b[38;5;241m=\u001b[39m ak\u001b[38;5;241m.\u001b[39mto_layout(\n\u001b[1;32m     72\u001b[0m             arg,\n\u001b[1;32m     73\u001b[0m             allow_record\u001b[38;5;241m=\u001b[39m\u001b[38;5;28;01mFalse\u001b[39;00m,\n\u001b[0;32m   (...)\u001b[0m\n\u001b[1;32m     76\u001b[0m             string_policy\u001b[38;5;241m=\u001b[39m\u001b[38;5;124m\"\u001b[39m\u001b[38;5;124merror\u001b[39m\u001b[38;5;124m\"\u001b[39m,\n\u001b[1;32m     77\u001b[0m         )\n\u001b[0;32m---> 78\u001b[0m         \u001b[38;5;28;01mreturn\u001b[39;00m \u001b[43mlayout\u001b[49m\u001b[38;5;241;43m.\u001b[39;49m\u001b[43mto_backend\u001b[49m\u001b[43m(\u001b[49m\u001b[43mbackend\u001b[49m\u001b[43m)\u001b[49m\u001b[38;5;241;43m.\u001b[39;49m\u001b[43mto_backend_array\u001b[49m\u001b[43m(\u001b[49m\u001b[43mallow_missing\u001b[49m\u001b[38;5;241;43m=\u001b[39;49m\u001b[38;5;28;43;01mTrue\u001b[39;49;00m\u001b[43m)\u001b[49m\n\u001b[1;32m     79\u001b[0m \u001b[38;5;28;01melif\u001b[39;00m \u001b[38;5;28misinstance\u001b[39m(arg, \u001b[38;5;28mtuple\u001b[39m):\n\u001b[1;32m     80\u001b[0m     \u001b[38;5;28;01mreturn\u001b[39;00m \u001b[38;5;28mtuple\u001b[39m(_to_rectilinear(x, backend) \u001b[38;5;28;01mfor\u001b[39;00m x \u001b[38;5;129;01min\u001b[39;00m arg)\n",
            "File \u001b[0;32m~/Desktop/trabajo nuvT/nuvT_venv/lib/python3.12/site-packages/awkward/contents/content.py:1020\u001b[0m, in \u001b[0;36mContent.to_backend_array\u001b[0;34m(self, allow_missing, backend)\u001b[0m\n\u001b[1;32m   1018\u001b[0m \u001b[38;5;28;01melse\u001b[39;00m:\n\u001b[1;32m   1019\u001b[0m     backend \u001b[38;5;241m=\u001b[39m regularize_backend(backend)\n\u001b[0;32m-> 1020\u001b[0m \u001b[38;5;28;01mreturn\u001b[39;00m \u001b[38;5;28;43mself\u001b[39;49m\u001b[38;5;241;43m.\u001b[39;49m\u001b[43m_to_backend_array\u001b[49m\u001b[43m(\u001b[49m\u001b[43mallow_missing\u001b[49m\u001b[43m,\u001b[49m\u001b[43m \u001b[49m\u001b[43mbackend\u001b[49m\u001b[43m)\u001b[49m\n",
            "File \u001b[0;32m~/Desktop/trabajo nuvT/nuvT_venv/lib/python3.12/site-packages/awkward/contents/listoffsetarray.py:2072\u001b[0m, in \u001b[0;36mListOffsetArray._to_backend_array\u001b[0;34m(self, allow_missing, backend)\u001b[0m\n\u001b[1;32m   2070\u001b[0m     \u001b[38;5;28;01mreturn\u001b[39;00m buffer\u001b[38;5;241m.\u001b[39mview(np\u001b[38;5;241m.\u001b[39mdtype((\u001b[38;5;124m\"\u001b[39m\u001b[38;5;124mS\u001b[39m\u001b[38;5;124m\"\u001b[39m, max_count)))\n\u001b[1;32m   2071\u001b[0m \u001b[38;5;28;01melse\u001b[39;00m:\n\u001b[0;32m-> 2072\u001b[0m     \u001b[38;5;28;01mreturn\u001b[39;00m \u001b[38;5;28;43mself\u001b[39;49m\u001b[38;5;241;43m.\u001b[39;49m\u001b[43mto_RegularArray\u001b[49m\u001b[43m(\u001b[49m\u001b[43m)\u001b[49m\u001b[38;5;241m.\u001b[39m_to_backend_array(allow_missing, backend)\n",
            "File \u001b[0;32m~/Desktop/trabajo nuvT/nuvT_venv/lib/python3.12/site-packages/awkward/contents/listoffsetarray.py:283\u001b[0m, in \u001b[0;36mListOffsetArray.to_RegularArray\u001b[0;34m(self)\u001b[0m\n\u001b[1;32m    278\u001b[0m _size \u001b[38;5;241m=\u001b[39m Index64\u001b[38;5;241m.\u001b[39mempty(\u001b[38;5;241m1\u001b[39m, \u001b[38;5;28mself\u001b[39m\u001b[38;5;241m.\u001b[39m_backend\u001b[38;5;241m.\u001b[39mindex_nplike)\n\u001b[1;32m    279\u001b[0m \u001b[38;5;28;01massert\u001b[39;00m (\n\u001b[1;32m    280\u001b[0m     _size\u001b[38;5;241m.\u001b[39mnplike \u001b[38;5;129;01mis\u001b[39;00m \u001b[38;5;28mself\u001b[39m\u001b[38;5;241m.\u001b[39m_backend\u001b[38;5;241m.\u001b[39mindex_nplike\n\u001b[1;32m    281\u001b[0m     \u001b[38;5;129;01mand\u001b[39;00m \u001b[38;5;28mself\u001b[39m\u001b[38;5;241m.\u001b[39m_offsets\u001b[38;5;241m.\u001b[39mnplike \u001b[38;5;129;01mis\u001b[39;00m \u001b[38;5;28mself\u001b[39m\u001b[38;5;241m.\u001b[39m_backend\u001b[38;5;241m.\u001b[39mindex_nplike\n\u001b[1;32m    282\u001b[0m )\n\u001b[0;32m--> 283\u001b[0m \u001b[38;5;28;43mself\u001b[39;49m\u001b[38;5;241;43m.\u001b[39;49m\u001b[43m_backend\u001b[49m\u001b[38;5;241;43m.\u001b[39;49m\u001b[43mmaybe_kernel_error\u001b[49m\u001b[43m(\u001b[49m\n\u001b[1;32m    284\u001b[0m \u001b[43m    \u001b[49m\u001b[38;5;28;43mself\u001b[39;49m\u001b[38;5;241;43m.\u001b[39;49m\u001b[43m_backend\u001b[49m\u001b[43m[\u001b[49m\n\u001b[1;32m    285\u001b[0m \u001b[43m        \u001b[49m\u001b[38;5;124;43m\"\u001b[39;49m\u001b[38;5;124;43mawkward_ListOffsetArray_toRegularArray\u001b[39;49m\u001b[38;5;124;43m\"\u001b[39;49m\u001b[43m,\u001b[49m\n\u001b[1;32m    286\u001b[0m \u001b[43m        \u001b[49m\u001b[43m_size\u001b[49m\u001b[38;5;241;43m.\u001b[39;49m\u001b[43mdtype\u001b[49m\u001b[38;5;241;43m.\u001b[39;49m\u001b[43mtype\u001b[49m\u001b[43m,\u001b[49m\n\u001b[1;32m    287\u001b[0m \u001b[43m        \u001b[49m\u001b[38;5;28;43mself\u001b[39;49m\u001b[38;5;241;43m.\u001b[39;49m\u001b[43m_offsets\u001b[49m\u001b[38;5;241;43m.\u001b[39;49m\u001b[43mdtype\u001b[49m\u001b[38;5;241;43m.\u001b[39;49m\u001b[43mtype\u001b[49m\u001b[43m,\u001b[49m\n\u001b[1;32m    288\u001b[0m \u001b[43m    \u001b[49m\u001b[43m]\u001b[49m\u001b[43m(\u001b[49m\n\u001b[1;32m    289\u001b[0m \u001b[43m        \u001b[49m\u001b[43m_size\u001b[49m\u001b[38;5;241;43m.\u001b[39;49m\u001b[43mdata\u001b[49m\u001b[43m,\u001b[49m\n\u001b[1;32m    290\u001b[0m \u001b[43m        \u001b[49m\u001b[38;5;28;43mself\u001b[39;49m\u001b[38;5;241;43m.\u001b[39;49m\u001b[43m_offsets\u001b[49m\u001b[38;5;241;43m.\u001b[39;49m\u001b[43mdata\u001b[49m\u001b[43m,\u001b[49m\n\u001b[1;32m    291\u001b[0m \u001b[43m        \u001b[49m\u001b[38;5;28;43mself\u001b[39;49m\u001b[38;5;241;43m.\u001b[39;49m\u001b[43m_offsets\u001b[49m\u001b[38;5;241;43m.\u001b[39;49m\u001b[43mlength\u001b[49m\u001b[43m,\u001b[49m\n\u001b[1;32m    292\u001b[0m \u001b[43m    \u001b[49m\u001b[43m)\u001b[49m\n\u001b[1;32m    293\u001b[0m \u001b[43m\u001b[49m\u001b[43m)\u001b[49m\n\u001b[1;32m    294\u001b[0m size \u001b[38;5;241m=\u001b[39m \u001b[38;5;28mself\u001b[39m\u001b[38;5;241m.\u001b[39m_backend\u001b[38;5;241m.\u001b[39mindex_nplike\u001b[38;5;241m.\u001b[39mindex_as_shape_item(_size[\u001b[38;5;241m0\u001b[39m])\n\u001b[1;32m    295\u001b[0m length \u001b[38;5;241m=\u001b[39m \u001b[38;5;28mself\u001b[39m\u001b[38;5;241m.\u001b[39m_offsets\u001b[38;5;241m.\u001b[39mlength \u001b[38;5;241m-\u001b[39m \u001b[38;5;241m1\u001b[39m\n",
            "File \u001b[0;32m~/Desktop/trabajo nuvT/nuvT_venv/lib/python3.12/site-packages/awkward/_backends/backend.py:67\u001b[0m, in \u001b[0;36mBackend.maybe_kernel_error\u001b[0;34m(self, error)\u001b[0m\n\u001b[1;32m     65\u001b[0m     \u001b[38;5;28;01mreturn\u001b[39;00m\n\u001b[1;32m     66\u001b[0m \u001b[38;5;28;01melse\u001b[39;00m:\n\u001b[0;32m---> 67\u001b[0m     \u001b[38;5;28;01mraise\u001b[39;00m \u001b[38;5;167;01mValueError\u001b[39;00m(\u001b[38;5;28mself\u001b[39m\u001b[38;5;241m.\u001b[39mformat_kernel_error(error))\n",
            "\u001b[0;31mValueError\u001b[0m: cannot convert to RegularArray because subarray lengths are not regular (in compiled code: https://github.com/scikit-hep/awkward/blob/awkward-cpp-37/awkward-cpp/src/cpu-kernels/awkward_ListOffsetArray_toRegularArray.cpp#L22)"
          ]
        }
      ],
      "source": [
        "assert np.shape(image)[0] == np.shape(hit_nuvT)[0]"
      ]
    },
    {
      "cell_type": "markdown",
      "metadata": {
        "id": "-Z2X1l0JNNHe"
      },
      "source": [
        "Separamos el 60% de los datos para formar el conjunto de prueba"
      ]
    },
    {
      "cell_type": "code",
      "execution_count": null,
      "metadata": {
        "colab": {
          "base_uri": "https://localhost:8080/"
        },
        "id": "Kd70Lr-mNNzs",
        "outputId": "7ae8988d-8849-4e75-8075-cc1c18cc1fa0"
      },
      "outputs": [],
      "source": [
        "test_size = int(np.floor(0.60*np.shape(Hit_nuvT)[0]) )\n",
        "print(test_size)"
      ]
    },
    {
      "cell_type": "code",
      "execution_count": null,
      "metadata": {
        "colab": {
          "base_uri": "https://localhost:8080/"
        },
        "id": "sk2iXG2CNSVl",
        "outputId": "ceddf187-4c32-4bf8-f21d-74847f54d900"
      },
      "outputs": [],
      "source": [
        "train_nuvTxarap, test_nuvTxarap = image[:-test_size], image[-test_size:]\n",
        "\n",
        "train_nuvT, test_nuvT = Hit_nuvT[:-test_size], Hit_nuvT[-test_size:]\n",
        "\n",
        "print(train_nuvTxarap.shape,test_nuvTxarap.shape)\n",
        "print(len(train_nuvT),len(test_nuvT))\n"
      ]
    },
    {
      "cell_type": "code",
      "execution_count": null,
      "metadata": {
        "id": "WT0lWfsFNWSI"
      },
      "outputs": [],
      "source": [
        "input = layers.Input(shape=(train_nuvTxarap.shape[1], train_nuvTxarap.shape[2], train_nuvTxarap.shape[3]))\n",
        "\n",
        "model = layers.BatchNormalization()(input)\n",
        "\n",
        "model = layers.Conv2D(128, (3, 3), padding='same')(model)\n",
        "model = layers.LeakyReLU(alpha=0.1)(model)\n",
        "model = layers.MaxPooling2D((2, 2),padding='same')(model)\n",
        "model = layers.Dropout(0.3)(model)\n",
        "\n",
        "model = layers.Conv2D(256, (3, 3), padding='same')(model)\n",
        "model = layers.LeakyReLU(alpha=0.1)(model)\n",
        "model = layers.MaxPooling2D(pool_size=(2, 2),padding='same')(model)\n",
        "model = layers.Dropout(0.3)(model)\n",
        "\n",
        "model = layers.Conv2D(512, (3, 3), padding='same')(model)\n",
        "model = layers.LeakyReLU(alpha=0.1)(model)\n",
        "model = layers.MaxPooling2D(pool_size=(2, 2),padding='same')(model)\n",
        "model = layers.Dropout(0.4)(model)\n",
        "\n",
        "model = layers.Flatten()(model)\n",
        "\n",
        "model = layers.Dense(2048, activation='relu')(model)\n",
        "model = layers.Dropout(0.2)(model)\n",
        "\n",
        "model = layers.Dense(512, activation='relu')(model)\n",
        "model = layers.Dense(128, activation='relu')(model)\n",
        "\n",
        "output = layers.Dense(1, activation='linear')(model)"
      ]
    },
    {
      "cell_type": "markdown",
      "metadata": {
        "id": "ML8wQB_sNcHd"
      },
      "source": [
        "# Entrenando el modelo en la coordenada t"
      ]
    },
    {
      "cell_type": "markdown",
      "metadata": {
        "id": "PW0Y7Y44NfBl"
      },
      "source": [
        "Se compila el modelo, incluyendo la elección del optimizador y del error que se minimizará durante el entrenamiento."
      ]
    },
    {
      "cell_type": "code",
      "execution_count": null,
      "metadata": {
        "id": "zf_QYBxsNlKK"
      },
      "outputs": [],
      "source": [
        "# Creamos los modelos:\n",
        "model_nuvT = Model(input, output)"
      ]
    },
    {
      "cell_type": "code",
      "execution_count": null,
      "metadata": {
        "colab": {
          "base_uri": "https://localhost:8080/"
        },
        "collapsed": true,
        "id": "OfE9wmgmNnty",
        "outputId": "c374f93a-ef17-4813-d929-2318876e499a"
      },
      "outputs": [],
      "source": [
        "model_nuvT.summary()\n",
        "model_nuvT.compile(loss='mse', optimizer='adam', metrics='mse')"
      ]
    },
    {
      "cell_type": "code",
      "execution_count": null,
      "metadata": {
        "colab": {
          "base_uri": "https://localhost:8080/"
        },
        "collapsed": true,
        "id": "7RqTSCjQNsna",
        "outputId": "69eaeb57-e144-4046-930f-d6fa437d765a"
      },
      "outputs": [],
      "source": [
        "best_weights_file = \"/tmp/weights_nuvT.hdf5\"\n",
        "checkpoint = ModelCheckpoint(best_weights_file, monitor='mse', verbose=0, save_best_only=True, mode='min')\n",
        "\n",
        "# probar a modificar el batch_size (hacerlo más grande)\n",
        "callbacks = [checkpoint]\n",
        "history_t = model_nuvT.fit(train_nuvTxarap, train_nuvT,\n",
        "                        epochs=30, batch_size=32, callbacks=callbacks,\n",
        "                        validation_data=(test_nuvTxarap, test_nuvT),\n",
        "                        verbose=2)"
      ]
    },
    {
      "cell_type": "code",
      "execution_count": null,
      "metadata": {
        "colab": {
          "base_uri": "https://localhost:8080/"
        },
        "id": "pUXCdwPUNzpi",
        "outputId": "7d0596d4-d99a-4864-f610-b39b657ef793"
      },
      "outputs": [],
      "source": [
        "best_weights_file = \"/tmp/weights_nuvT.hdf5\"\n",
        "model_nuvT.load_weights(best_weights_file)\n",
        "nuvT_pred = model_nuvT.predict(test_nuvTxarap)"
      ]
    },
    {
      "cell_type": "markdown",
      "metadata": {
        "id": "K2OTDnpfN88F"
      },
      "source": [
        "# Visualización de resultados"
      ]
    },
    {
      "cell_type": "markdown",
      "metadata": {
        "id": "7P0vOulbN_dx"
      },
      "source": [
        "Se calcula el error cuadrático medio del pronóstico."
      ]
    },
    {
      "cell_type": "code",
      "execution_count": null,
      "metadata": {
        "colab": {
          "base_uri": "https://localhost:8080/"
        },
        "id": "s_dr6DJnOBkT",
        "outputId": "ce1bfc87-a07b-4168-d65c-2d18245098e4"
      },
      "outputs": [],
      "source": [
        "testScoreECM_nuvT = mean_squared_error(test_nuvT, nuvT_pred)\n",
        "print('RECM_nuvT: %.4f' % np.sqrt((testScoreECM_nuvT)))"
      ]
    },
    {
      "cell_type": "markdown",
      "metadata": {
        "id": "5AbmgjQuOEVq"
      },
      "source": [
        "En la siguiente gráfica se visualiza la evolución del error para el conjunto de entrenamiento y test en función de las épocas."
      ]
    },
    {
      "cell_type": "code",
      "execution_count": null,
      "metadata": {
        "colab": {
          "base_uri": "https://localhost:8080/",
          "height": 719
        },
        "id": "OBEGJ3roOFAa",
        "outputId": "eaed4436-8a2d-4e48-c296-9f7f9c6957d0"
      },
      "outputs": [],
      "source": [
        "plt.figure(1, figsize=(8,8))\n",
        "plt.plot(history_t.history['mse'])\n",
        "plt.plot(history_t.history['val_mse'])\n",
        "\n",
        "plt.yscale(\"log\")\n",
        "plt.title('Error del Modelo nuvT')\n",
        "plt.ylabel('loss')\n",
        "plt.xlabel('épocas')\n",
        "plt.grid()\n",
        "plt.legend(['train', 'test'], loc='upper center')\n",
        "plt.show()"
      ]
    },
    {
      "cell_type": "markdown",
      "metadata": {
        "id": "ALOhqTZUOcqu"
      },
      "source": [
        "Es importante verificar hasta donde sea posible la distribución de errores. En la siguiente gráfica se muestra el pronóstico contra los datos reales."
      ]
    },
    {
      "cell_type": "code",
      "execution_count": null,
      "metadata": {
        "colab": {
          "base_uri": "https://localhost:8080/",
          "height": 906
        },
        "id": "XRQW3_CfOady",
        "outputId": "42175caf-e8b8-4b91-f13e-a264f2fd49ba"
      },
      "outputs": [],
      "source": [
        "fig, axs = plt.subplots(1,2,figsize=(16,9))\n",
        "\n",
        "axs[0].scatter(test_nuvT, nuvT_pred, color=\"black\",s=5)\n",
        "axs[0].grid()\n",
        "\n",
        "axs[0].plot([0,1500],[0,1500],color=\"r\")\n",
        "axs[0].title.set_text('nuvT')\n",
        "axs[0].set_xlim([0,1500])\n",
        "axs[0].set_ylim([0,1500])\n",
        "axs[0].set_ylabel('Pronóstico [ns]')\n",
        "axs[0].set_xlabel('Real [ns]')\n",
        "\n",
        "\n",
        "im1 = axs[1].hist2d(test_nuvT, nuvT_pred.flatten(), bins=(100, 300), cmap='viridis',cmax=30)\n",
        "fig.colorbar(im1[3], ax=axs[1])\n",
        "axs[1].grid()\n",
        "\n",
        "axs[1].plot([0,1500],[0,1500],color=\"r\")\n",
        "axs[1].set_xlim([0,1500])\n",
        "axs[1].set_ylim([0,1500])\n",
        "axs[1].set_ylabel('Pronóstico [ns]')\n",
        "axs[1].set_xlabel('Real [ns]')\n",
        "axs[1].set_facecolor('#440154')\n",
        "\n",
        "fig.tight_layout()\n",
        "\n",
        "# plt.savefig('/tmp/CNNx2+4T+N_Recta_I.png', dpi=300)"
      ]
    },
    {
      "cell_type": "markdown",
      "metadata": {
        "id": "KqPtMt1aOuRr"
      },
      "source": [
        "Finalmente se realizan ajustes gaussianos al error entre pronóstico y datos reales para comprobar la calidad de los resultados."
      ]
    },
    {
      "cell_type": "code",
      "execution_count": null,
      "metadata": {
        "colab": {
          "base_uri": "https://localhost:8080/",
          "height": 678
        },
        "id": "o5AxbEK2Outl",
        "outputId": "d608bab8-7b5e-4dda-90f0-5c9ad9b82bdd"
      },
      "outputs": [],
      "source": [
        "# Ajuste gaussiano de las diferencias entre el pronóstico y el valor real\n",
        "\n",
        "from scipy.optimize import curve_fit\n",
        "\n",
        "# Define the Gaussian function\n",
        "def func(x, a, x0, sigma):\n",
        "    return a*np.exp(-(x-x0)**2/(2*sigma**2))\n",
        "\n",
        "# Variables de los histogramas\n",
        "diff_nuvT = nuvT_pred.flatten()-test_nuvT\n",
        "\n",
        "fig, axs = plt.subplots(figsize=(10,6))\n",
        "\n",
        "# Valores de X\n",
        "axs.title.set_text('nuvT')\n",
        "counts_nuvT, bins_nuvT, patches_nuvT = axs.hist(diff_nuvT,120, range=[-400,400], label='Datos')\n",
        "\n",
        "step_nuvT = (bins_nuvT[1]-bins_nuvT[0])/2\n",
        "bin_centers_nuvT = bins_nuvT[:-1]+step_nuvT\n",
        "\n",
        "ini_nuvT = 0\n",
        "fin_nuvT = 119\n",
        "axs.axvline(x = bin_centers_nuvT[ini_nuvT], color = 'k', label='Bordes del ajuste')\n",
        "axs.axvline(x = bin_centers_nuvT[fin_nuvT], color = 'k')\n",
        "\n",
        "popt_nuvT, pcov_nuvT = curve_fit(func, bin_centers_nuvT[ini_nuvT:fin_nuvT+1], counts_nuvT[ini_nuvT:fin_nuvT+1])\n",
        "\n",
        "\n",
        "ym_nuvT = func(np.linspace(bin_centers_nuvT[ini_nuvT], bin_centers_nuvT[fin_nuvT],100), popt_nuvT[0], popt_nuvT[1], popt_nuvT[2])\n",
        "axs.plot(np.linspace(bin_centers_nuvT[ini_nuvT], bin_centers_nuvT[fin_nuvT],100), ym_nuvT, c='r', label='Ajuste')\n",
        "axs.set_xlabel('Bias [ns]')\n",
        "axs.legend(prop = { \"size\": 7 })\n",
        "\n",
        "fig.supylabel('Conteo')\n",
        "fig.tight_layout()\n",
        "\n",
        "# plt.savefig('/tmp/CNNx2+4T+N_Distrib_I.png', dpi=300)\n",
        "\n",
        "print('------------------')\n",
        "print('Media nuvT =',popt_nuvT[1])\n",
        "print('Sigma nuvT =',popt_nuvT[2])\n",
        "print('------------------')\n"
      ]
    },
    {
      "cell_type": "code",
      "execution_count": null,
      "metadata": {
        "colab": {
          "base_uri": "https://localhost:8080/"
        },
        "id": "UDrQSbjuCg7w",
        "outputId": "c7cb838f-6b17-4d07-d600-a9e2ce54bb1c"
      },
      "outputs": [],
      "source": [
        "print('Gauss nuvT')\n",
        "print(np.std(diff_nuvT))\n",
        "print(np.mean(diff_nuvT))"
      ]
    },
    {
      "cell_type": "markdown",
      "metadata": {},
      "source": [
        "## Variables in OpAnaTree"
      ]
    },
    {
      "cell_type": "markdown",
      "metadata": {},
      "source": [
        "### Event and Identification Variables:\n",
        "- **`eventID`**: The unique identifier for a particular event (interaction or triggered readout) in the detector.\n",
        "- **`runID`**: Identifier for the run during which the event was recorded. A run is a specific period during which the detector collects data.\n",
        "- **`subrunID`**: A further subdivision of a run, useful for managing large data sets or specific calibration periods within a run.\n",
        "\n",
        "### Neutrino Interaction Variables:\n",
        "- **`nuvX`, `nuvY`, `nuvZ`, `nuvT`**: The position (`X`, `Y`, `Z`) and time (`T`) of the neutrino interaction vertex. This is where the neutrino is believed to have interacted with the argon nucleus.\n",
        "- **`nuvE`**: The energy of the incoming neutrino at the interaction vertex.\n",
        "\n",
        "### Particle Track and Energy Deposition Variables:\n",
        "- **`stepX`, `stepY`, `stepZ`, `stepT`**: The position and time for each step of a particle’s track through the detector, likely as it deposits energy in the LArTPC.\n",
        "- **`dE`**: The energy deposited in a single step, potentially along a track in the detector.\n",
        "- **`energydep`, `energydepX`, `energydepY`, `energydepZ`**: The total energy deposited and the components of energy deposition in the `X`, `Y`, and `Z` directions.\n",
        "- **`E`**: The total energy of a particle, possibly after summing up all energy depositions or the total energy of a particle at a specific point.\n",
        "\n",
        "### Momentum Variables:\n",
        "- **`StartPx`, `StartPy`, `StartPz`**: The momentum components of a particle at the start of its trajectory in the detector.\n",
        "- **`EndPx`, `EndPy`, `EndPz`**: The momentum components of a particle at the end of its trajectory.\n",
        "\n",
        "### Process and Particle Identification:\n",
        "- **`process`**: Describes the type of interaction or physical process (e.g., ionization, scattering) that occurred at a specific step.\n",
        "- **`trackID`**: A unique identifier for a particle’s track within the event.\n",
        "- **`motherID`**: The track ID of the particle that produced this particle, useful for understanding decay chains or secondary interactions.\n",
        "- **`PDGcode`**: The Particle Data Group (PDG) code identifying the particle type (e.g., electron, muon, proton).\n",
        "\n",
        "### Cosmics and Energy Deposition in TPC:\n",
        "- **`InTimeCosmics`**: A flag or indicator of whether the event or particle track is associated with a cosmic ray background that coincides with the neutrino interaction timing.\n",
        "- **`InTimeCosmicsTime`**: The time associated with the detected cosmic event.\n",
        "- **`dEtpc`, `dEpromx`, `dEpromy`, `dEpromz`**: Energy deposition variables, potentially indicating how much energy was deposited in the TPC (Time Projection Chamber) or in specific regions within the detector, with `prom` possibly referring to a specific region or characteristic.\n",
        "- **`dEspreadx`, `dEspready`, `dEspreadz`**: Likely related to the spread of energy deposition in the `X`, `Y`, and `Z` directions, indicating how widely the energy is dispersed.\n",
        "\n",
        "### Photon and Optical Detection Variables:\n",
        "- **`SimPhotonsperOpChVUV`, `SimPhotonsperOpChVIS`**: The number of simulated photons detected per optical channel in the vacuum ultraviolet (VUV) and visible (VIS) spectra, respectively.\n",
        "- **`NPhotons`**: The total number of photons generated or detected.\n",
        "- **`NPhotonsPMTCo`, `NPhotonsPMTUnco`**: The number of photons detected by PMTs (Photomultiplier Tubes), potentially differentiated by whether they are coincident (Co) or uncoincident (Unco) with other signals.\n",
        "- **`SimPhotonsLiteVUV`, `SimPhotonsLiteVIS`**: A more lightweight or simplified representation of the simulated photons in the VUV and VIS spectra.\n",
        "- **`NPhotonsXARAPUCAVUV`, `NPhotonsXARAPUCAVIS`**: The number of photons detected by the XARAPUCA (a type of optical detector) in the VUV and VIS spectra.\n",
        "\n",
        "### Optical Hit and Flash Variables:\n",
        "- **`nophits`**: The number of optical hits detected in the event.\n",
        "- **`ophit_opch`**: The optical channel where a particular optical hit was recorded.\n",
        "- **`ophit_peakT`, `ophit_startT`, `ophit_riseT`**: Timing information for an optical hit, including the time of the peak signal, start time, and rise time.\n",
        "- **`ophit_width`**: The width of the optical hit signal.\n",
        "- **`ophit_area`**: The integrated area under the optical hit signal, related to the total detected light.\n",
        "- **`ophit_amplitude`**: The peak amplitude of the optical hit signal.\n",
        "- **`ophit_pe`**: The number of photoelectrons detected in an optical hit, often used as a measure of the light yield.\n",
        "\n",
        "### Flash Variables (Clusters of Optical Hits):\n",
        "- **`nopflash`**: The number of optical flashes detected in the event.\n",
        "- **`flash_id`**: An identifier for each flash.\n",
        "- **`flash_time`**: The time associated with the flash.\n",
        "- **`flash_total_pe`**: The total number of photoelectrons detected in the flash.\n",
        "- **`flash_pe_v`**: The distribution of photoelectrons across different channels for the flash.\n",
        "- **`flash_tpc`**: The TPC associated with the flash, in detectors with multiple TPCs.\n",
        "- **`flash_y`, `flash_yerr`**: The `Y` position of the flash and its associated uncertainty.\n",
        "- **`flash_z`, `flash_zerr`**: The `Z` position of the flash and its associated uncertainty.\n",
        "- **`flash_x`, `flash_xerr`**: The `X` position of the flash and its associated uncertainty.\n",
        "- **`flash_ophit_time`, `flash_ophit_risetime`, `flash_ophit_starttime`**: Timing information related to the optical hits within a flash.\n",
        "- **`flash_ophit_amp`, `flash_ophit_area`, `flash_ophit_width`, `flash_ophit_pe`**: Similar to the `ophit_*` variables, these describe the amplitude, area, width, and number of photoelectrons for the hits associated with the flash.\n",
        "- **`flash_ophit_ch`**: The optical channels involved in the flash."
      ]
    },
    {
      "cell_type": "markdown",
      "metadata": {},
      "source": [
        "# Adicional"
      ]
    },
    {
      "cell_type": "markdown",
      "metadata": {},
      "source": [
        "Lengths of individual sub-arrays"
      ]
    },
    {
      "cell_type": "markdown",
      "metadata": {},
      "source": [
        "lengths = ak.num(fotoelectrones, axis=0)  # axis=1 gives lengths of sub-arrays\n",
        "lengths2 = ak.num(fotoelectrones, axis=1)\n",
        "print(\"Lengths of individual sub-arrays:\", lengths)\n",
        "print(\"Lengths of individual sub-arrays:\", lengths2)"
      ]
    },
    {
      "cell_type": "markdown",
      "metadata": {},
      "source": [
        "Código para generar vis_map y vuv_map"
      ]
    },
    {
      "cell_type": "markdown",
      "metadata": {},
      "source": [
        "vis_map = np.zeros((9,44),dtype=int)\n",
        "for i in range(9):\n",
        "    for j in range(44):\n",
        "        if coated_pmt_map[i,j] == -2 and xarap_vis_map[i,j] == -2 and uncoated_pmt_map[i,j] == -2:\n",
        "            vis_map[i,j] = -2\n",
        "        else: vis_map[i,j] = coated_pmt_map[i,j] + xarap_vis_map[i,j] + uncoated_pmt_map[i,j] + 4\n",
        "\n",
        "\n",
        "result = np.array2string(vis_map, separator=',', formatter={'all': lambda x: str(x)})\n",
        "\n",
        "\n",
        "result = result.replace('\\n', '').replace(' ', '')\n",
        "\n",
        "\n",
        "print(result)            \n",
        "\n",
        "\n",
        "\n",
        "\n",
        "\n",
        "\n",
        "\n",
        "\n",
        "\n",
        "\n",
        "\n"
      ]
    },
    {
      "cell_type": "markdown",
      "metadata": {},
      "source": [
        "Necesario para los plots 2D y 3D del mapa de detectores"
      ]
    },
    {
      "cell_type": "code",
      "execution_count": null,
      "metadata": {},
      "outputs": [],
      "source": [
        "PDSMap = file['opanatree']['PDSMapTree']\n",
        "ID = PDSMap['OpDetID'].array()\n",
        "X = PDSMap['OpDetX'].array()\n",
        "Y = PDSMap['OpDetY'].array()\n",
        "Z = PDSMap['OpDetZ'].array()\n",
        "Type = PDSMap['OpDetType'].array()\n",
        "\n",
        "data_dict = {id_val: (x_val, y_val, z_val,type_val) for id_val, x_val, y_val, z_val, type_val in zip(ID[0], X[0], Y[0], Z[0],Type[0])}\n",
        "\n",
        "even_data_dict = {id_val: data for id_val, data in data_dict.items() if id_val % 2 == 0}\n",
        "odd_data_dict = {id_val: data for id_val, data in data_dict.items() if id_val % 2 != 0}"
      ]
    },
    {
      "cell_type": "markdown",
      "metadata": {},
      "source": [
        "Mapa 2D detectores"
      ]
    },
    {
      "cell_type": "code",
      "execution_count": null,
      "metadata": {},
      "outputs": [],
      "source": [
        "import plotly.graph_objs as go\n",
        "from plotly.subplots import make_subplots\n",
        "\n",
        "\n",
        "# Extract coordinates, color values, and IDs for even and odd 2D plots\n",
        "hor_even = [coord[2] for coord in even_data_dict.values()]\n",
        "ver_even = [coord[1] for coord in even_data_dict.values()]\n",
        "color_even = [coord[3] for coord in even_data_dict.values()]\n",
        "ids_even = [key for key in even_data_dict.keys()]\n",
        "\n",
        "hor_odd = [coord[2] for coord in odd_data_dict.values()]\n",
        "ver_odd = [coord[1] for coord in odd_data_dict.values()]\n",
        "color_odd = [coord[3] for coord in odd_data_dict.values()]\n",
        "ids_odd = [key for key in odd_data_dict.keys()]\n",
        "# Define a custom color map with distinct colors\n",
        "distinct_colors = ['rgb(255,0,0)', 'rgb(0,255,0)', 'rgb(0,0,255)', 'rgb(255,0,255)']\n",
        "color_map = {i: distinct_colors[i % len(distinct_colors)] for i in range(len(set(color_even)))}\n",
        "colored_text_odd = [f'<span style=\"color: {color_map.get(col, \"black\")}\">{id_}</span>' for id_, col in zip(ids_odd, color_odd)]\n",
        "colored_text_even = [f'<span style=\"color: {color_map.get(col, \"black\")}\">{id_}</span>' for id_, col in zip(ids_even, color_even)]\n",
        "\n",
        "# Create subplot grid\n",
        "fig = make_subplots(rows=2, cols=1,subplot_titles=('Even IDs', 'Odd IDs'), vertical_spacing=0.15)\n",
        "\n",
        "# Add 2D scatter plot for even IDs\n",
        "fig.add_trace(go.Scatter(\n",
        "    x=hor_even,\n",
        "    y=ver_even,\n",
        "    mode='text',  # Use both markers and text\n",
        "    text=colored_text_even,  # Display colored IDs as text labels\n",
        "    textposition='top center',  # Position text labels\n",
        "    marker=dict(\n",
        "        size=10,  # Marker size\n",
        "        color=color_even,  # Set color based on the fourth dimension\n",
        "        colorscale='Jet',  # Define color scale\n",
        "        colorbar=dict(title='Color Scale')  # Add colorbar to show color scale\n",
        "    ),\n",
        "    hoverinfo='text',  # Show text on hover\n",
        "), row=1, col=1)\n",
        "\n",
        "# Add 2D scatter plot for odd IDs\n",
        "fig.add_trace(go.Scatter(\n",
        "    x=hor_odd,\n",
        "    y=ver_odd,\n",
        "    mode='text',  # Use both markers and text\n",
        "    text=colored_text_odd,  # Display colored IDs as text labels\n",
        "    textposition='top center',  # Position text labels\n",
        "    marker=dict(\n",
        "        size=10,  # Marker size\n",
        "        color=color_odd,  # Set color based on the fourth dimension\n",
        "        colorscale='Jet',  # Define color scale\n",
        "        colorbar=dict(title='Color Scale')  # Add colorbar to show color scale\n",
        "    ),\n",
        "    hoverinfo='text',  # Show text on hover\n",
        "), row=2, col=1)\n",
        "\n",
        "legend_labels = ['0: CoatedPMT (VIS and VUV)', '1: UncoatedPMT (only VIS)', '2: VUV XARAPUCA', '3: VIS XARAPUCA']\n",
        "for i, label in enumerate(legend_labels):\n",
        "    fig.add_trace(go.Scatter(\n",
        "        x=[None],\n",
        "        y=[None],\n",
        "        mode='markers',\n",
        "        marker=dict(\n",
        "            size=10,\n",
        "            color=distinct_colors[i],  # Color for each label\n",
        "            showscale=False\n",
        "        ),\n",
        "        name=label\n",
        "    ))\n",
        "\n",
        "# Update layout\n",
        "fig.update_layout(\n",
        "    title='2D Detector Planes',\n",
        "    width=1200,  # Set figure width\n",
        "    height=800,  # Set figure height\n",
        "    xaxis=dict(\n",
        "        title='Z',\n",
        "    ),\n",
        "    yaxis=dict(\n",
        "        title='Y',\n",
        "    ),\n",
        "    xaxis2=dict(\n",
        "        title='Z',\n",
        "    ),\n",
        "    yaxis2=dict(\n",
        "        title='Y',\n",
        "    ),\n",
        "      margin=dict(l=10, r=10, t=50, b=10),\n",
        "    \n",
        ")\n",
        "\n",
        "# Show the plot\n",
        "fig.show()"
      ]
    },
    {
      "cell_type": "markdown",
      "metadata": {},
      "source": [
        "Mapa 3D detectores"
      ]
    },
    {
      "cell_type": "code",
      "execution_count": null,
      "metadata": {},
      "outputs": [],
      "source": [
        "import plotly.graph_objs as go\n",
        "import plotly.express as px\n",
        "\n",
        "# Your data dictionary\n",
        "data = data_dict\n",
        "\n",
        "# Extract coordinates\n",
        "x = [coord[0] for coord in data.values()]\n",
        "y = [coord[1] for coord in data.values()]\n",
        "z = [coord[2] for coord in data.values()]\n",
        "color = [coord[3] for coord in data.values()]\n",
        "ids = [key for key in data_dict.keys()]\n",
        "# Create a scatter plot\n",
        "fig = go.Figure(data=[go.Scatter3d(\n",
        "    x=x,\n",
        "    y=z,\n",
        "    z=y,\n",
        "    mode='markers',\n",
        "    marker=dict(\n",
        "        size=5,\n",
        "        color=color,  # Set color based on the fourth dimension\n",
        "        #colorscale=color_scale,  # Define color scale\n",
        "        colorbar=dict(title='Color Scale')  # Add colorbar to show color scale\n",
        "    ),\n",
        "    text=ids,  # Display point IDs on hover\n",
        "    #hoverinfo='text'  # Show only the text (IDs) on hover\n",
        ")])\n",
        "\n",
        "# Set labels\n",
        "fig.update_layout(scene=dict(\n",
        "    xaxis_title='X',\n",
        "    yaxis_title='Z',\n",
        "    zaxis_title='Y'\n",
        "))\n",
        "\n",
        "fig.show()\n"
      ]
    },
    {
      "cell_type": "markdown",
      "metadata": {},
      "source": [
        "Array of 400X500 to pixelize detector map"
      ]
    },
    {
      "cell_type": "code",
      "execution_count": null,
      "metadata": {},
      "outputs": [],
      "source": [
        "# Function to create an array from a dictionary with fixed size\n",
        "def create_map_array(data_dict, height, width):\n",
        "    # Initialize the array with zeros\n",
        "    map_array = np.full((height, width), -2, dtype=int)\n",
        "    \n",
        "    # Populate the array based on the data_dict\n",
        "    for id_val, (_, y, z, _) in data_dict.items():\n",
        "        # Apply the y offset to handle negative y coordinates\n",
        "        y_adjusted = y + (height // 2) \n",
        "         # Shift to handle negative values\n",
        "        z = int(z)  # Ensure z is an integer\n",
        "        y_adjusted = int(y_adjusted)  # Ensure y_adjusted is an integer\n",
        "        \n",
        "        # Place the id value into the array at the correct position\n",
        "        map_array[y_adjusted, z] = id_val\n",
        "    \n",
        "    return map_array\n",
        "\n",
        "# Function to filter data_dict based on det_type\n",
        "def filter_data_dict(data_dict, valid_types):\n",
        "    return {id_val: data for id_val, data in data_dict.items() if data[3] in valid_types}\n",
        "\n",
        "# Dimensions of the pixelized box (in cm)\n",
        "fixed_height = 400\n",
        "fixed_width = 500\n",
        "\n",
        "# VIS\n",
        "# Filter data_dict for valid det_types (0, 1, 3)\n",
        "valid_det_types = {0, 1, 3}\n",
        "filtered_even_data_dict_VIS = filter_data_dict(even_data_dict, valid_det_types)\n",
        "even_map_array_VIS = create_map_array(filtered_even_data_dict_VIS, fixed_height, fixed_width)\n",
        "vis_map = np.row_stack((even_map_array_VIS,even_map_array_VIS + 1))\n",
        "\n",
        "# VUV\n",
        "# Filter data_dict for valid det_types (0, 2)\n",
        "valid_det_types = {0, 2}\n",
        "filtered_even_data_dict_VUV = filter_data_dict(even_data_dict, valid_det_types)\n",
        "even_map_array_VUV = create_map_array(even_data_dict, fixed_height, fixed_width)\n",
        "vuv_map = np.row_stack((even_map_array_VUV,even_map_array_VUV + 1))\n",
        "\n",
        "print(vis_map.shape)\n",
        "\n",
        "np.savetxt('vis_map.txt', vis_map, fmt='%d', delimiter=',')\n",
        "np.savetxt('vuv_map.txt', vis_map, fmt='%d', delimiter=',')"
      ]
    },
    {
      "cell_type": "code",
      "execution_count": 7,
      "metadata": {},
      "outputs": [
        {
          "name": "stdout",
          "output_type": "stream",
          "text": [
            "(18, 44)\n"
          ]
        }
      ],
      "source": [
        "#representación matricial del plano de detectores. Cada PDS box está representada por una matriz 3X11\n",
        "coated_pmt_map = np.array(([-2,6,-2,-2,-2,-2,-2,-2,-2,60,-2,-2,84,-2,-2,-2,-2,-2,-2,-2,138,-2,-2,162,-2,-2,-2,-2,-2,-2,-2,216,-2,-2,240,-2,-2,-2,-2,-2,-2,-2,294,-2],\n",
        "                           [-2,-2,-2,-2,-2,-2,-2,-2,-2,-2,-2,-2,-2,-2,-2,-2,-2,-2,-2,-2,-2,-2,-2,-2,-2,-2,-2,-2,-2,-2,-2,-2,-2,-2,-2,-2,-2,-2,-2,-2,-2,-2,-2,-2],\n",
        "                           [-2,8,-2,-2,-2,-2,-2,-2,-2,62,-2,-2,86,-2,-2,-2,-2,-2,-2,-2,140,-2,-2,164,-2,-2,-2,-2,-2,-2,-2,218,-2,-2,242,-2,-2,-2,-2,-2,-2,-2,296,-2],\n",
        "                           [-2,10,-2,-2,-2,-2,-2,-2,-2,64,-2,-2,88,-2,-2,-2,-2,-2,-2,-2,142,-2,-2,166,-2,-2,-2,-2,-2,-2,-2,220,-2,-2,244,-2,-2,-2,-2,-2,-2,-2,298,-2],\n",
        "                           [-2,-2,-2,-2,-2,-2,-2,-2,-2,-2,-2,-2,-2,-2,-2,-2,-2,-2,-2,-2,-2,-2,-2,-2,-2,-2,-2,-2,-2,-2,-2,-2,-2,-2,-2,-2,-2,-2,-2,-2,-2,-2,-2,-2],\n",
        "                           [-2,12,-2,-2,-2,-2,-2,-2,-2,66,-2,-2,90,-2,-2,-2,-2,-2,-2,-2,144,-2,-2,168,-2,-2,-2,-2,-2,-2,-2,222,-2,-2,246,-2,-2,-2,-2,-2,-2,-2,300,-2],\n",
        "                           [-2,14,-2,-2,-2,-2,-2,-2,-2,68,-2,-2,92,-2,-2,-2,-2,-2,-2,-2,146,-2,-2,170,-2,-2,-2,-2,-2,-2,-2,224,-2,-2,248,-2,-2,-2,-2,-2,-2,-2,302,-2],\n",
        "                           [-2,-2,-2,-2,-2,-2,-2,-2,-2,-2,-2,-2,-2,-2,-2,-2,-2,-2,-2,-2,-2,-2,-2,-2,-2,-2,-2,-2,-2,-2,-2,-2,-2,-2,-2,-2,-2,-2,-2,-2,-2,-2,-2,-2],\n",
        "                           [-2,16,-2,-2,-2,-2,-2,-2,-2,70,-2,-2,94,-2,-2,-2,-2,-2,-2,-2,148,-2,-2,172,-2,-2,-2,-2,-2,-2,-2,226,-2,-2,250,-2,-2,-2,-2,-2,-2,-2,304,-2]))\n",
        "\n",
        "uncoated_pmt_map = np.array(([-2,-2,-2,-2,-2,-2,-2,-2,-2,-2,-2,-2,-2,-2,-2,-2,-2,-2,-2,-2,-2,-2,-2,-2,-2,-2,-2,-2,-2,-2,-2,-2,-2,-2,-2,-2,-2,-2,-2,-2,-2,-2,-2,-2],\n",
        "                           [-2,-2,-2,-2,-2,36,-2,-2,-2,-2,-2,-2,-2,-2,-2,-2,114,-2,-2,-2,-2,-2,-2,-2,-2,-2,-2,192,-2,-2,-2,-2,-2,-2,-2,-2,-2,-2,270,-2,-2,-2,-2,-2],\n",
        "                           [-2,-2,-2,-2,-2,-2,-2,-2,-2,-2,-2,-2,-2,-2,-2,-2,-2,-2,-2,-2,-2,-2,-2,-2,-2,-2,-2,-2,-2,-2,-2,-2,-2,-2,-2,-2,-2,-2,-2,-2,-2,-2,-2,-2],\n",
        "                           [-2,-2,-2,-2,-2,-2,-2,-2,-2,-2,-2,-2,-2,-2,-2,-2,-2,-2,-2,-2,-2,-2,-2,-2,-2,-2,-2,-2,-2,-2,-2,-2,-2,-2,-2,-2,-2,-2,-2,-2,-2,-2,-2,-2],\n",
        "                           [-2,-2,-2,-2,-2,38,-2,-2,-2,-2,-2,-2,-2,-2,-2,-2,116,-2,-2,-2,-2,-2,-2,-2,-2,-2,-2,194,-2,-2,-2,-2,-2,-2,-2,-2,-2,-2,272,-2,-2,-2,-2,-2],\n",
        "                           [-2,-2,-2,-2,-2,-2,-2,-2,-2,-2,-2,-2,-2,-2,-2,-2,-2,-2,-2,-2,-2,-2,-2,-2,-2,-2,-2,-2,-2,-2,-2,-2,-2,-2,-2,-2,-2,-2,-2,-2,-2,-2,-2,-2],\n",
        "                           [-2,-2,-2,-2,-2,-2,-2,-2,-2,-2,-2,-2,-2,-2,-2,-2,-2,-2,-2,-2,-2,-2,-2,-2,-2,-2,-2,-2,-2,-2,-2,-2,-2,-2,-2,-2,-2,-2,-2,-2,-2,-2,-2,-2],\n",
        "                           [-2,-2,-2,-2,-2,40,-2,-2,-2,-2,-2,-2,-2,-2,-2,-2,118,-2,-2,-2,-2,-2,-2,-2,-2,-2,-2,196,-2,-2,-2,-2,-2,-2,-2,-2,-2,-2,274,-2,-2,-2,-2,-2],\n",
        "                           [-2,-2,-2,-2,-2,-2,-2,-2,-2,-2,-2,-2,-2,-2,-2,-2,-2,-2,-2,-2,-2,-2,-2,-2,-2,-2,-2,-2,-2,-2,-2,-2,-2,-2,-2,-2,-2,-2,-2,-2,-2,-2,-2,-2]))\n",
        "\n",
        "xarap_vuv_map = np.array(([-2,-2,-2,-2,-2,-2,42,-2,-2,-2,-2,-2,-2,-2,-2,-2,-2,120,-2,-2,-2,-2,-2,-2,-2,-2,-2,-2,198,-2,-2,-2,-2,-2,-2,-2,-2,-2,-2,276,-2,-2,-2,-2],\n",
        "                           [-2,-2,18,-2,-2,-2,-2,-2,-2,-2,72,-2,-2,96,-2,-2,-2,-2,-2,-2,-2,150,-2,-2,174,-2,-2,-2,-2,-2,-2,-2,228,-2,-2,252,-2,-2,-2,-2,-2,-2,-2,306],\n",
        "                           [-2,-2,-2,-2,-2,-2,44,-2,-2,-2,-2,-2,-2,-2,-2,-2,-2,122,-2,-2,-2,-2,-2,-2,-2,-2,-2,-2,200,-2,-2,-2,-2,-2,-2,-2,-2,-2,-2,278,-2,-2,-2,-2],\n",
        "                           [-2,-2,-2,-2,-2,-2,46,-2,-2,-2,-2,-2,-2,-2,-2,-2,-2,124,-2,-2,-2,-2,-2,-2,-2,-2,-2,-2,202,-2,-2,-2,-2,-2,-2,-2,-2,-2,-2,280,-2,-2,-2,-2],\n",
        "                           [-2,-2,10,-2,-2,-2,-2,-2,-2,-2,74,-2,-2,98,-2,-2,-2,-2,-2,-2,-2,152,-2,-2,176,-2,-2,-2,-2,-2,-2,-2,230,-2,-2,254,-2,-2,-2,-2,-2,-2,-2,308],\n",
        "                           [-2,-2,-2,-2,-2,-2,48,-2,-2,-2,-2,-2,-2,-2,-2,-2,-2,126,-2,-2,-2,-2,-2,-2,-2,-2,-2,-2,204,-2,-2,-2,-2,-2,-2,-2,-2,-2,-2,282,-2,-2,-2,-2],\n",
        "                           [-2,-2,-2,-2,-2,-2,50,-2,-2,-2,-2,-2,-2,-2,-2,-2,-2,128,-2,-2,-2,-2,-2,-2,-2,-2,-2,-2,206,-2,-2,-2,-2,-2,-2,-2,-2,-2,-2,284,-2,-2,-2,-2],\n",
        "                           [-2,-2,22,-2,-2,-2,-2,-2,-2,-2,76,-2,-2,100,-2,-2,-2,-2,-2,-2,-2,154,-2,-2,178,-2,-2,-2,-2,-2,-2,-2,232,-2,-2,256,-2,-2,-2,-2,-2,-2,-2,310],\n",
        "                           [-2,-2,-2,-2,-2,-2,52,-2,-2,-2,-2,-2,-2,-2,-2,-2,-2,130,-2,-2,-2,-2,-2,-2,-2,-2,-2,-2,208,-2,-2,-2,-2,-2,-2,-2,-2,-2,-2,286,-2,-2,-2,-2]))\n",
        "\n",
        "xarap_vis_map = np.array(([-2,-2,-2,-2,24,-2,-2,-2,-2,-2,-2,-2,-2,-2,-2,102,-2,-2,-2,-2,-2,-2,-2,-2,-2,-2,180,-2,-2,-2,-2,-2,-2,-2,-2,-2,-2,258,-2,-2,-2,-2,-2,-2],\n",
        "                           [0,-2,-2,-2,-2,-2,-2,-2,54,-2,-2,78,-2,-2,-2,-2,-2,-2,-2,132,-2,-2,156,-2,-2,-2,-2,-2,-2,-2,210,-2,-2,234,-2,-2,-2,-2,-2,-2,-2,288,-2,-2],\n",
        "                           [-2,-2,-2,-2,26,-2,-2,-2,-2,-2,-2,-2,-2,-2,-2,104,-2,-2,-2,-2,-2,-2,-2,-2,-2,-2,182,-2,-2,-2,-2,-2,-2,-2,-2,-2,-2,260,-2,-2,-2,-2,-2,-2],\n",
        "                           [-2,-2,-2,-2,28,-2,-2,-2,-2,-2,-2,-2,-2,-2,-2,106,-2,-2,-2,-2,-2,-2,-2,-2,-2,-2,184,-2,-2,-2,-2,-2,-2,-2,-2,-2,-2,262,-2,-2,-2,-2,-2,-2],\n",
        "                           [2,-2,-2,-2,-2,-2,-2,-2,56,-2,-2,80,-2,-2,-2,-2,-2,-2,-2,134,-2,-2,158,-2,-2,-2,-2,-2,-2,-2,212,-2,-2,236,-2,-2,-2,-2,-2,-2,-2,290,-2,-2],\n",
        "                           [-2,-2,-2,-2,30,-2,-2,-2,-2,-2,-2,-2,-2,-2,-2,108,-2,-2,-2,-2,-2,-2,-2,-2,-2,-2,186,-2,-2,-2,-2,-2,-2,-2,-2,-2,-2,264,-2,-2,-2,-2,-2,-2],\n",
        "                           [-2,-2,-2,-2,32,-2,-2,-2,-2,-2,-2,-2,-2,-2,-2,110,-2,-2,-2,-2,-2,-2,-2,-2,-2,-2,188,-2,-2,-2,-2,-2,-2,-2,-2,-2,-2,266,-2,-2,-2,-2,-2,-2],\n",
        "                           [4,-2,-2,-2,-2,-2,-2,-2,58,-2,-2,82,-2,-2,-2,-2,-2,-2,-2,136,-2,-2,160,-2,-2,-2,-2,-2,-2,-2,214,-2,-2,238,-2,-2,-2,-2,-2,-2,-2,292,-2,-2],\n",
        "                           [-2,-2,-2,-2,34,-2,-2,-2,-2,-2,-2,-2,-2,-2,-2,112,-2,-2,-2,-2,-2,-2,-2,-2,-2,-2,190,-2,-2,-2,-2,-2,-2,-2,-2,-2,-2,268,-2,-2,-2,-2,-2,-2]))\n",
        "\n",
        "#joining CoatedPMTs and VUV XARAP \n",
        "vuv_map = np.array([[-2,6,-2,-2,-2,-2,42,-2,-2,60,-2,-2,84,-2,-2,-2,-2,120,-2,-2,138,-2,-2,162,-2,-2,-2,-2,198,-2,-2,216,-2,-2,240,-2,-2,-2,-2,276,-2,-2,294,-2],\n",
        "                    [-2,-2,18,-2,-2,-2,-2,-2,-2,-2,72,-2,-2,96,-2,-2,-2,-2,-2,-2,-2,150,-2,-2,174,-2,-2,-2,-2,-2,-2,-2,228,-2,-2,252,-2,-2,-2,-2,-2,-2,-2,306],\n",
        "                    [-2,8,-2,-2,-2,-2,44,-2,-2,62,-2,-2,86,-2,-2,-2,-2,122,-2,-2,140,-2,-2,164,-2,-2,-2,-2,200,-2,-2,218,-2,-2,242,-2,-2,-2,-2,278,-2,-2,296,-2],\n",
        "                    [-2,10,-2,-2,-2,-2,46,-2,-2,64,-2,-2,88,-2,-2,-2,-2,124,-2,-2,142,-2,-2,166,-2,-2,-2,-2,202,-2,-2,220,-2,-2,244,-2,-2,-2,-2,280,-2,-2,298,-2],\n",
        "                    [-2,-2,10,-2,-2,-2,-2,-2,-2,-2,74,-2,-2,98,-2,-2,-2,-2,-2,-2,-2,152,-2,-2,176,-2,-2,-2,-2,-2,-2,-2,230,-2,-2,254,-2,-2,-2,-2,-2,-2,-2,308],\n",
        "                    [-2,12,-2,-2,-2,-2,48,-2,-2,66,-2,-2,90,-2,-2,-2,-2,126,-2,-2,144,-2,-2,168,-2,-2,-2,-2,204,-2,-2,222,-2,-2,246,-2,-2,-2,-2,282,-2,-2,300,-2],\n",
        "                    [-2,14,-2,-2,-2,-2,50,-2,-2,68,-2,-2,92,-2,-2,-2,-2,128,-2,-2,146,-2,-2,170,-2,-2,-2,-2,206,-2,-2,224,-2,-2,248,-2,-2,-2,-2,284,-2,-2,302,-2],\n",
        "                    [-2,-2,22,-2,-2,-2,-2,-2,-2,-2,76,-2,-2,100,-2,-2,-2,-2,-2,-2,-2,154,-2,-2,178,-2,-2,-2,-2,-2,-2,-2,232,-2,-2,256,-2,-2,-2,-2,-2,-2,-2,310],\n",
        "                    [-2,16,-2,-2,-2,-2,52,-2,-2,70,-2,-2,94,-2,-2,-2,-2,130,-2,-2,148,-2,-2,172,-2,-2,-2,-2,208,-2,-2,226,-2,-2,250,-2,-2,-2,-2,286,-2,-2,304,-2]])\n",
        "\n",
        "#joining CoatedPMTs, UncoatedPMTs and VIS XARAP \n",
        "vis_map = np.array([[-2,6,-2,-2,24,-2,-2,-2,-2,60,-2,-2,84,-2,-2,102,-2,-2,-2,-2,138,-2,-2,162,-2,-2,180,-2,-2,-2,-2,216,-2,-2,240,-2,-2,258,-2,-2,-2,-2,294,-2],\n",
        "                    [0,-2,-2,-2,-2,36,-2,-2,54,-2,-2,78,-2,-2,-2,-2,114,-2,-2,132,-2,-2,156,-2,-2,-2,-2,192,-2,-2,210,-2,-2,234,-2,-2,-2,-2,270,-2,-2,288,-2,-2],\n",
        "                    [-2,8,-2,-2,26,-2,-2,-2,-2,62,-2,-2,86,-2,-2,104,-2,-2,-2,-2,140,-2,-2,164,-2,-2,182,-2,-2,-2,-2,218,-2,-2,242,-2,-2,260,-2,-2,-2,-2,296,-2],\n",
        "                    [-2,10,-2,-2,28,-2,-2,-2,-2,64,-2,-2,88,-2,-2,106,-2,-2,-2,-2,142,-2,-2,166,-2,-2,184,-2,-2,-2,-2,220,-2,-2,244,-2,-2,262,-2,-2,-2,-2,298,-2],\n",
        "                    [2,-2,-2,-2,-2,38,-2,-2,56,-2,-2,80,-2,-2,-2,-2,116,-2,-2,134,-2,-2,158,-2,-2,-2,-2,194,-2,-2,212,-2,-2,236,-2,-2,-2,-2,272,-2,-2,290,-2,-2],\n",
        "                    [-2,12,-2,-2,30,-2,-2,-2,-2,66,-2,-2,90,-2,-2,108,-2,-2,-2,-2,144,-2,-2,168,-2,-2,186,-2,-2,-2,-2,222,-2,-2,246,-2,-2,264,-2,-2,-2,-2,300,-2],\n",
        "                    [-2,14,-2,-2,32,-2,-2,-2,-2,68,-2,-2,92,-2,-2,110,-2,-2,-2,-2,146,-2,-2,170,-2,-2,188,-2,-2,-2,-2,224,-2,-2,248,-2,-2,266,-2,-2,-2,-2,302,-2],\n",
        "                    [4,-2,-2,-2,-2,40,-2,-2,58,-2,-2,82,-2,-2,-2,-2,118,-2,-2,136,-2,-2,160,-2,-2,-2,-2,196,-2,-2,214,-2,-2,238,-2,-2,-2,-2,274,-2,-2,292,-2,-2],\n",
        "                    [-2,16,-2,-2,34,-2,-2,-2,-2,70,-2,-2,94,-2,-2,112,-2,-2,-2,-2,148,-2,-2,172,-2,-2,190,-2,-2,-2,-2,226,-2,-2,250,-2,-2,268,-2,-2,-2,-2,304,-2]])\n",
        "\n",
        "#necesitaremos construir los dos planos con el siguiente código:\n",
        "vis_map = np.row_stack((vis_map,vis_map+1))\n",
        "vuv_map = np.row_stack((vuv_map,vuv_map+1))\n",
        "\n",
        "print(vuv_map.shape)"
      ]
    }
  ],
  "metadata": {
    "colab": {
      "collapsed_sections": [
        "bW565vHZTGgm",
        "Xl6QksnQLMsr"
      ],
      "provenance": []
    },
    "kernelspec": {
      "display_name": "Anaconda-Python-3.9",
      "language": "python",
      "name": "anaconda-python-3.9"
    },
    "language_info": {
      "codemirror_mode": {
        "name": "ipython",
        "version": 3
      },
      "file_extension": ".py",
      "mimetype": "text/x-python",
      "name": "python",
      "nbconvert_exporter": "python",
      "pygments_lexer": "ipython3",
      "version": "3.9.10"
    }
  },
  "nbformat": 4,
  "nbformat_minor": 0
}
