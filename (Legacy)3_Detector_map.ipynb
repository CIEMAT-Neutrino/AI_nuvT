{
 "cells": [
  {
   "cell_type": "markdown",
   "metadata": {},
   "source": [
    "## Import libraries:"
   ]
  },
  {
   "cell_type": "code",
   "execution_count": 27,
   "metadata": {},
   "outputs": [],
   "source": [
    "from imports import *"
   ]
  },
  {
   "cell_type": "markdown",
   "metadata": {},
   "source": [
    "## Detector map:"
   ]
  },
  {
   "cell_type": "markdown",
   "metadata": {},
   "source": [
    "The idea is to create a matrix map of the detector. Currently we have taken two approaches: \n",
    "\n",
    "1 - realistic representation 2 - compressed representation (schematic)"
   ]
  },
  {
   "cell_type": "markdown",
   "metadata": {},
   "source": [
    "### 1 - Realistic representation:"
   ]
  },
  {
   "cell_type": "code",
   "execution_count": 2,
   "metadata": {},
   "outputs": [],
   "source": [
    "import math\n",
    "\n",
    "def detector_matrix(data_dict, filter_labels, pixel):\n",
    "    \"\"\"\n",
    "    Create a matrix from the data dictionary, filter by labels, and normalize coordinates.\n",
    "\n",
    "    Parameters:\n",
    "    - data_dict: Dictionary containing data with y, z coordinates and labels.\n",
    "    - filter_labels: Set of labels to filter by.\n",
    "    - pixel: Tuple (width, height) used to calculate the size of the matrix.\n",
    "    \n",
    "    Returns:\n",
    "    - Realistic matrix of the detector\n",
    "    \"\"\"\n",
    "    import math\n",
    "    \n",
    "    # Calculate size of the matrix based on pixel dimensions\n",
    "    size = (math.ceil(400 / pixel[0])+1, math.ceil(500 / pixel[1]))\n",
    "\n",
    "    # Extract y and z values and the corresponding indices from the dictionary\n",
    "    y_values = [val[1] for val in data_dict.values()]\n",
    "    z_values = [val[2] for val in data_dict.values()]\n",
    "    labels = [val[3] for val in data_dict.values()]\n",
    "    indices = list(data_dict.keys())\n",
    "\n",
    "    # Normalize and scale the y and z data to fit into the matrix\n",
    "    y_min, y_max, z_min, z_max = -200, 200, 0, 500\n",
    "    y_scaled = [(y - y_min) / (y_max - y_min) * (size[0] - 1) for y in y_values]\n",
    "    z_scaled = [(z - z_min) / (z_max - z_min) * (size[1] - 1) for z in z_values]\n",
    "\n",
    "    # Rounding to the nearest integer for matrix indices\n",
    "    y_indices = [min(max(round(y), 0), size[0] - 1) for y in y_scaled]  # Ensure indices are within bounds\n",
    "    z_indices = [min(max(round(z), 0), size[1] - 1) for z in z_scaled]  # Ensure indices are within bounds\n",
    "\n",
    "    # Create the matrix and initialize it with -2 for unoccupied cells\n",
    "    matrix = np.full(size, -2)\n",
    "\n",
    "    # Populate the matrix with the indices from the dictionary\n",
    "    for idx, (y, z) in enumerate(zip(y_indices, z_indices)):\n",
    "        if labels[idx] in filter_labels:\n",
    "            matrix[y, z] = indices[idx]\n",
    "\n",
    "    return matrix\n",
    "\n",
    "\n",
    "#correccion de aprox. \n",
    "def correccion(matrix):\n",
    "    row_toinsert = np.full((1, matrix.shape[1]), -2)\n",
    "    column_toinsert = np.full((matrix.shape[0]+4, 1), -2)\n",
    "    row_modified_matrix = np.insert(matrix, [12, 24, 32, 42], row_toinsert, axis=0)\n",
    "    total_modified_matrix = np.insert(row_modified_matrix, [17,34,matrix.shape[1]], column_toinsert, axis=1)\n",
    "    return total_modified_matrix\n",
    "\n",
    "import numpy as np\n",
    "\n",
    "def create_realistic_maps(even_data_dict, pixel):\n",
    "    # Define the configurations for each map\n",
    "    map_configs = {\n",
    "        'coated_pmt_map_realistic': {0},\n",
    "        'uncoated_pmt_map_realistic': {1},\n",
    "        'xarap_vuv_map_realistic': {2},\n",
    "        'xarap_vis_map_realistic': {3},\n",
    "        'pmts_map_realistic': {0, 1},\n",
    "        'xarap_map_realistic': {2, 3},\n",
    "        'vis_map_realistic': {0, 1, 3},\n",
    "        'vuv_map_realistic': {0, 2},\n",
    "        'total_map_realistic': {0, 1, 2, 3}\n",
    "    }\n",
    "\n",
    "    # Create each map and save it\n",
    "    for map_name, detector_set in map_configs.items():\n",
    "        # Process the detector matrix and apply correction\n",
    "        map_data = correccion(detector_matrix(even_data_dict, detector_set, pixel))\n",
    "        \n",
    "        # Stack the data and save to CSV\n",
    "        map_data = np.row_stack((map_data, map_data + 1))\n",
    "        np.savetxt(f'saved_archives/maps/realistic/{map_name}.csv', map_data, fmt='%d', delimiter=',')\n",
    "\n",
    "# Example usage\n",
    "# create_realistic_maps(even_data_dict, pixel)\n"
   ]
  },
  {
   "cell_type": "code",
   "execution_count": 4,
   "metadata": {},
   "outputs": [],
   "source": [
    "file_path = '/data/vidales/opana_tree_combined_v0411_both.root'\n",
    "file = uproot.open(file_path)\n",
    "PDSMap = file['opanatree']['PDSMapTree']"
   ]
  },
  {
   "cell_type": "code",
   "execution_count": 6,
   "metadata": {},
   "outputs": [],
   "source": [
    "ID = PDSMap['OpDetID'].array()\n",
    "X = PDSMap['OpDetX'].array()\n",
    "Y = PDSMap['OpDetY'].array()\n",
    "Z = PDSMap['OpDetZ'].array()\n",
    "Type = PDSMap['OpDetType'].array()\n",
    "\n",
    "# Make dictionaries with the data\n",
    "data_dict = {id_val: (x_val, y_val, z_val,int(type_val)) for id_val, x_val, y_val, z_val, type_val in zip(ID[0], X[0], Y[0], Z[0],Type[0])}\n",
    "even_data_dict = {id_val: data for id_val, data in data_dict.items() if id_val % 2 == 0}\n",
    "odd_data_dict = {id_val: data for id_val, data in data_dict.items() if id_val % 2 != 0}"
   ]
  },
  {
   "cell_type": "code",
   "execution_count": null,
   "metadata": {},
   "outputs": [],
   "source": [
    "# Define the pixel size in cm\n",
    "pixel = (7.5,7.5)\n",
    "\n",
    "\n",
    "# Create the detector matrices\n",
    "\n",
    "map_configs = {\n",
    "    'coated_pmt_map_realistic': {0},\n",
    "    'uncoated_pmt_map_realistic': {1},\n",
    "    'xarap_vuv_map_realistic': {2},\n",
    "    'xarap_vis_map_realistic': {3},\n",
    "    'pmts_map_realistic': {0, 1},\n",
    "    'xarap_map_realistic': {2, 3},\n",
    "    'vis_map_realistic': {0, 1, 3},\n",
    "    'vuv_map_realistic': {0, 2},\n",
    "    'total_map_realistic': {0, 1, 2, 3}\n",
    "}\n",
    "\n",
    "# Create each map and save it\n",
    "for map_name, detector_set in map_configs.items():\n",
    "    # Process the detector matrix and apply correction\n",
    "    map_data = correccion(detector_matrix(even_data_dict, detector_set, pixel))\n",
    "    \n",
    "    # Stack the data and save to CSV\n",
    "    map_data = np.row_stack((map_data, map_data + 1))\n",
    "    np.savetxt(f'saved_archives/maps/realistic/{map_name}.csv', map_data, fmt='%d', delimiter=',')"
   ]
  },
  {
   "cell_type": "markdown",
   "metadata": {},
   "source": [
    "### 2 - Schematic representation:"
   ]
  },
  {
   "cell_type": "code",
   "execution_count": 19,
   "metadata": {},
   "outputs": [],
   "source": [
    "coated_pmt_map_compressed = np.array([[-2, 6, -2, -2, -2, -2, -2, 60, -2, -2, 84, -2, -2, -2, -2, -2, 138, -2, -2, 162, -2, -2, -2, -2, -2, 216, -2, -2, 240, -2, -2, -2, -2, -2, 294, -2], \n",
    "                                   [-2, -2, -2, -2, -2, -2, -2, -2, -2, -2, -2, -2, -2, -2, -2, -2, -2, -2, -2, -2, -2, -2, -2, -2, -2, -2, -2, -2, -2, -2, -2, -2, -2, -2, -2, -2], \n",
    "                                   [-2, 8, -2, -2, -2, -2, -2, 62, -2, -2, 86, -2, -2, -2, -2, -2, 140, -2, -2, 164, -2, -2, -2, -2, -2, 218, -2, -2, 242, -2, -2, -2, -2, -2, 296, -2], \n",
    "                                   [-2, 10, -2, -2, -2, -2, -2, 64, -2, -2, 88, -2, -2, -2, -2, -2, 142, -2, -2, 166, -2, -2, -2, -2, -2, 220, -2, -2, 244, -2, -2, -2, -2, -2, 298, -2], \n",
    "                                   [-2, -2, -2, -2, -2, -2, -2, -2, -2, -2, -2, -2, -2, -2, -2, -2, -2, -2, -2, -2, -2, -2, -2, -2, -2, -2, -2, -2, -2, -2, -2, -2, -2, -2, -2, -2], \n",
    "                                   [-2, 12, -2, -2, -2, -2, -2, 66, -2, -2, 90, -2, -2, -2, -2, -2, 144, -2, -2, 168, -2, -2, -2, -2, -2, 222, -2, -2, 246, -2, -2, -2, -2, -2, 300, -2], \n",
    "                                   [-2, 14, -2, -2, -2, -2, -2, 68, -2, -2, 92, -2, -2, -2, -2, -2, 146, -2, -2, 170, -2, -2, -2, -2, -2, 224, -2, -2, 248, -2, -2, -2, -2, -2, 302, -2], \n",
    "                                   [-2, -2, -2, -2, -2, -2, -2, -2, -2, -2, -2, -2, -2, -2, -2, -2, -2, -2, -2, -2, -2, -2, -2, -2, -2, -2, -2, -2, -2, -2, -2, -2, -2, -2, -2, -2], \n",
    "                                   [-2, 16, -2, -2, -2, -2, -2, 70, -2, -2, 94, -2, -2, -2, -2, -2, 148, -2, -2, 172, -2, -2, -2, -2, -2, 226, -2, -2, 250, -2, -2, -2, -2, -2, 304, -2]])\n",
    "\n",
    "uncoated_pmt_map_compressed = np.array([[-2, -2, -2, -2, -2, -2, -2, -2, -2, -2, -2, -2, -2, -2, -2, -2, -2, -2, -2, -2, -2, -2, -2, -2, -2, -2, -2, -2, -2, -2, -2, -2, -2, -2, -2, -2], \n",
    "                                     [-2, -2, -2, -2, 36, -2, -2, -2, -2, -2, -2, -2, -2, 114, -2, -2, -2, -2, -2, -2, -2, -2, 192, -2, -2, -2, -2, -2, -2, -2, -2, 270, -2, -2, -2, -2], \n",
    "                                     [-2, -2, -2, -2, -2, -2, -2, -2, -2, -2, -2, -2, -2, -2, -2, -2, -2, -2, -2, -2, -2, -2, -2, -2, -2, -2, -2, -2, -2, -2, -2, -2, -2, -2, -2, -2], \n",
    "                                     [-2, -2, -2, -2, -2, -2, -2, -2, -2, -2, -2, -2, -2, -2, -2, -2, -2, -2, -2, -2, -2, -2, -2, -2, -2, -2, -2, -2, -2, -2, -2, -2, -2, -2, -2, -2], \n",
    "                                     [-2, -2, -2, -2, 38, -2, -2, -2, -2, -2, -2, -2, -2, 116, -2, -2, -2, -2, -2, -2, -2, -2, 194, -2, -2, -2, -2, -2, -2, -2, -2, 272, -2, -2, -2, -2], \n",
    "                                     [-2, -2, -2, -2, -2, -2, -2, -2, -2, -2, -2, -2, -2, -2, -2, -2, -2, -2, -2, -2, -2, -2, -2, -2, -2, -2, -2, -2, -2, -2, -2, -2, -2, -2, -2, -2], \n",
    "                                     [-2, -2, -2, -2, -2, -2, -2, -2, -2, -2, -2, -2, -2, -2, -2, -2, -2, -2, -2, -2, -2, -2, -2, -2, -2, -2, -2, -2, -2, -2, -2, -2, -2, -2, -2, -2], \n",
    "                                     [-2, -2, -2, -2, 40, -2, -2, -2, -2, -2, -2, -2, -2, 118, -2, -2, -2, -2, -2, -2, -2, -2, 196, -2, -2, -2, -2, -2, -2, -2, -2, 274, -2, -2, -2, -2], \n",
    "                                     [-2, -2, -2, -2, -2, -2, -2, -2, -2, -2, -2, -2, -2, -2, -2, -2, -2, -2, -2, -2, -2, -2, -2, -2, -2, -2, -2, -2, -2, -2, -2, -2, -2, -2, -2, -2]])\n",
    "\n",
    "xarap_vuv_map_compressed = np.array([[-2, -2, -2, -2, -2, 42, -2, -2, -2, -2, -2, -2, -2, -2, 120, -2, -2, -2, -2, -2, -2, -2, -2, 198, -2, -2, -2, -2, -2, -2, -2, -2, 276, -2, -2, -2],\n",
    "                                  [-2, -2, 18, -2, -2, -2, -2, -2, 72, -2, -2, 96, -2, -2, -2, -2, -2, 150, -2, -2, 174, -2, -2, -2, -2, -2, 228, -2, -2, 252, -2, -2, -2, -2, -2, 306], \n",
    "                                  [-2, -2, -2, -2, -2, 44, -2, -2, -2, -2, -2, -2, -2, -2, 122, -2, -2, -2, -2, -2, -2, -2, -2, 200, -2, -2, -2, -2, -2, -2, -2, -2, 278, -2, -2, -2], \n",
    "                                  [-2, -2, -2, -2, -2, 46, -2, -2, -2, -2, -2, -2, -2, -2, 124, -2, -2, -2, -2, -2, -2, -2, -2, 202, -2, -2, -2, -2, -2, -2, -2, -2, 280, -2, -2, -2], \n",
    "                                  [-2, -2, 10, -2, -2, -2, -2, -2, 74, -2, -2, 98, -2, -2, -2, -2, -2, 152, -2, -2, 176, -2, -2, -2, -2, -2, 230, -2, -2, 254, -2, -2, -2, -2, -2, 308], \n",
    "                                  [-2, -2, -2, -2, -2, 48, -2, -2, -2, -2, -2, -2, -2, -2, 126, -2, -2, -2, -2, -2, -2, -2, -2, 204, -2, -2, -2, -2, -2, -2, -2, -2, 282, -2, -2, -2], \n",
    "                                  [-2, -2, -2, -2, -2, 50, -2, -2, -2, -2, -2, -2, -2, -2, 128, -2, -2, -2, -2, -2, -2, -2, -2, 206, -2, -2, -2, -2, -2, -2, -2, -2, 284, -2, -2, -2], \n",
    "                                  [-2, -2, 22, -2, -2, -2, -2, -2, 76, -2, -2, 100, -2, -2, -2, -2, -2, 154, -2, -2, 178, -2, -2, -2, -2, -2, 232, -2, -2, 256, -2, -2, -2, -2, -2, 310], \n",
    "                                  [-2, -2, -2, -2, -2, 52, -2, -2, -2, -2, -2, -2, -2, -2, 130, -2, -2, -2, -2, -2, -2, -2, -2, 208, -2, -2, -2, -2, -2, -2, -2, -2, 286, -2, -2, -2]])\n",
    "\n",
    "xarap_vis_map_compressed = np.array([[-2, -2, -2, 24, -2, -2, -2, -2, -2, -2, -2, -2, 102, -2, -2, -2, -2, -2, -2, -2, -2, 180, -2, -2, -2, -2, -2, -2, -2, -2, 258, -2, -2, -2, -2, -2], \n",
    "                                  [0, -2, -2, -2, -2, -2, 54, -2, -2, 78, -2, -2, -2, -2, -2, 132, -2, -2, 156, -2, -2, -2, -2, -2, 210, -2, -2, 234, -2, -2, -2, -2, -2, 288, -2, -2], \n",
    "                                  [-2, -2, -2, 26, -2, -2, -2, -2, -2, -2, -2, -2, 104, -2, -2, -2, -2, -2, -2, -2, -2, 182, -2, -2, -2, -2, -2, -2, -2, -2, 260, -2, -2, -2, -2, -2], \n",
    "                                  [-2, -2, -2, 28, -2, -2, -2, -2, -2, -2, -2, -2, 106, -2, -2, -2, -2, -2, -2, -2, -2, 184, -2, -2, -2, -2, -2, -2, -2, -2, 262, -2, -2, -2, -2, -2], \n",
    "                                  [2, -2, -2, -2, -2, -2, 56, -2, -2, 80, -2, -2, -2, -2, -2, 134, -2, -2, 158, -2, -2, -2, -2, -2, 212, -2, -2, 236, -2, -2, -2, -2, -2, 290, -2, -2], \n",
    "                                  [-2, -2, -2, 30, -2, -2, -2, -2, -2, -2, -2, -2, 108, -2, -2, -2, -2, -2, -2, -2, -2, 186, -2, -2, -2, -2, -2, -2, -2, -2, 264, -2, -2, -2, -2, -2], \n",
    "                                  [-2, -2, -2, 32, -2, -2, -2, -2, -2, -2, -2, -2, 110, -2, -2, -2, -2, -2, -2, -2, -2, 188, -2, -2, -2, -2, -2, -2, -2, -2, 266, -2, -2, -2, -2, -2], \n",
    "                                  [4, -2, -2, -2, -2, -2, 58, -2, -2, 82, -2, -2, -2, -2, -2, 136, -2, -2, 160, -2, -2, -2, -2, -2, 214, -2, -2, 238, -2, -2, -2, -2, -2, 292, -2, -2], \n",
    "                                  [-2, -2, -2, 34, -2, -2, -2, -2, -2, -2, -2, -2, 112, -2, -2, -2, -2, -2, -2, -2, -2, 190, -2, -2, -2, -2, -2, -2, -2, -2, 268, -2, -2, -2, -2, -2]])\n",
    "\n",
    "\n",
    "#plot total for prove\n",
    "#total_map_compressed = coated_pmt_map_compressed +uncoated_pmt_map_compressed +xarap_vuv_map_compressed +xarap_vis_map_compressed\n",
    "#plt.figure(figsize=(12, 12))\n",
    "#plt.imshow(total_map_compressed, cmap='viridis', interpolation='none')"
   ]
  },
  {
   "cell_type": "code",
   "execution_count": 17,
   "metadata": {},
   "outputs": [],
   "source": [
    "def custom_add_matrices(matrices):\n",
    "    # Assume matrices is a list of numpy arrays with the same shape\n",
    "    total_matrix = np.full_like(matrices[0], -2)  # Start with a matrix filled with -2\n",
    "\n",
    "    for i in range(total_matrix.shape[0]):  # Loop through rows\n",
    "        for j in range(total_matrix.shape[1]):  # Loop through columns\n",
    "            values = [matrix[i, j] for matrix in matrices]\n",
    "            # Check if all values are -2\n",
    "            if all(value == -2 for value in values):\n",
    "                total_matrix[i, j] = -2\n",
    "            if all(value == -1 for value in values):\n",
    "                total_matrix[i, j] = -1\n",
    "            else:\n",
    "                # Take the first value that is different from -2\n",
    "                for value in values:\n",
    "                    if (value != -2) & (value != -1) :\n",
    "                        total_matrix[i, j] = value\n",
    "                        break\n",
    "\n",
    "    return total_matrix"
   ]
  },
  {
   "cell_type": "markdown",
   "metadata": {},
   "source": [
    "vis map y vuv map se pueden realizar con el custom add matrices"
   ]
  },
  {
   "cell_type": "code",
   "execution_count": 20,
   "metadata": {},
   "outputs": [],
   "source": [
    "# mapas individuales\n",
    "coated_pmt_map_compressed  = np.row_stack((coated_pmt_map_compressed ,coated_pmt_map_compressed +1))\n",
    "np.savetxt('saved_archives/maps/compressed/coated_pmt_map_compressed.csv', coated_pmt_map_compressed , fmt='%d', delimiter=',')\n",
    "uncoated_pmt_map_compressed  = np.row_stack((uncoated_pmt_map_compressed ,uncoated_pmt_map_compressed +1))\n",
    "np.savetxt('saved_archives/maps/compressed/uncoated_pmt_map_compressed.csv', uncoated_pmt_map_compressed , fmt='%d', delimiter=',')\n",
    "xarap_vuv_map_compressed  = np.row_stack((xarap_vuv_map_compressed ,xarap_vuv_map_compressed +1))\n",
    "np.savetxt('saved_archives/maps/compressed/xarap_vuv_map_compressed.csv', xarap_vuv_map_compressed , fmt='%d', delimiter=',')\n",
    "xarap_vis_map_compressed  = np.row_stack((xarap_vis_map_compressed ,xarap_vis_map_compressed +1))\n",
    "np.savetxt('saved_archives/maps/compressed/xarap_vis_map_compressed.csv', xarap_vis_map_compressed , fmt='%d', delimiter=',')\n",
    "\n",
    "# mapa pmts\n",
    "pmts_map_compressed = custom_add_matrices([coated_pmt_map_compressed,uncoated_pmt_map_compressed])\n",
    "np.savetxt('saved_archives/maps/compressed/pmts_map_compressed.csv', pmts_map_compressed, fmt='%d', delimiter=',')\n",
    "\n",
    "# mapa XAs\n",
    "xarapucas_map_compressed = custom_add_matrices([xarap_vuv_map_compressed,xarap_vis_map_compressed])\n",
    "np.savetxt('saved_archives/maps/compressed/xarapucas_map_compressed.csv', xarapucas_map_compressed, fmt='%d', delimiter=',')\n",
    "\n",
    "# VIS/VUV\n",
    "vis_map_compressed = custom_add_matrices([coated_pmt_map_compressed, uncoated_pmt_map_compressed, xarap_vis_map_compressed])\n",
    "np.savetxt('saved_archives/maps/compressed/vis_map_compressed.csv', vis_map_compressed, fmt='%d', delimiter=',')\n",
    "vuv_map_compressed = custom_add_matrices([coated_pmt_map_compressed, xarap_vuv_map_compressed])\n",
    "np.savetxt('saved_archives/maps/compressed/vuv_map_compressed.csv', vuv_map_compressed, fmt='%d', delimiter=',')\n",
    "\n",
    "#total\n",
    "total_map_compressed = custom_add_matrices([coated_pmt_map_compressed,uncoated_pmt_map_compressed,xarap_vuv_map_compressed,xarap_vis_map_compressed])\n",
    "np.savetxt('saved_archives/maps/compressed/total_map_compressed.csv', total_map_compressed, fmt='%d', delimiter=',')"
   ]
  },
  {
   "cell_type": "markdown",
   "metadata": {},
   "source": [
    "### XAs maps from V2_4_2-Finer+4Time (Alberto)"
   ]
  },
  {
   "cell_type": "code",
   "execution_count": 2,
   "metadata": {},
   "outputs": [],
   "source": [
    "vis_map = np.array(([-2,-2,24,-2,-2,-2,-2,-2,102,-2,-2,-2,-2,-2,180,-2,-2,-2,-2,-2,258,-2,-2,-2],\n",
    "                           [0,-2,-2,-2,54,-2,78,-2,-2,-2,132,-2,156,-2,-2,-2,210,-2,234,-2,-2,-2,288,-2],\n",
    "                           [-2,-2,26,-2,-2,-2,-2,-2,104,-2,-2,-2,-2,-2,182,-2,-2,-2,-2,-2,260,-2,-2,-2],\n",
    "                           [-2,-2,28,-2,-2,-2,-2,-2,106,-2,-2,-2,-2,-2,184,-2,-2,-2,-2,-2,262,-2,-2,-2],\n",
    "                           [2,-2,-2,-2,56,-2,80,-2,-2,-2,134,-2,158,-2,-2,-2,212,-2,236,-2,-2,-2,290,-2],\n",
    "                           [-2,-2,30,-2,-2,-2,-2,-2,108,-2,-2,-2,-2,-2,186,-2,-2,-2,-2,-2,264,-2,-2,-2],\n",
    "                           [-2,-2,32,-2,-2,-2,-2,-2,110,-2,-2,-2,-2,-2,188,-2,-2,-2,-2,-2,266,-2,-2,-2],\n",
    "                           [4,-2,-2,-2,58,-2,82,-2,-2,-2,136,-2,160,-2,-2,-2,214,-2,238,-2,-2,-2,292,-2],\n",
    "                           [-2,-2,34,-2,-2,-2,-2,-2,112,-2,-2,-2,-2,-2,190,-2,-2,-2,-2,-2,268,-2,-2,-2]))\n",
    "\n",
    "vuv_map = np.array(([-2,-2,-2,42,-2,-2,-2,-2,-2,120,-2,-2,-2,-2,-2,198,-2,-2,-2,-2,-2,276,-2,-2],\n",
    "                           [-2,18,-2,-2,-2,72,-2,96,-2,-2,-2,150,-2,174,-2,-2,-2,228,-2,252,-2,-2,-2,306],\n",
    "                           [-2,-2,-2,44,-2,-2,-2,-2,-2,122,-2,-2,-2,-2,-2,200,-2,-2,-2,-2,-2,278,-2,-2],\n",
    "                           [-2,-2,-2,46,-2,-2,-2,-2,-2,124,-2,-2,-2,-2,-2,202,-2,-2,-2,-2,-2,280,-2,-2],\n",
    "                           [-2,10,-2,-2,-2,74,-2,98,-2,-2,-2,152,-2,176,-2,-2,-2,230,-2,254,-2,-2,-2,308],\n",
    "                           [-2,-2,-2,48,-2,-2,-2,-2,-2,126,-2,-2,-2,-2,-2,204,-2,-2,-2,-2,-2,282,-2,-2],\n",
    "                           [-2,-2,-2,50,-2,-2,-2,-2,-2,128,-2,-2,-2,-2,-2,206,-2,-2,-2,-2,-2,284,-2,-2],\n",
    "                           [-2,22,-2,-2,-2,76,-2,100,-2,-2,-2,154,-2,178,-2,-2,-2,232,-2,256,-2,-2,-2,310],\n",
    "                           [-2,-2,-2,52,-2,-2,-2,-2,-2,130,-2,-2,-2,-2,-2,208,-2,-2,-2,-2,-2,286,-2,-2]))\n",
    "\n",
    "vis_map = np.row_stack((vis_map,vis_map+1))\n",
    "vuv_map = np.row_stack((vuv_map,vuv_map+1))\n",
    "\n",
    "np.savetxt('saved_archives/maps/Alberto_maps/alberto_vis_map.csv', vis_map , fmt='%d', delimiter=',')\n",
    "np.savetxt('saved_archives/maps/Alberto_maps/alberto_vuv_map.csv', vuv_map , fmt='%d', delimiter=',')"
   ]
  },
  {
   "cell_type": "markdown",
   "metadata": {},
   "source": [
    "# 2D and 3D detector location map"
   ]
  },
  {
   "cell_type": "code",
   "execution_count": 61,
   "metadata": {},
   "outputs": [
    {
     "data": {
      "application/vnd.plotly.v1+json": {
       "config": {
        "plotlyServerURL": "https://plot.ly"
       },
       "data": [
        {
         "hoverinfo": "text",
         "marker": {
          "color": [
           3,
           3,
           3,
           0,
           0,
           0,
           0,
           0,
           0,
           2,
           2,
           2,
           3,
           3,
           3,
           3,
           3,
           3,
           1,
           1,
           1,
           2,
           2,
           2,
           2,
           2,
           2,
           3,
           3,
           3,
           0,
           0,
           0,
           0,
           0,
           0,
           2,
           2,
           2,
           3,
           3,
           3,
           0,
           0,
           0,
           0,
           0,
           0,
           2,
           2,
           2,
           3,
           3,
           3,
           3,
           3,
           3,
           1,
           1,
           1,
           2,
           2,
           2,
           2,
           2,
           2,
           3,
           3,
           3,
           0,
           0,
           0,
           0,
           0,
           0,
           2,
           2,
           2,
           3,
           3,
           3,
           0,
           0,
           0,
           0,
           0,
           0,
           2,
           2,
           2,
           3,
           3,
           3,
           3,
           3,
           3,
           1,
           1,
           1,
           2,
           2,
           2,
           2,
           2,
           2,
           3,
           3,
           3,
           0,
           0,
           0,
           0,
           0,
           0,
           2,
           2,
           2,
           3,
           3,
           3,
           0,
           0,
           0,
           0,
           0,
           0,
           2,
           2,
           2,
           3,
           3,
           3,
           3,
           3,
           3,
           1,
           1,
           1,
           2,
           2,
           2,
           2,
           2,
           2,
           3,
           3,
           3,
           0,
           0,
           0,
           0,
           0,
           0,
           2,
           2,
           2
          ],
          "colorbar": {
           "title": {
            "text": "Color Scale"
           }
          },
          "colorscale": [
           [
            0,
            "rgb(0,0,131)"
           ],
           [
            0.2,
            "rgb(0,60,170)"
           ],
           [
            0.4,
            "rgb(5,255,255)"
           ],
           [
            0.6,
            "rgb(255,255,0)"
           ],
           [
            0.8,
            "rgb(250,0,0)"
           ],
           [
            1,
            "rgb(128,0,0)"
           ]
          ],
          "size": 10
         },
         "mode": "text",
         "text": [
          "<span style=\"color: rgb(255,0,255)\">0</span>",
          "<span style=\"color: rgb(255,0,255)\">2</span>",
          "<span style=\"color: rgb(255,0,255)\">4</span>",
          "<span style=\"color: rgb(255,0,0)\">6</span>",
          "<span style=\"color: rgb(255,0,0)\">8</span>",
          "<span style=\"color: rgb(255,0,0)\">10</span>",
          "<span style=\"color: rgb(255,0,0)\">12</span>",
          "<span style=\"color: rgb(255,0,0)\">14</span>",
          "<span style=\"color: rgb(255,0,0)\">16</span>",
          "<span style=\"color: rgb(0,0,255)\">18</span>",
          "<span style=\"color: rgb(0,0,255)\">20</span>",
          "<span style=\"color: rgb(0,0,255)\">22</span>",
          "<span style=\"color: rgb(255,0,255)\">24</span>",
          "<span style=\"color: rgb(255,0,255)\">26</span>",
          "<span style=\"color: rgb(255,0,255)\">28</span>",
          "<span style=\"color: rgb(255,0,255)\">30</span>",
          "<span style=\"color: rgb(255,0,255)\">32</span>",
          "<span style=\"color: rgb(255,0,255)\">34</span>",
          "<span style=\"color: rgb(0,255,0)\">36</span>",
          "<span style=\"color: rgb(0,255,0)\">38</span>",
          "<span style=\"color: rgb(0,255,0)\">40</span>",
          "<span style=\"color: rgb(0,0,255)\">42</span>",
          "<span style=\"color: rgb(0,0,255)\">44</span>",
          "<span style=\"color: rgb(0,0,255)\">46</span>",
          "<span style=\"color: rgb(0,0,255)\">48</span>",
          "<span style=\"color: rgb(0,0,255)\">50</span>",
          "<span style=\"color: rgb(0,0,255)\">52</span>",
          "<span style=\"color: rgb(255,0,255)\">54</span>",
          "<span style=\"color: rgb(255,0,255)\">56</span>",
          "<span style=\"color: rgb(255,0,255)\">58</span>",
          "<span style=\"color: rgb(255,0,0)\">60</span>",
          "<span style=\"color: rgb(255,0,0)\">62</span>",
          "<span style=\"color: rgb(255,0,0)\">64</span>",
          "<span style=\"color: rgb(255,0,0)\">66</span>",
          "<span style=\"color: rgb(255,0,0)\">68</span>",
          "<span style=\"color: rgb(255,0,0)\">70</span>",
          "<span style=\"color: rgb(0,0,255)\">72</span>",
          "<span style=\"color: rgb(0,0,255)\">74</span>",
          "<span style=\"color: rgb(0,0,255)\">76</span>",
          "<span style=\"color: rgb(255,0,255)\">78</span>",
          "<span style=\"color: rgb(255,0,255)\">80</span>",
          "<span style=\"color: rgb(255,0,255)\">82</span>",
          "<span style=\"color: rgb(255,0,0)\">84</span>",
          "<span style=\"color: rgb(255,0,0)\">86</span>",
          "<span style=\"color: rgb(255,0,0)\">88</span>",
          "<span style=\"color: rgb(255,0,0)\">90</span>",
          "<span style=\"color: rgb(255,0,0)\">92</span>",
          "<span style=\"color: rgb(255,0,0)\">94</span>",
          "<span style=\"color: rgb(0,0,255)\">96</span>",
          "<span style=\"color: rgb(0,0,255)\">98</span>",
          "<span style=\"color: rgb(0,0,255)\">100</span>",
          "<span style=\"color: rgb(255,0,255)\">102</span>",
          "<span style=\"color: rgb(255,0,255)\">104</span>",
          "<span style=\"color: rgb(255,0,255)\">106</span>",
          "<span style=\"color: rgb(255,0,255)\">108</span>",
          "<span style=\"color: rgb(255,0,255)\">110</span>",
          "<span style=\"color: rgb(255,0,255)\">112</span>",
          "<span style=\"color: rgb(0,255,0)\">114</span>",
          "<span style=\"color: rgb(0,255,0)\">116</span>",
          "<span style=\"color: rgb(0,255,0)\">118</span>",
          "<span style=\"color: rgb(0,0,255)\">120</span>",
          "<span style=\"color: rgb(0,0,255)\">122</span>",
          "<span style=\"color: rgb(0,0,255)\">124</span>",
          "<span style=\"color: rgb(0,0,255)\">126</span>",
          "<span style=\"color: rgb(0,0,255)\">128</span>",
          "<span style=\"color: rgb(0,0,255)\">130</span>",
          "<span style=\"color: rgb(255,0,255)\">132</span>",
          "<span style=\"color: rgb(255,0,255)\">134</span>",
          "<span style=\"color: rgb(255,0,255)\">136</span>",
          "<span style=\"color: rgb(255,0,0)\">138</span>",
          "<span style=\"color: rgb(255,0,0)\">140</span>",
          "<span style=\"color: rgb(255,0,0)\">142</span>",
          "<span style=\"color: rgb(255,0,0)\">144</span>",
          "<span style=\"color: rgb(255,0,0)\">146</span>",
          "<span style=\"color: rgb(255,0,0)\">148</span>",
          "<span style=\"color: rgb(0,0,255)\">150</span>",
          "<span style=\"color: rgb(0,0,255)\">152</span>",
          "<span style=\"color: rgb(0,0,255)\">154</span>",
          "<span style=\"color: rgb(255,0,255)\">156</span>",
          "<span style=\"color: rgb(255,0,255)\">158</span>",
          "<span style=\"color: rgb(255,0,255)\">160</span>",
          "<span style=\"color: rgb(255,0,0)\">162</span>",
          "<span style=\"color: rgb(255,0,0)\">164</span>",
          "<span style=\"color: rgb(255,0,0)\">166</span>",
          "<span style=\"color: rgb(255,0,0)\">168</span>",
          "<span style=\"color: rgb(255,0,0)\">170</span>",
          "<span style=\"color: rgb(255,0,0)\">172</span>",
          "<span style=\"color: rgb(0,0,255)\">174</span>",
          "<span style=\"color: rgb(0,0,255)\">176</span>",
          "<span style=\"color: rgb(0,0,255)\">178</span>",
          "<span style=\"color: rgb(255,0,255)\">180</span>",
          "<span style=\"color: rgb(255,0,255)\">182</span>",
          "<span style=\"color: rgb(255,0,255)\">184</span>",
          "<span style=\"color: rgb(255,0,255)\">186</span>",
          "<span style=\"color: rgb(255,0,255)\">188</span>",
          "<span style=\"color: rgb(255,0,255)\">190</span>",
          "<span style=\"color: rgb(0,255,0)\">192</span>",
          "<span style=\"color: rgb(0,255,0)\">194</span>",
          "<span style=\"color: rgb(0,255,0)\">196</span>",
          "<span style=\"color: rgb(0,0,255)\">198</span>",
          "<span style=\"color: rgb(0,0,255)\">200</span>",
          "<span style=\"color: rgb(0,0,255)\">202</span>",
          "<span style=\"color: rgb(0,0,255)\">204</span>",
          "<span style=\"color: rgb(0,0,255)\">206</span>",
          "<span style=\"color: rgb(0,0,255)\">208</span>",
          "<span style=\"color: rgb(255,0,255)\">210</span>",
          "<span style=\"color: rgb(255,0,255)\">212</span>",
          "<span style=\"color: rgb(255,0,255)\">214</span>",
          "<span style=\"color: rgb(255,0,0)\">216</span>",
          "<span style=\"color: rgb(255,0,0)\">218</span>",
          "<span style=\"color: rgb(255,0,0)\">220</span>",
          "<span style=\"color: rgb(255,0,0)\">222</span>",
          "<span style=\"color: rgb(255,0,0)\">224</span>",
          "<span style=\"color: rgb(255,0,0)\">226</span>",
          "<span style=\"color: rgb(0,0,255)\">228</span>",
          "<span style=\"color: rgb(0,0,255)\">230</span>",
          "<span style=\"color: rgb(0,0,255)\">232</span>",
          "<span style=\"color: rgb(255,0,255)\">234</span>",
          "<span style=\"color: rgb(255,0,255)\">236</span>",
          "<span style=\"color: rgb(255,0,255)\">238</span>",
          "<span style=\"color: rgb(255,0,0)\">240</span>",
          "<span style=\"color: rgb(255,0,0)\">242</span>",
          "<span style=\"color: rgb(255,0,0)\">244</span>",
          "<span style=\"color: rgb(255,0,0)\">246</span>",
          "<span style=\"color: rgb(255,0,0)\">248</span>",
          "<span style=\"color: rgb(255,0,0)\">250</span>",
          "<span style=\"color: rgb(0,0,255)\">252</span>",
          "<span style=\"color: rgb(0,0,255)\">254</span>",
          "<span style=\"color: rgb(0,0,255)\">256</span>",
          "<span style=\"color: rgb(255,0,255)\">258</span>",
          "<span style=\"color: rgb(255,0,255)\">260</span>",
          "<span style=\"color: rgb(255,0,255)\">262</span>",
          "<span style=\"color: rgb(255,0,255)\">264</span>",
          "<span style=\"color: rgb(255,0,255)\">266</span>",
          "<span style=\"color: rgb(255,0,255)\">268</span>",
          "<span style=\"color: rgb(0,255,0)\">270</span>",
          "<span style=\"color: rgb(0,255,0)\">272</span>",
          "<span style=\"color: rgb(0,255,0)\">274</span>",
          "<span style=\"color: rgb(0,0,255)\">276</span>",
          "<span style=\"color: rgb(0,0,255)\">278</span>",
          "<span style=\"color: rgb(0,0,255)\">280</span>",
          "<span style=\"color: rgb(0,0,255)\">282</span>",
          "<span style=\"color: rgb(0,0,255)\">284</span>",
          "<span style=\"color: rgb(0,0,255)\">286</span>",
          "<span style=\"color: rgb(255,0,255)\">288</span>",
          "<span style=\"color: rgb(255,0,255)\">290</span>",
          "<span style=\"color: rgb(255,0,255)\">292</span>",
          "<span style=\"color: rgb(255,0,0)\">294</span>",
          "<span style=\"color: rgb(255,0,0)\">296</span>",
          "<span style=\"color: rgb(255,0,0)\">298</span>",
          "<span style=\"color: rgb(255,0,0)\">300</span>",
          "<span style=\"color: rgb(255,0,0)\">302</span>",
          "<span style=\"color: rgb(255,0,0)\">304</span>",
          "<span style=\"color: rgb(0,0,255)\">306</span>",
          "<span style=\"color: rgb(0,0,255)\">308</span>",
          "<span style=\"color: rgb(0,0,255)\">310</span>"
         ],
         "textposition": "top center",
         "type": "scatter",
         "x": [
          20.254225000000027,
          20.254225000000027,
          20.254225000000027,
          27.874225000000024,
          27.874225000000024,
          27.874225000000024,
          27.874225000000024,
          27.874225000000024,
          27.874225000000024,
          35.49422500000002,
          35.49422500000002,
          35.49422500000002,
          50.25422500000002,
          50.25422500000002,
          50.25422500000002,
          50.25422500000002,
          50.25422500000002,
          50.25422500000002,
          57.874225000000024,
          57.874225000000024,
          57.874225000000024,
          65.49422500000003,
          65.49422500000003,
          65.49422500000003,
          65.49422500000003,
          65.49422500000003,
          65.49422500000003,
          80.25422500000002,
          80.25422500000002,
          80.25422500000002,
          87.87422500000002,
          87.87422500000002,
          87.87422500000002,
          87.87422500000002,
          87.87422500000002,
          87.87422500000002,
          95.49422500000003,
          95.49422500000003,
          95.49422500000003,
          153.53807500000005,
          153.53807500000005,
          153.53807500000005,
          161.15807500000005,
          161.15807500000005,
          161.15807500000005,
          161.15807500000005,
          161.15807500000005,
          161.15807500000005,
          168.77807500000006,
          168.77807500000006,
          168.77807500000006,
          183.53807500000005,
          183.53807500000005,
          183.53807500000005,
          183.53807500000005,
          183.53807500000005,
          183.53807500000005,
          191.15807500000005,
          191.15807500000005,
          191.15807500000005,
          198.77807500000006,
          198.77807500000006,
          198.77807500000006,
          198.77807500000006,
          198.77807500000006,
          198.77807500000006,
          213.53807500000005,
          213.53807500000005,
          213.53807500000005,
          221.15807500000005,
          221.15807500000005,
          221.15807500000005,
          221.15807500000005,
          221.15807500000005,
          221.15807500000005,
          228.77807500000006,
          228.77807500000006,
          228.77807500000006,
          280.62192500000003,
          280.62192500000003,
          280.62192500000003,
          288.24192500000004,
          288.24192500000004,
          288.24192500000004,
          288.24192500000004,
          288.24192500000004,
          288.24192500000004,
          295.86192500000004,
          295.86192500000004,
          295.86192500000004,
          310.62192500000003,
          310.62192500000003,
          310.62192500000003,
          310.62192500000003,
          310.62192500000003,
          310.62192500000003,
          318.24192500000004,
          318.24192500000004,
          318.24192500000004,
          325.86192500000004,
          325.86192500000004,
          325.86192500000004,
          325.86192500000004,
          325.86192500000004,
          325.86192500000004,
          340.62192500000003,
          340.62192500000003,
          340.62192500000003,
          348.24192500000004,
          348.24192500000004,
          348.24192500000004,
          348.24192500000004,
          348.24192500000004,
          348.24192500000004,
          355.86192500000004,
          355.86192500000004,
          355.86192500000004,
          413.90577500000006,
          413.90577500000006,
          413.90577500000006,
          421.52577500000007,
          421.52577500000007,
          421.52577500000007,
          421.52577500000007,
          421.52577500000007,
          421.52577500000007,
          429.14577500000007,
          429.14577500000007,
          429.14577500000007,
          443.90577500000006,
          443.90577500000006,
          443.90577500000006,
          443.90577500000006,
          443.90577500000006,
          443.90577500000006,
          451.52577500000007,
          451.52577500000007,
          451.52577500000007,
          459.14577500000007,
          459.14577500000007,
          459.14577500000007,
          459.14577500000007,
          459.14577500000007,
          459.14577500000007,
          473.90577500000006,
          473.90577500000006,
          473.90577500000006,
          481.52577500000007,
          481.52577500000007,
          481.52577500000007,
          481.52577500000007,
          481.52577500000007,
          481.52577500000007,
          489.14577500000007,
          489.14577500000007,
          489.14577500000007
         ],
         "xaxis": "x2",
         "y": [
          -135,
          0,
          135,
          -175,
          -95,
          -40,
          40,
          95,
          175,
          -135,
          0,
          135,
          -175,
          -95,
          -40,
          40,
          95,
          175,
          -135,
          0,
          135,
          -175,
          -95,
          -40,
          40,
          95,
          175,
          -135,
          0,
          135,
          -175,
          -95,
          -40,
          40,
          95,
          175,
          -135,
          0,
          135,
          -135,
          0,
          135,
          -175,
          -95,
          -40,
          40,
          95,
          175,
          -135,
          0,
          135,
          -175,
          -95,
          -40,
          40,
          95,
          175,
          -135,
          0,
          135,
          -175,
          -95,
          -40,
          40,
          95,
          175,
          -135,
          0,
          135,
          -175,
          -95,
          -40,
          40,
          95,
          175,
          -135,
          0,
          135,
          -135,
          0,
          135,
          -175,
          -95,
          -40,
          40,
          95,
          175,
          -135,
          0,
          135,
          -175,
          -95,
          -40,
          40,
          95,
          175,
          -135,
          0,
          135,
          -175,
          -95,
          -40,
          40,
          95,
          175,
          -135,
          0,
          135,
          -175,
          -95,
          -40,
          40,
          95,
          175,
          -135,
          0,
          135,
          -135,
          0,
          135,
          -175,
          -95,
          -40,
          40,
          95,
          175,
          -135,
          0,
          135,
          -175,
          -95,
          -40,
          40,
          95,
          175,
          -135,
          0,
          135,
          -175,
          -95,
          -40,
          40,
          95,
          175,
          -135,
          0,
          135,
          -175,
          -95,
          -40,
          40,
          95,
          175,
          -135,
          0,
          135
         ],
         "yaxis": "y2"
        },
        {
         "hoverinfo": "text",
         "marker": {
          "color": [
           3,
           3,
           3,
           0,
           0,
           0,
           0,
           0,
           0,
           2,
           2,
           2,
           3,
           3,
           3,
           3,
           3,
           3,
           1,
           1,
           1,
           2,
           2,
           2,
           2,
           2,
           2,
           3,
           3,
           3,
           0,
           0,
           0,
           0,
           0,
           0,
           2,
           2,
           2,
           3,
           3,
           3,
           0,
           0,
           0,
           0,
           0,
           0,
           2,
           2,
           2,
           3,
           3,
           3,
           3,
           3,
           3,
           1,
           1,
           1,
           2,
           2,
           2,
           2,
           2,
           2,
           3,
           3,
           3,
           0,
           0,
           0,
           0,
           0,
           0,
           2,
           2,
           2,
           3,
           3,
           3,
           0,
           0,
           0,
           0,
           0,
           0,
           2,
           2,
           2,
           3,
           3,
           3,
           3,
           3,
           3,
           1,
           1,
           1,
           2,
           2,
           2,
           2,
           2,
           2,
           3,
           3,
           3,
           0,
           0,
           0,
           0,
           0,
           0,
           2,
           2,
           2,
           3,
           3,
           3,
           0,
           0,
           0,
           0,
           0,
           0,
           2,
           2,
           2,
           3,
           3,
           3,
           3,
           3,
           3,
           1,
           1,
           1,
           2,
           2,
           2,
           2,
           2,
           2,
           3,
           3,
           3,
           0,
           0,
           0,
           0,
           0,
           0,
           2,
           2,
           2
          ],
          "colorbar": {
           "title": {
            "text": "Color Scale"
           }
          },
          "colorscale": [
           [
            0,
            "rgb(0,0,131)"
           ],
           [
            0.2,
            "rgb(0,60,170)"
           ],
           [
            0.4,
            "rgb(5,255,255)"
           ],
           [
            0.6,
            "rgb(255,255,0)"
           ],
           [
            0.8,
            "rgb(250,0,0)"
           ],
           [
            1,
            "rgb(128,0,0)"
           ]
          ],
          "size": 10
         },
         "mode": "text",
         "text": [
          "<span style=\"color: rgb(255,0,255)\">1</span>",
          "<span style=\"color: rgb(255,0,255)\">3</span>",
          "<span style=\"color: rgb(255,0,255)\">5</span>",
          "<span style=\"color: rgb(255,0,0)\">7</span>",
          "<span style=\"color: rgb(255,0,0)\">9</span>",
          "<span style=\"color: rgb(255,0,0)\">11</span>",
          "<span style=\"color: rgb(255,0,0)\">13</span>",
          "<span style=\"color: rgb(255,0,0)\">15</span>",
          "<span style=\"color: rgb(255,0,0)\">17</span>",
          "<span style=\"color: rgb(0,0,255)\">19</span>",
          "<span style=\"color: rgb(0,0,255)\">21</span>",
          "<span style=\"color: rgb(0,0,255)\">23</span>",
          "<span style=\"color: rgb(255,0,255)\">25</span>",
          "<span style=\"color: rgb(255,0,255)\">27</span>",
          "<span style=\"color: rgb(255,0,255)\">29</span>",
          "<span style=\"color: rgb(255,0,255)\">31</span>",
          "<span style=\"color: rgb(255,0,255)\">33</span>",
          "<span style=\"color: rgb(255,0,255)\">35</span>",
          "<span style=\"color: rgb(0,255,0)\">37</span>",
          "<span style=\"color: rgb(0,255,0)\">39</span>",
          "<span style=\"color: rgb(0,255,0)\">41</span>",
          "<span style=\"color: rgb(0,0,255)\">43</span>",
          "<span style=\"color: rgb(0,0,255)\">45</span>",
          "<span style=\"color: rgb(0,0,255)\">47</span>",
          "<span style=\"color: rgb(0,0,255)\">49</span>",
          "<span style=\"color: rgb(0,0,255)\">51</span>",
          "<span style=\"color: rgb(0,0,255)\">53</span>",
          "<span style=\"color: rgb(255,0,255)\">55</span>",
          "<span style=\"color: rgb(255,0,255)\">57</span>",
          "<span style=\"color: rgb(255,0,255)\">59</span>",
          "<span style=\"color: rgb(255,0,0)\">61</span>",
          "<span style=\"color: rgb(255,0,0)\">63</span>",
          "<span style=\"color: rgb(255,0,0)\">65</span>",
          "<span style=\"color: rgb(255,0,0)\">67</span>",
          "<span style=\"color: rgb(255,0,0)\">69</span>",
          "<span style=\"color: rgb(255,0,0)\">71</span>",
          "<span style=\"color: rgb(0,0,255)\">73</span>",
          "<span style=\"color: rgb(0,0,255)\">75</span>",
          "<span style=\"color: rgb(0,0,255)\">77</span>",
          "<span style=\"color: rgb(255,0,255)\">79</span>",
          "<span style=\"color: rgb(255,0,255)\">81</span>",
          "<span style=\"color: rgb(255,0,255)\">83</span>",
          "<span style=\"color: rgb(255,0,0)\">85</span>",
          "<span style=\"color: rgb(255,0,0)\">87</span>",
          "<span style=\"color: rgb(255,0,0)\">89</span>",
          "<span style=\"color: rgb(255,0,0)\">91</span>",
          "<span style=\"color: rgb(255,0,0)\">93</span>",
          "<span style=\"color: rgb(255,0,0)\">95</span>",
          "<span style=\"color: rgb(0,0,255)\">97</span>",
          "<span style=\"color: rgb(0,0,255)\">99</span>",
          "<span style=\"color: rgb(0,0,255)\">101</span>",
          "<span style=\"color: rgb(255,0,255)\">103</span>",
          "<span style=\"color: rgb(255,0,255)\">105</span>",
          "<span style=\"color: rgb(255,0,255)\">107</span>",
          "<span style=\"color: rgb(255,0,255)\">109</span>",
          "<span style=\"color: rgb(255,0,255)\">111</span>",
          "<span style=\"color: rgb(255,0,255)\">113</span>",
          "<span style=\"color: rgb(0,255,0)\">115</span>",
          "<span style=\"color: rgb(0,255,0)\">117</span>",
          "<span style=\"color: rgb(0,255,0)\">119</span>",
          "<span style=\"color: rgb(0,0,255)\">121</span>",
          "<span style=\"color: rgb(0,0,255)\">123</span>",
          "<span style=\"color: rgb(0,0,255)\">125</span>",
          "<span style=\"color: rgb(0,0,255)\">127</span>",
          "<span style=\"color: rgb(0,0,255)\">129</span>",
          "<span style=\"color: rgb(0,0,255)\">131</span>",
          "<span style=\"color: rgb(255,0,255)\">133</span>",
          "<span style=\"color: rgb(255,0,255)\">135</span>",
          "<span style=\"color: rgb(255,0,255)\">137</span>",
          "<span style=\"color: rgb(255,0,0)\">139</span>",
          "<span style=\"color: rgb(255,0,0)\">141</span>",
          "<span style=\"color: rgb(255,0,0)\">143</span>",
          "<span style=\"color: rgb(255,0,0)\">145</span>",
          "<span style=\"color: rgb(255,0,0)\">147</span>",
          "<span style=\"color: rgb(255,0,0)\">149</span>",
          "<span style=\"color: rgb(0,0,255)\">151</span>",
          "<span style=\"color: rgb(0,0,255)\">153</span>",
          "<span style=\"color: rgb(0,0,255)\">155</span>",
          "<span style=\"color: rgb(255,0,255)\">157</span>",
          "<span style=\"color: rgb(255,0,255)\">159</span>",
          "<span style=\"color: rgb(255,0,255)\">161</span>",
          "<span style=\"color: rgb(255,0,0)\">163</span>",
          "<span style=\"color: rgb(255,0,0)\">165</span>",
          "<span style=\"color: rgb(255,0,0)\">167</span>",
          "<span style=\"color: rgb(255,0,0)\">169</span>",
          "<span style=\"color: rgb(255,0,0)\">171</span>",
          "<span style=\"color: rgb(255,0,0)\">173</span>",
          "<span style=\"color: rgb(0,0,255)\">175</span>",
          "<span style=\"color: rgb(0,0,255)\">177</span>",
          "<span style=\"color: rgb(0,0,255)\">179</span>",
          "<span style=\"color: rgb(255,0,255)\">181</span>",
          "<span style=\"color: rgb(255,0,255)\">183</span>",
          "<span style=\"color: rgb(255,0,255)\">185</span>",
          "<span style=\"color: rgb(255,0,255)\">187</span>",
          "<span style=\"color: rgb(255,0,255)\">189</span>",
          "<span style=\"color: rgb(255,0,255)\">191</span>",
          "<span style=\"color: rgb(0,255,0)\">193</span>",
          "<span style=\"color: rgb(0,255,0)\">195</span>",
          "<span style=\"color: rgb(0,255,0)\">197</span>",
          "<span style=\"color: rgb(0,0,255)\">199</span>",
          "<span style=\"color: rgb(0,0,255)\">201</span>",
          "<span style=\"color: rgb(0,0,255)\">203</span>",
          "<span style=\"color: rgb(0,0,255)\">205</span>",
          "<span style=\"color: rgb(0,0,255)\">207</span>",
          "<span style=\"color: rgb(0,0,255)\">209</span>",
          "<span style=\"color: rgb(255,0,255)\">211</span>",
          "<span style=\"color: rgb(255,0,255)\">213</span>",
          "<span style=\"color: rgb(255,0,255)\">215</span>",
          "<span style=\"color: rgb(255,0,0)\">217</span>",
          "<span style=\"color: rgb(255,0,0)\">219</span>",
          "<span style=\"color: rgb(255,0,0)\">221</span>",
          "<span style=\"color: rgb(255,0,0)\">223</span>",
          "<span style=\"color: rgb(255,0,0)\">225</span>",
          "<span style=\"color: rgb(255,0,0)\">227</span>",
          "<span style=\"color: rgb(0,0,255)\">229</span>",
          "<span style=\"color: rgb(0,0,255)\">231</span>",
          "<span style=\"color: rgb(0,0,255)\">233</span>",
          "<span style=\"color: rgb(255,0,255)\">235</span>",
          "<span style=\"color: rgb(255,0,255)\">237</span>",
          "<span style=\"color: rgb(255,0,255)\">239</span>",
          "<span style=\"color: rgb(255,0,0)\">241</span>",
          "<span style=\"color: rgb(255,0,0)\">243</span>",
          "<span style=\"color: rgb(255,0,0)\">245</span>",
          "<span style=\"color: rgb(255,0,0)\">247</span>",
          "<span style=\"color: rgb(255,0,0)\">249</span>",
          "<span style=\"color: rgb(255,0,0)\">251</span>",
          "<span style=\"color: rgb(0,0,255)\">253</span>",
          "<span style=\"color: rgb(0,0,255)\">255</span>",
          "<span style=\"color: rgb(0,0,255)\">257</span>",
          "<span style=\"color: rgb(255,0,255)\">259</span>",
          "<span style=\"color: rgb(255,0,255)\">261</span>",
          "<span style=\"color: rgb(255,0,255)\">263</span>",
          "<span style=\"color: rgb(255,0,255)\">265</span>",
          "<span style=\"color: rgb(255,0,255)\">267</span>",
          "<span style=\"color: rgb(255,0,255)\">269</span>",
          "<span style=\"color: rgb(0,255,0)\">271</span>",
          "<span style=\"color: rgb(0,255,0)\">273</span>",
          "<span style=\"color: rgb(0,255,0)\">275</span>",
          "<span style=\"color: rgb(0,0,255)\">277</span>",
          "<span style=\"color: rgb(0,0,255)\">279</span>",
          "<span style=\"color: rgb(0,0,255)\">281</span>",
          "<span style=\"color: rgb(0,0,255)\">283</span>",
          "<span style=\"color: rgb(0,0,255)\">285</span>",
          "<span style=\"color: rgb(0,0,255)\">287</span>",
          "<span style=\"color: rgb(255,0,255)\">289</span>",
          "<span style=\"color: rgb(255,0,255)\">291</span>",
          "<span style=\"color: rgb(255,0,255)\">293</span>",
          "<span style=\"color: rgb(255,0,0)\">295</span>",
          "<span style=\"color: rgb(255,0,0)\">297</span>",
          "<span style=\"color: rgb(255,0,0)\">299</span>",
          "<span style=\"color: rgb(255,0,0)\">301</span>",
          "<span style=\"color: rgb(255,0,0)\">303</span>",
          "<span style=\"color: rgb(255,0,0)\">305</span>",
          "<span style=\"color: rgb(0,0,255)\">307</span>",
          "<span style=\"color: rgb(0,0,255)\">309</span>",
          "<span style=\"color: rgb(0,0,255)\">311</span>"
         ],
         "textposition": "top center",
         "type": "scatter",
         "x": [
          20.254225000000027,
          20.254225000000027,
          20.254225000000027,
          27.874225000000024,
          27.874225000000024,
          27.874225000000024,
          27.874225000000024,
          27.874225000000024,
          27.874225000000024,
          35.49422500000002,
          35.49422500000002,
          35.49422500000002,
          50.25422500000002,
          50.25422500000002,
          50.25422500000002,
          50.25422500000002,
          50.25422500000002,
          50.25422500000002,
          57.874225000000024,
          57.874225000000024,
          57.874225000000024,
          65.49422500000003,
          65.49422500000003,
          65.49422500000003,
          65.49422500000003,
          65.49422500000003,
          65.49422500000003,
          80.25422500000002,
          80.25422500000002,
          80.25422500000002,
          87.87422500000002,
          87.87422500000002,
          87.87422500000002,
          87.87422500000002,
          87.87422500000002,
          87.87422500000002,
          95.49422500000003,
          95.49422500000003,
          95.49422500000003,
          153.53807500000005,
          153.53807500000005,
          153.53807500000005,
          161.15807500000005,
          161.15807500000005,
          161.15807500000005,
          161.15807500000005,
          161.15807500000005,
          161.15807500000005,
          168.77807500000006,
          168.77807500000006,
          168.77807500000006,
          183.53807500000005,
          183.53807500000005,
          183.53807500000005,
          183.53807500000005,
          183.53807500000005,
          183.53807500000005,
          191.15807500000005,
          191.15807500000005,
          191.15807500000005,
          198.77807500000006,
          198.77807500000006,
          198.77807500000006,
          198.77807500000006,
          198.77807500000006,
          198.77807500000006,
          213.53807500000005,
          213.53807500000005,
          213.53807500000005,
          221.15807500000005,
          221.15807500000005,
          221.15807500000005,
          221.15807500000005,
          221.15807500000005,
          221.15807500000005,
          228.77807500000006,
          228.77807500000006,
          228.77807500000006,
          280.62192500000003,
          280.62192500000003,
          280.62192500000003,
          288.24192500000004,
          288.24192500000004,
          288.24192500000004,
          288.24192500000004,
          288.24192500000004,
          288.24192500000004,
          295.86192500000004,
          295.86192500000004,
          295.86192500000004,
          310.62192500000003,
          310.62192500000003,
          310.62192500000003,
          310.62192500000003,
          310.62192500000003,
          310.62192500000003,
          318.24192500000004,
          318.24192500000004,
          318.24192500000004,
          325.86192500000004,
          325.86192500000004,
          325.86192500000004,
          325.86192500000004,
          325.86192500000004,
          325.86192500000004,
          340.62192500000003,
          340.62192500000003,
          340.62192500000003,
          348.24192500000004,
          348.24192500000004,
          348.24192500000004,
          348.24192500000004,
          348.24192500000004,
          348.24192500000004,
          355.86192500000004,
          355.86192500000004,
          355.86192500000004,
          413.90577500000006,
          413.90577500000006,
          413.90577500000006,
          421.52577500000007,
          421.52577500000007,
          421.52577500000007,
          421.52577500000007,
          421.52577500000007,
          421.52577500000007,
          429.14577500000007,
          429.14577500000007,
          429.14577500000007,
          443.90577500000006,
          443.90577500000006,
          443.90577500000006,
          443.90577500000006,
          443.90577500000006,
          443.90577500000006,
          451.52577500000007,
          451.52577500000007,
          451.52577500000007,
          459.14577500000007,
          459.14577500000007,
          459.14577500000007,
          459.14577500000007,
          459.14577500000007,
          459.14577500000007,
          473.90577500000006,
          473.90577500000006,
          473.90577500000006,
          481.52577500000007,
          481.52577500000007,
          481.52577500000007,
          481.52577500000007,
          481.52577500000007,
          481.52577500000007,
          489.14577500000007,
          489.14577500000007,
          489.14577500000007
         ],
         "xaxis": "x",
         "y": [
          -135,
          0,
          135,
          -175,
          -95,
          -40,
          40,
          95,
          175,
          -135,
          0,
          135,
          -175,
          -95,
          -40,
          40,
          95,
          175,
          -135,
          0,
          135,
          -175,
          -95,
          -40,
          40,
          95,
          175,
          -135,
          0,
          135,
          -175,
          -95,
          -40,
          40,
          95,
          175,
          -135,
          0,
          135,
          -135,
          0,
          135,
          -175,
          -95,
          -40,
          40,
          95,
          175,
          -135,
          0,
          135,
          -175,
          -95,
          -40,
          40,
          95,
          175,
          -135,
          0,
          135,
          -175,
          -95,
          -40,
          40,
          95,
          175,
          -135,
          0,
          135,
          -175,
          -95,
          -40,
          40,
          95,
          175,
          -135,
          0,
          135,
          -135,
          0,
          135,
          -175,
          -95,
          -40,
          40,
          95,
          175,
          -135,
          0,
          135,
          -175,
          -95,
          -40,
          40,
          95,
          175,
          -135,
          0,
          135,
          -175,
          -95,
          -40,
          40,
          95,
          175,
          -135,
          0,
          135,
          -175,
          -95,
          -40,
          40,
          95,
          175,
          -135,
          0,
          135,
          -135,
          0,
          135,
          -175,
          -95,
          -40,
          40,
          95,
          175,
          -135,
          0,
          135,
          -175,
          -95,
          -40,
          40,
          95,
          175,
          -135,
          0,
          135,
          -175,
          -95,
          -40,
          40,
          95,
          175,
          -135,
          0,
          135,
          -175,
          -95,
          -40,
          40,
          95,
          175,
          -135,
          0,
          135
         ],
         "yaxis": "y"
        },
        {
         "marker": {
          "color": "rgb(255,0,0)",
          "showscale": false,
          "size": 10
         },
         "mode": "markers",
         "name": "0: CoatedPMT (VIS and VUV)",
         "type": "scatter",
         "x": [
          null
         ],
         "y": [
          null
         ]
        },
        {
         "marker": {
          "color": "rgb(0,255,0)",
          "showscale": false,
          "size": 10
         },
         "mode": "markers",
         "name": "1: UncoatedPMT (only VIS)",
         "type": "scatter",
         "x": [
          null
         ],
         "y": [
          null
         ]
        },
        {
         "marker": {
          "color": "rgb(0,0,255)",
          "showscale": false,
          "size": 10
         },
         "mode": "markers",
         "name": "2: VUV XARAPUCA",
         "type": "scatter",
         "x": [
          null
         ],
         "y": [
          null
         ]
        },
        {
         "marker": {
          "color": "rgb(255,0,255)",
          "showscale": false,
          "size": 10
         },
         "mode": "markers",
         "name": "3: VIS XARAPUCA",
         "type": "scatter",
         "x": [
          null
         ],
         "y": [
          null
         ]
        }
       ],
       "layout": {
        "annotations": [
         {
          "font": {
           "size": 25
          },
          "showarrow": false,
          "text": "x>0, Odd IDs",
          "x": 0.5,
          "xanchor": "center",
          "xref": "paper",
          "y": 1.02,
          "yanchor": "bottom",
          "yref": "paper"
         },
         {
          "font": {
           "size": 25
          },
          "showarrow": false,
          "text": "x<0, Even IDs",
          "x": 0.5,
          "xanchor": "center",
          "xref": "paper",
          "y": 0.445,
          "yanchor": "bottom",
          "yref": "paper"
         }
        ],
        "height": 800,
        "margin": {
         "b": 10,
         "l": 10,
         "r": 10,
         "t": 50
        },
        "template": {
         "data": {
          "bar": [
           {
            "error_x": {
             "color": "#2a3f5f"
            },
            "error_y": {
             "color": "#2a3f5f"
            },
            "marker": {
             "line": {
              "color": "#E5ECF6",
              "width": 0.5
             },
             "pattern": {
              "fillmode": "overlay",
              "size": 10,
              "solidity": 0.2
             }
            },
            "type": "bar"
           }
          ],
          "barpolar": [
           {
            "marker": {
             "line": {
              "color": "#E5ECF6",
              "width": 0.5
             },
             "pattern": {
              "fillmode": "overlay",
              "size": 10,
              "solidity": 0.2
             }
            },
            "type": "barpolar"
           }
          ],
          "carpet": [
           {
            "aaxis": {
             "endlinecolor": "#2a3f5f",
             "gridcolor": "white",
             "linecolor": "white",
             "minorgridcolor": "white",
             "startlinecolor": "#2a3f5f"
            },
            "baxis": {
             "endlinecolor": "#2a3f5f",
             "gridcolor": "white",
             "linecolor": "white",
             "minorgridcolor": "white",
             "startlinecolor": "#2a3f5f"
            },
            "type": "carpet"
           }
          ],
          "choropleth": [
           {
            "colorbar": {
             "outlinewidth": 0,
             "ticks": ""
            },
            "type": "choropleth"
           }
          ],
          "contour": [
           {
            "colorbar": {
             "outlinewidth": 0,
             "ticks": ""
            },
            "colorscale": [
             [
              0,
              "#0d0887"
             ],
             [
              0.1111111111111111,
              "#46039f"
             ],
             [
              0.2222222222222222,
              "#7201a8"
             ],
             [
              0.3333333333333333,
              "#9c179e"
             ],
             [
              0.4444444444444444,
              "#bd3786"
             ],
             [
              0.5555555555555556,
              "#d8576b"
             ],
             [
              0.6666666666666666,
              "#ed7953"
             ],
             [
              0.7777777777777778,
              "#fb9f3a"
             ],
             [
              0.8888888888888888,
              "#fdca26"
             ],
             [
              1,
              "#f0f921"
             ]
            ],
            "type": "contour"
           }
          ],
          "contourcarpet": [
           {
            "colorbar": {
             "outlinewidth": 0,
             "ticks": ""
            },
            "type": "contourcarpet"
           }
          ],
          "heatmap": [
           {
            "colorbar": {
             "outlinewidth": 0,
             "ticks": ""
            },
            "colorscale": [
             [
              0,
              "#0d0887"
             ],
             [
              0.1111111111111111,
              "#46039f"
             ],
             [
              0.2222222222222222,
              "#7201a8"
             ],
             [
              0.3333333333333333,
              "#9c179e"
             ],
             [
              0.4444444444444444,
              "#bd3786"
             ],
             [
              0.5555555555555556,
              "#d8576b"
             ],
             [
              0.6666666666666666,
              "#ed7953"
             ],
             [
              0.7777777777777778,
              "#fb9f3a"
             ],
             [
              0.8888888888888888,
              "#fdca26"
             ],
             [
              1,
              "#f0f921"
             ]
            ],
            "type": "heatmap"
           }
          ],
          "heatmapgl": [
           {
            "colorbar": {
             "outlinewidth": 0,
             "ticks": ""
            },
            "colorscale": [
             [
              0,
              "#0d0887"
             ],
             [
              0.1111111111111111,
              "#46039f"
             ],
             [
              0.2222222222222222,
              "#7201a8"
             ],
             [
              0.3333333333333333,
              "#9c179e"
             ],
             [
              0.4444444444444444,
              "#bd3786"
             ],
             [
              0.5555555555555556,
              "#d8576b"
             ],
             [
              0.6666666666666666,
              "#ed7953"
             ],
             [
              0.7777777777777778,
              "#fb9f3a"
             ],
             [
              0.8888888888888888,
              "#fdca26"
             ],
             [
              1,
              "#f0f921"
             ]
            ],
            "type": "heatmapgl"
           }
          ],
          "histogram": [
           {
            "marker": {
             "pattern": {
              "fillmode": "overlay",
              "size": 10,
              "solidity": 0.2
             }
            },
            "type": "histogram"
           }
          ],
          "histogram2d": [
           {
            "colorbar": {
             "outlinewidth": 0,
             "ticks": ""
            },
            "colorscale": [
             [
              0,
              "#0d0887"
             ],
             [
              0.1111111111111111,
              "#46039f"
             ],
             [
              0.2222222222222222,
              "#7201a8"
             ],
             [
              0.3333333333333333,
              "#9c179e"
             ],
             [
              0.4444444444444444,
              "#bd3786"
             ],
             [
              0.5555555555555556,
              "#d8576b"
             ],
             [
              0.6666666666666666,
              "#ed7953"
             ],
             [
              0.7777777777777778,
              "#fb9f3a"
             ],
             [
              0.8888888888888888,
              "#fdca26"
             ],
             [
              1,
              "#f0f921"
             ]
            ],
            "type": "histogram2d"
           }
          ],
          "histogram2dcontour": [
           {
            "colorbar": {
             "outlinewidth": 0,
             "ticks": ""
            },
            "colorscale": [
             [
              0,
              "#0d0887"
             ],
             [
              0.1111111111111111,
              "#46039f"
             ],
             [
              0.2222222222222222,
              "#7201a8"
             ],
             [
              0.3333333333333333,
              "#9c179e"
             ],
             [
              0.4444444444444444,
              "#bd3786"
             ],
             [
              0.5555555555555556,
              "#d8576b"
             ],
             [
              0.6666666666666666,
              "#ed7953"
             ],
             [
              0.7777777777777778,
              "#fb9f3a"
             ],
             [
              0.8888888888888888,
              "#fdca26"
             ],
             [
              1,
              "#f0f921"
             ]
            ],
            "type": "histogram2dcontour"
           }
          ],
          "mesh3d": [
           {
            "colorbar": {
             "outlinewidth": 0,
             "ticks": ""
            },
            "type": "mesh3d"
           }
          ],
          "parcoords": [
           {
            "line": {
             "colorbar": {
              "outlinewidth": 0,
              "ticks": ""
             }
            },
            "type": "parcoords"
           }
          ],
          "pie": [
           {
            "automargin": true,
            "type": "pie"
           }
          ],
          "scatter": [
           {
            "fillpattern": {
             "fillmode": "overlay",
             "size": 10,
             "solidity": 0.2
            },
            "type": "scatter"
           }
          ],
          "scatter3d": [
           {
            "line": {
             "colorbar": {
              "outlinewidth": 0,
              "ticks": ""
             }
            },
            "marker": {
             "colorbar": {
              "outlinewidth": 0,
              "ticks": ""
             }
            },
            "type": "scatter3d"
           }
          ],
          "scattercarpet": [
           {
            "marker": {
             "colorbar": {
              "outlinewidth": 0,
              "ticks": ""
             }
            },
            "type": "scattercarpet"
           }
          ],
          "scattergeo": [
           {
            "marker": {
             "colorbar": {
              "outlinewidth": 0,
              "ticks": ""
             }
            },
            "type": "scattergeo"
           }
          ],
          "scattergl": [
           {
            "marker": {
             "colorbar": {
              "outlinewidth": 0,
              "ticks": ""
             }
            },
            "type": "scattergl"
           }
          ],
          "scattermapbox": [
           {
            "marker": {
             "colorbar": {
              "outlinewidth": 0,
              "ticks": ""
             }
            },
            "type": "scattermapbox"
           }
          ],
          "scatterpolar": [
           {
            "marker": {
             "colorbar": {
              "outlinewidth": 0,
              "ticks": ""
             }
            },
            "type": "scatterpolar"
           }
          ],
          "scatterpolargl": [
           {
            "marker": {
             "colorbar": {
              "outlinewidth": 0,
              "ticks": ""
             }
            },
            "type": "scatterpolargl"
           }
          ],
          "scatterternary": [
           {
            "marker": {
             "colorbar": {
              "outlinewidth": 0,
              "ticks": ""
             }
            },
            "type": "scatterternary"
           }
          ],
          "surface": [
           {
            "colorbar": {
             "outlinewidth": 0,
             "ticks": ""
            },
            "colorscale": [
             [
              0,
              "#0d0887"
             ],
             [
              0.1111111111111111,
              "#46039f"
             ],
             [
              0.2222222222222222,
              "#7201a8"
             ],
             [
              0.3333333333333333,
              "#9c179e"
             ],
             [
              0.4444444444444444,
              "#bd3786"
             ],
             [
              0.5555555555555556,
              "#d8576b"
             ],
             [
              0.6666666666666666,
              "#ed7953"
             ],
             [
              0.7777777777777778,
              "#fb9f3a"
             ],
             [
              0.8888888888888888,
              "#fdca26"
             ],
             [
              1,
              "#f0f921"
             ]
            ],
            "type": "surface"
           }
          ],
          "table": [
           {
            "cells": {
             "fill": {
              "color": "#EBF0F8"
             },
             "line": {
              "color": "white"
             }
            },
            "header": {
             "fill": {
              "color": "#C8D4E3"
             },
             "line": {
              "color": "white"
             }
            },
            "type": "table"
           }
          ]
         },
         "layout": {
          "annotationdefaults": {
           "arrowcolor": "#2a3f5f",
           "arrowhead": 0,
           "arrowwidth": 1
          },
          "autotypenumbers": "strict",
          "coloraxis": {
           "colorbar": {
            "outlinewidth": 0,
            "ticks": ""
           }
          },
          "colorscale": {
           "diverging": [
            [
             0,
             "#8e0152"
            ],
            [
             0.1,
             "#c51b7d"
            ],
            [
             0.2,
             "#de77ae"
            ],
            [
             0.3,
             "#f1b6da"
            ],
            [
             0.4,
             "#fde0ef"
            ],
            [
             0.5,
             "#f7f7f7"
            ],
            [
             0.6,
             "#e6f5d0"
            ],
            [
             0.7,
             "#b8e186"
            ],
            [
             0.8,
             "#7fbc41"
            ],
            [
             0.9,
             "#4d9221"
            ],
            [
             1,
             "#276419"
            ]
           ],
           "sequential": [
            [
             0,
             "#0d0887"
            ],
            [
             0.1111111111111111,
             "#46039f"
            ],
            [
             0.2222222222222222,
             "#7201a8"
            ],
            [
             0.3333333333333333,
             "#9c179e"
            ],
            [
             0.4444444444444444,
             "#bd3786"
            ],
            [
             0.5555555555555556,
             "#d8576b"
            ],
            [
             0.6666666666666666,
             "#ed7953"
            ],
            [
             0.7777777777777778,
             "#fb9f3a"
            ],
            [
             0.8888888888888888,
             "#fdca26"
            ],
            [
             1,
             "#f0f921"
            ]
           ],
           "sequentialminus": [
            [
             0,
             "#0d0887"
            ],
            [
             0.1111111111111111,
             "#46039f"
            ],
            [
             0.2222222222222222,
             "#7201a8"
            ],
            [
             0.3333333333333333,
             "#9c179e"
            ],
            [
             0.4444444444444444,
             "#bd3786"
            ],
            [
             0.5555555555555556,
             "#d8576b"
            ],
            [
             0.6666666666666666,
             "#ed7953"
            ],
            [
             0.7777777777777778,
             "#fb9f3a"
            ],
            [
             0.8888888888888888,
             "#fdca26"
            ],
            [
             1,
             "#f0f921"
            ]
           ]
          },
          "colorway": [
           "#636efa",
           "#EF553B",
           "#00cc96",
           "#ab63fa",
           "#FFA15A",
           "#19d3f3",
           "#FF6692",
           "#B6E880",
           "#FF97FF",
           "#FECB52"
          ],
          "font": {
           "color": "#2a3f5f"
          },
          "geo": {
           "bgcolor": "white",
           "lakecolor": "white",
           "landcolor": "#E5ECF6",
           "showlakes": true,
           "showland": true,
           "subunitcolor": "white"
          },
          "hoverlabel": {
           "align": "left"
          },
          "hovermode": "closest",
          "mapbox": {
           "style": "light"
          },
          "paper_bgcolor": "white",
          "plot_bgcolor": "#E5ECF6",
          "polar": {
           "angularaxis": {
            "gridcolor": "white",
            "linecolor": "white",
            "ticks": ""
           },
           "bgcolor": "#E5ECF6",
           "radialaxis": {
            "gridcolor": "white",
            "linecolor": "white",
            "ticks": ""
           }
          },
          "scene": {
           "xaxis": {
            "backgroundcolor": "#E5ECF6",
            "gridcolor": "white",
            "gridwidth": 2,
            "linecolor": "white",
            "showbackground": true,
            "ticks": "",
            "zerolinecolor": "white"
           },
           "yaxis": {
            "backgroundcolor": "#E5ECF6",
            "gridcolor": "white",
            "gridwidth": 2,
            "linecolor": "white",
            "showbackground": true,
            "ticks": "",
            "zerolinecolor": "white"
           },
           "zaxis": {
            "backgroundcolor": "#E5ECF6",
            "gridcolor": "white",
            "gridwidth": 2,
            "linecolor": "white",
            "showbackground": true,
            "ticks": "",
            "zerolinecolor": "white"
           }
          },
          "shapedefaults": {
           "line": {
            "color": "#2a3f5f"
           }
          },
          "ternary": {
           "aaxis": {
            "gridcolor": "white",
            "linecolor": "white",
            "ticks": ""
           },
           "baxis": {
            "gridcolor": "white",
            "linecolor": "white",
            "ticks": ""
           },
           "bgcolor": "#E5ECF6",
           "caxis": {
            "gridcolor": "white",
            "linecolor": "white",
            "ticks": ""
           }
          },
          "title": {
           "x": 0.05
          },
          "xaxis": {
           "automargin": true,
           "gridcolor": "white",
           "linecolor": "white",
           "ticks": "",
           "title": {
            "standoff": 15
           },
           "zerolinecolor": "white",
           "zerolinewidth": 2
          },
          "yaxis": {
           "automargin": true,
           "gridcolor": "white",
           "linecolor": "white",
           "ticks": "",
           "title": {
            "standoff": 15
           },
           "zerolinecolor": "white",
           "zerolinewidth": 2
          }
         }
        },
        "title": {
         "text": "2D Detector Planes"
        },
        "width": 1200,
        "xaxis": {
         "anchor": "y",
         "domain": [
          0,
          1
         ],
         "title": {
          "text": "Z"
         }
        },
        "xaxis2": {
         "anchor": "y2",
         "domain": [
          0,
          1
         ],
         "title": {
          "text": "Z"
         }
        },
        "yaxis": {
         "anchor": "x",
         "domain": [
          0.575,
          1
         ],
         "title": {
          "text": "Y"
         }
        },
        "yaxis2": {
         "anchor": "x2",
         "domain": [
          0,
          0.425
         ],
         "title": {
          "text": "Y"
         }
        }
       }
      },
      "text/html": [
       "<div>                            <div id=\"2f943174-cfd3-41e0-b467-478aed55a8d7\" class=\"plotly-graph-div\" style=\"height:800px; width:1200px;\"></div>            <script type=\"text/javascript\">                require([\"plotly\"], function(Plotly) {                    window.PLOTLYENV=window.PLOTLYENV || {};                                    if (document.getElementById(\"2f943174-cfd3-41e0-b467-478aed55a8d7\")) {                    Plotly.newPlot(                        \"2f943174-cfd3-41e0-b467-478aed55a8d7\",                        [{\"hoverinfo\":\"text\",\"marker\":{\"color\":[3,3,3,0,0,0,0,0,0,2,2,2,3,3,3,3,3,3,1,1,1,2,2,2,2,2,2,3,3,3,0,0,0,0,0,0,2,2,2,3,3,3,0,0,0,0,0,0,2,2,2,3,3,3,3,3,3,1,1,1,2,2,2,2,2,2,3,3,3,0,0,0,0,0,0,2,2,2,3,3,3,0,0,0,0,0,0,2,2,2,3,3,3,3,3,3,1,1,1,2,2,2,2,2,2,3,3,3,0,0,0,0,0,0,2,2,2,3,3,3,0,0,0,0,0,0,2,2,2,3,3,3,3,3,3,1,1,1,2,2,2,2,2,2,3,3,3,0,0,0,0,0,0,2,2,2],\"colorbar\":{\"title\":{\"text\":\"Color Scale\"}},\"colorscale\":[[0.0,\"rgb(0,0,131)\"],[0.2,\"rgb(0,60,170)\"],[0.4,\"rgb(5,255,255)\"],[0.6,\"rgb(255,255,0)\"],[0.8,\"rgb(250,0,0)\"],[1.0,\"rgb(128,0,0)\"]],\"size\":10},\"mode\":\"text\",\"text\":[\"\\u003cspan style=\\\"color: rgb(255,0,255)\\\"\\u003e0\\u003c\\u002fspan\\u003e\",\"\\u003cspan style=\\\"color: rgb(255,0,255)\\\"\\u003e2\\u003c\\u002fspan\\u003e\",\"\\u003cspan style=\\\"color: rgb(255,0,255)\\\"\\u003e4\\u003c\\u002fspan\\u003e\",\"\\u003cspan style=\\\"color: rgb(255,0,0)\\\"\\u003e6\\u003c\\u002fspan\\u003e\",\"\\u003cspan style=\\\"color: rgb(255,0,0)\\\"\\u003e8\\u003c\\u002fspan\\u003e\",\"\\u003cspan style=\\\"color: rgb(255,0,0)\\\"\\u003e10\\u003c\\u002fspan\\u003e\",\"\\u003cspan style=\\\"color: rgb(255,0,0)\\\"\\u003e12\\u003c\\u002fspan\\u003e\",\"\\u003cspan style=\\\"color: rgb(255,0,0)\\\"\\u003e14\\u003c\\u002fspan\\u003e\",\"\\u003cspan style=\\\"color: rgb(255,0,0)\\\"\\u003e16\\u003c\\u002fspan\\u003e\",\"\\u003cspan style=\\\"color: rgb(0,0,255)\\\"\\u003e18\\u003c\\u002fspan\\u003e\",\"\\u003cspan style=\\\"color: rgb(0,0,255)\\\"\\u003e20\\u003c\\u002fspan\\u003e\",\"\\u003cspan style=\\\"color: rgb(0,0,255)\\\"\\u003e22\\u003c\\u002fspan\\u003e\",\"\\u003cspan style=\\\"color: rgb(255,0,255)\\\"\\u003e24\\u003c\\u002fspan\\u003e\",\"\\u003cspan style=\\\"color: rgb(255,0,255)\\\"\\u003e26\\u003c\\u002fspan\\u003e\",\"\\u003cspan style=\\\"color: rgb(255,0,255)\\\"\\u003e28\\u003c\\u002fspan\\u003e\",\"\\u003cspan style=\\\"color: rgb(255,0,255)\\\"\\u003e30\\u003c\\u002fspan\\u003e\",\"\\u003cspan style=\\\"color: rgb(255,0,255)\\\"\\u003e32\\u003c\\u002fspan\\u003e\",\"\\u003cspan style=\\\"color: rgb(255,0,255)\\\"\\u003e34\\u003c\\u002fspan\\u003e\",\"\\u003cspan style=\\\"color: rgb(0,255,0)\\\"\\u003e36\\u003c\\u002fspan\\u003e\",\"\\u003cspan style=\\\"color: rgb(0,255,0)\\\"\\u003e38\\u003c\\u002fspan\\u003e\",\"\\u003cspan style=\\\"color: rgb(0,255,0)\\\"\\u003e40\\u003c\\u002fspan\\u003e\",\"\\u003cspan style=\\\"color: rgb(0,0,255)\\\"\\u003e42\\u003c\\u002fspan\\u003e\",\"\\u003cspan style=\\\"color: rgb(0,0,255)\\\"\\u003e44\\u003c\\u002fspan\\u003e\",\"\\u003cspan style=\\\"color: rgb(0,0,255)\\\"\\u003e46\\u003c\\u002fspan\\u003e\",\"\\u003cspan style=\\\"color: rgb(0,0,255)\\\"\\u003e48\\u003c\\u002fspan\\u003e\",\"\\u003cspan style=\\\"color: rgb(0,0,255)\\\"\\u003e50\\u003c\\u002fspan\\u003e\",\"\\u003cspan style=\\\"color: rgb(0,0,255)\\\"\\u003e52\\u003c\\u002fspan\\u003e\",\"\\u003cspan style=\\\"color: rgb(255,0,255)\\\"\\u003e54\\u003c\\u002fspan\\u003e\",\"\\u003cspan style=\\\"color: rgb(255,0,255)\\\"\\u003e56\\u003c\\u002fspan\\u003e\",\"\\u003cspan style=\\\"color: rgb(255,0,255)\\\"\\u003e58\\u003c\\u002fspan\\u003e\",\"\\u003cspan style=\\\"color: rgb(255,0,0)\\\"\\u003e60\\u003c\\u002fspan\\u003e\",\"\\u003cspan style=\\\"color: rgb(255,0,0)\\\"\\u003e62\\u003c\\u002fspan\\u003e\",\"\\u003cspan style=\\\"color: rgb(255,0,0)\\\"\\u003e64\\u003c\\u002fspan\\u003e\",\"\\u003cspan style=\\\"color: rgb(255,0,0)\\\"\\u003e66\\u003c\\u002fspan\\u003e\",\"\\u003cspan style=\\\"color: rgb(255,0,0)\\\"\\u003e68\\u003c\\u002fspan\\u003e\",\"\\u003cspan style=\\\"color: rgb(255,0,0)\\\"\\u003e70\\u003c\\u002fspan\\u003e\",\"\\u003cspan style=\\\"color: rgb(0,0,255)\\\"\\u003e72\\u003c\\u002fspan\\u003e\",\"\\u003cspan style=\\\"color: rgb(0,0,255)\\\"\\u003e74\\u003c\\u002fspan\\u003e\",\"\\u003cspan style=\\\"color: rgb(0,0,255)\\\"\\u003e76\\u003c\\u002fspan\\u003e\",\"\\u003cspan style=\\\"color: rgb(255,0,255)\\\"\\u003e78\\u003c\\u002fspan\\u003e\",\"\\u003cspan style=\\\"color: rgb(255,0,255)\\\"\\u003e80\\u003c\\u002fspan\\u003e\",\"\\u003cspan style=\\\"color: rgb(255,0,255)\\\"\\u003e82\\u003c\\u002fspan\\u003e\",\"\\u003cspan style=\\\"color: rgb(255,0,0)\\\"\\u003e84\\u003c\\u002fspan\\u003e\",\"\\u003cspan style=\\\"color: rgb(255,0,0)\\\"\\u003e86\\u003c\\u002fspan\\u003e\",\"\\u003cspan style=\\\"color: rgb(255,0,0)\\\"\\u003e88\\u003c\\u002fspan\\u003e\",\"\\u003cspan style=\\\"color: rgb(255,0,0)\\\"\\u003e90\\u003c\\u002fspan\\u003e\",\"\\u003cspan style=\\\"color: rgb(255,0,0)\\\"\\u003e92\\u003c\\u002fspan\\u003e\",\"\\u003cspan style=\\\"color: rgb(255,0,0)\\\"\\u003e94\\u003c\\u002fspan\\u003e\",\"\\u003cspan style=\\\"color: rgb(0,0,255)\\\"\\u003e96\\u003c\\u002fspan\\u003e\",\"\\u003cspan style=\\\"color: rgb(0,0,255)\\\"\\u003e98\\u003c\\u002fspan\\u003e\",\"\\u003cspan style=\\\"color: rgb(0,0,255)\\\"\\u003e100\\u003c\\u002fspan\\u003e\",\"\\u003cspan style=\\\"color: rgb(255,0,255)\\\"\\u003e102\\u003c\\u002fspan\\u003e\",\"\\u003cspan style=\\\"color: rgb(255,0,255)\\\"\\u003e104\\u003c\\u002fspan\\u003e\",\"\\u003cspan style=\\\"color: rgb(255,0,255)\\\"\\u003e106\\u003c\\u002fspan\\u003e\",\"\\u003cspan style=\\\"color: rgb(255,0,255)\\\"\\u003e108\\u003c\\u002fspan\\u003e\",\"\\u003cspan style=\\\"color: rgb(255,0,255)\\\"\\u003e110\\u003c\\u002fspan\\u003e\",\"\\u003cspan style=\\\"color: rgb(255,0,255)\\\"\\u003e112\\u003c\\u002fspan\\u003e\",\"\\u003cspan style=\\\"color: rgb(0,255,0)\\\"\\u003e114\\u003c\\u002fspan\\u003e\",\"\\u003cspan style=\\\"color: rgb(0,255,0)\\\"\\u003e116\\u003c\\u002fspan\\u003e\",\"\\u003cspan style=\\\"color: rgb(0,255,0)\\\"\\u003e118\\u003c\\u002fspan\\u003e\",\"\\u003cspan style=\\\"color: rgb(0,0,255)\\\"\\u003e120\\u003c\\u002fspan\\u003e\",\"\\u003cspan style=\\\"color: rgb(0,0,255)\\\"\\u003e122\\u003c\\u002fspan\\u003e\",\"\\u003cspan style=\\\"color: rgb(0,0,255)\\\"\\u003e124\\u003c\\u002fspan\\u003e\",\"\\u003cspan style=\\\"color: rgb(0,0,255)\\\"\\u003e126\\u003c\\u002fspan\\u003e\",\"\\u003cspan style=\\\"color: rgb(0,0,255)\\\"\\u003e128\\u003c\\u002fspan\\u003e\",\"\\u003cspan style=\\\"color: rgb(0,0,255)\\\"\\u003e130\\u003c\\u002fspan\\u003e\",\"\\u003cspan style=\\\"color: rgb(255,0,255)\\\"\\u003e132\\u003c\\u002fspan\\u003e\",\"\\u003cspan style=\\\"color: rgb(255,0,255)\\\"\\u003e134\\u003c\\u002fspan\\u003e\",\"\\u003cspan style=\\\"color: rgb(255,0,255)\\\"\\u003e136\\u003c\\u002fspan\\u003e\",\"\\u003cspan style=\\\"color: rgb(255,0,0)\\\"\\u003e138\\u003c\\u002fspan\\u003e\",\"\\u003cspan style=\\\"color: rgb(255,0,0)\\\"\\u003e140\\u003c\\u002fspan\\u003e\",\"\\u003cspan style=\\\"color: rgb(255,0,0)\\\"\\u003e142\\u003c\\u002fspan\\u003e\",\"\\u003cspan style=\\\"color: rgb(255,0,0)\\\"\\u003e144\\u003c\\u002fspan\\u003e\",\"\\u003cspan style=\\\"color: rgb(255,0,0)\\\"\\u003e146\\u003c\\u002fspan\\u003e\",\"\\u003cspan style=\\\"color: rgb(255,0,0)\\\"\\u003e148\\u003c\\u002fspan\\u003e\",\"\\u003cspan style=\\\"color: rgb(0,0,255)\\\"\\u003e150\\u003c\\u002fspan\\u003e\",\"\\u003cspan style=\\\"color: rgb(0,0,255)\\\"\\u003e152\\u003c\\u002fspan\\u003e\",\"\\u003cspan style=\\\"color: rgb(0,0,255)\\\"\\u003e154\\u003c\\u002fspan\\u003e\",\"\\u003cspan style=\\\"color: rgb(255,0,255)\\\"\\u003e156\\u003c\\u002fspan\\u003e\",\"\\u003cspan style=\\\"color: rgb(255,0,255)\\\"\\u003e158\\u003c\\u002fspan\\u003e\",\"\\u003cspan style=\\\"color: rgb(255,0,255)\\\"\\u003e160\\u003c\\u002fspan\\u003e\",\"\\u003cspan style=\\\"color: rgb(255,0,0)\\\"\\u003e162\\u003c\\u002fspan\\u003e\",\"\\u003cspan style=\\\"color: rgb(255,0,0)\\\"\\u003e164\\u003c\\u002fspan\\u003e\",\"\\u003cspan style=\\\"color: rgb(255,0,0)\\\"\\u003e166\\u003c\\u002fspan\\u003e\",\"\\u003cspan style=\\\"color: rgb(255,0,0)\\\"\\u003e168\\u003c\\u002fspan\\u003e\",\"\\u003cspan style=\\\"color: rgb(255,0,0)\\\"\\u003e170\\u003c\\u002fspan\\u003e\",\"\\u003cspan style=\\\"color: rgb(255,0,0)\\\"\\u003e172\\u003c\\u002fspan\\u003e\",\"\\u003cspan style=\\\"color: rgb(0,0,255)\\\"\\u003e174\\u003c\\u002fspan\\u003e\",\"\\u003cspan style=\\\"color: rgb(0,0,255)\\\"\\u003e176\\u003c\\u002fspan\\u003e\",\"\\u003cspan style=\\\"color: rgb(0,0,255)\\\"\\u003e178\\u003c\\u002fspan\\u003e\",\"\\u003cspan style=\\\"color: rgb(255,0,255)\\\"\\u003e180\\u003c\\u002fspan\\u003e\",\"\\u003cspan style=\\\"color: rgb(255,0,255)\\\"\\u003e182\\u003c\\u002fspan\\u003e\",\"\\u003cspan style=\\\"color: rgb(255,0,255)\\\"\\u003e184\\u003c\\u002fspan\\u003e\",\"\\u003cspan style=\\\"color: rgb(255,0,255)\\\"\\u003e186\\u003c\\u002fspan\\u003e\",\"\\u003cspan style=\\\"color: rgb(255,0,255)\\\"\\u003e188\\u003c\\u002fspan\\u003e\",\"\\u003cspan style=\\\"color: rgb(255,0,255)\\\"\\u003e190\\u003c\\u002fspan\\u003e\",\"\\u003cspan style=\\\"color: rgb(0,255,0)\\\"\\u003e192\\u003c\\u002fspan\\u003e\",\"\\u003cspan style=\\\"color: rgb(0,255,0)\\\"\\u003e194\\u003c\\u002fspan\\u003e\",\"\\u003cspan style=\\\"color: rgb(0,255,0)\\\"\\u003e196\\u003c\\u002fspan\\u003e\",\"\\u003cspan style=\\\"color: rgb(0,0,255)\\\"\\u003e198\\u003c\\u002fspan\\u003e\",\"\\u003cspan style=\\\"color: rgb(0,0,255)\\\"\\u003e200\\u003c\\u002fspan\\u003e\",\"\\u003cspan style=\\\"color: rgb(0,0,255)\\\"\\u003e202\\u003c\\u002fspan\\u003e\",\"\\u003cspan style=\\\"color: rgb(0,0,255)\\\"\\u003e204\\u003c\\u002fspan\\u003e\",\"\\u003cspan style=\\\"color: rgb(0,0,255)\\\"\\u003e206\\u003c\\u002fspan\\u003e\",\"\\u003cspan style=\\\"color: rgb(0,0,255)\\\"\\u003e208\\u003c\\u002fspan\\u003e\",\"\\u003cspan style=\\\"color: rgb(255,0,255)\\\"\\u003e210\\u003c\\u002fspan\\u003e\",\"\\u003cspan style=\\\"color: rgb(255,0,255)\\\"\\u003e212\\u003c\\u002fspan\\u003e\",\"\\u003cspan style=\\\"color: rgb(255,0,255)\\\"\\u003e214\\u003c\\u002fspan\\u003e\",\"\\u003cspan style=\\\"color: rgb(255,0,0)\\\"\\u003e216\\u003c\\u002fspan\\u003e\",\"\\u003cspan style=\\\"color: rgb(255,0,0)\\\"\\u003e218\\u003c\\u002fspan\\u003e\",\"\\u003cspan style=\\\"color: rgb(255,0,0)\\\"\\u003e220\\u003c\\u002fspan\\u003e\",\"\\u003cspan style=\\\"color: rgb(255,0,0)\\\"\\u003e222\\u003c\\u002fspan\\u003e\",\"\\u003cspan style=\\\"color: rgb(255,0,0)\\\"\\u003e224\\u003c\\u002fspan\\u003e\",\"\\u003cspan style=\\\"color: rgb(255,0,0)\\\"\\u003e226\\u003c\\u002fspan\\u003e\",\"\\u003cspan style=\\\"color: rgb(0,0,255)\\\"\\u003e228\\u003c\\u002fspan\\u003e\",\"\\u003cspan style=\\\"color: rgb(0,0,255)\\\"\\u003e230\\u003c\\u002fspan\\u003e\",\"\\u003cspan style=\\\"color: rgb(0,0,255)\\\"\\u003e232\\u003c\\u002fspan\\u003e\",\"\\u003cspan style=\\\"color: rgb(255,0,255)\\\"\\u003e234\\u003c\\u002fspan\\u003e\",\"\\u003cspan style=\\\"color: rgb(255,0,255)\\\"\\u003e236\\u003c\\u002fspan\\u003e\",\"\\u003cspan style=\\\"color: rgb(255,0,255)\\\"\\u003e238\\u003c\\u002fspan\\u003e\",\"\\u003cspan style=\\\"color: rgb(255,0,0)\\\"\\u003e240\\u003c\\u002fspan\\u003e\",\"\\u003cspan style=\\\"color: rgb(255,0,0)\\\"\\u003e242\\u003c\\u002fspan\\u003e\",\"\\u003cspan style=\\\"color: rgb(255,0,0)\\\"\\u003e244\\u003c\\u002fspan\\u003e\",\"\\u003cspan style=\\\"color: rgb(255,0,0)\\\"\\u003e246\\u003c\\u002fspan\\u003e\",\"\\u003cspan style=\\\"color: rgb(255,0,0)\\\"\\u003e248\\u003c\\u002fspan\\u003e\",\"\\u003cspan style=\\\"color: rgb(255,0,0)\\\"\\u003e250\\u003c\\u002fspan\\u003e\",\"\\u003cspan style=\\\"color: rgb(0,0,255)\\\"\\u003e252\\u003c\\u002fspan\\u003e\",\"\\u003cspan style=\\\"color: rgb(0,0,255)\\\"\\u003e254\\u003c\\u002fspan\\u003e\",\"\\u003cspan style=\\\"color: rgb(0,0,255)\\\"\\u003e256\\u003c\\u002fspan\\u003e\",\"\\u003cspan style=\\\"color: rgb(255,0,255)\\\"\\u003e258\\u003c\\u002fspan\\u003e\",\"\\u003cspan style=\\\"color: rgb(255,0,255)\\\"\\u003e260\\u003c\\u002fspan\\u003e\",\"\\u003cspan style=\\\"color: rgb(255,0,255)\\\"\\u003e262\\u003c\\u002fspan\\u003e\",\"\\u003cspan style=\\\"color: rgb(255,0,255)\\\"\\u003e264\\u003c\\u002fspan\\u003e\",\"\\u003cspan style=\\\"color: rgb(255,0,255)\\\"\\u003e266\\u003c\\u002fspan\\u003e\",\"\\u003cspan style=\\\"color: rgb(255,0,255)\\\"\\u003e268\\u003c\\u002fspan\\u003e\",\"\\u003cspan style=\\\"color: rgb(0,255,0)\\\"\\u003e270\\u003c\\u002fspan\\u003e\",\"\\u003cspan style=\\\"color: rgb(0,255,0)\\\"\\u003e272\\u003c\\u002fspan\\u003e\",\"\\u003cspan style=\\\"color: rgb(0,255,0)\\\"\\u003e274\\u003c\\u002fspan\\u003e\",\"\\u003cspan style=\\\"color: rgb(0,0,255)\\\"\\u003e276\\u003c\\u002fspan\\u003e\",\"\\u003cspan style=\\\"color: rgb(0,0,255)\\\"\\u003e278\\u003c\\u002fspan\\u003e\",\"\\u003cspan style=\\\"color: rgb(0,0,255)\\\"\\u003e280\\u003c\\u002fspan\\u003e\",\"\\u003cspan style=\\\"color: rgb(0,0,255)\\\"\\u003e282\\u003c\\u002fspan\\u003e\",\"\\u003cspan style=\\\"color: rgb(0,0,255)\\\"\\u003e284\\u003c\\u002fspan\\u003e\",\"\\u003cspan style=\\\"color: rgb(0,0,255)\\\"\\u003e286\\u003c\\u002fspan\\u003e\",\"\\u003cspan style=\\\"color: rgb(255,0,255)\\\"\\u003e288\\u003c\\u002fspan\\u003e\",\"\\u003cspan style=\\\"color: rgb(255,0,255)\\\"\\u003e290\\u003c\\u002fspan\\u003e\",\"\\u003cspan style=\\\"color: rgb(255,0,255)\\\"\\u003e292\\u003c\\u002fspan\\u003e\",\"\\u003cspan style=\\\"color: rgb(255,0,0)\\\"\\u003e294\\u003c\\u002fspan\\u003e\",\"\\u003cspan style=\\\"color: rgb(255,0,0)\\\"\\u003e296\\u003c\\u002fspan\\u003e\",\"\\u003cspan style=\\\"color: rgb(255,0,0)\\\"\\u003e298\\u003c\\u002fspan\\u003e\",\"\\u003cspan style=\\\"color: rgb(255,0,0)\\\"\\u003e300\\u003c\\u002fspan\\u003e\",\"\\u003cspan style=\\\"color: rgb(255,0,0)\\\"\\u003e302\\u003c\\u002fspan\\u003e\",\"\\u003cspan style=\\\"color: rgb(255,0,0)\\\"\\u003e304\\u003c\\u002fspan\\u003e\",\"\\u003cspan style=\\\"color: rgb(0,0,255)\\\"\\u003e306\\u003c\\u002fspan\\u003e\",\"\\u003cspan style=\\\"color: rgb(0,0,255)\\\"\\u003e308\\u003c\\u002fspan\\u003e\",\"\\u003cspan style=\\\"color: rgb(0,0,255)\\\"\\u003e310\\u003c\\u002fspan\\u003e\"],\"textposition\":\"top center\",\"x\":[20.254225000000027,20.254225000000027,20.254225000000027,27.874225000000024,27.874225000000024,27.874225000000024,27.874225000000024,27.874225000000024,27.874225000000024,35.49422500000002,35.49422500000002,35.49422500000002,50.25422500000002,50.25422500000002,50.25422500000002,50.25422500000002,50.25422500000002,50.25422500000002,57.874225000000024,57.874225000000024,57.874225000000024,65.49422500000003,65.49422500000003,65.49422500000003,65.49422500000003,65.49422500000003,65.49422500000003,80.25422500000002,80.25422500000002,80.25422500000002,87.87422500000002,87.87422500000002,87.87422500000002,87.87422500000002,87.87422500000002,87.87422500000002,95.49422500000003,95.49422500000003,95.49422500000003,153.53807500000005,153.53807500000005,153.53807500000005,161.15807500000005,161.15807500000005,161.15807500000005,161.15807500000005,161.15807500000005,161.15807500000005,168.77807500000006,168.77807500000006,168.77807500000006,183.53807500000005,183.53807500000005,183.53807500000005,183.53807500000005,183.53807500000005,183.53807500000005,191.15807500000005,191.15807500000005,191.15807500000005,198.77807500000006,198.77807500000006,198.77807500000006,198.77807500000006,198.77807500000006,198.77807500000006,213.53807500000005,213.53807500000005,213.53807500000005,221.15807500000005,221.15807500000005,221.15807500000005,221.15807500000005,221.15807500000005,221.15807500000005,228.77807500000006,228.77807500000006,228.77807500000006,280.62192500000003,280.62192500000003,280.62192500000003,288.24192500000004,288.24192500000004,288.24192500000004,288.24192500000004,288.24192500000004,288.24192500000004,295.86192500000004,295.86192500000004,295.86192500000004,310.62192500000003,310.62192500000003,310.62192500000003,310.62192500000003,310.62192500000003,310.62192500000003,318.24192500000004,318.24192500000004,318.24192500000004,325.86192500000004,325.86192500000004,325.86192500000004,325.86192500000004,325.86192500000004,325.86192500000004,340.62192500000003,340.62192500000003,340.62192500000003,348.24192500000004,348.24192500000004,348.24192500000004,348.24192500000004,348.24192500000004,348.24192500000004,355.86192500000004,355.86192500000004,355.86192500000004,413.90577500000006,413.90577500000006,413.90577500000006,421.52577500000007,421.52577500000007,421.52577500000007,421.52577500000007,421.52577500000007,421.52577500000007,429.14577500000007,429.14577500000007,429.14577500000007,443.90577500000006,443.90577500000006,443.90577500000006,443.90577500000006,443.90577500000006,443.90577500000006,451.52577500000007,451.52577500000007,451.52577500000007,459.14577500000007,459.14577500000007,459.14577500000007,459.14577500000007,459.14577500000007,459.14577500000007,473.90577500000006,473.90577500000006,473.90577500000006,481.52577500000007,481.52577500000007,481.52577500000007,481.52577500000007,481.52577500000007,481.52577500000007,489.14577500000007,489.14577500000007,489.14577500000007],\"y\":[-135.0,0.0,135.0,-175.0,-95.0,-40.0,40.0,95.0,175.0,-135.0,0.0,135.0,-175.0,-95.0,-40.0,40.0,95.0,175.0,-135.0,0.0,135.0,-175.0,-95.0,-40.0,40.0,95.0,175.0,-135.0,0.0,135.0,-175.0,-95.0,-40.0,40.0,95.0,175.0,-135.0,0.0,135.0,-135.0,0.0,135.0,-175.0,-95.0,-40.0,40.0,95.0,175.0,-135.0,0.0,135.0,-175.0,-95.0,-40.0,40.0,95.0,175.0,-135.0,0.0,135.0,-175.0,-95.0,-40.0,40.0,95.0,175.0,-135.0,0.0,135.0,-175.0,-95.0,-40.0,40.0,95.0,175.0,-135.0,0.0,135.0,-135.0,0.0,135.0,-175.0,-95.0,-40.0,40.0,95.0,175.0,-135.0,0.0,135.0,-175.0,-95.0,-40.0,40.0,95.0,175.0,-135.0,0.0,135.0,-175.0,-95.0,-40.0,40.0,95.0,175.0,-135.0,0.0,135.0,-175.0,-95.0,-40.0,40.0,95.0,175.0,-135.0,0.0,135.0,-135.0,0.0,135.0,-175.0,-95.0,-40.0,40.0,95.0,175.0,-135.0,0.0,135.0,-175.0,-95.0,-40.0,40.0,95.0,175.0,-135.0,0.0,135.0,-175.0,-95.0,-40.0,40.0,95.0,175.0,-135.0,0.0,135.0,-175.0,-95.0,-40.0,40.0,95.0,175.0,-135.0,0.0,135.0],\"type\":\"scatter\",\"xaxis\":\"x2\",\"yaxis\":\"y2\"},{\"hoverinfo\":\"text\",\"marker\":{\"color\":[3,3,3,0,0,0,0,0,0,2,2,2,3,3,3,3,3,3,1,1,1,2,2,2,2,2,2,3,3,3,0,0,0,0,0,0,2,2,2,3,3,3,0,0,0,0,0,0,2,2,2,3,3,3,3,3,3,1,1,1,2,2,2,2,2,2,3,3,3,0,0,0,0,0,0,2,2,2,3,3,3,0,0,0,0,0,0,2,2,2,3,3,3,3,3,3,1,1,1,2,2,2,2,2,2,3,3,3,0,0,0,0,0,0,2,2,2,3,3,3,0,0,0,0,0,0,2,2,2,3,3,3,3,3,3,1,1,1,2,2,2,2,2,2,3,3,3,0,0,0,0,0,0,2,2,2],\"colorbar\":{\"title\":{\"text\":\"Color Scale\"}},\"colorscale\":[[0.0,\"rgb(0,0,131)\"],[0.2,\"rgb(0,60,170)\"],[0.4,\"rgb(5,255,255)\"],[0.6,\"rgb(255,255,0)\"],[0.8,\"rgb(250,0,0)\"],[1.0,\"rgb(128,0,0)\"]],\"size\":10},\"mode\":\"text\",\"text\":[\"\\u003cspan style=\\\"color: rgb(255,0,255)\\\"\\u003e1\\u003c\\u002fspan\\u003e\",\"\\u003cspan style=\\\"color: rgb(255,0,255)\\\"\\u003e3\\u003c\\u002fspan\\u003e\",\"\\u003cspan style=\\\"color: rgb(255,0,255)\\\"\\u003e5\\u003c\\u002fspan\\u003e\",\"\\u003cspan style=\\\"color: rgb(255,0,0)\\\"\\u003e7\\u003c\\u002fspan\\u003e\",\"\\u003cspan style=\\\"color: rgb(255,0,0)\\\"\\u003e9\\u003c\\u002fspan\\u003e\",\"\\u003cspan style=\\\"color: rgb(255,0,0)\\\"\\u003e11\\u003c\\u002fspan\\u003e\",\"\\u003cspan style=\\\"color: rgb(255,0,0)\\\"\\u003e13\\u003c\\u002fspan\\u003e\",\"\\u003cspan style=\\\"color: rgb(255,0,0)\\\"\\u003e15\\u003c\\u002fspan\\u003e\",\"\\u003cspan style=\\\"color: rgb(255,0,0)\\\"\\u003e17\\u003c\\u002fspan\\u003e\",\"\\u003cspan style=\\\"color: rgb(0,0,255)\\\"\\u003e19\\u003c\\u002fspan\\u003e\",\"\\u003cspan style=\\\"color: rgb(0,0,255)\\\"\\u003e21\\u003c\\u002fspan\\u003e\",\"\\u003cspan style=\\\"color: rgb(0,0,255)\\\"\\u003e23\\u003c\\u002fspan\\u003e\",\"\\u003cspan style=\\\"color: rgb(255,0,255)\\\"\\u003e25\\u003c\\u002fspan\\u003e\",\"\\u003cspan style=\\\"color: rgb(255,0,255)\\\"\\u003e27\\u003c\\u002fspan\\u003e\",\"\\u003cspan style=\\\"color: rgb(255,0,255)\\\"\\u003e29\\u003c\\u002fspan\\u003e\",\"\\u003cspan style=\\\"color: rgb(255,0,255)\\\"\\u003e31\\u003c\\u002fspan\\u003e\",\"\\u003cspan style=\\\"color: rgb(255,0,255)\\\"\\u003e33\\u003c\\u002fspan\\u003e\",\"\\u003cspan style=\\\"color: rgb(255,0,255)\\\"\\u003e35\\u003c\\u002fspan\\u003e\",\"\\u003cspan style=\\\"color: rgb(0,255,0)\\\"\\u003e37\\u003c\\u002fspan\\u003e\",\"\\u003cspan style=\\\"color: rgb(0,255,0)\\\"\\u003e39\\u003c\\u002fspan\\u003e\",\"\\u003cspan style=\\\"color: rgb(0,255,0)\\\"\\u003e41\\u003c\\u002fspan\\u003e\",\"\\u003cspan style=\\\"color: rgb(0,0,255)\\\"\\u003e43\\u003c\\u002fspan\\u003e\",\"\\u003cspan style=\\\"color: rgb(0,0,255)\\\"\\u003e45\\u003c\\u002fspan\\u003e\",\"\\u003cspan style=\\\"color: rgb(0,0,255)\\\"\\u003e47\\u003c\\u002fspan\\u003e\",\"\\u003cspan style=\\\"color: rgb(0,0,255)\\\"\\u003e49\\u003c\\u002fspan\\u003e\",\"\\u003cspan style=\\\"color: rgb(0,0,255)\\\"\\u003e51\\u003c\\u002fspan\\u003e\",\"\\u003cspan style=\\\"color: rgb(0,0,255)\\\"\\u003e53\\u003c\\u002fspan\\u003e\",\"\\u003cspan style=\\\"color: rgb(255,0,255)\\\"\\u003e55\\u003c\\u002fspan\\u003e\",\"\\u003cspan style=\\\"color: rgb(255,0,255)\\\"\\u003e57\\u003c\\u002fspan\\u003e\",\"\\u003cspan style=\\\"color: rgb(255,0,255)\\\"\\u003e59\\u003c\\u002fspan\\u003e\",\"\\u003cspan style=\\\"color: rgb(255,0,0)\\\"\\u003e61\\u003c\\u002fspan\\u003e\",\"\\u003cspan style=\\\"color: rgb(255,0,0)\\\"\\u003e63\\u003c\\u002fspan\\u003e\",\"\\u003cspan style=\\\"color: rgb(255,0,0)\\\"\\u003e65\\u003c\\u002fspan\\u003e\",\"\\u003cspan style=\\\"color: rgb(255,0,0)\\\"\\u003e67\\u003c\\u002fspan\\u003e\",\"\\u003cspan style=\\\"color: rgb(255,0,0)\\\"\\u003e69\\u003c\\u002fspan\\u003e\",\"\\u003cspan style=\\\"color: rgb(255,0,0)\\\"\\u003e71\\u003c\\u002fspan\\u003e\",\"\\u003cspan style=\\\"color: rgb(0,0,255)\\\"\\u003e73\\u003c\\u002fspan\\u003e\",\"\\u003cspan style=\\\"color: rgb(0,0,255)\\\"\\u003e75\\u003c\\u002fspan\\u003e\",\"\\u003cspan style=\\\"color: rgb(0,0,255)\\\"\\u003e77\\u003c\\u002fspan\\u003e\",\"\\u003cspan style=\\\"color: rgb(255,0,255)\\\"\\u003e79\\u003c\\u002fspan\\u003e\",\"\\u003cspan style=\\\"color: rgb(255,0,255)\\\"\\u003e81\\u003c\\u002fspan\\u003e\",\"\\u003cspan style=\\\"color: rgb(255,0,255)\\\"\\u003e83\\u003c\\u002fspan\\u003e\",\"\\u003cspan style=\\\"color: rgb(255,0,0)\\\"\\u003e85\\u003c\\u002fspan\\u003e\",\"\\u003cspan style=\\\"color: rgb(255,0,0)\\\"\\u003e87\\u003c\\u002fspan\\u003e\",\"\\u003cspan style=\\\"color: rgb(255,0,0)\\\"\\u003e89\\u003c\\u002fspan\\u003e\",\"\\u003cspan style=\\\"color: rgb(255,0,0)\\\"\\u003e91\\u003c\\u002fspan\\u003e\",\"\\u003cspan style=\\\"color: rgb(255,0,0)\\\"\\u003e93\\u003c\\u002fspan\\u003e\",\"\\u003cspan style=\\\"color: rgb(255,0,0)\\\"\\u003e95\\u003c\\u002fspan\\u003e\",\"\\u003cspan style=\\\"color: rgb(0,0,255)\\\"\\u003e97\\u003c\\u002fspan\\u003e\",\"\\u003cspan style=\\\"color: rgb(0,0,255)\\\"\\u003e99\\u003c\\u002fspan\\u003e\",\"\\u003cspan style=\\\"color: rgb(0,0,255)\\\"\\u003e101\\u003c\\u002fspan\\u003e\",\"\\u003cspan style=\\\"color: rgb(255,0,255)\\\"\\u003e103\\u003c\\u002fspan\\u003e\",\"\\u003cspan style=\\\"color: rgb(255,0,255)\\\"\\u003e105\\u003c\\u002fspan\\u003e\",\"\\u003cspan style=\\\"color: rgb(255,0,255)\\\"\\u003e107\\u003c\\u002fspan\\u003e\",\"\\u003cspan style=\\\"color: rgb(255,0,255)\\\"\\u003e109\\u003c\\u002fspan\\u003e\",\"\\u003cspan style=\\\"color: rgb(255,0,255)\\\"\\u003e111\\u003c\\u002fspan\\u003e\",\"\\u003cspan style=\\\"color: rgb(255,0,255)\\\"\\u003e113\\u003c\\u002fspan\\u003e\",\"\\u003cspan style=\\\"color: rgb(0,255,0)\\\"\\u003e115\\u003c\\u002fspan\\u003e\",\"\\u003cspan style=\\\"color: rgb(0,255,0)\\\"\\u003e117\\u003c\\u002fspan\\u003e\",\"\\u003cspan style=\\\"color: rgb(0,255,0)\\\"\\u003e119\\u003c\\u002fspan\\u003e\",\"\\u003cspan style=\\\"color: rgb(0,0,255)\\\"\\u003e121\\u003c\\u002fspan\\u003e\",\"\\u003cspan style=\\\"color: rgb(0,0,255)\\\"\\u003e123\\u003c\\u002fspan\\u003e\",\"\\u003cspan style=\\\"color: rgb(0,0,255)\\\"\\u003e125\\u003c\\u002fspan\\u003e\",\"\\u003cspan style=\\\"color: rgb(0,0,255)\\\"\\u003e127\\u003c\\u002fspan\\u003e\",\"\\u003cspan style=\\\"color: rgb(0,0,255)\\\"\\u003e129\\u003c\\u002fspan\\u003e\",\"\\u003cspan style=\\\"color: rgb(0,0,255)\\\"\\u003e131\\u003c\\u002fspan\\u003e\",\"\\u003cspan style=\\\"color: rgb(255,0,255)\\\"\\u003e133\\u003c\\u002fspan\\u003e\",\"\\u003cspan style=\\\"color: rgb(255,0,255)\\\"\\u003e135\\u003c\\u002fspan\\u003e\",\"\\u003cspan style=\\\"color: rgb(255,0,255)\\\"\\u003e137\\u003c\\u002fspan\\u003e\",\"\\u003cspan style=\\\"color: rgb(255,0,0)\\\"\\u003e139\\u003c\\u002fspan\\u003e\",\"\\u003cspan style=\\\"color: rgb(255,0,0)\\\"\\u003e141\\u003c\\u002fspan\\u003e\",\"\\u003cspan style=\\\"color: rgb(255,0,0)\\\"\\u003e143\\u003c\\u002fspan\\u003e\",\"\\u003cspan style=\\\"color: rgb(255,0,0)\\\"\\u003e145\\u003c\\u002fspan\\u003e\",\"\\u003cspan style=\\\"color: rgb(255,0,0)\\\"\\u003e147\\u003c\\u002fspan\\u003e\",\"\\u003cspan style=\\\"color: rgb(255,0,0)\\\"\\u003e149\\u003c\\u002fspan\\u003e\",\"\\u003cspan style=\\\"color: rgb(0,0,255)\\\"\\u003e151\\u003c\\u002fspan\\u003e\",\"\\u003cspan style=\\\"color: rgb(0,0,255)\\\"\\u003e153\\u003c\\u002fspan\\u003e\",\"\\u003cspan style=\\\"color: rgb(0,0,255)\\\"\\u003e155\\u003c\\u002fspan\\u003e\",\"\\u003cspan style=\\\"color: rgb(255,0,255)\\\"\\u003e157\\u003c\\u002fspan\\u003e\",\"\\u003cspan style=\\\"color: rgb(255,0,255)\\\"\\u003e159\\u003c\\u002fspan\\u003e\",\"\\u003cspan style=\\\"color: rgb(255,0,255)\\\"\\u003e161\\u003c\\u002fspan\\u003e\",\"\\u003cspan style=\\\"color: rgb(255,0,0)\\\"\\u003e163\\u003c\\u002fspan\\u003e\",\"\\u003cspan style=\\\"color: rgb(255,0,0)\\\"\\u003e165\\u003c\\u002fspan\\u003e\",\"\\u003cspan style=\\\"color: rgb(255,0,0)\\\"\\u003e167\\u003c\\u002fspan\\u003e\",\"\\u003cspan style=\\\"color: rgb(255,0,0)\\\"\\u003e169\\u003c\\u002fspan\\u003e\",\"\\u003cspan style=\\\"color: rgb(255,0,0)\\\"\\u003e171\\u003c\\u002fspan\\u003e\",\"\\u003cspan style=\\\"color: rgb(255,0,0)\\\"\\u003e173\\u003c\\u002fspan\\u003e\",\"\\u003cspan style=\\\"color: rgb(0,0,255)\\\"\\u003e175\\u003c\\u002fspan\\u003e\",\"\\u003cspan style=\\\"color: rgb(0,0,255)\\\"\\u003e177\\u003c\\u002fspan\\u003e\",\"\\u003cspan style=\\\"color: rgb(0,0,255)\\\"\\u003e179\\u003c\\u002fspan\\u003e\",\"\\u003cspan style=\\\"color: rgb(255,0,255)\\\"\\u003e181\\u003c\\u002fspan\\u003e\",\"\\u003cspan style=\\\"color: rgb(255,0,255)\\\"\\u003e183\\u003c\\u002fspan\\u003e\",\"\\u003cspan style=\\\"color: rgb(255,0,255)\\\"\\u003e185\\u003c\\u002fspan\\u003e\",\"\\u003cspan style=\\\"color: rgb(255,0,255)\\\"\\u003e187\\u003c\\u002fspan\\u003e\",\"\\u003cspan style=\\\"color: rgb(255,0,255)\\\"\\u003e189\\u003c\\u002fspan\\u003e\",\"\\u003cspan style=\\\"color: rgb(255,0,255)\\\"\\u003e191\\u003c\\u002fspan\\u003e\",\"\\u003cspan style=\\\"color: rgb(0,255,0)\\\"\\u003e193\\u003c\\u002fspan\\u003e\",\"\\u003cspan style=\\\"color: rgb(0,255,0)\\\"\\u003e195\\u003c\\u002fspan\\u003e\",\"\\u003cspan style=\\\"color: rgb(0,255,0)\\\"\\u003e197\\u003c\\u002fspan\\u003e\",\"\\u003cspan style=\\\"color: rgb(0,0,255)\\\"\\u003e199\\u003c\\u002fspan\\u003e\",\"\\u003cspan style=\\\"color: rgb(0,0,255)\\\"\\u003e201\\u003c\\u002fspan\\u003e\",\"\\u003cspan style=\\\"color: rgb(0,0,255)\\\"\\u003e203\\u003c\\u002fspan\\u003e\",\"\\u003cspan style=\\\"color: rgb(0,0,255)\\\"\\u003e205\\u003c\\u002fspan\\u003e\",\"\\u003cspan style=\\\"color: rgb(0,0,255)\\\"\\u003e207\\u003c\\u002fspan\\u003e\",\"\\u003cspan style=\\\"color: rgb(0,0,255)\\\"\\u003e209\\u003c\\u002fspan\\u003e\",\"\\u003cspan style=\\\"color: rgb(255,0,255)\\\"\\u003e211\\u003c\\u002fspan\\u003e\",\"\\u003cspan style=\\\"color: rgb(255,0,255)\\\"\\u003e213\\u003c\\u002fspan\\u003e\",\"\\u003cspan style=\\\"color: rgb(255,0,255)\\\"\\u003e215\\u003c\\u002fspan\\u003e\",\"\\u003cspan style=\\\"color: rgb(255,0,0)\\\"\\u003e217\\u003c\\u002fspan\\u003e\",\"\\u003cspan style=\\\"color: rgb(255,0,0)\\\"\\u003e219\\u003c\\u002fspan\\u003e\",\"\\u003cspan style=\\\"color: rgb(255,0,0)\\\"\\u003e221\\u003c\\u002fspan\\u003e\",\"\\u003cspan style=\\\"color: rgb(255,0,0)\\\"\\u003e223\\u003c\\u002fspan\\u003e\",\"\\u003cspan style=\\\"color: rgb(255,0,0)\\\"\\u003e225\\u003c\\u002fspan\\u003e\",\"\\u003cspan style=\\\"color: rgb(255,0,0)\\\"\\u003e227\\u003c\\u002fspan\\u003e\",\"\\u003cspan style=\\\"color: rgb(0,0,255)\\\"\\u003e229\\u003c\\u002fspan\\u003e\",\"\\u003cspan style=\\\"color: rgb(0,0,255)\\\"\\u003e231\\u003c\\u002fspan\\u003e\",\"\\u003cspan style=\\\"color: rgb(0,0,255)\\\"\\u003e233\\u003c\\u002fspan\\u003e\",\"\\u003cspan style=\\\"color: rgb(255,0,255)\\\"\\u003e235\\u003c\\u002fspan\\u003e\",\"\\u003cspan style=\\\"color: rgb(255,0,255)\\\"\\u003e237\\u003c\\u002fspan\\u003e\",\"\\u003cspan style=\\\"color: rgb(255,0,255)\\\"\\u003e239\\u003c\\u002fspan\\u003e\",\"\\u003cspan style=\\\"color: rgb(255,0,0)\\\"\\u003e241\\u003c\\u002fspan\\u003e\",\"\\u003cspan style=\\\"color: rgb(255,0,0)\\\"\\u003e243\\u003c\\u002fspan\\u003e\",\"\\u003cspan style=\\\"color: rgb(255,0,0)\\\"\\u003e245\\u003c\\u002fspan\\u003e\",\"\\u003cspan style=\\\"color: rgb(255,0,0)\\\"\\u003e247\\u003c\\u002fspan\\u003e\",\"\\u003cspan style=\\\"color: rgb(255,0,0)\\\"\\u003e249\\u003c\\u002fspan\\u003e\",\"\\u003cspan style=\\\"color: rgb(255,0,0)\\\"\\u003e251\\u003c\\u002fspan\\u003e\",\"\\u003cspan style=\\\"color: rgb(0,0,255)\\\"\\u003e253\\u003c\\u002fspan\\u003e\",\"\\u003cspan style=\\\"color: rgb(0,0,255)\\\"\\u003e255\\u003c\\u002fspan\\u003e\",\"\\u003cspan style=\\\"color: rgb(0,0,255)\\\"\\u003e257\\u003c\\u002fspan\\u003e\",\"\\u003cspan style=\\\"color: rgb(255,0,255)\\\"\\u003e259\\u003c\\u002fspan\\u003e\",\"\\u003cspan style=\\\"color: rgb(255,0,255)\\\"\\u003e261\\u003c\\u002fspan\\u003e\",\"\\u003cspan style=\\\"color: rgb(255,0,255)\\\"\\u003e263\\u003c\\u002fspan\\u003e\",\"\\u003cspan style=\\\"color: rgb(255,0,255)\\\"\\u003e265\\u003c\\u002fspan\\u003e\",\"\\u003cspan style=\\\"color: rgb(255,0,255)\\\"\\u003e267\\u003c\\u002fspan\\u003e\",\"\\u003cspan style=\\\"color: rgb(255,0,255)\\\"\\u003e269\\u003c\\u002fspan\\u003e\",\"\\u003cspan style=\\\"color: rgb(0,255,0)\\\"\\u003e271\\u003c\\u002fspan\\u003e\",\"\\u003cspan style=\\\"color: rgb(0,255,0)\\\"\\u003e273\\u003c\\u002fspan\\u003e\",\"\\u003cspan style=\\\"color: rgb(0,255,0)\\\"\\u003e275\\u003c\\u002fspan\\u003e\",\"\\u003cspan style=\\\"color: rgb(0,0,255)\\\"\\u003e277\\u003c\\u002fspan\\u003e\",\"\\u003cspan style=\\\"color: rgb(0,0,255)\\\"\\u003e279\\u003c\\u002fspan\\u003e\",\"\\u003cspan style=\\\"color: rgb(0,0,255)\\\"\\u003e281\\u003c\\u002fspan\\u003e\",\"\\u003cspan style=\\\"color: rgb(0,0,255)\\\"\\u003e283\\u003c\\u002fspan\\u003e\",\"\\u003cspan style=\\\"color: rgb(0,0,255)\\\"\\u003e285\\u003c\\u002fspan\\u003e\",\"\\u003cspan style=\\\"color: rgb(0,0,255)\\\"\\u003e287\\u003c\\u002fspan\\u003e\",\"\\u003cspan style=\\\"color: rgb(255,0,255)\\\"\\u003e289\\u003c\\u002fspan\\u003e\",\"\\u003cspan style=\\\"color: rgb(255,0,255)\\\"\\u003e291\\u003c\\u002fspan\\u003e\",\"\\u003cspan style=\\\"color: rgb(255,0,255)\\\"\\u003e293\\u003c\\u002fspan\\u003e\",\"\\u003cspan style=\\\"color: rgb(255,0,0)\\\"\\u003e295\\u003c\\u002fspan\\u003e\",\"\\u003cspan style=\\\"color: rgb(255,0,0)\\\"\\u003e297\\u003c\\u002fspan\\u003e\",\"\\u003cspan style=\\\"color: rgb(255,0,0)\\\"\\u003e299\\u003c\\u002fspan\\u003e\",\"\\u003cspan style=\\\"color: rgb(255,0,0)\\\"\\u003e301\\u003c\\u002fspan\\u003e\",\"\\u003cspan style=\\\"color: rgb(255,0,0)\\\"\\u003e303\\u003c\\u002fspan\\u003e\",\"\\u003cspan style=\\\"color: rgb(255,0,0)\\\"\\u003e305\\u003c\\u002fspan\\u003e\",\"\\u003cspan style=\\\"color: rgb(0,0,255)\\\"\\u003e307\\u003c\\u002fspan\\u003e\",\"\\u003cspan style=\\\"color: rgb(0,0,255)\\\"\\u003e309\\u003c\\u002fspan\\u003e\",\"\\u003cspan style=\\\"color: rgb(0,0,255)\\\"\\u003e311\\u003c\\u002fspan\\u003e\"],\"textposition\":\"top center\",\"x\":[20.254225000000027,20.254225000000027,20.254225000000027,27.874225000000024,27.874225000000024,27.874225000000024,27.874225000000024,27.874225000000024,27.874225000000024,35.49422500000002,35.49422500000002,35.49422500000002,50.25422500000002,50.25422500000002,50.25422500000002,50.25422500000002,50.25422500000002,50.25422500000002,57.874225000000024,57.874225000000024,57.874225000000024,65.49422500000003,65.49422500000003,65.49422500000003,65.49422500000003,65.49422500000003,65.49422500000003,80.25422500000002,80.25422500000002,80.25422500000002,87.87422500000002,87.87422500000002,87.87422500000002,87.87422500000002,87.87422500000002,87.87422500000002,95.49422500000003,95.49422500000003,95.49422500000003,153.53807500000005,153.53807500000005,153.53807500000005,161.15807500000005,161.15807500000005,161.15807500000005,161.15807500000005,161.15807500000005,161.15807500000005,168.77807500000006,168.77807500000006,168.77807500000006,183.53807500000005,183.53807500000005,183.53807500000005,183.53807500000005,183.53807500000005,183.53807500000005,191.15807500000005,191.15807500000005,191.15807500000005,198.77807500000006,198.77807500000006,198.77807500000006,198.77807500000006,198.77807500000006,198.77807500000006,213.53807500000005,213.53807500000005,213.53807500000005,221.15807500000005,221.15807500000005,221.15807500000005,221.15807500000005,221.15807500000005,221.15807500000005,228.77807500000006,228.77807500000006,228.77807500000006,280.62192500000003,280.62192500000003,280.62192500000003,288.24192500000004,288.24192500000004,288.24192500000004,288.24192500000004,288.24192500000004,288.24192500000004,295.86192500000004,295.86192500000004,295.86192500000004,310.62192500000003,310.62192500000003,310.62192500000003,310.62192500000003,310.62192500000003,310.62192500000003,318.24192500000004,318.24192500000004,318.24192500000004,325.86192500000004,325.86192500000004,325.86192500000004,325.86192500000004,325.86192500000004,325.86192500000004,340.62192500000003,340.62192500000003,340.62192500000003,348.24192500000004,348.24192500000004,348.24192500000004,348.24192500000004,348.24192500000004,348.24192500000004,355.86192500000004,355.86192500000004,355.86192500000004,413.90577500000006,413.90577500000006,413.90577500000006,421.52577500000007,421.52577500000007,421.52577500000007,421.52577500000007,421.52577500000007,421.52577500000007,429.14577500000007,429.14577500000007,429.14577500000007,443.90577500000006,443.90577500000006,443.90577500000006,443.90577500000006,443.90577500000006,443.90577500000006,451.52577500000007,451.52577500000007,451.52577500000007,459.14577500000007,459.14577500000007,459.14577500000007,459.14577500000007,459.14577500000007,459.14577500000007,473.90577500000006,473.90577500000006,473.90577500000006,481.52577500000007,481.52577500000007,481.52577500000007,481.52577500000007,481.52577500000007,481.52577500000007,489.14577500000007,489.14577500000007,489.14577500000007],\"y\":[-135.0,0.0,135.0,-175.0,-95.0,-40.0,40.0,95.0,175.0,-135.0,0.0,135.0,-175.0,-95.0,-40.0,40.0,95.0,175.0,-135.0,0.0,135.0,-175.0,-95.0,-40.0,40.0,95.0,175.0,-135.0,0.0,135.0,-175.0,-95.0,-40.0,40.0,95.0,175.0,-135.0,0.0,135.0,-135.0,0.0,135.0,-175.0,-95.0,-40.0,40.0,95.0,175.0,-135.0,0.0,135.0,-175.0,-95.0,-40.0,40.0,95.0,175.0,-135.0,0.0,135.0,-175.0,-95.0,-40.0,40.0,95.0,175.0,-135.0,0.0,135.0,-175.0,-95.0,-40.0,40.0,95.0,175.0,-135.0,0.0,135.0,-135.0,0.0,135.0,-175.0,-95.0,-40.0,40.0,95.0,175.0,-135.0,0.0,135.0,-175.0,-95.0,-40.0,40.0,95.0,175.0,-135.0,0.0,135.0,-175.0,-95.0,-40.0,40.0,95.0,175.0,-135.0,0.0,135.0,-175.0,-95.0,-40.0,40.0,95.0,175.0,-135.0,0.0,135.0,-135.0,0.0,135.0,-175.0,-95.0,-40.0,40.0,95.0,175.0,-135.0,0.0,135.0,-175.0,-95.0,-40.0,40.0,95.0,175.0,-135.0,0.0,135.0,-175.0,-95.0,-40.0,40.0,95.0,175.0,-135.0,0.0,135.0,-175.0,-95.0,-40.0,40.0,95.0,175.0,-135.0,0.0,135.0],\"type\":\"scatter\",\"xaxis\":\"x\",\"yaxis\":\"y\"},{\"marker\":{\"color\":\"rgb(255,0,0)\",\"showscale\":false,\"size\":10},\"mode\":\"markers\",\"name\":\"0: CoatedPMT (VIS and VUV)\",\"x\":[null],\"y\":[null],\"type\":\"scatter\"},{\"marker\":{\"color\":\"rgb(0,255,0)\",\"showscale\":false,\"size\":10},\"mode\":\"markers\",\"name\":\"1: UncoatedPMT (only VIS)\",\"x\":[null],\"y\":[null],\"type\":\"scatter\"},{\"marker\":{\"color\":\"rgb(0,0,255)\",\"showscale\":false,\"size\":10},\"mode\":\"markers\",\"name\":\"2: VUV XARAPUCA\",\"x\":[null],\"y\":[null],\"type\":\"scatter\"},{\"marker\":{\"color\":\"rgb(255,0,255)\",\"showscale\":false,\"size\":10},\"mode\":\"markers\",\"name\":\"3: VIS XARAPUCA\",\"x\":[null],\"y\":[null],\"type\":\"scatter\"}],                        {\"template\":{\"data\":{\"histogram2dcontour\":[{\"type\":\"histogram2dcontour\",\"colorbar\":{\"outlinewidth\":0,\"ticks\":\"\"},\"colorscale\":[[0.0,\"#0d0887\"],[0.1111111111111111,\"#46039f\"],[0.2222222222222222,\"#7201a8\"],[0.3333333333333333,\"#9c179e\"],[0.4444444444444444,\"#bd3786\"],[0.5555555555555556,\"#d8576b\"],[0.6666666666666666,\"#ed7953\"],[0.7777777777777778,\"#fb9f3a\"],[0.8888888888888888,\"#fdca26\"],[1.0,\"#f0f921\"]]}],\"choropleth\":[{\"type\":\"choropleth\",\"colorbar\":{\"outlinewidth\":0,\"ticks\":\"\"}}],\"histogram2d\":[{\"type\":\"histogram2d\",\"colorbar\":{\"outlinewidth\":0,\"ticks\":\"\"},\"colorscale\":[[0.0,\"#0d0887\"],[0.1111111111111111,\"#46039f\"],[0.2222222222222222,\"#7201a8\"],[0.3333333333333333,\"#9c179e\"],[0.4444444444444444,\"#bd3786\"],[0.5555555555555556,\"#d8576b\"],[0.6666666666666666,\"#ed7953\"],[0.7777777777777778,\"#fb9f3a\"],[0.8888888888888888,\"#fdca26\"],[1.0,\"#f0f921\"]]}],\"heatmap\":[{\"type\":\"heatmap\",\"colorbar\":{\"outlinewidth\":0,\"ticks\":\"\"},\"colorscale\":[[0.0,\"#0d0887\"],[0.1111111111111111,\"#46039f\"],[0.2222222222222222,\"#7201a8\"],[0.3333333333333333,\"#9c179e\"],[0.4444444444444444,\"#bd3786\"],[0.5555555555555556,\"#d8576b\"],[0.6666666666666666,\"#ed7953\"],[0.7777777777777778,\"#fb9f3a\"],[0.8888888888888888,\"#fdca26\"],[1.0,\"#f0f921\"]]}],\"heatmapgl\":[{\"type\":\"heatmapgl\",\"colorbar\":{\"outlinewidth\":0,\"ticks\":\"\"},\"colorscale\":[[0.0,\"#0d0887\"],[0.1111111111111111,\"#46039f\"],[0.2222222222222222,\"#7201a8\"],[0.3333333333333333,\"#9c179e\"],[0.4444444444444444,\"#bd3786\"],[0.5555555555555556,\"#d8576b\"],[0.6666666666666666,\"#ed7953\"],[0.7777777777777778,\"#fb9f3a\"],[0.8888888888888888,\"#fdca26\"],[1.0,\"#f0f921\"]]}],\"contourcarpet\":[{\"type\":\"contourcarpet\",\"colorbar\":{\"outlinewidth\":0,\"ticks\":\"\"}}],\"contour\":[{\"type\":\"contour\",\"colorbar\":{\"outlinewidth\":0,\"ticks\":\"\"},\"colorscale\":[[0.0,\"#0d0887\"],[0.1111111111111111,\"#46039f\"],[0.2222222222222222,\"#7201a8\"],[0.3333333333333333,\"#9c179e\"],[0.4444444444444444,\"#bd3786\"],[0.5555555555555556,\"#d8576b\"],[0.6666666666666666,\"#ed7953\"],[0.7777777777777778,\"#fb9f3a\"],[0.8888888888888888,\"#fdca26\"],[1.0,\"#f0f921\"]]}],\"surface\":[{\"type\":\"surface\",\"colorbar\":{\"outlinewidth\":0,\"ticks\":\"\"},\"colorscale\":[[0.0,\"#0d0887\"],[0.1111111111111111,\"#46039f\"],[0.2222222222222222,\"#7201a8\"],[0.3333333333333333,\"#9c179e\"],[0.4444444444444444,\"#bd3786\"],[0.5555555555555556,\"#d8576b\"],[0.6666666666666666,\"#ed7953\"],[0.7777777777777778,\"#fb9f3a\"],[0.8888888888888888,\"#fdca26\"],[1.0,\"#f0f921\"]]}],\"mesh3d\":[{\"type\":\"mesh3d\",\"colorbar\":{\"outlinewidth\":0,\"ticks\":\"\"}}],\"scatter\":[{\"fillpattern\":{\"fillmode\":\"overlay\",\"size\":10,\"solidity\":0.2},\"type\":\"scatter\"}],\"parcoords\":[{\"type\":\"parcoords\",\"line\":{\"colorbar\":{\"outlinewidth\":0,\"ticks\":\"\"}}}],\"scatterpolargl\":[{\"type\":\"scatterpolargl\",\"marker\":{\"colorbar\":{\"outlinewidth\":0,\"ticks\":\"\"}}}],\"bar\":[{\"error_x\":{\"color\":\"#2a3f5f\"},\"error_y\":{\"color\":\"#2a3f5f\"},\"marker\":{\"line\":{\"color\":\"#E5ECF6\",\"width\":0.5},\"pattern\":{\"fillmode\":\"overlay\",\"size\":10,\"solidity\":0.2}},\"type\":\"bar\"}],\"scattergeo\":[{\"type\":\"scattergeo\",\"marker\":{\"colorbar\":{\"outlinewidth\":0,\"ticks\":\"\"}}}],\"scatterpolar\":[{\"type\":\"scatterpolar\",\"marker\":{\"colorbar\":{\"outlinewidth\":0,\"ticks\":\"\"}}}],\"histogram\":[{\"marker\":{\"pattern\":{\"fillmode\":\"overlay\",\"size\":10,\"solidity\":0.2}},\"type\":\"histogram\"}],\"scattergl\":[{\"type\":\"scattergl\",\"marker\":{\"colorbar\":{\"outlinewidth\":0,\"ticks\":\"\"}}}],\"scatter3d\":[{\"type\":\"scatter3d\",\"line\":{\"colorbar\":{\"outlinewidth\":0,\"ticks\":\"\"}},\"marker\":{\"colorbar\":{\"outlinewidth\":0,\"ticks\":\"\"}}}],\"scattermapbox\":[{\"type\":\"scattermapbox\",\"marker\":{\"colorbar\":{\"outlinewidth\":0,\"ticks\":\"\"}}}],\"scatterternary\":[{\"type\":\"scatterternary\",\"marker\":{\"colorbar\":{\"outlinewidth\":0,\"ticks\":\"\"}}}],\"scattercarpet\":[{\"type\":\"scattercarpet\",\"marker\":{\"colorbar\":{\"outlinewidth\":0,\"ticks\":\"\"}}}],\"carpet\":[{\"aaxis\":{\"endlinecolor\":\"#2a3f5f\",\"gridcolor\":\"white\",\"linecolor\":\"white\",\"minorgridcolor\":\"white\",\"startlinecolor\":\"#2a3f5f\"},\"baxis\":{\"endlinecolor\":\"#2a3f5f\",\"gridcolor\":\"white\",\"linecolor\":\"white\",\"minorgridcolor\":\"white\",\"startlinecolor\":\"#2a3f5f\"},\"type\":\"carpet\"}],\"table\":[{\"cells\":{\"fill\":{\"color\":\"#EBF0F8\"},\"line\":{\"color\":\"white\"}},\"header\":{\"fill\":{\"color\":\"#C8D4E3\"},\"line\":{\"color\":\"white\"}},\"type\":\"table\"}],\"barpolar\":[{\"marker\":{\"line\":{\"color\":\"#E5ECF6\",\"width\":0.5},\"pattern\":{\"fillmode\":\"overlay\",\"size\":10,\"solidity\":0.2}},\"type\":\"barpolar\"}],\"pie\":[{\"automargin\":true,\"type\":\"pie\"}]},\"layout\":{\"autotypenumbers\":\"strict\",\"colorway\":[\"#636efa\",\"#EF553B\",\"#00cc96\",\"#ab63fa\",\"#FFA15A\",\"#19d3f3\",\"#FF6692\",\"#B6E880\",\"#FF97FF\",\"#FECB52\"],\"font\":{\"color\":\"#2a3f5f\"},\"hovermode\":\"closest\",\"hoverlabel\":{\"align\":\"left\"},\"paper_bgcolor\":\"white\",\"plot_bgcolor\":\"#E5ECF6\",\"polar\":{\"bgcolor\":\"#E5ECF6\",\"angularaxis\":{\"gridcolor\":\"white\",\"linecolor\":\"white\",\"ticks\":\"\"},\"radialaxis\":{\"gridcolor\":\"white\",\"linecolor\":\"white\",\"ticks\":\"\"}},\"ternary\":{\"bgcolor\":\"#E5ECF6\",\"aaxis\":{\"gridcolor\":\"white\",\"linecolor\":\"white\",\"ticks\":\"\"},\"baxis\":{\"gridcolor\":\"white\",\"linecolor\":\"white\",\"ticks\":\"\"},\"caxis\":{\"gridcolor\":\"white\",\"linecolor\":\"white\",\"ticks\":\"\"}},\"coloraxis\":{\"colorbar\":{\"outlinewidth\":0,\"ticks\":\"\"}},\"colorscale\":{\"sequential\":[[0.0,\"#0d0887\"],[0.1111111111111111,\"#46039f\"],[0.2222222222222222,\"#7201a8\"],[0.3333333333333333,\"#9c179e\"],[0.4444444444444444,\"#bd3786\"],[0.5555555555555556,\"#d8576b\"],[0.6666666666666666,\"#ed7953\"],[0.7777777777777778,\"#fb9f3a\"],[0.8888888888888888,\"#fdca26\"],[1.0,\"#f0f921\"]],\"sequentialminus\":[[0.0,\"#0d0887\"],[0.1111111111111111,\"#46039f\"],[0.2222222222222222,\"#7201a8\"],[0.3333333333333333,\"#9c179e\"],[0.4444444444444444,\"#bd3786\"],[0.5555555555555556,\"#d8576b\"],[0.6666666666666666,\"#ed7953\"],[0.7777777777777778,\"#fb9f3a\"],[0.8888888888888888,\"#fdca26\"],[1.0,\"#f0f921\"]],\"diverging\":[[0,\"#8e0152\"],[0.1,\"#c51b7d\"],[0.2,\"#de77ae\"],[0.3,\"#f1b6da\"],[0.4,\"#fde0ef\"],[0.5,\"#f7f7f7\"],[0.6,\"#e6f5d0\"],[0.7,\"#b8e186\"],[0.8,\"#7fbc41\"],[0.9,\"#4d9221\"],[1,\"#276419\"]]},\"xaxis\":{\"gridcolor\":\"white\",\"linecolor\":\"white\",\"ticks\":\"\",\"title\":{\"standoff\":15},\"zerolinecolor\":\"white\",\"automargin\":true,\"zerolinewidth\":2},\"yaxis\":{\"gridcolor\":\"white\",\"linecolor\":\"white\",\"ticks\":\"\",\"title\":{\"standoff\":15},\"zerolinecolor\":\"white\",\"automargin\":true,\"zerolinewidth\":2},\"scene\":{\"xaxis\":{\"backgroundcolor\":\"#E5ECF6\",\"gridcolor\":\"white\",\"linecolor\":\"white\",\"showbackground\":true,\"ticks\":\"\",\"zerolinecolor\":\"white\",\"gridwidth\":2},\"yaxis\":{\"backgroundcolor\":\"#E5ECF6\",\"gridcolor\":\"white\",\"linecolor\":\"white\",\"showbackground\":true,\"ticks\":\"\",\"zerolinecolor\":\"white\",\"gridwidth\":2},\"zaxis\":{\"backgroundcolor\":\"#E5ECF6\",\"gridcolor\":\"white\",\"linecolor\":\"white\",\"showbackground\":true,\"ticks\":\"\",\"zerolinecolor\":\"white\",\"gridwidth\":2}},\"shapedefaults\":{\"line\":{\"color\":\"#2a3f5f\"}},\"annotationdefaults\":{\"arrowcolor\":\"#2a3f5f\",\"arrowhead\":0,\"arrowwidth\":1},\"geo\":{\"bgcolor\":\"white\",\"landcolor\":\"#E5ECF6\",\"subunitcolor\":\"white\",\"showland\":true,\"showlakes\":true,\"lakecolor\":\"white\"},\"title\":{\"x\":0.05},\"mapbox\":{\"style\":\"light\"}}},\"xaxis\":{\"anchor\":\"y\",\"domain\":[0.0,1.0],\"title\":{\"text\":\"Z\"}},\"yaxis\":{\"anchor\":\"x\",\"domain\":[0.575,1.0],\"title\":{\"text\":\"Y\"}},\"xaxis2\":{\"anchor\":\"y2\",\"domain\":[0.0,1.0],\"title\":{\"text\":\"Z\"}},\"yaxis2\":{\"anchor\":\"x2\",\"domain\":[0.0,0.425],\"title\":{\"text\":\"Y\"}},\"annotations\":[{\"font\":{\"size\":25},\"showarrow\":false,\"text\":\"x\\u003e0, Odd IDs\",\"x\":0.5,\"xanchor\":\"center\",\"xref\":\"paper\",\"y\":1.02,\"yanchor\":\"bottom\",\"yref\":\"paper\"},{\"font\":{\"size\":25},\"showarrow\":false,\"text\":\"x\\u003c0, Even IDs\",\"x\":0.5,\"xanchor\":\"center\",\"xref\":\"paper\",\"y\":0.445,\"yanchor\":\"bottom\",\"yref\":\"paper\"}],\"margin\":{\"l\":10,\"r\":10,\"t\":50,\"b\":10},\"title\":{\"text\":\"2D Detector Planes\"},\"width\":1200,\"height\":800},                        {\"responsive\": true}                    ).then(function(){\n",
       "                            \n",
       "var gd = document.getElementById('2f943174-cfd3-41e0-b467-478aed55a8d7');\n",
       "var x = new MutationObserver(function (mutations, observer) {{\n",
       "        var display = window.getComputedStyle(gd).display;\n",
       "        if (!display || display === 'none') {{\n",
       "            console.log([gd, 'removed!']);\n",
       "            Plotly.purge(gd);\n",
       "            observer.disconnect();\n",
       "        }}\n",
       "}});\n",
       "\n",
       "// Listen for the removal of the full notebook cells\n",
       "var notebookContainer = gd.closest('#notebook-container');\n",
       "if (notebookContainer) {{\n",
       "    x.observe(notebookContainer, {childList: true});\n",
       "}}\n",
       "\n",
       "// Listen for the clearing of the current output cell\n",
       "var outputEl = gd.closest('.output');\n",
       "if (outputEl) {{\n",
       "    x.observe(outputEl, {childList: true});\n",
       "}}\n",
       "\n",
       "                        })                };                });            </script>        </div>"
      ]
     },
     "metadata": {},
     "output_type": "display_data"
    }
   ],
   "source": [
    "import plotly.graph_objs as go\n",
    "from plotly.subplots import make_subplots\n",
    "\n",
    "\n",
    "# Extract coordinates, color values, and IDs for even and odd 2D plots\n",
    "hor_even = [coord[2] for coord in even_data_dict.values()]\n",
    "ver_even = [coord[1] for coord in even_data_dict.values()]\n",
    "color_even = [coord[3] for coord in even_data_dict.values()]\n",
    "ids_even = [key for key in even_data_dict.keys()]\n",
    "\n",
    "hor_odd = [coord[2] for coord in odd_data_dict.values()]\n",
    "ver_odd = [coord[1] for coord in odd_data_dict.values()]\n",
    "color_odd = [coord[3] for coord in odd_data_dict.values()]\n",
    "ids_odd = [key for key in odd_data_dict.keys()]\n",
    "# Define a custom color map with distinct colors\n",
    "distinct_colors = ['rgb(255,0,0)', 'rgb(0,255,0)', 'rgb(0,0,255)', 'rgb(255,0,255)']\n",
    "color_map = {i: distinct_colors[i % len(distinct_colors)] for i in range(len(set(color_even)))}\n",
    "colored_text_odd = [f'<span style=\"color: {color_map.get(col, \"black\")}\">{id_}</span>' for id_, col in zip(ids_odd, color_odd)]\n",
    "colored_text_even = [f'<span style=\"color: {color_map.get(col, \"black\")}\">{id_}</span>' for id_, col in zip(ids_even, color_even)]\n",
    "\n",
    "# Create subplot grid\n",
    "fig = make_subplots(rows=2, cols=1,subplot_titles=('x>0, Odd IDs', 'x<0, Even IDs'), vertical_spacing=0.15)\n",
    "\n",
    "# Add 2D scatter plot for even IDs\n",
    "fig.add_trace(go.Scatter(\n",
    "    x=hor_even,\n",
    "    y=ver_even,\n",
    "    mode='text',  # Use both markers and text\n",
    "    text=colored_text_even,  # Display colored IDs as text labels\n",
    "    textposition='top center',  # Position text labels\n",
    "    marker=dict(\n",
    "        size=10,  # Marker size\n",
    "        color=color_even,  # Set color based on the fourth dimension\n",
    "        colorscale='Jet',  # Define color scale\n",
    "        colorbar=dict(title='Color Scale')  # Add colorbar to show color scale\n",
    "    ),\n",
    "    hoverinfo='text',  # Show text on hover\n",
    "), row=2, col=1)\n",
    "\n",
    "# Add 2D scatter plot for odd IDs\n",
    "fig.add_trace(go.Scatter(\n",
    "    x=hor_odd,\n",
    "    y=ver_odd,\n",
    "    mode='text',  # Use both markers and text\n",
    "    text=colored_text_odd,  # Display colored IDs as text labels\n",
    "    textposition='top center',  # Position text labels\n",
    "    marker=dict(\n",
    "        size=10,  # Marker size\n",
    "        color=color_odd,  # Set color based on the fourth dimension\n",
    "        colorscale='Jet',  # Define color scale\n",
    "        colorbar=dict(title='Color Scale')  # Add colorbar to show color scale\n",
    "    ),\n",
    "    hoverinfo='text',  # Show text on hover\n",
    "), row=1, col=1)\n",
    "\n",
    "legend_labels = ['0: CoatedPMT (VIS and VUV)', '1: UncoatedPMT (only VIS)', '2: VUV XARAPUCA', '3: VIS XARAPUCA']\n",
    "for i, label in enumerate(legend_labels):\n",
    "    fig.add_trace(go.Scatter(\n",
    "        x=[None],\n",
    "        y=[None],\n",
    "        mode='markers',\n",
    "        marker=dict(\n",
    "            size=10,\n",
    "            color=distinct_colors[i],  # Color for each label\n",
    "            showscale=False\n",
    "        ),\n",
    "        name=label\n",
    "    ))\n",
    "\n",
    "# Update layout\n",
    "fig.update_layout(\n",
    "    title='2D Detector Planes',\n",
    "    width=1200,  # Set figure width\n",
    "    height=800,  # Set figure height\n",
    "    xaxis=dict(\n",
    "        title='Z',\n",
    "    ),\n",
    "    yaxis=dict(\n",
    "        title='Y',\n",
    "    ),\n",
    "    xaxis2=dict(\n",
    "        title='Z',\n",
    "    ),\n",
    "    yaxis2=dict(\n",
    "        title='Y',\n",
    "    ),\n",
    "    margin=dict(l=10, r=10, t=50, b=10),\n",
    "    annotations=[dict(\n",
    "    text=anno.text,\n",
    "    x=anno.x,\n",
    "    y=anno.y + 0.02,\n",
    "    font=dict(size=25),  # Cambia el tamaño de la fuente\n",
    "    showarrow=False\n",
    ") for anno in fig.layout.annotations]\n",
    ")\n",
    "\n",
    "# Show the plot\n",
    "fig.show()"
   ]
  },
  {
   "cell_type": "markdown",
   "metadata": {},
   "source": [
    "Mapa 3D detectores"
   ]
  },
  {
   "cell_type": "code",
   "execution_count": 26,
   "metadata": {},
   "outputs": [
    {
     "data": {
      "application/vnd.plotly.v1+json": {
       "config": {
        "plotlyServerURL": "https://plot.ly"
       },
       "data": [
        {
         "hoverinfo": "text",
         "marker": {
          "color": [
           3,
           3,
           3,
           3,
           3,
           3,
           0,
           0,
           0,
           0,
           0,
           0,
           0,
           0,
           0,
           0,
           0,
           0,
           2,
           2,
           2,
           2,
           2,
           2,
           3,
           3,
           3,
           3,
           3,
           3,
           3,
           3,
           3,
           3,
           3,
           3,
           1,
           1,
           1,
           1,
           1,
           1,
           2,
           2,
           2,
           2,
           2,
           2,
           2,
           2,
           2,
           2,
           2,
           2,
           3,
           3,
           3,
           3,
           3,
           3,
           0,
           0,
           0,
           0,
           0,
           0,
           0,
           0,
           0,
           0,
           0,
           0,
           2,
           2,
           2,
           2,
           2,
           2,
           3,
           3,
           3,
           3,
           3,
           3,
           0,
           0,
           0,
           0,
           0,
           0,
           0,
           0,
           0,
           0,
           0,
           0,
           2,
           2,
           2,
           2,
           2,
           2,
           3,
           3,
           3,
           3,
           3,
           3,
           3,
           3,
           3,
           3,
           3,
           3,
           1,
           1,
           1,
           1,
           1,
           1,
           2,
           2,
           2,
           2,
           2,
           2,
           2,
           2,
           2,
           2,
           2,
           2,
           3,
           3,
           3,
           3,
           3,
           3,
           0,
           0,
           0,
           0,
           0,
           0,
           0,
           0,
           0,
           0,
           0,
           0,
           2,
           2,
           2,
           2,
           2,
           2,
           3,
           3,
           3,
           3,
           3,
           3,
           0,
           0,
           0,
           0,
           0,
           0,
           0,
           0,
           0,
           0,
           0,
           0,
           2,
           2,
           2,
           2,
           2,
           2,
           3,
           3,
           3,
           3,
           3,
           3,
           3,
           3,
           3,
           3,
           3,
           3,
           1,
           1,
           1,
           1,
           1,
           1,
           2,
           2,
           2,
           2,
           2,
           2,
           2,
           2,
           2,
           2,
           2,
           2,
           3,
           3,
           3,
           3,
           3,
           3,
           0,
           0,
           0,
           0,
           0,
           0,
           0,
           0,
           0,
           0,
           0,
           0,
           2,
           2,
           2,
           2,
           2,
           2,
           3,
           3,
           3,
           3,
           3,
           3,
           0,
           0,
           0,
           0,
           0,
           0,
           0,
           0,
           0,
           0,
           0,
           0,
           2,
           2,
           2,
           2,
           2,
           2,
           3,
           3,
           3,
           3,
           3,
           3,
           3,
           3,
           3,
           3,
           3,
           3,
           1,
           1,
           1,
           1,
           1,
           1,
           2,
           2,
           2,
           2,
           2,
           2,
           2,
           2,
           2,
           2,
           2,
           2,
           3,
           3,
           3,
           3,
           3,
           3,
           0,
           0,
           0,
           0,
           0,
           0,
           0,
           0,
           0,
           0,
           0,
           0,
           2,
           2,
           2,
           2,
           2,
           2
          ],
          "colorbar": {
           "title": {
            "text": "Color Scale"
           }
          },
          "size": 5
         },
         "mode": "markers",
         "text": [
          "ID: 0<br>X: -213.75<br>Y: -135.0<br>Z: 20.3",
          "ID: 1<br>X: 213.74999999999997<br>Y: -135.0<br>Z: 20.3",
          "ID: 2<br>X: -213.75<br>Y: 0.0<br>Z: 20.3",
          "ID: 3<br>X: 213.74999999999997<br>Y: 0.0<br>Z: 20.3",
          "ID: 4<br>X: -213.75<br>Y: 135.0<br>Z: 20.3",
          "ID: 5<br>X: 213.74999999999997<br>Y: 135.0<br>Z: 20.3",
          "ID: 6<br>X: -213.4<br>Y: -175.0<br>Z: 27.9",
          "ID: 7<br>X: 213.39999999999998<br>Y: -175.0<br>Z: 27.9",
          "ID: 8<br>X: -213.4<br>Y: -95.0<br>Z: 27.9",
          "ID: 9<br>X: 213.39999999999998<br>Y: -95.0<br>Z: 27.9",
          "ID: 10<br>X: -213.4<br>Y: -40.0<br>Z: 27.9",
          "ID: 11<br>X: 213.39999999999998<br>Y: -40.0<br>Z: 27.9",
          "ID: 12<br>X: -213.4<br>Y: 40.0<br>Z: 27.9",
          "ID: 13<br>X: 213.39999999999998<br>Y: 40.0<br>Z: 27.9",
          "ID: 14<br>X: -213.4<br>Y: 95.0<br>Z: 27.9",
          "ID: 15<br>X: 213.39999999999998<br>Y: 95.0<br>Z: 27.9",
          "ID: 16<br>X: -213.4<br>Y: 175.0<br>Z: 27.9",
          "ID: 17<br>X: 213.39999999999998<br>Y: 175.0<br>Z: 27.9",
          "ID: 18<br>X: -213.75<br>Y: -135.0<br>Z: 35.5",
          "ID: 19<br>X: 213.75<br>Y: -135.0<br>Z: 35.5",
          "ID: 20<br>X: -213.75<br>Y: 0.0<br>Z: 35.5",
          "ID: 21<br>X: 213.75<br>Y: 0.0<br>Z: 35.5",
          "ID: 22<br>X: -213.75<br>Y: 135.0<br>Z: 35.5",
          "ID: 23<br>X: 213.75<br>Y: 135.0<br>Z: 35.5",
          "ID: 24<br>X: -213.75<br>Y: -175.0<br>Z: 50.3",
          "ID: 25<br>X: 213.75<br>Y: -175.0<br>Z: 50.3",
          "ID: 26<br>X: -213.75<br>Y: -95.0<br>Z: 50.3",
          "ID: 27<br>X: 213.75<br>Y: -95.0<br>Z: 50.3",
          "ID: 28<br>X: -213.75<br>Y: -40.0<br>Z: 50.3",
          "ID: 29<br>X: 213.75<br>Y: -40.0<br>Z: 50.3",
          "ID: 30<br>X: -213.75<br>Y: 40.0<br>Z: 50.3",
          "ID: 31<br>X: 213.75<br>Y: 40.0<br>Z: 50.3",
          "ID: 32<br>X: -213.75<br>Y: 95.0<br>Z: 50.3",
          "ID: 33<br>X: 213.75<br>Y: 95.0<br>Z: 50.3",
          "ID: 34<br>X: -213.75<br>Y: 175.0<br>Z: 50.3",
          "ID: 35<br>X: 213.75<br>Y: 175.0<br>Z: 50.3",
          "ID: 36<br>X: -213.4<br>Y: -135.0<br>Z: 57.9",
          "ID: 37<br>X: 213.4<br>Y: -135.0<br>Z: 57.9",
          "ID: 38<br>X: -213.4<br>Y: 0.0<br>Z: 57.9",
          "ID: 39<br>X: 213.4<br>Y: 0.0<br>Z: 57.9",
          "ID: 40<br>X: -213.4<br>Y: 135.0<br>Z: 57.9",
          "ID: 41<br>X: 213.4<br>Y: 135.0<br>Z: 57.9",
          "ID: 42<br>X: -213.75<br>Y: -175.0<br>Z: 65.5",
          "ID: 43<br>X: 213.75<br>Y: -175.0<br>Z: 65.5",
          "ID: 44<br>X: -213.75<br>Y: -95.0<br>Z: 65.5",
          "ID: 45<br>X: 213.75<br>Y: -95.0<br>Z: 65.5",
          "ID: 46<br>X: -213.75<br>Y: -40.0<br>Z: 65.5",
          "ID: 47<br>X: 213.75<br>Y: -40.0<br>Z: 65.5",
          "ID: 48<br>X: -213.75<br>Y: 40.0<br>Z: 65.5",
          "ID: 49<br>X: 213.75<br>Y: 40.0<br>Z: 65.5",
          "ID: 50<br>X: -213.75<br>Y: 95.0<br>Z: 65.5",
          "ID: 51<br>X: 213.75<br>Y: 95.0<br>Z: 65.5",
          "ID: 52<br>X: -213.75<br>Y: 175.0<br>Z: 65.5",
          "ID: 53<br>X: 213.75<br>Y: 175.0<br>Z: 65.5",
          "ID: 54<br>X: -213.75<br>Y: -135.0<br>Z: 80.3",
          "ID: 55<br>X: 213.75<br>Y: -135.0<br>Z: 80.3",
          "ID: 56<br>X: -213.75<br>Y: 0.0<br>Z: 80.3",
          "ID: 57<br>X: 213.75<br>Y: 0.0<br>Z: 80.3",
          "ID: 58<br>X: -213.75<br>Y: 135.0<br>Z: 80.3",
          "ID: 59<br>X: 213.75<br>Y: 135.0<br>Z: 80.3",
          "ID: 60<br>X: -213.4<br>Y: -175.0<br>Z: 87.9",
          "ID: 61<br>X: 213.4<br>Y: -175.0<br>Z: 87.9",
          "ID: 62<br>X: -213.4<br>Y: -95.0<br>Z: 87.9",
          "ID: 63<br>X: 213.4<br>Y: -95.0<br>Z: 87.9",
          "ID: 64<br>X: -213.4<br>Y: -40.0<br>Z: 87.9",
          "ID: 65<br>X: 213.4<br>Y: -40.0<br>Z: 87.9",
          "ID: 66<br>X: -213.4<br>Y: 40.0<br>Z: 87.9",
          "ID: 67<br>X: 213.4<br>Y: 40.0<br>Z: 87.9",
          "ID: 68<br>X: -213.4<br>Y: 95.0<br>Z: 87.9",
          "ID: 69<br>X: 213.4<br>Y: 95.0<br>Z: 87.9",
          "ID: 70<br>X: -213.4<br>Y: 175.0<br>Z: 87.9",
          "ID: 71<br>X: 213.4<br>Y: 175.0<br>Z: 87.9",
          "ID: 72<br>X: -213.75<br>Y: -135.0<br>Z: 95.5",
          "ID: 73<br>X: 213.75<br>Y: -135.0<br>Z: 95.5",
          "ID: 74<br>X: -213.75<br>Y: 0.0<br>Z: 95.5",
          "ID: 75<br>X: 213.75<br>Y: 0.0<br>Z: 95.5",
          "ID: 76<br>X: -213.75<br>Y: 135.0<br>Z: 95.5",
          "ID: 77<br>X: 213.75<br>Y: 135.0<br>Z: 95.5",
          "ID: 78<br>X: -213.75<br>Y: -135.0<br>Z: 153.5",
          "ID: 79<br>X: 213.74999999999997<br>Y: -135.0<br>Z: 153.5",
          "ID: 80<br>X: -213.75<br>Y: 0.0<br>Z: 153.5",
          "ID: 81<br>X: 213.74999999999997<br>Y: 0.0<br>Z: 153.5",
          "ID: 82<br>X: -213.75<br>Y: 135.0<br>Z: 153.5",
          "ID: 83<br>X: 213.74999999999997<br>Y: 135.0<br>Z: 153.5",
          "ID: 84<br>X: -213.4<br>Y: -175.0<br>Z: 161.2",
          "ID: 85<br>X: 213.39999999999998<br>Y: -175.0<br>Z: 161.2",
          "ID: 86<br>X: -213.4<br>Y: -95.0<br>Z: 161.2",
          "ID: 87<br>X: 213.39999999999998<br>Y: -95.0<br>Z: 161.2",
          "ID: 88<br>X: -213.4<br>Y: -40.0<br>Z: 161.2",
          "ID: 89<br>X: 213.39999999999998<br>Y: -40.0<br>Z: 161.2",
          "ID: 90<br>X: -213.4<br>Y: 40.0<br>Z: 161.2",
          "ID: 91<br>X: 213.39999999999998<br>Y: 40.0<br>Z: 161.2",
          "ID: 92<br>X: -213.4<br>Y: 95.0<br>Z: 161.2",
          "ID: 93<br>X: 213.39999999999998<br>Y: 95.0<br>Z: 161.2",
          "ID: 94<br>X: -213.4<br>Y: 175.0<br>Z: 161.2",
          "ID: 95<br>X: 213.39999999999998<br>Y: 175.0<br>Z: 161.2",
          "ID: 96<br>X: -213.75<br>Y: -135.0<br>Z: 168.8",
          "ID: 97<br>X: 213.75<br>Y: -135.0<br>Z: 168.8",
          "ID: 98<br>X: -213.75<br>Y: 0.0<br>Z: 168.8",
          "ID: 99<br>X: 213.75<br>Y: 0.0<br>Z: 168.8",
          "ID: 100<br>X: -213.75<br>Y: 135.0<br>Z: 168.8",
          "ID: 101<br>X: 213.75<br>Y: 135.0<br>Z: 168.8",
          "ID: 102<br>X: -213.75<br>Y: -175.0<br>Z: 183.5",
          "ID: 103<br>X: 213.75<br>Y: -175.0<br>Z: 183.5",
          "ID: 104<br>X: -213.75<br>Y: -95.0<br>Z: 183.5",
          "ID: 105<br>X: 213.75<br>Y: -95.0<br>Z: 183.5",
          "ID: 106<br>X: -213.75<br>Y: -40.0<br>Z: 183.5",
          "ID: 107<br>X: 213.75<br>Y: -40.0<br>Z: 183.5",
          "ID: 108<br>X: -213.75<br>Y: 40.0<br>Z: 183.5",
          "ID: 109<br>X: 213.75<br>Y: 40.0<br>Z: 183.5",
          "ID: 110<br>X: -213.75<br>Y: 95.0<br>Z: 183.5",
          "ID: 111<br>X: 213.75<br>Y: 95.0<br>Z: 183.5",
          "ID: 112<br>X: -213.75<br>Y: 175.0<br>Z: 183.5",
          "ID: 113<br>X: 213.75<br>Y: 175.0<br>Z: 183.5",
          "ID: 114<br>X: -213.4<br>Y: -135.0<br>Z: 191.2",
          "ID: 115<br>X: 213.4<br>Y: -135.0<br>Z: 191.2",
          "ID: 116<br>X: -213.4<br>Y: 0.0<br>Z: 191.2",
          "ID: 117<br>X: 213.4<br>Y: 0.0<br>Z: 191.2",
          "ID: 118<br>X: -213.4<br>Y: 135.0<br>Z: 191.2",
          "ID: 119<br>X: 213.4<br>Y: 135.0<br>Z: 191.2",
          "ID: 120<br>X: -213.75<br>Y: -175.0<br>Z: 198.8",
          "ID: 121<br>X: 213.75<br>Y: -175.0<br>Z: 198.8",
          "ID: 122<br>X: -213.75<br>Y: -95.0<br>Z: 198.8",
          "ID: 123<br>X: 213.75<br>Y: -95.0<br>Z: 198.8",
          "ID: 124<br>X: -213.75<br>Y: -40.0<br>Z: 198.8",
          "ID: 125<br>X: 213.75<br>Y: -40.0<br>Z: 198.8",
          "ID: 126<br>X: -213.75<br>Y: 40.0<br>Z: 198.8",
          "ID: 127<br>X: 213.75<br>Y: 40.0<br>Z: 198.8",
          "ID: 128<br>X: -213.75<br>Y: 95.0<br>Z: 198.8",
          "ID: 129<br>X: 213.75<br>Y: 95.0<br>Z: 198.8",
          "ID: 130<br>X: -213.75<br>Y: 175.0<br>Z: 198.8",
          "ID: 131<br>X: 213.75<br>Y: 175.0<br>Z: 198.8",
          "ID: 132<br>X: -213.75<br>Y: -135.0<br>Z: 213.5",
          "ID: 133<br>X: 213.75<br>Y: -135.0<br>Z: 213.5",
          "ID: 134<br>X: -213.75<br>Y: 0.0<br>Z: 213.5",
          "ID: 135<br>X: 213.75<br>Y: 0.0<br>Z: 213.5",
          "ID: 136<br>X: -213.75<br>Y: 135.0<br>Z: 213.5",
          "ID: 137<br>X: 213.75<br>Y: 135.0<br>Z: 213.5",
          "ID: 138<br>X: -213.4<br>Y: -175.0<br>Z: 221.2",
          "ID: 139<br>X: 213.4<br>Y: -175.0<br>Z: 221.2",
          "ID: 140<br>X: -213.4<br>Y: -95.0<br>Z: 221.2",
          "ID: 141<br>X: 213.4<br>Y: -95.0<br>Z: 221.2",
          "ID: 142<br>X: -213.4<br>Y: -40.0<br>Z: 221.2",
          "ID: 143<br>X: 213.4<br>Y: -40.0<br>Z: 221.2",
          "ID: 144<br>X: -213.4<br>Y: 40.0<br>Z: 221.2",
          "ID: 145<br>X: 213.4<br>Y: 40.0<br>Z: 221.2",
          "ID: 146<br>X: -213.4<br>Y: 95.0<br>Z: 221.2",
          "ID: 147<br>X: 213.4<br>Y: 95.0<br>Z: 221.2",
          "ID: 148<br>X: -213.4<br>Y: 175.0<br>Z: 221.2",
          "ID: 149<br>X: 213.4<br>Y: 175.0<br>Z: 221.2",
          "ID: 150<br>X: -213.75<br>Y: -135.0<br>Z: 228.8",
          "ID: 151<br>X: 213.75<br>Y: -135.0<br>Z: 228.8",
          "ID: 152<br>X: -213.75<br>Y: 0.0<br>Z: 228.8",
          "ID: 153<br>X: 213.75<br>Y: 0.0<br>Z: 228.8",
          "ID: 154<br>X: -213.75<br>Y: 135.0<br>Z: 228.8",
          "ID: 155<br>X: 213.75<br>Y: 135.0<br>Z: 228.8",
          "ID: 156<br>X: -213.75<br>Y: -135.0<br>Z: 280.6",
          "ID: 157<br>X: 213.74999999999997<br>Y: -135.0<br>Z: 280.6",
          "ID: 158<br>X: -213.75<br>Y: 0.0<br>Z: 280.6",
          "ID: 159<br>X: 213.74999999999997<br>Y: 0.0<br>Z: 280.6",
          "ID: 160<br>X: -213.75<br>Y: 135.0<br>Z: 280.6",
          "ID: 161<br>X: 213.74999999999997<br>Y: 135.0<br>Z: 280.6",
          "ID: 162<br>X: -213.4<br>Y: -175.0<br>Z: 288.2",
          "ID: 163<br>X: 213.39999999999998<br>Y: -175.0<br>Z: 288.2",
          "ID: 164<br>X: -213.4<br>Y: -95.0<br>Z: 288.2",
          "ID: 165<br>X: 213.39999999999998<br>Y: -95.0<br>Z: 288.2",
          "ID: 166<br>X: -213.4<br>Y: -40.0<br>Z: 288.2",
          "ID: 167<br>X: 213.39999999999998<br>Y: -40.0<br>Z: 288.2",
          "ID: 168<br>X: -213.4<br>Y: 40.0<br>Z: 288.2",
          "ID: 169<br>X: 213.39999999999998<br>Y: 40.0<br>Z: 288.2",
          "ID: 170<br>X: -213.4<br>Y: 95.0<br>Z: 288.2",
          "ID: 171<br>X: 213.39999999999998<br>Y: 95.0<br>Z: 288.2",
          "ID: 172<br>X: -213.4<br>Y: 175.0<br>Z: 288.2",
          "ID: 173<br>X: 213.39999999999998<br>Y: 175.0<br>Z: 288.2",
          "ID: 174<br>X: -213.75<br>Y: -135.0<br>Z: 295.9",
          "ID: 175<br>X: 213.75<br>Y: -135.0<br>Z: 295.9",
          "ID: 176<br>X: -213.75<br>Y: 0.0<br>Z: 295.9",
          "ID: 177<br>X: 213.75<br>Y: 0.0<br>Z: 295.9",
          "ID: 178<br>X: -213.75<br>Y: 135.0<br>Z: 295.9",
          "ID: 179<br>X: 213.75<br>Y: 135.0<br>Z: 295.9",
          "ID: 180<br>X: -213.75<br>Y: -175.0<br>Z: 310.6",
          "ID: 181<br>X: 213.75<br>Y: -175.0<br>Z: 310.6",
          "ID: 182<br>X: -213.75<br>Y: -95.0<br>Z: 310.6",
          "ID: 183<br>X: 213.75<br>Y: -95.0<br>Z: 310.6",
          "ID: 184<br>X: -213.75<br>Y: -40.0<br>Z: 310.6",
          "ID: 185<br>X: 213.75<br>Y: -40.0<br>Z: 310.6",
          "ID: 186<br>X: -213.75<br>Y: 40.0<br>Z: 310.6",
          "ID: 187<br>X: 213.75<br>Y: 40.0<br>Z: 310.6",
          "ID: 188<br>X: -213.75<br>Y: 95.0<br>Z: 310.6",
          "ID: 189<br>X: 213.75<br>Y: 95.0<br>Z: 310.6",
          "ID: 190<br>X: -213.75<br>Y: 175.0<br>Z: 310.6",
          "ID: 191<br>X: 213.75<br>Y: 175.0<br>Z: 310.6",
          "ID: 192<br>X: -213.4<br>Y: -135.0<br>Z: 318.2",
          "ID: 193<br>X: 213.4<br>Y: -135.0<br>Z: 318.2",
          "ID: 194<br>X: -213.4<br>Y: 0.0<br>Z: 318.2",
          "ID: 195<br>X: 213.4<br>Y: 0.0<br>Z: 318.2",
          "ID: 196<br>X: -213.4<br>Y: 135.0<br>Z: 318.2",
          "ID: 197<br>X: 213.4<br>Y: 135.0<br>Z: 318.2",
          "ID: 198<br>X: -213.75<br>Y: -175.0<br>Z: 325.9",
          "ID: 199<br>X: 213.75<br>Y: -175.0<br>Z: 325.9",
          "ID: 200<br>X: -213.75<br>Y: -95.0<br>Z: 325.9",
          "ID: 201<br>X: 213.75<br>Y: -95.0<br>Z: 325.9",
          "ID: 202<br>X: -213.75<br>Y: -40.0<br>Z: 325.9",
          "ID: 203<br>X: 213.75<br>Y: -40.0<br>Z: 325.9",
          "ID: 204<br>X: -213.75<br>Y: 40.0<br>Z: 325.9",
          "ID: 205<br>X: 213.75<br>Y: 40.0<br>Z: 325.9",
          "ID: 206<br>X: -213.75<br>Y: 95.0<br>Z: 325.9",
          "ID: 207<br>X: 213.75<br>Y: 95.0<br>Z: 325.9",
          "ID: 208<br>X: -213.75<br>Y: 175.0<br>Z: 325.9",
          "ID: 209<br>X: 213.75<br>Y: 175.0<br>Z: 325.9",
          "ID: 210<br>X: -213.75<br>Y: -135.0<br>Z: 340.6",
          "ID: 211<br>X: 213.75<br>Y: -135.0<br>Z: 340.6",
          "ID: 212<br>X: -213.75<br>Y: 0.0<br>Z: 340.6",
          "ID: 213<br>X: 213.75<br>Y: 0.0<br>Z: 340.6",
          "ID: 214<br>X: -213.75<br>Y: 135.0<br>Z: 340.6",
          "ID: 215<br>X: 213.75<br>Y: 135.0<br>Z: 340.6",
          "ID: 216<br>X: -213.4<br>Y: -175.0<br>Z: 348.2",
          "ID: 217<br>X: 213.4<br>Y: -175.0<br>Z: 348.2",
          "ID: 218<br>X: -213.4<br>Y: -95.0<br>Z: 348.2",
          "ID: 219<br>X: 213.4<br>Y: -95.0<br>Z: 348.2",
          "ID: 220<br>X: -213.4<br>Y: -40.0<br>Z: 348.2",
          "ID: 221<br>X: 213.4<br>Y: -40.0<br>Z: 348.2",
          "ID: 222<br>X: -213.4<br>Y: 40.0<br>Z: 348.2",
          "ID: 223<br>X: 213.4<br>Y: 40.0<br>Z: 348.2",
          "ID: 224<br>X: -213.4<br>Y: 95.0<br>Z: 348.2",
          "ID: 225<br>X: 213.4<br>Y: 95.0<br>Z: 348.2",
          "ID: 226<br>X: -213.4<br>Y: 175.0<br>Z: 348.2",
          "ID: 227<br>X: 213.4<br>Y: 175.0<br>Z: 348.2",
          "ID: 228<br>X: -213.75<br>Y: -135.0<br>Z: 355.9",
          "ID: 229<br>X: 213.75<br>Y: -135.0<br>Z: 355.9",
          "ID: 230<br>X: -213.75<br>Y: 0.0<br>Z: 355.9",
          "ID: 231<br>X: 213.75<br>Y: 0.0<br>Z: 355.9",
          "ID: 232<br>X: -213.75<br>Y: 135.0<br>Z: 355.9",
          "ID: 233<br>X: 213.75<br>Y: 135.0<br>Z: 355.9",
          "ID: 234<br>X: -213.75<br>Y: -135.0<br>Z: 413.9",
          "ID: 235<br>X: 213.74999999999997<br>Y: -135.0<br>Z: 413.9",
          "ID: 236<br>X: -213.75<br>Y: 0.0<br>Z: 413.9",
          "ID: 237<br>X: 213.74999999999997<br>Y: 0.0<br>Z: 413.9",
          "ID: 238<br>X: -213.75<br>Y: 135.0<br>Z: 413.9",
          "ID: 239<br>X: 213.74999999999997<br>Y: 135.0<br>Z: 413.9",
          "ID: 240<br>X: -213.4<br>Y: -175.0<br>Z: 421.5",
          "ID: 241<br>X: 213.39999999999998<br>Y: -175.0<br>Z: 421.5",
          "ID: 242<br>X: -213.4<br>Y: -95.0<br>Z: 421.5",
          "ID: 243<br>X: 213.39999999999998<br>Y: -95.0<br>Z: 421.5",
          "ID: 244<br>X: -213.4<br>Y: -40.0<br>Z: 421.5",
          "ID: 245<br>X: 213.39999999999998<br>Y: -40.0<br>Z: 421.5",
          "ID: 246<br>X: -213.4<br>Y: 40.0<br>Z: 421.5",
          "ID: 247<br>X: 213.39999999999998<br>Y: 40.0<br>Z: 421.5",
          "ID: 248<br>X: -213.4<br>Y: 95.0<br>Z: 421.5",
          "ID: 249<br>X: 213.39999999999998<br>Y: 95.0<br>Z: 421.5",
          "ID: 250<br>X: -213.4<br>Y: 175.0<br>Z: 421.5",
          "ID: 251<br>X: 213.39999999999998<br>Y: 175.0<br>Z: 421.5",
          "ID: 252<br>X: -213.75<br>Y: -135.0<br>Z: 429.1",
          "ID: 253<br>X: 213.75<br>Y: -135.0<br>Z: 429.1",
          "ID: 254<br>X: -213.75<br>Y: 0.0<br>Z: 429.1",
          "ID: 255<br>X: 213.75<br>Y: 0.0<br>Z: 429.1",
          "ID: 256<br>X: -213.75<br>Y: 135.0<br>Z: 429.1",
          "ID: 257<br>X: 213.75<br>Y: 135.0<br>Z: 429.1",
          "ID: 258<br>X: -213.75<br>Y: -175.0<br>Z: 443.9",
          "ID: 259<br>X: 213.75<br>Y: -175.0<br>Z: 443.9",
          "ID: 260<br>X: -213.75<br>Y: -95.0<br>Z: 443.9",
          "ID: 261<br>X: 213.75<br>Y: -95.0<br>Z: 443.9",
          "ID: 262<br>X: -213.75<br>Y: -40.0<br>Z: 443.9",
          "ID: 263<br>X: 213.75<br>Y: -40.0<br>Z: 443.9",
          "ID: 264<br>X: -213.75<br>Y: 40.0<br>Z: 443.9",
          "ID: 265<br>X: 213.75<br>Y: 40.0<br>Z: 443.9",
          "ID: 266<br>X: -213.75<br>Y: 95.0<br>Z: 443.9",
          "ID: 267<br>X: 213.75<br>Y: 95.0<br>Z: 443.9",
          "ID: 268<br>X: -213.75<br>Y: 175.0<br>Z: 443.9",
          "ID: 269<br>X: 213.75<br>Y: 175.0<br>Z: 443.9",
          "ID: 270<br>X: -213.4<br>Y: -135.0<br>Z: 451.5",
          "ID: 271<br>X: 213.4<br>Y: -135.0<br>Z: 451.5",
          "ID: 272<br>X: -213.4<br>Y: 0.0<br>Z: 451.5",
          "ID: 273<br>X: 213.4<br>Y: 0.0<br>Z: 451.5",
          "ID: 274<br>X: -213.4<br>Y: 135.0<br>Z: 451.5",
          "ID: 275<br>X: 213.4<br>Y: 135.0<br>Z: 451.5",
          "ID: 276<br>X: -213.75<br>Y: -175.0<br>Z: 459.1",
          "ID: 277<br>X: 213.75<br>Y: -175.0<br>Z: 459.1",
          "ID: 278<br>X: -213.75<br>Y: -95.0<br>Z: 459.1",
          "ID: 279<br>X: 213.75<br>Y: -95.0<br>Z: 459.1",
          "ID: 280<br>X: -213.75<br>Y: -40.0<br>Z: 459.1",
          "ID: 281<br>X: 213.75<br>Y: -40.0<br>Z: 459.1",
          "ID: 282<br>X: -213.75<br>Y: 40.0<br>Z: 459.1",
          "ID: 283<br>X: 213.75<br>Y: 40.0<br>Z: 459.1",
          "ID: 284<br>X: -213.75<br>Y: 95.0<br>Z: 459.1",
          "ID: 285<br>X: 213.75<br>Y: 95.0<br>Z: 459.1",
          "ID: 286<br>X: -213.75<br>Y: 175.0<br>Z: 459.1",
          "ID: 287<br>X: 213.75<br>Y: 175.0<br>Z: 459.1",
          "ID: 288<br>X: -213.75<br>Y: -135.0<br>Z: 473.9",
          "ID: 289<br>X: 213.75<br>Y: -135.0<br>Z: 473.9",
          "ID: 290<br>X: -213.75<br>Y: 0.0<br>Z: 473.9",
          "ID: 291<br>X: 213.75<br>Y: 0.0<br>Z: 473.9",
          "ID: 292<br>X: -213.75<br>Y: 135.0<br>Z: 473.9",
          "ID: 293<br>X: 213.75<br>Y: 135.0<br>Z: 473.9",
          "ID: 294<br>X: -213.4<br>Y: -175.0<br>Z: 481.5",
          "ID: 295<br>X: 213.4<br>Y: -175.0<br>Z: 481.5",
          "ID: 296<br>X: -213.4<br>Y: -95.0<br>Z: 481.5",
          "ID: 297<br>X: 213.4<br>Y: -95.0<br>Z: 481.5",
          "ID: 298<br>X: -213.4<br>Y: -40.0<br>Z: 481.5",
          "ID: 299<br>X: 213.4<br>Y: -40.0<br>Z: 481.5",
          "ID: 300<br>X: -213.4<br>Y: 40.0<br>Z: 481.5",
          "ID: 301<br>X: 213.4<br>Y: 40.0<br>Z: 481.5",
          "ID: 302<br>X: -213.4<br>Y: 95.0<br>Z: 481.5",
          "ID: 303<br>X: 213.4<br>Y: 95.0<br>Z: 481.5",
          "ID: 304<br>X: -213.4<br>Y: 175.0<br>Z: 481.5",
          "ID: 305<br>X: 213.4<br>Y: 175.0<br>Z: 481.5",
          "ID: 306<br>X: -213.75<br>Y: -135.0<br>Z: 489.1",
          "ID: 307<br>X: 213.75<br>Y: -135.0<br>Z: 489.1",
          "ID: 308<br>X: -213.75<br>Y: 0.0<br>Z: 489.1",
          "ID: 309<br>X: 213.75<br>Y: 0.0<br>Z: 489.1",
          "ID: 310<br>X: -213.75<br>Y: 135.0<br>Z: 489.1",
          "ID: 311<br>X: 213.75<br>Y: 135.0<br>Z: 489.1"
         ],
         "type": "scatter3d",
         "x": [
          -213.75,
          213.74999999999997,
          -213.75,
          213.74999999999997,
          -213.75,
          213.74999999999997,
          -213.4,
          213.39999999999998,
          -213.4,
          213.39999999999998,
          -213.4,
          213.39999999999998,
          -213.4,
          213.39999999999998,
          -213.4,
          213.39999999999998,
          -213.4,
          213.39999999999998,
          -213.75,
          213.75,
          -213.75,
          213.75,
          -213.75,
          213.75,
          -213.75,
          213.75,
          -213.75,
          213.75,
          -213.75,
          213.75,
          -213.75,
          213.75,
          -213.75,
          213.75,
          -213.75,
          213.75,
          -213.4,
          213.4,
          -213.4,
          213.4,
          -213.4,
          213.4,
          -213.75,
          213.75,
          -213.75,
          213.75,
          -213.75,
          213.75,
          -213.75,
          213.75,
          -213.75,
          213.75,
          -213.75,
          213.75,
          -213.75,
          213.75,
          -213.75,
          213.75,
          -213.75,
          213.75,
          -213.4,
          213.4,
          -213.4,
          213.4,
          -213.4,
          213.4,
          -213.4,
          213.4,
          -213.4,
          213.4,
          -213.4,
          213.4,
          -213.75,
          213.75,
          -213.75,
          213.75,
          -213.75,
          213.75,
          -213.75,
          213.74999999999997,
          -213.75,
          213.74999999999997,
          -213.75,
          213.74999999999997,
          -213.4,
          213.39999999999998,
          -213.4,
          213.39999999999998,
          -213.4,
          213.39999999999998,
          -213.4,
          213.39999999999998,
          -213.4,
          213.39999999999998,
          -213.4,
          213.39999999999998,
          -213.75,
          213.75,
          -213.75,
          213.75,
          -213.75,
          213.75,
          -213.75,
          213.75,
          -213.75,
          213.75,
          -213.75,
          213.75,
          -213.75,
          213.75,
          -213.75,
          213.75,
          -213.75,
          213.75,
          -213.4,
          213.4,
          -213.4,
          213.4,
          -213.4,
          213.4,
          -213.75,
          213.75,
          -213.75,
          213.75,
          -213.75,
          213.75,
          -213.75,
          213.75,
          -213.75,
          213.75,
          -213.75,
          213.75,
          -213.75,
          213.75,
          -213.75,
          213.75,
          -213.75,
          213.75,
          -213.4,
          213.4,
          -213.4,
          213.4,
          -213.4,
          213.4,
          -213.4,
          213.4,
          -213.4,
          213.4,
          -213.4,
          213.4,
          -213.75,
          213.75,
          -213.75,
          213.75,
          -213.75,
          213.75,
          -213.75,
          213.74999999999997,
          -213.75,
          213.74999999999997,
          -213.75,
          213.74999999999997,
          -213.4,
          213.39999999999998,
          -213.4,
          213.39999999999998,
          -213.4,
          213.39999999999998,
          -213.4,
          213.39999999999998,
          -213.4,
          213.39999999999998,
          -213.4,
          213.39999999999998,
          -213.75,
          213.75,
          -213.75,
          213.75,
          -213.75,
          213.75,
          -213.75,
          213.75,
          -213.75,
          213.75,
          -213.75,
          213.75,
          -213.75,
          213.75,
          -213.75,
          213.75,
          -213.75,
          213.75,
          -213.4,
          213.4,
          -213.4,
          213.4,
          -213.4,
          213.4,
          -213.75,
          213.75,
          -213.75,
          213.75,
          -213.75,
          213.75,
          -213.75,
          213.75,
          -213.75,
          213.75,
          -213.75,
          213.75,
          -213.75,
          213.75,
          -213.75,
          213.75,
          -213.75,
          213.75,
          -213.4,
          213.4,
          -213.4,
          213.4,
          -213.4,
          213.4,
          -213.4,
          213.4,
          -213.4,
          213.4,
          -213.4,
          213.4,
          -213.75,
          213.75,
          -213.75,
          213.75,
          -213.75,
          213.75,
          -213.75,
          213.74999999999997,
          -213.75,
          213.74999999999997,
          -213.75,
          213.74999999999997,
          -213.4,
          213.39999999999998,
          -213.4,
          213.39999999999998,
          -213.4,
          213.39999999999998,
          -213.4,
          213.39999999999998,
          -213.4,
          213.39999999999998,
          -213.4,
          213.39999999999998,
          -213.75,
          213.75,
          -213.75,
          213.75,
          -213.75,
          213.75,
          -213.75,
          213.75,
          -213.75,
          213.75,
          -213.75,
          213.75,
          -213.75,
          213.75,
          -213.75,
          213.75,
          -213.75,
          213.75,
          -213.4,
          213.4,
          -213.4,
          213.4,
          -213.4,
          213.4,
          -213.75,
          213.75,
          -213.75,
          213.75,
          -213.75,
          213.75,
          -213.75,
          213.75,
          -213.75,
          213.75,
          -213.75,
          213.75,
          -213.75,
          213.75,
          -213.75,
          213.75,
          -213.75,
          213.75,
          -213.4,
          213.4,
          -213.4,
          213.4,
          -213.4,
          213.4,
          -213.4,
          213.4,
          -213.4,
          213.4,
          -213.4,
          213.4,
          -213.75,
          213.75,
          -213.75,
          213.75,
          -213.75,
          213.75
         ],
         "y": [
          20.254225000000027,
          20.254225000000027,
          20.254225000000027,
          20.254225000000027,
          20.254225000000027,
          20.254225000000027,
          27.874225000000024,
          27.874225000000024,
          27.874225000000024,
          27.874225000000024,
          27.874225000000024,
          27.874225000000024,
          27.874225000000024,
          27.874225000000024,
          27.874225000000024,
          27.874225000000024,
          27.874225000000024,
          27.874225000000024,
          35.49422500000002,
          35.49422500000002,
          35.49422500000002,
          35.49422500000002,
          35.49422500000002,
          35.49422500000002,
          50.25422500000002,
          50.25422500000002,
          50.25422500000002,
          50.25422500000002,
          50.25422500000002,
          50.25422500000002,
          50.25422500000002,
          50.25422500000002,
          50.25422500000002,
          50.25422500000002,
          50.25422500000002,
          50.25422500000002,
          57.874225000000024,
          57.874225000000024,
          57.874225000000024,
          57.874225000000024,
          57.874225000000024,
          57.874225000000024,
          65.49422500000003,
          65.49422500000003,
          65.49422500000003,
          65.49422500000003,
          65.49422500000003,
          65.49422500000003,
          65.49422500000003,
          65.49422500000003,
          65.49422500000003,
          65.49422500000003,
          65.49422500000003,
          65.49422500000003,
          80.25422500000002,
          80.25422500000002,
          80.25422500000002,
          80.25422500000002,
          80.25422500000002,
          80.25422500000002,
          87.87422500000002,
          87.87422500000002,
          87.87422500000002,
          87.87422500000002,
          87.87422500000002,
          87.87422500000002,
          87.87422500000002,
          87.87422500000002,
          87.87422500000002,
          87.87422500000002,
          87.87422500000002,
          87.87422500000002,
          95.49422500000003,
          95.49422500000003,
          95.49422500000003,
          95.49422500000003,
          95.49422500000003,
          95.49422500000003,
          153.53807500000005,
          153.53807500000005,
          153.53807500000005,
          153.53807500000005,
          153.53807500000005,
          153.53807500000005,
          161.15807500000005,
          161.15807500000005,
          161.15807500000005,
          161.15807500000005,
          161.15807500000005,
          161.15807500000005,
          161.15807500000005,
          161.15807500000005,
          161.15807500000005,
          161.15807500000005,
          161.15807500000005,
          161.15807500000005,
          168.77807500000006,
          168.77807500000006,
          168.77807500000006,
          168.77807500000006,
          168.77807500000006,
          168.77807500000006,
          183.53807500000005,
          183.53807500000005,
          183.53807500000005,
          183.53807500000005,
          183.53807500000005,
          183.53807500000005,
          183.53807500000005,
          183.53807500000005,
          183.53807500000005,
          183.53807500000005,
          183.53807500000005,
          183.53807500000005,
          191.15807500000005,
          191.15807500000005,
          191.15807500000005,
          191.15807500000005,
          191.15807500000005,
          191.15807500000005,
          198.77807500000006,
          198.77807500000006,
          198.77807500000006,
          198.77807500000006,
          198.77807500000006,
          198.77807500000006,
          198.77807500000006,
          198.77807500000006,
          198.77807500000006,
          198.77807500000006,
          198.77807500000006,
          198.77807500000006,
          213.53807500000005,
          213.53807500000005,
          213.53807500000005,
          213.53807500000005,
          213.53807500000005,
          213.53807500000005,
          221.15807500000005,
          221.15807500000005,
          221.15807500000005,
          221.15807500000005,
          221.15807500000005,
          221.15807500000005,
          221.15807500000005,
          221.15807500000005,
          221.15807500000005,
          221.15807500000005,
          221.15807500000005,
          221.15807500000005,
          228.77807500000006,
          228.77807500000006,
          228.77807500000006,
          228.77807500000006,
          228.77807500000006,
          228.77807500000006,
          280.62192500000003,
          280.62192500000003,
          280.62192500000003,
          280.62192500000003,
          280.62192500000003,
          280.62192500000003,
          288.24192500000004,
          288.24192500000004,
          288.24192500000004,
          288.24192500000004,
          288.24192500000004,
          288.24192500000004,
          288.24192500000004,
          288.24192500000004,
          288.24192500000004,
          288.24192500000004,
          288.24192500000004,
          288.24192500000004,
          295.86192500000004,
          295.86192500000004,
          295.86192500000004,
          295.86192500000004,
          295.86192500000004,
          295.86192500000004,
          310.62192500000003,
          310.62192500000003,
          310.62192500000003,
          310.62192500000003,
          310.62192500000003,
          310.62192500000003,
          310.62192500000003,
          310.62192500000003,
          310.62192500000003,
          310.62192500000003,
          310.62192500000003,
          310.62192500000003,
          318.24192500000004,
          318.24192500000004,
          318.24192500000004,
          318.24192500000004,
          318.24192500000004,
          318.24192500000004,
          325.86192500000004,
          325.86192500000004,
          325.86192500000004,
          325.86192500000004,
          325.86192500000004,
          325.86192500000004,
          325.86192500000004,
          325.86192500000004,
          325.86192500000004,
          325.86192500000004,
          325.86192500000004,
          325.86192500000004,
          340.62192500000003,
          340.62192500000003,
          340.62192500000003,
          340.62192500000003,
          340.62192500000003,
          340.62192500000003,
          348.24192500000004,
          348.24192500000004,
          348.24192500000004,
          348.24192500000004,
          348.24192500000004,
          348.24192500000004,
          348.24192500000004,
          348.24192500000004,
          348.24192500000004,
          348.24192500000004,
          348.24192500000004,
          348.24192500000004,
          355.86192500000004,
          355.86192500000004,
          355.86192500000004,
          355.86192500000004,
          355.86192500000004,
          355.86192500000004,
          413.90577500000006,
          413.90577500000006,
          413.90577500000006,
          413.90577500000006,
          413.90577500000006,
          413.90577500000006,
          421.52577500000007,
          421.52577500000007,
          421.52577500000007,
          421.52577500000007,
          421.52577500000007,
          421.52577500000007,
          421.52577500000007,
          421.52577500000007,
          421.52577500000007,
          421.52577500000007,
          421.52577500000007,
          421.52577500000007,
          429.14577500000007,
          429.14577500000007,
          429.14577500000007,
          429.14577500000007,
          429.14577500000007,
          429.14577500000007,
          443.90577500000006,
          443.90577500000006,
          443.90577500000006,
          443.90577500000006,
          443.90577500000006,
          443.90577500000006,
          443.90577500000006,
          443.90577500000006,
          443.90577500000006,
          443.90577500000006,
          443.90577500000006,
          443.90577500000006,
          451.52577500000007,
          451.52577500000007,
          451.52577500000007,
          451.52577500000007,
          451.52577500000007,
          451.52577500000007,
          459.14577500000007,
          459.14577500000007,
          459.14577500000007,
          459.14577500000007,
          459.14577500000007,
          459.14577500000007,
          459.14577500000007,
          459.14577500000007,
          459.14577500000007,
          459.14577500000007,
          459.14577500000007,
          459.14577500000007,
          473.90577500000006,
          473.90577500000006,
          473.90577500000006,
          473.90577500000006,
          473.90577500000006,
          473.90577500000006,
          481.52577500000007,
          481.52577500000007,
          481.52577500000007,
          481.52577500000007,
          481.52577500000007,
          481.52577500000007,
          481.52577500000007,
          481.52577500000007,
          481.52577500000007,
          481.52577500000007,
          481.52577500000007,
          481.52577500000007,
          489.14577500000007,
          489.14577500000007,
          489.14577500000007,
          489.14577500000007,
          489.14577500000007,
          489.14577500000007
         ],
         "z": [
          -135,
          -135,
          0,
          0,
          135,
          135,
          -175,
          -175,
          -95,
          -95,
          -40,
          -40,
          40,
          40,
          95,
          95,
          175,
          175,
          -135,
          -135,
          0,
          0,
          135,
          135,
          -175,
          -175,
          -95,
          -95,
          -40,
          -40,
          40,
          40,
          95,
          95,
          175,
          175,
          -135,
          -135,
          0,
          0,
          135,
          135,
          -175,
          -175,
          -95,
          -95,
          -40,
          -40,
          40,
          40,
          95,
          95,
          175,
          175,
          -135,
          -135,
          0,
          0,
          135,
          135,
          -175,
          -175,
          -95,
          -95,
          -40,
          -40,
          40,
          40,
          95,
          95,
          175,
          175,
          -135,
          -135,
          0,
          0,
          135,
          135,
          -135,
          -135,
          0,
          0,
          135,
          135,
          -175,
          -175,
          -95,
          -95,
          -40,
          -40,
          40,
          40,
          95,
          95,
          175,
          175,
          -135,
          -135,
          0,
          0,
          135,
          135,
          -175,
          -175,
          -95,
          -95,
          -40,
          -40,
          40,
          40,
          95,
          95,
          175,
          175,
          -135,
          -135,
          0,
          0,
          135,
          135,
          -175,
          -175,
          -95,
          -95,
          -40,
          -40,
          40,
          40,
          95,
          95,
          175,
          175,
          -135,
          -135,
          0,
          0,
          135,
          135,
          -175,
          -175,
          -95,
          -95,
          -40,
          -40,
          40,
          40,
          95,
          95,
          175,
          175,
          -135,
          -135,
          0,
          0,
          135,
          135,
          -135,
          -135,
          0,
          0,
          135,
          135,
          -175,
          -175,
          -95,
          -95,
          -40,
          -40,
          40,
          40,
          95,
          95,
          175,
          175,
          -135,
          -135,
          0,
          0,
          135,
          135,
          -175,
          -175,
          -95,
          -95,
          -40,
          -40,
          40,
          40,
          95,
          95,
          175,
          175,
          -135,
          -135,
          0,
          0,
          135,
          135,
          -175,
          -175,
          -95,
          -95,
          -40,
          -40,
          40,
          40,
          95,
          95,
          175,
          175,
          -135,
          -135,
          0,
          0,
          135,
          135,
          -175,
          -175,
          -95,
          -95,
          -40,
          -40,
          40,
          40,
          95,
          95,
          175,
          175,
          -135,
          -135,
          0,
          0,
          135,
          135,
          -135,
          -135,
          0,
          0,
          135,
          135,
          -175,
          -175,
          -95,
          -95,
          -40,
          -40,
          40,
          40,
          95,
          95,
          175,
          175,
          -135,
          -135,
          0,
          0,
          135,
          135,
          -175,
          -175,
          -95,
          -95,
          -40,
          -40,
          40,
          40,
          95,
          95,
          175,
          175,
          -135,
          -135,
          0,
          0,
          135,
          135,
          -175,
          -175,
          -95,
          -95,
          -40,
          -40,
          40,
          40,
          95,
          95,
          175,
          175,
          -135,
          -135,
          0,
          0,
          135,
          135,
          -175,
          -175,
          -95,
          -95,
          -40,
          -40,
          40,
          40,
          95,
          95,
          175,
          175,
          -135,
          -135,
          0,
          0,
          135,
          135
         ]
        }
       ],
       "layout": {
        "scene": {
         "xaxis": {
          "title": {
           "text": "X"
          }
         },
         "yaxis": {
          "title": {
           "text": "Z"
          }
         },
         "zaxis": {
          "title": {
           "text": "Y"
          }
         }
        },
        "template": {
         "data": {
          "bar": [
           {
            "error_x": {
             "color": "#2a3f5f"
            },
            "error_y": {
             "color": "#2a3f5f"
            },
            "marker": {
             "line": {
              "color": "#E5ECF6",
              "width": 0.5
             },
             "pattern": {
              "fillmode": "overlay",
              "size": 10,
              "solidity": 0.2
             }
            },
            "type": "bar"
           }
          ],
          "barpolar": [
           {
            "marker": {
             "line": {
              "color": "#E5ECF6",
              "width": 0.5
             },
             "pattern": {
              "fillmode": "overlay",
              "size": 10,
              "solidity": 0.2
             }
            },
            "type": "barpolar"
           }
          ],
          "carpet": [
           {
            "aaxis": {
             "endlinecolor": "#2a3f5f",
             "gridcolor": "white",
             "linecolor": "white",
             "minorgridcolor": "white",
             "startlinecolor": "#2a3f5f"
            },
            "baxis": {
             "endlinecolor": "#2a3f5f",
             "gridcolor": "white",
             "linecolor": "white",
             "minorgridcolor": "white",
             "startlinecolor": "#2a3f5f"
            },
            "type": "carpet"
           }
          ],
          "choropleth": [
           {
            "colorbar": {
             "outlinewidth": 0,
             "ticks": ""
            },
            "type": "choropleth"
           }
          ],
          "contour": [
           {
            "colorbar": {
             "outlinewidth": 0,
             "ticks": ""
            },
            "colorscale": [
             [
              0,
              "#0d0887"
             ],
             [
              0.1111111111111111,
              "#46039f"
             ],
             [
              0.2222222222222222,
              "#7201a8"
             ],
             [
              0.3333333333333333,
              "#9c179e"
             ],
             [
              0.4444444444444444,
              "#bd3786"
             ],
             [
              0.5555555555555556,
              "#d8576b"
             ],
             [
              0.6666666666666666,
              "#ed7953"
             ],
             [
              0.7777777777777778,
              "#fb9f3a"
             ],
             [
              0.8888888888888888,
              "#fdca26"
             ],
             [
              1,
              "#f0f921"
             ]
            ],
            "type": "contour"
           }
          ],
          "contourcarpet": [
           {
            "colorbar": {
             "outlinewidth": 0,
             "ticks": ""
            },
            "type": "contourcarpet"
           }
          ],
          "heatmap": [
           {
            "colorbar": {
             "outlinewidth": 0,
             "ticks": ""
            },
            "colorscale": [
             [
              0,
              "#0d0887"
             ],
             [
              0.1111111111111111,
              "#46039f"
             ],
             [
              0.2222222222222222,
              "#7201a8"
             ],
             [
              0.3333333333333333,
              "#9c179e"
             ],
             [
              0.4444444444444444,
              "#bd3786"
             ],
             [
              0.5555555555555556,
              "#d8576b"
             ],
             [
              0.6666666666666666,
              "#ed7953"
             ],
             [
              0.7777777777777778,
              "#fb9f3a"
             ],
             [
              0.8888888888888888,
              "#fdca26"
             ],
             [
              1,
              "#f0f921"
             ]
            ],
            "type": "heatmap"
           }
          ],
          "heatmapgl": [
           {
            "colorbar": {
             "outlinewidth": 0,
             "ticks": ""
            },
            "colorscale": [
             [
              0,
              "#0d0887"
             ],
             [
              0.1111111111111111,
              "#46039f"
             ],
             [
              0.2222222222222222,
              "#7201a8"
             ],
             [
              0.3333333333333333,
              "#9c179e"
             ],
             [
              0.4444444444444444,
              "#bd3786"
             ],
             [
              0.5555555555555556,
              "#d8576b"
             ],
             [
              0.6666666666666666,
              "#ed7953"
             ],
             [
              0.7777777777777778,
              "#fb9f3a"
             ],
             [
              0.8888888888888888,
              "#fdca26"
             ],
             [
              1,
              "#f0f921"
             ]
            ],
            "type": "heatmapgl"
           }
          ],
          "histogram": [
           {
            "marker": {
             "pattern": {
              "fillmode": "overlay",
              "size": 10,
              "solidity": 0.2
             }
            },
            "type": "histogram"
           }
          ],
          "histogram2d": [
           {
            "colorbar": {
             "outlinewidth": 0,
             "ticks": ""
            },
            "colorscale": [
             [
              0,
              "#0d0887"
             ],
             [
              0.1111111111111111,
              "#46039f"
             ],
             [
              0.2222222222222222,
              "#7201a8"
             ],
             [
              0.3333333333333333,
              "#9c179e"
             ],
             [
              0.4444444444444444,
              "#bd3786"
             ],
             [
              0.5555555555555556,
              "#d8576b"
             ],
             [
              0.6666666666666666,
              "#ed7953"
             ],
             [
              0.7777777777777778,
              "#fb9f3a"
             ],
             [
              0.8888888888888888,
              "#fdca26"
             ],
             [
              1,
              "#f0f921"
             ]
            ],
            "type": "histogram2d"
           }
          ],
          "histogram2dcontour": [
           {
            "colorbar": {
             "outlinewidth": 0,
             "ticks": ""
            },
            "colorscale": [
             [
              0,
              "#0d0887"
             ],
             [
              0.1111111111111111,
              "#46039f"
             ],
             [
              0.2222222222222222,
              "#7201a8"
             ],
             [
              0.3333333333333333,
              "#9c179e"
             ],
             [
              0.4444444444444444,
              "#bd3786"
             ],
             [
              0.5555555555555556,
              "#d8576b"
             ],
             [
              0.6666666666666666,
              "#ed7953"
             ],
             [
              0.7777777777777778,
              "#fb9f3a"
             ],
             [
              0.8888888888888888,
              "#fdca26"
             ],
             [
              1,
              "#f0f921"
             ]
            ],
            "type": "histogram2dcontour"
           }
          ],
          "mesh3d": [
           {
            "colorbar": {
             "outlinewidth": 0,
             "ticks": ""
            },
            "type": "mesh3d"
           }
          ],
          "parcoords": [
           {
            "line": {
             "colorbar": {
              "outlinewidth": 0,
              "ticks": ""
             }
            },
            "type": "parcoords"
           }
          ],
          "pie": [
           {
            "automargin": true,
            "type": "pie"
           }
          ],
          "scatter": [
           {
            "fillpattern": {
             "fillmode": "overlay",
             "size": 10,
             "solidity": 0.2
            },
            "type": "scatter"
           }
          ],
          "scatter3d": [
           {
            "line": {
             "colorbar": {
              "outlinewidth": 0,
              "ticks": ""
             }
            },
            "marker": {
             "colorbar": {
              "outlinewidth": 0,
              "ticks": ""
             }
            },
            "type": "scatter3d"
           }
          ],
          "scattercarpet": [
           {
            "marker": {
             "colorbar": {
              "outlinewidth": 0,
              "ticks": ""
             }
            },
            "type": "scattercarpet"
           }
          ],
          "scattergeo": [
           {
            "marker": {
             "colorbar": {
              "outlinewidth": 0,
              "ticks": ""
             }
            },
            "type": "scattergeo"
           }
          ],
          "scattergl": [
           {
            "marker": {
             "colorbar": {
              "outlinewidth": 0,
              "ticks": ""
             }
            },
            "type": "scattergl"
           }
          ],
          "scattermapbox": [
           {
            "marker": {
             "colorbar": {
              "outlinewidth": 0,
              "ticks": ""
             }
            },
            "type": "scattermapbox"
           }
          ],
          "scatterpolar": [
           {
            "marker": {
             "colorbar": {
              "outlinewidth": 0,
              "ticks": ""
             }
            },
            "type": "scatterpolar"
           }
          ],
          "scatterpolargl": [
           {
            "marker": {
             "colorbar": {
              "outlinewidth": 0,
              "ticks": ""
             }
            },
            "type": "scatterpolargl"
           }
          ],
          "scatterternary": [
           {
            "marker": {
             "colorbar": {
              "outlinewidth": 0,
              "ticks": ""
             }
            },
            "type": "scatterternary"
           }
          ],
          "surface": [
           {
            "colorbar": {
             "outlinewidth": 0,
             "ticks": ""
            },
            "colorscale": [
             [
              0,
              "#0d0887"
             ],
             [
              0.1111111111111111,
              "#46039f"
             ],
             [
              0.2222222222222222,
              "#7201a8"
             ],
             [
              0.3333333333333333,
              "#9c179e"
             ],
             [
              0.4444444444444444,
              "#bd3786"
             ],
             [
              0.5555555555555556,
              "#d8576b"
             ],
             [
              0.6666666666666666,
              "#ed7953"
             ],
             [
              0.7777777777777778,
              "#fb9f3a"
             ],
             [
              0.8888888888888888,
              "#fdca26"
             ],
             [
              1,
              "#f0f921"
             ]
            ],
            "type": "surface"
           }
          ],
          "table": [
           {
            "cells": {
             "fill": {
              "color": "#EBF0F8"
             },
             "line": {
              "color": "white"
             }
            },
            "header": {
             "fill": {
              "color": "#C8D4E3"
             },
             "line": {
              "color": "white"
             }
            },
            "type": "table"
           }
          ]
         },
         "layout": {
          "annotationdefaults": {
           "arrowcolor": "#2a3f5f",
           "arrowhead": 0,
           "arrowwidth": 1
          },
          "autotypenumbers": "strict",
          "coloraxis": {
           "colorbar": {
            "outlinewidth": 0,
            "ticks": ""
           }
          },
          "colorscale": {
           "diverging": [
            [
             0,
             "#8e0152"
            ],
            [
             0.1,
             "#c51b7d"
            ],
            [
             0.2,
             "#de77ae"
            ],
            [
             0.3,
             "#f1b6da"
            ],
            [
             0.4,
             "#fde0ef"
            ],
            [
             0.5,
             "#f7f7f7"
            ],
            [
             0.6,
             "#e6f5d0"
            ],
            [
             0.7,
             "#b8e186"
            ],
            [
             0.8,
             "#7fbc41"
            ],
            [
             0.9,
             "#4d9221"
            ],
            [
             1,
             "#276419"
            ]
           ],
           "sequential": [
            [
             0,
             "#0d0887"
            ],
            [
             0.1111111111111111,
             "#46039f"
            ],
            [
             0.2222222222222222,
             "#7201a8"
            ],
            [
             0.3333333333333333,
             "#9c179e"
            ],
            [
             0.4444444444444444,
             "#bd3786"
            ],
            [
             0.5555555555555556,
             "#d8576b"
            ],
            [
             0.6666666666666666,
             "#ed7953"
            ],
            [
             0.7777777777777778,
             "#fb9f3a"
            ],
            [
             0.8888888888888888,
             "#fdca26"
            ],
            [
             1,
             "#f0f921"
            ]
           ],
           "sequentialminus": [
            [
             0,
             "#0d0887"
            ],
            [
             0.1111111111111111,
             "#46039f"
            ],
            [
             0.2222222222222222,
             "#7201a8"
            ],
            [
             0.3333333333333333,
             "#9c179e"
            ],
            [
             0.4444444444444444,
             "#bd3786"
            ],
            [
             0.5555555555555556,
             "#d8576b"
            ],
            [
             0.6666666666666666,
             "#ed7953"
            ],
            [
             0.7777777777777778,
             "#fb9f3a"
            ],
            [
             0.8888888888888888,
             "#fdca26"
            ],
            [
             1,
             "#f0f921"
            ]
           ]
          },
          "colorway": [
           "#636efa",
           "#EF553B",
           "#00cc96",
           "#ab63fa",
           "#FFA15A",
           "#19d3f3",
           "#FF6692",
           "#B6E880",
           "#FF97FF",
           "#FECB52"
          ],
          "font": {
           "color": "#2a3f5f"
          },
          "geo": {
           "bgcolor": "white",
           "lakecolor": "white",
           "landcolor": "#E5ECF6",
           "showlakes": true,
           "showland": true,
           "subunitcolor": "white"
          },
          "hoverlabel": {
           "align": "left"
          },
          "hovermode": "closest",
          "mapbox": {
           "style": "light"
          },
          "paper_bgcolor": "white",
          "plot_bgcolor": "#E5ECF6",
          "polar": {
           "angularaxis": {
            "gridcolor": "white",
            "linecolor": "white",
            "ticks": ""
           },
           "bgcolor": "#E5ECF6",
           "radialaxis": {
            "gridcolor": "white",
            "linecolor": "white",
            "ticks": ""
           }
          },
          "scene": {
           "xaxis": {
            "backgroundcolor": "#E5ECF6",
            "gridcolor": "white",
            "gridwidth": 2,
            "linecolor": "white",
            "showbackground": true,
            "ticks": "",
            "zerolinecolor": "white"
           },
           "yaxis": {
            "backgroundcolor": "#E5ECF6",
            "gridcolor": "white",
            "gridwidth": 2,
            "linecolor": "white",
            "showbackground": true,
            "ticks": "",
            "zerolinecolor": "white"
           },
           "zaxis": {
            "backgroundcolor": "#E5ECF6",
            "gridcolor": "white",
            "gridwidth": 2,
            "linecolor": "white",
            "showbackground": true,
            "ticks": "",
            "zerolinecolor": "white"
           }
          },
          "shapedefaults": {
           "line": {
            "color": "#2a3f5f"
           }
          },
          "ternary": {
           "aaxis": {
            "gridcolor": "white",
            "linecolor": "white",
            "ticks": ""
           },
           "baxis": {
            "gridcolor": "white",
            "linecolor": "white",
            "ticks": ""
           },
           "bgcolor": "#E5ECF6",
           "caxis": {
            "gridcolor": "white",
            "linecolor": "white",
            "ticks": ""
           }
          },
          "title": {
           "x": 0.05
          },
          "xaxis": {
           "automargin": true,
           "gridcolor": "white",
           "linecolor": "white",
           "ticks": "",
           "title": {
            "standoff": 15
           },
           "zerolinecolor": "white",
           "zerolinewidth": 2
          },
          "yaxis": {
           "automargin": true,
           "gridcolor": "white",
           "linecolor": "white",
           "ticks": "",
           "title": {
            "standoff": 15
           },
           "zerolinecolor": "white",
           "zerolinewidth": 2
          }
         }
        }
       }
      },
      "text/html": [
       "<div>                            <div id=\"370f1e33-ba20-4919-a807-e9cd9c9c8f1b\" class=\"plotly-graph-div\" style=\"height:525px; width:100%;\"></div>            <script type=\"text/javascript\">                require([\"plotly\"], function(Plotly) {                    window.PLOTLYENV=window.PLOTLYENV || {};                                    if (document.getElementById(\"370f1e33-ba20-4919-a807-e9cd9c9c8f1b\")) {                    Plotly.newPlot(                        \"370f1e33-ba20-4919-a807-e9cd9c9c8f1b\",                        [{\"hoverinfo\":\"text\",\"marker\":{\"color\":[3,3,3,3,3,3,0,0,0,0,0,0,0,0,0,0,0,0,2,2,2,2,2,2,3,3,3,3,3,3,3,3,3,3,3,3,1,1,1,1,1,1,2,2,2,2,2,2,2,2,2,2,2,2,3,3,3,3,3,3,0,0,0,0,0,0,0,0,0,0,0,0,2,2,2,2,2,2,3,3,3,3,3,3,0,0,0,0,0,0,0,0,0,0,0,0,2,2,2,2,2,2,3,3,3,3,3,3,3,3,3,3,3,3,1,1,1,1,1,1,2,2,2,2,2,2,2,2,2,2,2,2,3,3,3,3,3,3,0,0,0,0,0,0,0,0,0,0,0,0,2,2,2,2,2,2,3,3,3,3,3,3,0,0,0,0,0,0,0,0,0,0,0,0,2,2,2,2,2,2,3,3,3,3,3,3,3,3,3,3,3,3,1,1,1,1,1,1,2,2,2,2,2,2,2,2,2,2,2,2,3,3,3,3,3,3,0,0,0,0,0,0,0,0,0,0,0,0,2,2,2,2,2,2,3,3,3,3,3,3,0,0,0,0,0,0,0,0,0,0,0,0,2,2,2,2,2,2,3,3,3,3,3,3,3,3,3,3,3,3,1,1,1,1,1,1,2,2,2,2,2,2,2,2,2,2,2,2,3,3,3,3,3,3,0,0,0,0,0,0,0,0,0,0,0,0,2,2,2,2,2,2],\"colorbar\":{\"title\":{\"text\":\"Color Scale\"}},\"size\":5},\"mode\":\"markers\",\"text\":[\"ID: 0\\u003cbr\\u003eX: -213.75\\u003cbr\\u003eY: -135.0\\u003cbr\\u003eZ: 20.3\",\"ID: 1\\u003cbr\\u003eX: 213.74999999999997\\u003cbr\\u003eY: -135.0\\u003cbr\\u003eZ: 20.3\",\"ID: 2\\u003cbr\\u003eX: -213.75\\u003cbr\\u003eY: 0.0\\u003cbr\\u003eZ: 20.3\",\"ID: 3\\u003cbr\\u003eX: 213.74999999999997\\u003cbr\\u003eY: 0.0\\u003cbr\\u003eZ: 20.3\",\"ID: 4\\u003cbr\\u003eX: -213.75\\u003cbr\\u003eY: 135.0\\u003cbr\\u003eZ: 20.3\",\"ID: 5\\u003cbr\\u003eX: 213.74999999999997\\u003cbr\\u003eY: 135.0\\u003cbr\\u003eZ: 20.3\",\"ID: 6\\u003cbr\\u003eX: -213.4\\u003cbr\\u003eY: -175.0\\u003cbr\\u003eZ: 27.9\",\"ID: 7\\u003cbr\\u003eX: 213.39999999999998\\u003cbr\\u003eY: -175.0\\u003cbr\\u003eZ: 27.9\",\"ID: 8\\u003cbr\\u003eX: -213.4\\u003cbr\\u003eY: -95.0\\u003cbr\\u003eZ: 27.9\",\"ID: 9\\u003cbr\\u003eX: 213.39999999999998\\u003cbr\\u003eY: -95.0\\u003cbr\\u003eZ: 27.9\",\"ID: 10\\u003cbr\\u003eX: -213.4\\u003cbr\\u003eY: -40.0\\u003cbr\\u003eZ: 27.9\",\"ID: 11\\u003cbr\\u003eX: 213.39999999999998\\u003cbr\\u003eY: -40.0\\u003cbr\\u003eZ: 27.9\",\"ID: 12\\u003cbr\\u003eX: -213.4\\u003cbr\\u003eY: 40.0\\u003cbr\\u003eZ: 27.9\",\"ID: 13\\u003cbr\\u003eX: 213.39999999999998\\u003cbr\\u003eY: 40.0\\u003cbr\\u003eZ: 27.9\",\"ID: 14\\u003cbr\\u003eX: -213.4\\u003cbr\\u003eY: 95.0\\u003cbr\\u003eZ: 27.9\",\"ID: 15\\u003cbr\\u003eX: 213.39999999999998\\u003cbr\\u003eY: 95.0\\u003cbr\\u003eZ: 27.9\",\"ID: 16\\u003cbr\\u003eX: -213.4\\u003cbr\\u003eY: 175.0\\u003cbr\\u003eZ: 27.9\",\"ID: 17\\u003cbr\\u003eX: 213.39999999999998\\u003cbr\\u003eY: 175.0\\u003cbr\\u003eZ: 27.9\",\"ID: 18\\u003cbr\\u003eX: -213.75\\u003cbr\\u003eY: -135.0\\u003cbr\\u003eZ: 35.5\",\"ID: 19\\u003cbr\\u003eX: 213.75\\u003cbr\\u003eY: -135.0\\u003cbr\\u003eZ: 35.5\",\"ID: 20\\u003cbr\\u003eX: -213.75\\u003cbr\\u003eY: 0.0\\u003cbr\\u003eZ: 35.5\",\"ID: 21\\u003cbr\\u003eX: 213.75\\u003cbr\\u003eY: 0.0\\u003cbr\\u003eZ: 35.5\",\"ID: 22\\u003cbr\\u003eX: -213.75\\u003cbr\\u003eY: 135.0\\u003cbr\\u003eZ: 35.5\",\"ID: 23\\u003cbr\\u003eX: 213.75\\u003cbr\\u003eY: 135.0\\u003cbr\\u003eZ: 35.5\",\"ID: 24\\u003cbr\\u003eX: -213.75\\u003cbr\\u003eY: -175.0\\u003cbr\\u003eZ: 50.3\",\"ID: 25\\u003cbr\\u003eX: 213.75\\u003cbr\\u003eY: -175.0\\u003cbr\\u003eZ: 50.3\",\"ID: 26\\u003cbr\\u003eX: -213.75\\u003cbr\\u003eY: -95.0\\u003cbr\\u003eZ: 50.3\",\"ID: 27\\u003cbr\\u003eX: 213.75\\u003cbr\\u003eY: -95.0\\u003cbr\\u003eZ: 50.3\",\"ID: 28\\u003cbr\\u003eX: -213.75\\u003cbr\\u003eY: -40.0\\u003cbr\\u003eZ: 50.3\",\"ID: 29\\u003cbr\\u003eX: 213.75\\u003cbr\\u003eY: -40.0\\u003cbr\\u003eZ: 50.3\",\"ID: 30\\u003cbr\\u003eX: -213.75\\u003cbr\\u003eY: 40.0\\u003cbr\\u003eZ: 50.3\",\"ID: 31\\u003cbr\\u003eX: 213.75\\u003cbr\\u003eY: 40.0\\u003cbr\\u003eZ: 50.3\",\"ID: 32\\u003cbr\\u003eX: -213.75\\u003cbr\\u003eY: 95.0\\u003cbr\\u003eZ: 50.3\",\"ID: 33\\u003cbr\\u003eX: 213.75\\u003cbr\\u003eY: 95.0\\u003cbr\\u003eZ: 50.3\",\"ID: 34\\u003cbr\\u003eX: -213.75\\u003cbr\\u003eY: 175.0\\u003cbr\\u003eZ: 50.3\",\"ID: 35\\u003cbr\\u003eX: 213.75\\u003cbr\\u003eY: 175.0\\u003cbr\\u003eZ: 50.3\",\"ID: 36\\u003cbr\\u003eX: -213.4\\u003cbr\\u003eY: -135.0\\u003cbr\\u003eZ: 57.9\",\"ID: 37\\u003cbr\\u003eX: 213.4\\u003cbr\\u003eY: -135.0\\u003cbr\\u003eZ: 57.9\",\"ID: 38\\u003cbr\\u003eX: -213.4\\u003cbr\\u003eY: 0.0\\u003cbr\\u003eZ: 57.9\",\"ID: 39\\u003cbr\\u003eX: 213.4\\u003cbr\\u003eY: 0.0\\u003cbr\\u003eZ: 57.9\",\"ID: 40\\u003cbr\\u003eX: -213.4\\u003cbr\\u003eY: 135.0\\u003cbr\\u003eZ: 57.9\",\"ID: 41\\u003cbr\\u003eX: 213.4\\u003cbr\\u003eY: 135.0\\u003cbr\\u003eZ: 57.9\",\"ID: 42\\u003cbr\\u003eX: -213.75\\u003cbr\\u003eY: -175.0\\u003cbr\\u003eZ: 65.5\",\"ID: 43\\u003cbr\\u003eX: 213.75\\u003cbr\\u003eY: -175.0\\u003cbr\\u003eZ: 65.5\",\"ID: 44\\u003cbr\\u003eX: -213.75\\u003cbr\\u003eY: -95.0\\u003cbr\\u003eZ: 65.5\",\"ID: 45\\u003cbr\\u003eX: 213.75\\u003cbr\\u003eY: -95.0\\u003cbr\\u003eZ: 65.5\",\"ID: 46\\u003cbr\\u003eX: -213.75\\u003cbr\\u003eY: -40.0\\u003cbr\\u003eZ: 65.5\",\"ID: 47\\u003cbr\\u003eX: 213.75\\u003cbr\\u003eY: -40.0\\u003cbr\\u003eZ: 65.5\",\"ID: 48\\u003cbr\\u003eX: -213.75\\u003cbr\\u003eY: 40.0\\u003cbr\\u003eZ: 65.5\",\"ID: 49\\u003cbr\\u003eX: 213.75\\u003cbr\\u003eY: 40.0\\u003cbr\\u003eZ: 65.5\",\"ID: 50\\u003cbr\\u003eX: -213.75\\u003cbr\\u003eY: 95.0\\u003cbr\\u003eZ: 65.5\",\"ID: 51\\u003cbr\\u003eX: 213.75\\u003cbr\\u003eY: 95.0\\u003cbr\\u003eZ: 65.5\",\"ID: 52\\u003cbr\\u003eX: -213.75\\u003cbr\\u003eY: 175.0\\u003cbr\\u003eZ: 65.5\",\"ID: 53\\u003cbr\\u003eX: 213.75\\u003cbr\\u003eY: 175.0\\u003cbr\\u003eZ: 65.5\",\"ID: 54\\u003cbr\\u003eX: -213.75\\u003cbr\\u003eY: -135.0\\u003cbr\\u003eZ: 80.3\",\"ID: 55\\u003cbr\\u003eX: 213.75\\u003cbr\\u003eY: -135.0\\u003cbr\\u003eZ: 80.3\",\"ID: 56\\u003cbr\\u003eX: -213.75\\u003cbr\\u003eY: 0.0\\u003cbr\\u003eZ: 80.3\",\"ID: 57\\u003cbr\\u003eX: 213.75\\u003cbr\\u003eY: 0.0\\u003cbr\\u003eZ: 80.3\",\"ID: 58\\u003cbr\\u003eX: -213.75\\u003cbr\\u003eY: 135.0\\u003cbr\\u003eZ: 80.3\",\"ID: 59\\u003cbr\\u003eX: 213.75\\u003cbr\\u003eY: 135.0\\u003cbr\\u003eZ: 80.3\",\"ID: 60\\u003cbr\\u003eX: -213.4\\u003cbr\\u003eY: -175.0\\u003cbr\\u003eZ: 87.9\",\"ID: 61\\u003cbr\\u003eX: 213.4\\u003cbr\\u003eY: -175.0\\u003cbr\\u003eZ: 87.9\",\"ID: 62\\u003cbr\\u003eX: -213.4\\u003cbr\\u003eY: -95.0\\u003cbr\\u003eZ: 87.9\",\"ID: 63\\u003cbr\\u003eX: 213.4\\u003cbr\\u003eY: -95.0\\u003cbr\\u003eZ: 87.9\",\"ID: 64\\u003cbr\\u003eX: -213.4\\u003cbr\\u003eY: -40.0\\u003cbr\\u003eZ: 87.9\",\"ID: 65\\u003cbr\\u003eX: 213.4\\u003cbr\\u003eY: -40.0\\u003cbr\\u003eZ: 87.9\",\"ID: 66\\u003cbr\\u003eX: -213.4\\u003cbr\\u003eY: 40.0\\u003cbr\\u003eZ: 87.9\",\"ID: 67\\u003cbr\\u003eX: 213.4\\u003cbr\\u003eY: 40.0\\u003cbr\\u003eZ: 87.9\",\"ID: 68\\u003cbr\\u003eX: -213.4\\u003cbr\\u003eY: 95.0\\u003cbr\\u003eZ: 87.9\",\"ID: 69\\u003cbr\\u003eX: 213.4\\u003cbr\\u003eY: 95.0\\u003cbr\\u003eZ: 87.9\",\"ID: 70\\u003cbr\\u003eX: -213.4\\u003cbr\\u003eY: 175.0\\u003cbr\\u003eZ: 87.9\",\"ID: 71\\u003cbr\\u003eX: 213.4\\u003cbr\\u003eY: 175.0\\u003cbr\\u003eZ: 87.9\",\"ID: 72\\u003cbr\\u003eX: -213.75\\u003cbr\\u003eY: -135.0\\u003cbr\\u003eZ: 95.5\",\"ID: 73\\u003cbr\\u003eX: 213.75\\u003cbr\\u003eY: -135.0\\u003cbr\\u003eZ: 95.5\",\"ID: 74\\u003cbr\\u003eX: -213.75\\u003cbr\\u003eY: 0.0\\u003cbr\\u003eZ: 95.5\",\"ID: 75\\u003cbr\\u003eX: 213.75\\u003cbr\\u003eY: 0.0\\u003cbr\\u003eZ: 95.5\",\"ID: 76\\u003cbr\\u003eX: -213.75\\u003cbr\\u003eY: 135.0\\u003cbr\\u003eZ: 95.5\",\"ID: 77\\u003cbr\\u003eX: 213.75\\u003cbr\\u003eY: 135.0\\u003cbr\\u003eZ: 95.5\",\"ID: 78\\u003cbr\\u003eX: -213.75\\u003cbr\\u003eY: -135.0\\u003cbr\\u003eZ: 153.5\",\"ID: 79\\u003cbr\\u003eX: 213.74999999999997\\u003cbr\\u003eY: -135.0\\u003cbr\\u003eZ: 153.5\",\"ID: 80\\u003cbr\\u003eX: -213.75\\u003cbr\\u003eY: 0.0\\u003cbr\\u003eZ: 153.5\",\"ID: 81\\u003cbr\\u003eX: 213.74999999999997\\u003cbr\\u003eY: 0.0\\u003cbr\\u003eZ: 153.5\",\"ID: 82\\u003cbr\\u003eX: -213.75\\u003cbr\\u003eY: 135.0\\u003cbr\\u003eZ: 153.5\",\"ID: 83\\u003cbr\\u003eX: 213.74999999999997\\u003cbr\\u003eY: 135.0\\u003cbr\\u003eZ: 153.5\",\"ID: 84\\u003cbr\\u003eX: -213.4\\u003cbr\\u003eY: -175.0\\u003cbr\\u003eZ: 161.2\",\"ID: 85\\u003cbr\\u003eX: 213.39999999999998\\u003cbr\\u003eY: -175.0\\u003cbr\\u003eZ: 161.2\",\"ID: 86\\u003cbr\\u003eX: -213.4\\u003cbr\\u003eY: -95.0\\u003cbr\\u003eZ: 161.2\",\"ID: 87\\u003cbr\\u003eX: 213.39999999999998\\u003cbr\\u003eY: -95.0\\u003cbr\\u003eZ: 161.2\",\"ID: 88\\u003cbr\\u003eX: -213.4\\u003cbr\\u003eY: -40.0\\u003cbr\\u003eZ: 161.2\",\"ID: 89\\u003cbr\\u003eX: 213.39999999999998\\u003cbr\\u003eY: -40.0\\u003cbr\\u003eZ: 161.2\",\"ID: 90\\u003cbr\\u003eX: -213.4\\u003cbr\\u003eY: 40.0\\u003cbr\\u003eZ: 161.2\",\"ID: 91\\u003cbr\\u003eX: 213.39999999999998\\u003cbr\\u003eY: 40.0\\u003cbr\\u003eZ: 161.2\",\"ID: 92\\u003cbr\\u003eX: -213.4\\u003cbr\\u003eY: 95.0\\u003cbr\\u003eZ: 161.2\",\"ID: 93\\u003cbr\\u003eX: 213.39999999999998\\u003cbr\\u003eY: 95.0\\u003cbr\\u003eZ: 161.2\",\"ID: 94\\u003cbr\\u003eX: -213.4\\u003cbr\\u003eY: 175.0\\u003cbr\\u003eZ: 161.2\",\"ID: 95\\u003cbr\\u003eX: 213.39999999999998\\u003cbr\\u003eY: 175.0\\u003cbr\\u003eZ: 161.2\",\"ID: 96\\u003cbr\\u003eX: -213.75\\u003cbr\\u003eY: -135.0\\u003cbr\\u003eZ: 168.8\",\"ID: 97\\u003cbr\\u003eX: 213.75\\u003cbr\\u003eY: -135.0\\u003cbr\\u003eZ: 168.8\",\"ID: 98\\u003cbr\\u003eX: -213.75\\u003cbr\\u003eY: 0.0\\u003cbr\\u003eZ: 168.8\",\"ID: 99\\u003cbr\\u003eX: 213.75\\u003cbr\\u003eY: 0.0\\u003cbr\\u003eZ: 168.8\",\"ID: 100\\u003cbr\\u003eX: -213.75\\u003cbr\\u003eY: 135.0\\u003cbr\\u003eZ: 168.8\",\"ID: 101\\u003cbr\\u003eX: 213.75\\u003cbr\\u003eY: 135.0\\u003cbr\\u003eZ: 168.8\",\"ID: 102\\u003cbr\\u003eX: -213.75\\u003cbr\\u003eY: -175.0\\u003cbr\\u003eZ: 183.5\",\"ID: 103\\u003cbr\\u003eX: 213.75\\u003cbr\\u003eY: -175.0\\u003cbr\\u003eZ: 183.5\",\"ID: 104\\u003cbr\\u003eX: -213.75\\u003cbr\\u003eY: -95.0\\u003cbr\\u003eZ: 183.5\",\"ID: 105\\u003cbr\\u003eX: 213.75\\u003cbr\\u003eY: -95.0\\u003cbr\\u003eZ: 183.5\",\"ID: 106\\u003cbr\\u003eX: -213.75\\u003cbr\\u003eY: -40.0\\u003cbr\\u003eZ: 183.5\",\"ID: 107\\u003cbr\\u003eX: 213.75\\u003cbr\\u003eY: -40.0\\u003cbr\\u003eZ: 183.5\",\"ID: 108\\u003cbr\\u003eX: -213.75\\u003cbr\\u003eY: 40.0\\u003cbr\\u003eZ: 183.5\",\"ID: 109\\u003cbr\\u003eX: 213.75\\u003cbr\\u003eY: 40.0\\u003cbr\\u003eZ: 183.5\",\"ID: 110\\u003cbr\\u003eX: -213.75\\u003cbr\\u003eY: 95.0\\u003cbr\\u003eZ: 183.5\",\"ID: 111\\u003cbr\\u003eX: 213.75\\u003cbr\\u003eY: 95.0\\u003cbr\\u003eZ: 183.5\",\"ID: 112\\u003cbr\\u003eX: -213.75\\u003cbr\\u003eY: 175.0\\u003cbr\\u003eZ: 183.5\",\"ID: 113\\u003cbr\\u003eX: 213.75\\u003cbr\\u003eY: 175.0\\u003cbr\\u003eZ: 183.5\",\"ID: 114\\u003cbr\\u003eX: -213.4\\u003cbr\\u003eY: -135.0\\u003cbr\\u003eZ: 191.2\",\"ID: 115\\u003cbr\\u003eX: 213.4\\u003cbr\\u003eY: -135.0\\u003cbr\\u003eZ: 191.2\",\"ID: 116\\u003cbr\\u003eX: -213.4\\u003cbr\\u003eY: 0.0\\u003cbr\\u003eZ: 191.2\",\"ID: 117\\u003cbr\\u003eX: 213.4\\u003cbr\\u003eY: 0.0\\u003cbr\\u003eZ: 191.2\",\"ID: 118\\u003cbr\\u003eX: -213.4\\u003cbr\\u003eY: 135.0\\u003cbr\\u003eZ: 191.2\",\"ID: 119\\u003cbr\\u003eX: 213.4\\u003cbr\\u003eY: 135.0\\u003cbr\\u003eZ: 191.2\",\"ID: 120\\u003cbr\\u003eX: -213.75\\u003cbr\\u003eY: -175.0\\u003cbr\\u003eZ: 198.8\",\"ID: 121\\u003cbr\\u003eX: 213.75\\u003cbr\\u003eY: -175.0\\u003cbr\\u003eZ: 198.8\",\"ID: 122\\u003cbr\\u003eX: -213.75\\u003cbr\\u003eY: -95.0\\u003cbr\\u003eZ: 198.8\",\"ID: 123\\u003cbr\\u003eX: 213.75\\u003cbr\\u003eY: -95.0\\u003cbr\\u003eZ: 198.8\",\"ID: 124\\u003cbr\\u003eX: -213.75\\u003cbr\\u003eY: -40.0\\u003cbr\\u003eZ: 198.8\",\"ID: 125\\u003cbr\\u003eX: 213.75\\u003cbr\\u003eY: -40.0\\u003cbr\\u003eZ: 198.8\",\"ID: 126\\u003cbr\\u003eX: -213.75\\u003cbr\\u003eY: 40.0\\u003cbr\\u003eZ: 198.8\",\"ID: 127\\u003cbr\\u003eX: 213.75\\u003cbr\\u003eY: 40.0\\u003cbr\\u003eZ: 198.8\",\"ID: 128\\u003cbr\\u003eX: -213.75\\u003cbr\\u003eY: 95.0\\u003cbr\\u003eZ: 198.8\",\"ID: 129\\u003cbr\\u003eX: 213.75\\u003cbr\\u003eY: 95.0\\u003cbr\\u003eZ: 198.8\",\"ID: 130\\u003cbr\\u003eX: -213.75\\u003cbr\\u003eY: 175.0\\u003cbr\\u003eZ: 198.8\",\"ID: 131\\u003cbr\\u003eX: 213.75\\u003cbr\\u003eY: 175.0\\u003cbr\\u003eZ: 198.8\",\"ID: 132\\u003cbr\\u003eX: -213.75\\u003cbr\\u003eY: -135.0\\u003cbr\\u003eZ: 213.5\",\"ID: 133\\u003cbr\\u003eX: 213.75\\u003cbr\\u003eY: -135.0\\u003cbr\\u003eZ: 213.5\",\"ID: 134\\u003cbr\\u003eX: -213.75\\u003cbr\\u003eY: 0.0\\u003cbr\\u003eZ: 213.5\",\"ID: 135\\u003cbr\\u003eX: 213.75\\u003cbr\\u003eY: 0.0\\u003cbr\\u003eZ: 213.5\",\"ID: 136\\u003cbr\\u003eX: -213.75\\u003cbr\\u003eY: 135.0\\u003cbr\\u003eZ: 213.5\",\"ID: 137\\u003cbr\\u003eX: 213.75\\u003cbr\\u003eY: 135.0\\u003cbr\\u003eZ: 213.5\",\"ID: 138\\u003cbr\\u003eX: -213.4\\u003cbr\\u003eY: -175.0\\u003cbr\\u003eZ: 221.2\",\"ID: 139\\u003cbr\\u003eX: 213.4\\u003cbr\\u003eY: -175.0\\u003cbr\\u003eZ: 221.2\",\"ID: 140\\u003cbr\\u003eX: -213.4\\u003cbr\\u003eY: -95.0\\u003cbr\\u003eZ: 221.2\",\"ID: 141\\u003cbr\\u003eX: 213.4\\u003cbr\\u003eY: -95.0\\u003cbr\\u003eZ: 221.2\",\"ID: 142\\u003cbr\\u003eX: -213.4\\u003cbr\\u003eY: -40.0\\u003cbr\\u003eZ: 221.2\",\"ID: 143\\u003cbr\\u003eX: 213.4\\u003cbr\\u003eY: -40.0\\u003cbr\\u003eZ: 221.2\",\"ID: 144\\u003cbr\\u003eX: -213.4\\u003cbr\\u003eY: 40.0\\u003cbr\\u003eZ: 221.2\",\"ID: 145\\u003cbr\\u003eX: 213.4\\u003cbr\\u003eY: 40.0\\u003cbr\\u003eZ: 221.2\",\"ID: 146\\u003cbr\\u003eX: -213.4\\u003cbr\\u003eY: 95.0\\u003cbr\\u003eZ: 221.2\",\"ID: 147\\u003cbr\\u003eX: 213.4\\u003cbr\\u003eY: 95.0\\u003cbr\\u003eZ: 221.2\",\"ID: 148\\u003cbr\\u003eX: -213.4\\u003cbr\\u003eY: 175.0\\u003cbr\\u003eZ: 221.2\",\"ID: 149\\u003cbr\\u003eX: 213.4\\u003cbr\\u003eY: 175.0\\u003cbr\\u003eZ: 221.2\",\"ID: 150\\u003cbr\\u003eX: -213.75\\u003cbr\\u003eY: -135.0\\u003cbr\\u003eZ: 228.8\",\"ID: 151\\u003cbr\\u003eX: 213.75\\u003cbr\\u003eY: -135.0\\u003cbr\\u003eZ: 228.8\",\"ID: 152\\u003cbr\\u003eX: -213.75\\u003cbr\\u003eY: 0.0\\u003cbr\\u003eZ: 228.8\",\"ID: 153\\u003cbr\\u003eX: 213.75\\u003cbr\\u003eY: 0.0\\u003cbr\\u003eZ: 228.8\",\"ID: 154\\u003cbr\\u003eX: -213.75\\u003cbr\\u003eY: 135.0\\u003cbr\\u003eZ: 228.8\",\"ID: 155\\u003cbr\\u003eX: 213.75\\u003cbr\\u003eY: 135.0\\u003cbr\\u003eZ: 228.8\",\"ID: 156\\u003cbr\\u003eX: -213.75\\u003cbr\\u003eY: -135.0\\u003cbr\\u003eZ: 280.6\",\"ID: 157\\u003cbr\\u003eX: 213.74999999999997\\u003cbr\\u003eY: -135.0\\u003cbr\\u003eZ: 280.6\",\"ID: 158\\u003cbr\\u003eX: -213.75\\u003cbr\\u003eY: 0.0\\u003cbr\\u003eZ: 280.6\",\"ID: 159\\u003cbr\\u003eX: 213.74999999999997\\u003cbr\\u003eY: 0.0\\u003cbr\\u003eZ: 280.6\",\"ID: 160\\u003cbr\\u003eX: -213.75\\u003cbr\\u003eY: 135.0\\u003cbr\\u003eZ: 280.6\",\"ID: 161\\u003cbr\\u003eX: 213.74999999999997\\u003cbr\\u003eY: 135.0\\u003cbr\\u003eZ: 280.6\",\"ID: 162\\u003cbr\\u003eX: -213.4\\u003cbr\\u003eY: -175.0\\u003cbr\\u003eZ: 288.2\",\"ID: 163\\u003cbr\\u003eX: 213.39999999999998\\u003cbr\\u003eY: -175.0\\u003cbr\\u003eZ: 288.2\",\"ID: 164\\u003cbr\\u003eX: -213.4\\u003cbr\\u003eY: -95.0\\u003cbr\\u003eZ: 288.2\",\"ID: 165\\u003cbr\\u003eX: 213.39999999999998\\u003cbr\\u003eY: -95.0\\u003cbr\\u003eZ: 288.2\",\"ID: 166\\u003cbr\\u003eX: -213.4\\u003cbr\\u003eY: -40.0\\u003cbr\\u003eZ: 288.2\",\"ID: 167\\u003cbr\\u003eX: 213.39999999999998\\u003cbr\\u003eY: -40.0\\u003cbr\\u003eZ: 288.2\",\"ID: 168\\u003cbr\\u003eX: -213.4\\u003cbr\\u003eY: 40.0\\u003cbr\\u003eZ: 288.2\",\"ID: 169\\u003cbr\\u003eX: 213.39999999999998\\u003cbr\\u003eY: 40.0\\u003cbr\\u003eZ: 288.2\",\"ID: 170\\u003cbr\\u003eX: -213.4\\u003cbr\\u003eY: 95.0\\u003cbr\\u003eZ: 288.2\",\"ID: 171\\u003cbr\\u003eX: 213.39999999999998\\u003cbr\\u003eY: 95.0\\u003cbr\\u003eZ: 288.2\",\"ID: 172\\u003cbr\\u003eX: -213.4\\u003cbr\\u003eY: 175.0\\u003cbr\\u003eZ: 288.2\",\"ID: 173\\u003cbr\\u003eX: 213.39999999999998\\u003cbr\\u003eY: 175.0\\u003cbr\\u003eZ: 288.2\",\"ID: 174\\u003cbr\\u003eX: -213.75\\u003cbr\\u003eY: -135.0\\u003cbr\\u003eZ: 295.9\",\"ID: 175\\u003cbr\\u003eX: 213.75\\u003cbr\\u003eY: -135.0\\u003cbr\\u003eZ: 295.9\",\"ID: 176\\u003cbr\\u003eX: -213.75\\u003cbr\\u003eY: 0.0\\u003cbr\\u003eZ: 295.9\",\"ID: 177\\u003cbr\\u003eX: 213.75\\u003cbr\\u003eY: 0.0\\u003cbr\\u003eZ: 295.9\",\"ID: 178\\u003cbr\\u003eX: -213.75\\u003cbr\\u003eY: 135.0\\u003cbr\\u003eZ: 295.9\",\"ID: 179\\u003cbr\\u003eX: 213.75\\u003cbr\\u003eY: 135.0\\u003cbr\\u003eZ: 295.9\",\"ID: 180\\u003cbr\\u003eX: -213.75\\u003cbr\\u003eY: -175.0\\u003cbr\\u003eZ: 310.6\",\"ID: 181\\u003cbr\\u003eX: 213.75\\u003cbr\\u003eY: -175.0\\u003cbr\\u003eZ: 310.6\",\"ID: 182\\u003cbr\\u003eX: -213.75\\u003cbr\\u003eY: -95.0\\u003cbr\\u003eZ: 310.6\",\"ID: 183\\u003cbr\\u003eX: 213.75\\u003cbr\\u003eY: -95.0\\u003cbr\\u003eZ: 310.6\",\"ID: 184\\u003cbr\\u003eX: -213.75\\u003cbr\\u003eY: -40.0\\u003cbr\\u003eZ: 310.6\",\"ID: 185\\u003cbr\\u003eX: 213.75\\u003cbr\\u003eY: -40.0\\u003cbr\\u003eZ: 310.6\",\"ID: 186\\u003cbr\\u003eX: -213.75\\u003cbr\\u003eY: 40.0\\u003cbr\\u003eZ: 310.6\",\"ID: 187\\u003cbr\\u003eX: 213.75\\u003cbr\\u003eY: 40.0\\u003cbr\\u003eZ: 310.6\",\"ID: 188\\u003cbr\\u003eX: -213.75\\u003cbr\\u003eY: 95.0\\u003cbr\\u003eZ: 310.6\",\"ID: 189\\u003cbr\\u003eX: 213.75\\u003cbr\\u003eY: 95.0\\u003cbr\\u003eZ: 310.6\",\"ID: 190\\u003cbr\\u003eX: -213.75\\u003cbr\\u003eY: 175.0\\u003cbr\\u003eZ: 310.6\",\"ID: 191\\u003cbr\\u003eX: 213.75\\u003cbr\\u003eY: 175.0\\u003cbr\\u003eZ: 310.6\",\"ID: 192\\u003cbr\\u003eX: -213.4\\u003cbr\\u003eY: -135.0\\u003cbr\\u003eZ: 318.2\",\"ID: 193\\u003cbr\\u003eX: 213.4\\u003cbr\\u003eY: -135.0\\u003cbr\\u003eZ: 318.2\",\"ID: 194\\u003cbr\\u003eX: -213.4\\u003cbr\\u003eY: 0.0\\u003cbr\\u003eZ: 318.2\",\"ID: 195\\u003cbr\\u003eX: 213.4\\u003cbr\\u003eY: 0.0\\u003cbr\\u003eZ: 318.2\",\"ID: 196\\u003cbr\\u003eX: -213.4\\u003cbr\\u003eY: 135.0\\u003cbr\\u003eZ: 318.2\",\"ID: 197\\u003cbr\\u003eX: 213.4\\u003cbr\\u003eY: 135.0\\u003cbr\\u003eZ: 318.2\",\"ID: 198\\u003cbr\\u003eX: -213.75\\u003cbr\\u003eY: -175.0\\u003cbr\\u003eZ: 325.9\",\"ID: 199\\u003cbr\\u003eX: 213.75\\u003cbr\\u003eY: -175.0\\u003cbr\\u003eZ: 325.9\",\"ID: 200\\u003cbr\\u003eX: -213.75\\u003cbr\\u003eY: -95.0\\u003cbr\\u003eZ: 325.9\",\"ID: 201\\u003cbr\\u003eX: 213.75\\u003cbr\\u003eY: -95.0\\u003cbr\\u003eZ: 325.9\",\"ID: 202\\u003cbr\\u003eX: -213.75\\u003cbr\\u003eY: -40.0\\u003cbr\\u003eZ: 325.9\",\"ID: 203\\u003cbr\\u003eX: 213.75\\u003cbr\\u003eY: -40.0\\u003cbr\\u003eZ: 325.9\",\"ID: 204\\u003cbr\\u003eX: -213.75\\u003cbr\\u003eY: 40.0\\u003cbr\\u003eZ: 325.9\",\"ID: 205\\u003cbr\\u003eX: 213.75\\u003cbr\\u003eY: 40.0\\u003cbr\\u003eZ: 325.9\",\"ID: 206\\u003cbr\\u003eX: -213.75\\u003cbr\\u003eY: 95.0\\u003cbr\\u003eZ: 325.9\",\"ID: 207\\u003cbr\\u003eX: 213.75\\u003cbr\\u003eY: 95.0\\u003cbr\\u003eZ: 325.9\",\"ID: 208\\u003cbr\\u003eX: -213.75\\u003cbr\\u003eY: 175.0\\u003cbr\\u003eZ: 325.9\",\"ID: 209\\u003cbr\\u003eX: 213.75\\u003cbr\\u003eY: 175.0\\u003cbr\\u003eZ: 325.9\",\"ID: 210\\u003cbr\\u003eX: -213.75\\u003cbr\\u003eY: -135.0\\u003cbr\\u003eZ: 340.6\",\"ID: 211\\u003cbr\\u003eX: 213.75\\u003cbr\\u003eY: -135.0\\u003cbr\\u003eZ: 340.6\",\"ID: 212\\u003cbr\\u003eX: -213.75\\u003cbr\\u003eY: 0.0\\u003cbr\\u003eZ: 340.6\",\"ID: 213\\u003cbr\\u003eX: 213.75\\u003cbr\\u003eY: 0.0\\u003cbr\\u003eZ: 340.6\",\"ID: 214\\u003cbr\\u003eX: -213.75\\u003cbr\\u003eY: 135.0\\u003cbr\\u003eZ: 340.6\",\"ID: 215\\u003cbr\\u003eX: 213.75\\u003cbr\\u003eY: 135.0\\u003cbr\\u003eZ: 340.6\",\"ID: 216\\u003cbr\\u003eX: -213.4\\u003cbr\\u003eY: -175.0\\u003cbr\\u003eZ: 348.2\",\"ID: 217\\u003cbr\\u003eX: 213.4\\u003cbr\\u003eY: -175.0\\u003cbr\\u003eZ: 348.2\",\"ID: 218\\u003cbr\\u003eX: -213.4\\u003cbr\\u003eY: -95.0\\u003cbr\\u003eZ: 348.2\",\"ID: 219\\u003cbr\\u003eX: 213.4\\u003cbr\\u003eY: -95.0\\u003cbr\\u003eZ: 348.2\",\"ID: 220\\u003cbr\\u003eX: -213.4\\u003cbr\\u003eY: -40.0\\u003cbr\\u003eZ: 348.2\",\"ID: 221\\u003cbr\\u003eX: 213.4\\u003cbr\\u003eY: -40.0\\u003cbr\\u003eZ: 348.2\",\"ID: 222\\u003cbr\\u003eX: -213.4\\u003cbr\\u003eY: 40.0\\u003cbr\\u003eZ: 348.2\",\"ID: 223\\u003cbr\\u003eX: 213.4\\u003cbr\\u003eY: 40.0\\u003cbr\\u003eZ: 348.2\",\"ID: 224\\u003cbr\\u003eX: -213.4\\u003cbr\\u003eY: 95.0\\u003cbr\\u003eZ: 348.2\",\"ID: 225\\u003cbr\\u003eX: 213.4\\u003cbr\\u003eY: 95.0\\u003cbr\\u003eZ: 348.2\",\"ID: 226\\u003cbr\\u003eX: -213.4\\u003cbr\\u003eY: 175.0\\u003cbr\\u003eZ: 348.2\",\"ID: 227\\u003cbr\\u003eX: 213.4\\u003cbr\\u003eY: 175.0\\u003cbr\\u003eZ: 348.2\",\"ID: 228\\u003cbr\\u003eX: -213.75\\u003cbr\\u003eY: -135.0\\u003cbr\\u003eZ: 355.9\",\"ID: 229\\u003cbr\\u003eX: 213.75\\u003cbr\\u003eY: -135.0\\u003cbr\\u003eZ: 355.9\",\"ID: 230\\u003cbr\\u003eX: -213.75\\u003cbr\\u003eY: 0.0\\u003cbr\\u003eZ: 355.9\",\"ID: 231\\u003cbr\\u003eX: 213.75\\u003cbr\\u003eY: 0.0\\u003cbr\\u003eZ: 355.9\",\"ID: 232\\u003cbr\\u003eX: -213.75\\u003cbr\\u003eY: 135.0\\u003cbr\\u003eZ: 355.9\",\"ID: 233\\u003cbr\\u003eX: 213.75\\u003cbr\\u003eY: 135.0\\u003cbr\\u003eZ: 355.9\",\"ID: 234\\u003cbr\\u003eX: -213.75\\u003cbr\\u003eY: -135.0\\u003cbr\\u003eZ: 413.9\",\"ID: 235\\u003cbr\\u003eX: 213.74999999999997\\u003cbr\\u003eY: -135.0\\u003cbr\\u003eZ: 413.9\",\"ID: 236\\u003cbr\\u003eX: -213.75\\u003cbr\\u003eY: 0.0\\u003cbr\\u003eZ: 413.9\",\"ID: 237\\u003cbr\\u003eX: 213.74999999999997\\u003cbr\\u003eY: 0.0\\u003cbr\\u003eZ: 413.9\",\"ID: 238\\u003cbr\\u003eX: -213.75\\u003cbr\\u003eY: 135.0\\u003cbr\\u003eZ: 413.9\",\"ID: 239\\u003cbr\\u003eX: 213.74999999999997\\u003cbr\\u003eY: 135.0\\u003cbr\\u003eZ: 413.9\",\"ID: 240\\u003cbr\\u003eX: -213.4\\u003cbr\\u003eY: -175.0\\u003cbr\\u003eZ: 421.5\",\"ID: 241\\u003cbr\\u003eX: 213.39999999999998\\u003cbr\\u003eY: -175.0\\u003cbr\\u003eZ: 421.5\",\"ID: 242\\u003cbr\\u003eX: -213.4\\u003cbr\\u003eY: -95.0\\u003cbr\\u003eZ: 421.5\",\"ID: 243\\u003cbr\\u003eX: 213.39999999999998\\u003cbr\\u003eY: -95.0\\u003cbr\\u003eZ: 421.5\",\"ID: 244\\u003cbr\\u003eX: -213.4\\u003cbr\\u003eY: -40.0\\u003cbr\\u003eZ: 421.5\",\"ID: 245\\u003cbr\\u003eX: 213.39999999999998\\u003cbr\\u003eY: -40.0\\u003cbr\\u003eZ: 421.5\",\"ID: 246\\u003cbr\\u003eX: -213.4\\u003cbr\\u003eY: 40.0\\u003cbr\\u003eZ: 421.5\",\"ID: 247\\u003cbr\\u003eX: 213.39999999999998\\u003cbr\\u003eY: 40.0\\u003cbr\\u003eZ: 421.5\",\"ID: 248\\u003cbr\\u003eX: -213.4\\u003cbr\\u003eY: 95.0\\u003cbr\\u003eZ: 421.5\",\"ID: 249\\u003cbr\\u003eX: 213.39999999999998\\u003cbr\\u003eY: 95.0\\u003cbr\\u003eZ: 421.5\",\"ID: 250\\u003cbr\\u003eX: -213.4\\u003cbr\\u003eY: 175.0\\u003cbr\\u003eZ: 421.5\",\"ID: 251\\u003cbr\\u003eX: 213.39999999999998\\u003cbr\\u003eY: 175.0\\u003cbr\\u003eZ: 421.5\",\"ID: 252\\u003cbr\\u003eX: -213.75\\u003cbr\\u003eY: -135.0\\u003cbr\\u003eZ: 429.1\",\"ID: 253\\u003cbr\\u003eX: 213.75\\u003cbr\\u003eY: -135.0\\u003cbr\\u003eZ: 429.1\",\"ID: 254\\u003cbr\\u003eX: -213.75\\u003cbr\\u003eY: 0.0\\u003cbr\\u003eZ: 429.1\",\"ID: 255\\u003cbr\\u003eX: 213.75\\u003cbr\\u003eY: 0.0\\u003cbr\\u003eZ: 429.1\",\"ID: 256\\u003cbr\\u003eX: -213.75\\u003cbr\\u003eY: 135.0\\u003cbr\\u003eZ: 429.1\",\"ID: 257\\u003cbr\\u003eX: 213.75\\u003cbr\\u003eY: 135.0\\u003cbr\\u003eZ: 429.1\",\"ID: 258\\u003cbr\\u003eX: -213.75\\u003cbr\\u003eY: -175.0\\u003cbr\\u003eZ: 443.9\",\"ID: 259\\u003cbr\\u003eX: 213.75\\u003cbr\\u003eY: -175.0\\u003cbr\\u003eZ: 443.9\",\"ID: 260\\u003cbr\\u003eX: -213.75\\u003cbr\\u003eY: -95.0\\u003cbr\\u003eZ: 443.9\",\"ID: 261\\u003cbr\\u003eX: 213.75\\u003cbr\\u003eY: -95.0\\u003cbr\\u003eZ: 443.9\",\"ID: 262\\u003cbr\\u003eX: -213.75\\u003cbr\\u003eY: -40.0\\u003cbr\\u003eZ: 443.9\",\"ID: 263\\u003cbr\\u003eX: 213.75\\u003cbr\\u003eY: -40.0\\u003cbr\\u003eZ: 443.9\",\"ID: 264\\u003cbr\\u003eX: -213.75\\u003cbr\\u003eY: 40.0\\u003cbr\\u003eZ: 443.9\",\"ID: 265\\u003cbr\\u003eX: 213.75\\u003cbr\\u003eY: 40.0\\u003cbr\\u003eZ: 443.9\",\"ID: 266\\u003cbr\\u003eX: -213.75\\u003cbr\\u003eY: 95.0\\u003cbr\\u003eZ: 443.9\",\"ID: 267\\u003cbr\\u003eX: 213.75\\u003cbr\\u003eY: 95.0\\u003cbr\\u003eZ: 443.9\",\"ID: 268\\u003cbr\\u003eX: -213.75\\u003cbr\\u003eY: 175.0\\u003cbr\\u003eZ: 443.9\",\"ID: 269\\u003cbr\\u003eX: 213.75\\u003cbr\\u003eY: 175.0\\u003cbr\\u003eZ: 443.9\",\"ID: 270\\u003cbr\\u003eX: -213.4\\u003cbr\\u003eY: -135.0\\u003cbr\\u003eZ: 451.5\",\"ID: 271\\u003cbr\\u003eX: 213.4\\u003cbr\\u003eY: -135.0\\u003cbr\\u003eZ: 451.5\",\"ID: 272\\u003cbr\\u003eX: -213.4\\u003cbr\\u003eY: 0.0\\u003cbr\\u003eZ: 451.5\",\"ID: 273\\u003cbr\\u003eX: 213.4\\u003cbr\\u003eY: 0.0\\u003cbr\\u003eZ: 451.5\",\"ID: 274\\u003cbr\\u003eX: -213.4\\u003cbr\\u003eY: 135.0\\u003cbr\\u003eZ: 451.5\",\"ID: 275\\u003cbr\\u003eX: 213.4\\u003cbr\\u003eY: 135.0\\u003cbr\\u003eZ: 451.5\",\"ID: 276\\u003cbr\\u003eX: -213.75\\u003cbr\\u003eY: -175.0\\u003cbr\\u003eZ: 459.1\",\"ID: 277\\u003cbr\\u003eX: 213.75\\u003cbr\\u003eY: -175.0\\u003cbr\\u003eZ: 459.1\",\"ID: 278\\u003cbr\\u003eX: -213.75\\u003cbr\\u003eY: -95.0\\u003cbr\\u003eZ: 459.1\",\"ID: 279\\u003cbr\\u003eX: 213.75\\u003cbr\\u003eY: -95.0\\u003cbr\\u003eZ: 459.1\",\"ID: 280\\u003cbr\\u003eX: -213.75\\u003cbr\\u003eY: -40.0\\u003cbr\\u003eZ: 459.1\",\"ID: 281\\u003cbr\\u003eX: 213.75\\u003cbr\\u003eY: -40.0\\u003cbr\\u003eZ: 459.1\",\"ID: 282\\u003cbr\\u003eX: -213.75\\u003cbr\\u003eY: 40.0\\u003cbr\\u003eZ: 459.1\",\"ID: 283\\u003cbr\\u003eX: 213.75\\u003cbr\\u003eY: 40.0\\u003cbr\\u003eZ: 459.1\",\"ID: 284\\u003cbr\\u003eX: -213.75\\u003cbr\\u003eY: 95.0\\u003cbr\\u003eZ: 459.1\",\"ID: 285\\u003cbr\\u003eX: 213.75\\u003cbr\\u003eY: 95.0\\u003cbr\\u003eZ: 459.1\",\"ID: 286\\u003cbr\\u003eX: -213.75\\u003cbr\\u003eY: 175.0\\u003cbr\\u003eZ: 459.1\",\"ID: 287\\u003cbr\\u003eX: 213.75\\u003cbr\\u003eY: 175.0\\u003cbr\\u003eZ: 459.1\",\"ID: 288\\u003cbr\\u003eX: -213.75\\u003cbr\\u003eY: -135.0\\u003cbr\\u003eZ: 473.9\",\"ID: 289\\u003cbr\\u003eX: 213.75\\u003cbr\\u003eY: -135.0\\u003cbr\\u003eZ: 473.9\",\"ID: 290\\u003cbr\\u003eX: -213.75\\u003cbr\\u003eY: 0.0\\u003cbr\\u003eZ: 473.9\",\"ID: 291\\u003cbr\\u003eX: 213.75\\u003cbr\\u003eY: 0.0\\u003cbr\\u003eZ: 473.9\",\"ID: 292\\u003cbr\\u003eX: -213.75\\u003cbr\\u003eY: 135.0\\u003cbr\\u003eZ: 473.9\",\"ID: 293\\u003cbr\\u003eX: 213.75\\u003cbr\\u003eY: 135.0\\u003cbr\\u003eZ: 473.9\",\"ID: 294\\u003cbr\\u003eX: -213.4\\u003cbr\\u003eY: -175.0\\u003cbr\\u003eZ: 481.5\",\"ID: 295\\u003cbr\\u003eX: 213.4\\u003cbr\\u003eY: -175.0\\u003cbr\\u003eZ: 481.5\",\"ID: 296\\u003cbr\\u003eX: -213.4\\u003cbr\\u003eY: -95.0\\u003cbr\\u003eZ: 481.5\",\"ID: 297\\u003cbr\\u003eX: 213.4\\u003cbr\\u003eY: -95.0\\u003cbr\\u003eZ: 481.5\",\"ID: 298\\u003cbr\\u003eX: -213.4\\u003cbr\\u003eY: -40.0\\u003cbr\\u003eZ: 481.5\",\"ID: 299\\u003cbr\\u003eX: 213.4\\u003cbr\\u003eY: -40.0\\u003cbr\\u003eZ: 481.5\",\"ID: 300\\u003cbr\\u003eX: -213.4\\u003cbr\\u003eY: 40.0\\u003cbr\\u003eZ: 481.5\",\"ID: 301\\u003cbr\\u003eX: 213.4\\u003cbr\\u003eY: 40.0\\u003cbr\\u003eZ: 481.5\",\"ID: 302\\u003cbr\\u003eX: -213.4\\u003cbr\\u003eY: 95.0\\u003cbr\\u003eZ: 481.5\",\"ID: 303\\u003cbr\\u003eX: 213.4\\u003cbr\\u003eY: 95.0\\u003cbr\\u003eZ: 481.5\",\"ID: 304\\u003cbr\\u003eX: -213.4\\u003cbr\\u003eY: 175.0\\u003cbr\\u003eZ: 481.5\",\"ID: 305\\u003cbr\\u003eX: 213.4\\u003cbr\\u003eY: 175.0\\u003cbr\\u003eZ: 481.5\",\"ID: 306\\u003cbr\\u003eX: -213.75\\u003cbr\\u003eY: -135.0\\u003cbr\\u003eZ: 489.1\",\"ID: 307\\u003cbr\\u003eX: 213.75\\u003cbr\\u003eY: -135.0\\u003cbr\\u003eZ: 489.1\",\"ID: 308\\u003cbr\\u003eX: -213.75\\u003cbr\\u003eY: 0.0\\u003cbr\\u003eZ: 489.1\",\"ID: 309\\u003cbr\\u003eX: 213.75\\u003cbr\\u003eY: 0.0\\u003cbr\\u003eZ: 489.1\",\"ID: 310\\u003cbr\\u003eX: -213.75\\u003cbr\\u003eY: 135.0\\u003cbr\\u003eZ: 489.1\",\"ID: 311\\u003cbr\\u003eX: 213.75\\u003cbr\\u003eY: 135.0\\u003cbr\\u003eZ: 489.1\"],\"x\":[-213.75,213.74999999999997,-213.75,213.74999999999997,-213.75,213.74999999999997,-213.4,213.39999999999998,-213.4,213.39999999999998,-213.4,213.39999999999998,-213.4,213.39999999999998,-213.4,213.39999999999998,-213.4,213.39999999999998,-213.75,213.75,-213.75,213.75,-213.75,213.75,-213.75,213.75,-213.75,213.75,-213.75,213.75,-213.75,213.75,-213.75,213.75,-213.75,213.75,-213.4,213.4,-213.4,213.4,-213.4,213.4,-213.75,213.75,-213.75,213.75,-213.75,213.75,-213.75,213.75,-213.75,213.75,-213.75,213.75,-213.75,213.75,-213.75,213.75,-213.75,213.75,-213.4,213.4,-213.4,213.4,-213.4,213.4,-213.4,213.4,-213.4,213.4,-213.4,213.4,-213.75,213.75,-213.75,213.75,-213.75,213.75,-213.75,213.74999999999997,-213.75,213.74999999999997,-213.75,213.74999999999997,-213.4,213.39999999999998,-213.4,213.39999999999998,-213.4,213.39999999999998,-213.4,213.39999999999998,-213.4,213.39999999999998,-213.4,213.39999999999998,-213.75,213.75,-213.75,213.75,-213.75,213.75,-213.75,213.75,-213.75,213.75,-213.75,213.75,-213.75,213.75,-213.75,213.75,-213.75,213.75,-213.4,213.4,-213.4,213.4,-213.4,213.4,-213.75,213.75,-213.75,213.75,-213.75,213.75,-213.75,213.75,-213.75,213.75,-213.75,213.75,-213.75,213.75,-213.75,213.75,-213.75,213.75,-213.4,213.4,-213.4,213.4,-213.4,213.4,-213.4,213.4,-213.4,213.4,-213.4,213.4,-213.75,213.75,-213.75,213.75,-213.75,213.75,-213.75,213.74999999999997,-213.75,213.74999999999997,-213.75,213.74999999999997,-213.4,213.39999999999998,-213.4,213.39999999999998,-213.4,213.39999999999998,-213.4,213.39999999999998,-213.4,213.39999999999998,-213.4,213.39999999999998,-213.75,213.75,-213.75,213.75,-213.75,213.75,-213.75,213.75,-213.75,213.75,-213.75,213.75,-213.75,213.75,-213.75,213.75,-213.75,213.75,-213.4,213.4,-213.4,213.4,-213.4,213.4,-213.75,213.75,-213.75,213.75,-213.75,213.75,-213.75,213.75,-213.75,213.75,-213.75,213.75,-213.75,213.75,-213.75,213.75,-213.75,213.75,-213.4,213.4,-213.4,213.4,-213.4,213.4,-213.4,213.4,-213.4,213.4,-213.4,213.4,-213.75,213.75,-213.75,213.75,-213.75,213.75,-213.75,213.74999999999997,-213.75,213.74999999999997,-213.75,213.74999999999997,-213.4,213.39999999999998,-213.4,213.39999999999998,-213.4,213.39999999999998,-213.4,213.39999999999998,-213.4,213.39999999999998,-213.4,213.39999999999998,-213.75,213.75,-213.75,213.75,-213.75,213.75,-213.75,213.75,-213.75,213.75,-213.75,213.75,-213.75,213.75,-213.75,213.75,-213.75,213.75,-213.4,213.4,-213.4,213.4,-213.4,213.4,-213.75,213.75,-213.75,213.75,-213.75,213.75,-213.75,213.75,-213.75,213.75,-213.75,213.75,-213.75,213.75,-213.75,213.75,-213.75,213.75,-213.4,213.4,-213.4,213.4,-213.4,213.4,-213.4,213.4,-213.4,213.4,-213.4,213.4,-213.75,213.75,-213.75,213.75,-213.75,213.75],\"y\":[20.254225000000027,20.254225000000027,20.254225000000027,20.254225000000027,20.254225000000027,20.254225000000027,27.874225000000024,27.874225000000024,27.874225000000024,27.874225000000024,27.874225000000024,27.874225000000024,27.874225000000024,27.874225000000024,27.874225000000024,27.874225000000024,27.874225000000024,27.874225000000024,35.49422500000002,35.49422500000002,35.49422500000002,35.49422500000002,35.49422500000002,35.49422500000002,50.25422500000002,50.25422500000002,50.25422500000002,50.25422500000002,50.25422500000002,50.25422500000002,50.25422500000002,50.25422500000002,50.25422500000002,50.25422500000002,50.25422500000002,50.25422500000002,57.874225000000024,57.874225000000024,57.874225000000024,57.874225000000024,57.874225000000024,57.874225000000024,65.49422500000003,65.49422500000003,65.49422500000003,65.49422500000003,65.49422500000003,65.49422500000003,65.49422500000003,65.49422500000003,65.49422500000003,65.49422500000003,65.49422500000003,65.49422500000003,80.25422500000002,80.25422500000002,80.25422500000002,80.25422500000002,80.25422500000002,80.25422500000002,87.87422500000002,87.87422500000002,87.87422500000002,87.87422500000002,87.87422500000002,87.87422500000002,87.87422500000002,87.87422500000002,87.87422500000002,87.87422500000002,87.87422500000002,87.87422500000002,95.49422500000003,95.49422500000003,95.49422500000003,95.49422500000003,95.49422500000003,95.49422500000003,153.53807500000005,153.53807500000005,153.53807500000005,153.53807500000005,153.53807500000005,153.53807500000005,161.15807500000005,161.15807500000005,161.15807500000005,161.15807500000005,161.15807500000005,161.15807500000005,161.15807500000005,161.15807500000005,161.15807500000005,161.15807500000005,161.15807500000005,161.15807500000005,168.77807500000006,168.77807500000006,168.77807500000006,168.77807500000006,168.77807500000006,168.77807500000006,183.53807500000005,183.53807500000005,183.53807500000005,183.53807500000005,183.53807500000005,183.53807500000005,183.53807500000005,183.53807500000005,183.53807500000005,183.53807500000005,183.53807500000005,183.53807500000005,191.15807500000005,191.15807500000005,191.15807500000005,191.15807500000005,191.15807500000005,191.15807500000005,198.77807500000006,198.77807500000006,198.77807500000006,198.77807500000006,198.77807500000006,198.77807500000006,198.77807500000006,198.77807500000006,198.77807500000006,198.77807500000006,198.77807500000006,198.77807500000006,213.53807500000005,213.53807500000005,213.53807500000005,213.53807500000005,213.53807500000005,213.53807500000005,221.15807500000005,221.15807500000005,221.15807500000005,221.15807500000005,221.15807500000005,221.15807500000005,221.15807500000005,221.15807500000005,221.15807500000005,221.15807500000005,221.15807500000005,221.15807500000005,228.77807500000006,228.77807500000006,228.77807500000006,228.77807500000006,228.77807500000006,228.77807500000006,280.62192500000003,280.62192500000003,280.62192500000003,280.62192500000003,280.62192500000003,280.62192500000003,288.24192500000004,288.24192500000004,288.24192500000004,288.24192500000004,288.24192500000004,288.24192500000004,288.24192500000004,288.24192500000004,288.24192500000004,288.24192500000004,288.24192500000004,288.24192500000004,295.86192500000004,295.86192500000004,295.86192500000004,295.86192500000004,295.86192500000004,295.86192500000004,310.62192500000003,310.62192500000003,310.62192500000003,310.62192500000003,310.62192500000003,310.62192500000003,310.62192500000003,310.62192500000003,310.62192500000003,310.62192500000003,310.62192500000003,310.62192500000003,318.24192500000004,318.24192500000004,318.24192500000004,318.24192500000004,318.24192500000004,318.24192500000004,325.86192500000004,325.86192500000004,325.86192500000004,325.86192500000004,325.86192500000004,325.86192500000004,325.86192500000004,325.86192500000004,325.86192500000004,325.86192500000004,325.86192500000004,325.86192500000004,340.62192500000003,340.62192500000003,340.62192500000003,340.62192500000003,340.62192500000003,340.62192500000003,348.24192500000004,348.24192500000004,348.24192500000004,348.24192500000004,348.24192500000004,348.24192500000004,348.24192500000004,348.24192500000004,348.24192500000004,348.24192500000004,348.24192500000004,348.24192500000004,355.86192500000004,355.86192500000004,355.86192500000004,355.86192500000004,355.86192500000004,355.86192500000004,413.90577500000006,413.90577500000006,413.90577500000006,413.90577500000006,413.90577500000006,413.90577500000006,421.52577500000007,421.52577500000007,421.52577500000007,421.52577500000007,421.52577500000007,421.52577500000007,421.52577500000007,421.52577500000007,421.52577500000007,421.52577500000007,421.52577500000007,421.52577500000007,429.14577500000007,429.14577500000007,429.14577500000007,429.14577500000007,429.14577500000007,429.14577500000007,443.90577500000006,443.90577500000006,443.90577500000006,443.90577500000006,443.90577500000006,443.90577500000006,443.90577500000006,443.90577500000006,443.90577500000006,443.90577500000006,443.90577500000006,443.90577500000006,451.52577500000007,451.52577500000007,451.52577500000007,451.52577500000007,451.52577500000007,451.52577500000007,459.14577500000007,459.14577500000007,459.14577500000007,459.14577500000007,459.14577500000007,459.14577500000007,459.14577500000007,459.14577500000007,459.14577500000007,459.14577500000007,459.14577500000007,459.14577500000007,473.90577500000006,473.90577500000006,473.90577500000006,473.90577500000006,473.90577500000006,473.90577500000006,481.52577500000007,481.52577500000007,481.52577500000007,481.52577500000007,481.52577500000007,481.52577500000007,481.52577500000007,481.52577500000007,481.52577500000007,481.52577500000007,481.52577500000007,481.52577500000007,489.14577500000007,489.14577500000007,489.14577500000007,489.14577500000007,489.14577500000007,489.14577500000007],\"z\":[-135.0,-135.0,0.0,0.0,135.0,135.0,-175.0,-175.0,-95.0,-95.0,-40.0,-40.0,40.0,40.0,95.0,95.0,175.0,175.0,-135.0,-135.0,0.0,0.0,135.0,135.0,-175.0,-175.0,-95.0,-95.0,-40.0,-40.0,40.0,40.0,95.0,95.0,175.0,175.0,-135.0,-135.0,0.0,0.0,135.0,135.0,-175.0,-175.0,-95.0,-95.0,-40.0,-40.0,40.0,40.0,95.0,95.0,175.0,175.0,-135.0,-135.0,0.0,0.0,135.0,135.0,-175.0,-175.0,-95.0,-95.0,-40.0,-40.0,40.0,40.0,95.0,95.0,175.0,175.0,-135.0,-135.0,0.0,0.0,135.0,135.0,-135.0,-135.0,0.0,0.0,135.0,135.0,-175.0,-175.0,-95.0,-95.0,-40.0,-40.0,40.0,40.0,95.0,95.0,175.0,175.0,-135.0,-135.0,0.0,0.0,135.0,135.0,-175.0,-175.0,-95.0,-95.0,-40.0,-40.0,40.0,40.0,95.0,95.0,175.0,175.0,-135.0,-135.0,0.0,0.0,135.0,135.0,-175.0,-175.0,-95.0,-95.0,-40.0,-40.0,40.0,40.0,95.0,95.0,175.0,175.0,-135.0,-135.0,0.0,0.0,135.0,135.0,-175.0,-175.0,-95.0,-95.0,-40.0,-40.0,40.0,40.0,95.0,95.0,175.0,175.0,-135.0,-135.0,0.0,0.0,135.0,135.0,-135.0,-135.0,0.0,0.0,135.0,135.0,-175.0,-175.0,-95.0,-95.0,-40.0,-40.0,40.0,40.0,95.0,95.0,175.0,175.0,-135.0,-135.0,0.0,0.0,135.0,135.0,-175.0,-175.0,-95.0,-95.0,-40.0,-40.0,40.0,40.0,95.0,95.0,175.0,175.0,-135.0,-135.0,0.0,0.0,135.0,135.0,-175.0,-175.0,-95.0,-95.0,-40.0,-40.0,40.0,40.0,95.0,95.0,175.0,175.0,-135.0,-135.0,0.0,0.0,135.0,135.0,-175.0,-175.0,-95.0,-95.0,-40.0,-40.0,40.0,40.0,95.0,95.0,175.0,175.0,-135.0,-135.0,0.0,0.0,135.0,135.0,-135.0,-135.0,0.0,0.0,135.0,135.0,-175.0,-175.0,-95.0,-95.0,-40.0,-40.0,40.0,40.0,95.0,95.0,175.0,175.0,-135.0,-135.0,0.0,0.0,135.0,135.0,-175.0,-175.0,-95.0,-95.0,-40.0,-40.0,40.0,40.0,95.0,95.0,175.0,175.0,-135.0,-135.0,0.0,0.0,135.0,135.0,-175.0,-175.0,-95.0,-95.0,-40.0,-40.0,40.0,40.0,95.0,95.0,175.0,175.0,-135.0,-135.0,0.0,0.0,135.0,135.0,-175.0,-175.0,-95.0,-95.0,-40.0,-40.0,40.0,40.0,95.0,95.0,175.0,175.0,-135.0,-135.0,0.0,0.0,135.0,135.0],\"type\":\"scatter3d\"}],                        {\"template\":{\"data\":{\"histogram2dcontour\":[{\"type\":\"histogram2dcontour\",\"colorbar\":{\"outlinewidth\":0,\"ticks\":\"\"},\"colorscale\":[[0.0,\"#0d0887\"],[0.1111111111111111,\"#46039f\"],[0.2222222222222222,\"#7201a8\"],[0.3333333333333333,\"#9c179e\"],[0.4444444444444444,\"#bd3786\"],[0.5555555555555556,\"#d8576b\"],[0.6666666666666666,\"#ed7953\"],[0.7777777777777778,\"#fb9f3a\"],[0.8888888888888888,\"#fdca26\"],[1.0,\"#f0f921\"]]}],\"choropleth\":[{\"type\":\"choropleth\",\"colorbar\":{\"outlinewidth\":0,\"ticks\":\"\"}}],\"histogram2d\":[{\"type\":\"histogram2d\",\"colorbar\":{\"outlinewidth\":0,\"ticks\":\"\"},\"colorscale\":[[0.0,\"#0d0887\"],[0.1111111111111111,\"#46039f\"],[0.2222222222222222,\"#7201a8\"],[0.3333333333333333,\"#9c179e\"],[0.4444444444444444,\"#bd3786\"],[0.5555555555555556,\"#d8576b\"],[0.6666666666666666,\"#ed7953\"],[0.7777777777777778,\"#fb9f3a\"],[0.8888888888888888,\"#fdca26\"],[1.0,\"#f0f921\"]]}],\"heatmap\":[{\"type\":\"heatmap\",\"colorbar\":{\"outlinewidth\":0,\"ticks\":\"\"},\"colorscale\":[[0.0,\"#0d0887\"],[0.1111111111111111,\"#46039f\"],[0.2222222222222222,\"#7201a8\"],[0.3333333333333333,\"#9c179e\"],[0.4444444444444444,\"#bd3786\"],[0.5555555555555556,\"#d8576b\"],[0.6666666666666666,\"#ed7953\"],[0.7777777777777778,\"#fb9f3a\"],[0.8888888888888888,\"#fdca26\"],[1.0,\"#f0f921\"]]}],\"heatmapgl\":[{\"type\":\"heatmapgl\",\"colorbar\":{\"outlinewidth\":0,\"ticks\":\"\"},\"colorscale\":[[0.0,\"#0d0887\"],[0.1111111111111111,\"#46039f\"],[0.2222222222222222,\"#7201a8\"],[0.3333333333333333,\"#9c179e\"],[0.4444444444444444,\"#bd3786\"],[0.5555555555555556,\"#d8576b\"],[0.6666666666666666,\"#ed7953\"],[0.7777777777777778,\"#fb9f3a\"],[0.8888888888888888,\"#fdca26\"],[1.0,\"#f0f921\"]]}],\"contourcarpet\":[{\"type\":\"contourcarpet\",\"colorbar\":{\"outlinewidth\":0,\"ticks\":\"\"}}],\"contour\":[{\"type\":\"contour\",\"colorbar\":{\"outlinewidth\":0,\"ticks\":\"\"},\"colorscale\":[[0.0,\"#0d0887\"],[0.1111111111111111,\"#46039f\"],[0.2222222222222222,\"#7201a8\"],[0.3333333333333333,\"#9c179e\"],[0.4444444444444444,\"#bd3786\"],[0.5555555555555556,\"#d8576b\"],[0.6666666666666666,\"#ed7953\"],[0.7777777777777778,\"#fb9f3a\"],[0.8888888888888888,\"#fdca26\"],[1.0,\"#f0f921\"]]}],\"surface\":[{\"type\":\"surface\",\"colorbar\":{\"outlinewidth\":0,\"ticks\":\"\"},\"colorscale\":[[0.0,\"#0d0887\"],[0.1111111111111111,\"#46039f\"],[0.2222222222222222,\"#7201a8\"],[0.3333333333333333,\"#9c179e\"],[0.4444444444444444,\"#bd3786\"],[0.5555555555555556,\"#d8576b\"],[0.6666666666666666,\"#ed7953\"],[0.7777777777777778,\"#fb9f3a\"],[0.8888888888888888,\"#fdca26\"],[1.0,\"#f0f921\"]]}],\"mesh3d\":[{\"type\":\"mesh3d\",\"colorbar\":{\"outlinewidth\":0,\"ticks\":\"\"}}],\"scatter\":[{\"fillpattern\":{\"fillmode\":\"overlay\",\"size\":10,\"solidity\":0.2},\"type\":\"scatter\"}],\"parcoords\":[{\"type\":\"parcoords\",\"line\":{\"colorbar\":{\"outlinewidth\":0,\"ticks\":\"\"}}}],\"scatterpolargl\":[{\"type\":\"scatterpolargl\",\"marker\":{\"colorbar\":{\"outlinewidth\":0,\"ticks\":\"\"}}}],\"bar\":[{\"error_x\":{\"color\":\"#2a3f5f\"},\"error_y\":{\"color\":\"#2a3f5f\"},\"marker\":{\"line\":{\"color\":\"#E5ECF6\",\"width\":0.5},\"pattern\":{\"fillmode\":\"overlay\",\"size\":10,\"solidity\":0.2}},\"type\":\"bar\"}],\"scattergeo\":[{\"type\":\"scattergeo\",\"marker\":{\"colorbar\":{\"outlinewidth\":0,\"ticks\":\"\"}}}],\"scatterpolar\":[{\"type\":\"scatterpolar\",\"marker\":{\"colorbar\":{\"outlinewidth\":0,\"ticks\":\"\"}}}],\"histogram\":[{\"marker\":{\"pattern\":{\"fillmode\":\"overlay\",\"size\":10,\"solidity\":0.2}},\"type\":\"histogram\"}],\"scattergl\":[{\"type\":\"scattergl\",\"marker\":{\"colorbar\":{\"outlinewidth\":0,\"ticks\":\"\"}}}],\"scatter3d\":[{\"type\":\"scatter3d\",\"line\":{\"colorbar\":{\"outlinewidth\":0,\"ticks\":\"\"}},\"marker\":{\"colorbar\":{\"outlinewidth\":0,\"ticks\":\"\"}}}],\"scattermapbox\":[{\"type\":\"scattermapbox\",\"marker\":{\"colorbar\":{\"outlinewidth\":0,\"ticks\":\"\"}}}],\"scatterternary\":[{\"type\":\"scatterternary\",\"marker\":{\"colorbar\":{\"outlinewidth\":0,\"ticks\":\"\"}}}],\"scattercarpet\":[{\"type\":\"scattercarpet\",\"marker\":{\"colorbar\":{\"outlinewidth\":0,\"ticks\":\"\"}}}],\"carpet\":[{\"aaxis\":{\"endlinecolor\":\"#2a3f5f\",\"gridcolor\":\"white\",\"linecolor\":\"white\",\"minorgridcolor\":\"white\",\"startlinecolor\":\"#2a3f5f\"},\"baxis\":{\"endlinecolor\":\"#2a3f5f\",\"gridcolor\":\"white\",\"linecolor\":\"white\",\"minorgridcolor\":\"white\",\"startlinecolor\":\"#2a3f5f\"},\"type\":\"carpet\"}],\"table\":[{\"cells\":{\"fill\":{\"color\":\"#EBF0F8\"},\"line\":{\"color\":\"white\"}},\"header\":{\"fill\":{\"color\":\"#C8D4E3\"},\"line\":{\"color\":\"white\"}},\"type\":\"table\"}],\"barpolar\":[{\"marker\":{\"line\":{\"color\":\"#E5ECF6\",\"width\":0.5},\"pattern\":{\"fillmode\":\"overlay\",\"size\":10,\"solidity\":0.2}},\"type\":\"barpolar\"}],\"pie\":[{\"automargin\":true,\"type\":\"pie\"}]},\"layout\":{\"autotypenumbers\":\"strict\",\"colorway\":[\"#636efa\",\"#EF553B\",\"#00cc96\",\"#ab63fa\",\"#FFA15A\",\"#19d3f3\",\"#FF6692\",\"#B6E880\",\"#FF97FF\",\"#FECB52\"],\"font\":{\"color\":\"#2a3f5f\"},\"hovermode\":\"closest\",\"hoverlabel\":{\"align\":\"left\"},\"paper_bgcolor\":\"white\",\"plot_bgcolor\":\"#E5ECF6\",\"polar\":{\"bgcolor\":\"#E5ECF6\",\"angularaxis\":{\"gridcolor\":\"white\",\"linecolor\":\"white\",\"ticks\":\"\"},\"radialaxis\":{\"gridcolor\":\"white\",\"linecolor\":\"white\",\"ticks\":\"\"}},\"ternary\":{\"bgcolor\":\"#E5ECF6\",\"aaxis\":{\"gridcolor\":\"white\",\"linecolor\":\"white\",\"ticks\":\"\"},\"baxis\":{\"gridcolor\":\"white\",\"linecolor\":\"white\",\"ticks\":\"\"},\"caxis\":{\"gridcolor\":\"white\",\"linecolor\":\"white\",\"ticks\":\"\"}},\"coloraxis\":{\"colorbar\":{\"outlinewidth\":0,\"ticks\":\"\"}},\"colorscale\":{\"sequential\":[[0.0,\"#0d0887\"],[0.1111111111111111,\"#46039f\"],[0.2222222222222222,\"#7201a8\"],[0.3333333333333333,\"#9c179e\"],[0.4444444444444444,\"#bd3786\"],[0.5555555555555556,\"#d8576b\"],[0.6666666666666666,\"#ed7953\"],[0.7777777777777778,\"#fb9f3a\"],[0.8888888888888888,\"#fdca26\"],[1.0,\"#f0f921\"]],\"sequentialminus\":[[0.0,\"#0d0887\"],[0.1111111111111111,\"#46039f\"],[0.2222222222222222,\"#7201a8\"],[0.3333333333333333,\"#9c179e\"],[0.4444444444444444,\"#bd3786\"],[0.5555555555555556,\"#d8576b\"],[0.6666666666666666,\"#ed7953\"],[0.7777777777777778,\"#fb9f3a\"],[0.8888888888888888,\"#fdca26\"],[1.0,\"#f0f921\"]],\"diverging\":[[0,\"#8e0152\"],[0.1,\"#c51b7d\"],[0.2,\"#de77ae\"],[0.3,\"#f1b6da\"],[0.4,\"#fde0ef\"],[0.5,\"#f7f7f7\"],[0.6,\"#e6f5d0\"],[0.7,\"#b8e186\"],[0.8,\"#7fbc41\"],[0.9,\"#4d9221\"],[1,\"#276419\"]]},\"xaxis\":{\"gridcolor\":\"white\",\"linecolor\":\"white\",\"ticks\":\"\",\"title\":{\"standoff\":15},\"zerolinecolor\":\"white\",\"automargin\":true,\"zerolinewidth\":2},\"yaxis\":{\"gridcolor\":\"white\",\"linecolor\":\"white\",\"ticks\":\"\",\"title\":{\"standoff\":15},\"zerolinecolor\":\"white\",\"automargin\":true,\"zerolinewidth\":2},\"scene\":{\"xaxis\":{\"backgroundcolor\":\"#E5ECF6\",\"gridcolor\":\"white\",\"linecolor\":\"white\",\"showbackground\":true,\"ticks\":\"\",\"zerolinecolor\":\"white\",\"gridwidth\":2},\"yaxis\":{\"backgroundcolor\":\"#E5ECF6\",\"gridcolor\":\"white\",\"linecolor\":\"white\",\"showbackground\":true,\"ticks\":\"\",\"zerolinecolor\":\"white\",\"gridwidth\":2},\"zaxis\":{\"backgroundcolor\":\"#E5ECF6\",\"gridcolor\":\"white\",\"linecolor\":\"white\",\"showbackground\":true,\"ticks\":\"\",\"zerolinecolor\":\"white\",\"gridwidth\":2}},\"shapedefaults\":{\"line\":{\"color\":\"#2a3f5f\"}},\"annotationdefaults\":{\"arrowcolor\":\"#2a3f5f\",\"arrowhead\":0,\"arrowwidth\":1},\"geo\":{\"bgcolor\":\"white\",\"landcolor\":\"#E5ECF6\",\"subunitcolor\":\"white\",\"showland\":true,\"showlakes\":true,\"lakecolor\":\"white\"},\"title\":{\"x\":0.05},\"mapbox\":{\"style\":\"light\"}}},\"scene\":{\"xaxis\":{\"title\":{\"text\":\"X\"}},\"yaxis\":{\"title\":{\"text\":\"Z\"}},\"zaxis\":{\"title\":{\"text\":\"Y\"}}}},                        {\"responsive\": true}                    ).then(function(){\n",
       "                            \n",
       "var gd = document.getElementById('370f1e33-ba20-4919-a807-e9cd9c9c8f1b');\n",
       "var x = new MutationObserver(function (mutations, observer) {{\n",
       "        var display = window.getComputedStyle(gd).display;\n",
       "        if (!display || display === 'none') {{\n",
       "            console.log([gd, 'removed!']);\n",
       "            Plotly.purge(gd);\n",
       "            observer.disconnect();\n",
       "        }}\n",
       "}});\n",
       "\n",
       "// Listen for the removal of the full notebook cells\n",
       "var notebookContainer = gd.closest('#notebook-container');\n",
       "if (notebookContainer) {{\n",
       "    x.observe(notebookContainer, {childList: true});\n",
       "}}\n",
       "\n",
       "// Listen for the clearing of the current output cell\n",
       "var outputEl = gd.closest('.output');\n",
       "if (outputEl) {{\n",
       "    x.observe(outputEl, {childList: true});\n",
       "}}\n",
       "\n",
       "                        })                };                });            </script>        </div>"
      ]
     },
     "metadata": {},
     "output_type": "display_data"
    }
   ],
   "source": [
    "import plotly.graph_objs as go\n",
    "import plotly.express as px\n",
    "\n",
    "# Tu diccionario de datos\n",
    "data = data_dict\n",
    "\n",
    "# Extraer las coordenadas\n",
    "x = [coord[0] for coord in data.values()]\n",
    "y = [coord[1] for coord in data.values()]  # Ahora Y va al eje vertical\n",
    "z = [coord[2] for coord in data.values()]  # Z va al eje horizontal\n",
    "color = [coord[3] for coord in data.values()]\n",
    "ids = [key for key in data_dict.keys()]\n",
    "\n",
    "# Crear las etiquetas de hover con las coordenadas correctas\n",
    "hover_text = [f'ID: {id_}<br>X: {x_}<br>Y: {y_}<br>Z: {z_:.1f}' for id_, x_, y_, z_ in zip(ids, x, y, z)]\n",
    "\n",
    "# Crear el gráfico de dispersión 3D\n",
    "fig = go.Figure(data=[go.Scatter3d(\n",
    "    x=x,\n",
    "    y=z,  # Y es el eje vertical\n",
    "    z=y,  # Z es el eje horizontal\n",
    "    mode='markers',\n",
    "    marker=dict(\n",
    "        size=5,\n",
    "        color=color,  # Establece el color basado en la cuarta dimensión\n",
    "        colorbar=dict(title='Color Scale')  # Añadir la barra de colores\n",
    "    ),\n",
    "    text=hover_text,  # Mostrar las coordenadas correctas en el hover\n",
    "    hoverinfo='text'  # Mostrar solo el texto del hover\n",
    ")])\n",
    "\n",
    "# Establecer etiquetas de los ejes\n",
    "fig.update_layout(scene=dict(\n",
    "    xaxis_title='X',\n",
    "    yaxis_title='Z',  # Y es ahora el eje vertical\n",
    "    zaxis_title='Y'  # Z es ahora el eje horizontal\n",
    "))\n",
    "\n",
    "# Mostrar el gráfico\n",
    "fig.show()\n"
   ]
  },
  {
   "cell_type": "markdown",
   "metadata": {},
   "source": [
    "### Cambio en mapas actuales"
   ]
  },
  {
   "cell_type": "markdown",
   "metadata": {},
   "source": [
    "ahora si que es equivalente a la imagen de 2D detector planes."
   ]
  },
  {
   "cell_type": "code",
   "execution_count": 67,
   "metadata": {},
   "outputs": [
    {
     "name": "stdout",
     "output_type": "stream",
     "text": [
      "Guardado: saved_archives/maps/realistic/non_flipped/flipped/coated_pmt_map_realistic_flipped.csv\n",
      "Guardado: saved_archives/maps/realistic/non_flipped/flipped/pmts_map_realistic_flipped.csv\n",
      "Guardado: saved_archives/maps/realistic/non_flipped/flipped/total_map_realistic_flipped.csv\n",
      "Guardado: saved_archives/maps/realistic/non_flipped/flipped/uncoated_pmt_map_realistic_flipped.csv\n",
      "Guardado: saved_archives/maps/realistic/non_flipped/flipped/vis_map_realistic_flipped.csv\n",
      "Guardado: saved_archives/maps/realistic/non_flipped/flipped/vuv_map_realistic_flipped.csv\n",
      "Guardado: saved_archives/maps/realistic/non_flipped/flipped/xarap_map_realistic_flipped.csv\n",
      "Guardado: saved_archives/maps/realistic/non_flipped/flipped/xarap_vis_map_realistic_flipped.csv\n",
      "Guardado: saved_archives/maps/realistic/non_flipped/flipped/xarap_vuv_map_realistic_flipped.csv\n"
     ]
    }
   ],
   "source": [
    "import numpy as np\n",
    "import os\n",
    "\n",
    "# Ruta base donde están los archivos originales\n",
    "base_path = 'saved_archives/maps/realistic/non_flipped'\n",
    "\n",
    "# Lista de nombres de archivos\n",
    "filenames = [\n",
    "    \"coated_pmt_map_realistic.csv\",\n",
    "    \"pmts_map_realistic.csv\",\n",
    "    \"total_map_realistic.csv\",\n",
    "    \"uncoated_pmt_map_realistic.csv\",\n",
    "    \"vis_map_realistic.csv\",\n",
    "    \"vuv_map_realistic.csv\",\n",
    "    \"xarap_map_realistic.csv\",\n",
    "    \"xarap_vis_map_realistic.csv\",\n",
    "    \"xarap_vuv_map_realistic.csv\"\n",
    "]\n",
    "\n",
    "# Crear una carpeta para guardar los archivos invertidos (opcional)\n",
    "flipped_path = os.path.join(base_path, \"flipped\")\n",
    "os.makedirs(flipped_path, exist_ok=True)\n",
    "\n",
    "# Procesar y guardar cada archivo\n",
    "for filename in filenames:\n",
    "    filepath = os.path.join(base_path, filename)\n",
    "    \n",
    "    # Cargar el archivo\n",
    "    matrix = np.loadtxt(filepath, delimiter=',', dtype=int)  # Asegura que se cargue como enteros\n",
    "    \n",
    "    # Invertir la matriz\n",
    "    flipped_matrix = matrix[::-1]\n",
    "    \n",
    "    # Definir nuevo nombre de archivo\n",
    "    flipped_filename = filename.replace(\".csv\", \"_flipped.csv\")\n",
    "    flipped_filepath = os.path.join(flipped_path, flipped_filename)\n",
    "    \n",
    "    # Guardar el archivo invertido sin notación científica\n",
    "    np.savetxt(flipped_filepath, flipped_matrix, delimiter=',', fmt='%d')\n",
    "\n",
    "    print(f\"Guardado: {flipped_filepath}\")\n"
   ]
  }
 ],
 "metadata": {
  "kernelspec": {
   "display_name": "ROOT_TF",
   "language": "python",
   "name": "python3"
  },
  "language_info": {
   "codemirror_mode": {
    "name": "ipython",
    "version": 3
   },
   "file_extension": ".py",
   "mimetype": "text/x-python",
   "name": "python",
   "nbconvert_exporter": "python",
   "pygments_lexer": "ipython3",
   "version": "3.9.10"
  }
 },
 "nbformat": 4,
 "nbformat_minor": 2
}
